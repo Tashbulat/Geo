{
 "cells": [
  {
   "cell_type": "code",
   "execution_count": 1,
   "metadata": {},
   "outputs": [],
   "source": [
    "import requests\n",
    "import pandas as pd\n",
    "import numpy as np\n",
    "from tqdm import tqdm"
   ]
  },
  {
   "cell_type": "markdown",
   "metadata": {},
   "source": [
    "# Functions"
   ]
  },
  {
   "cell_type": "code",
   "execution_count": 2,
   "metadata": {},
   "outputs": [],
   "source": [
    "from dadata import Dadata"
   ]
  },
  {
   "cell_type": "code",
   "execution_count": 3,
   "metadata": {},
   "outputs": [],
   "source": [
    "login = 'ow-admin@tochka.com'\n",
    "password = 'Tochka-geo61'\n",
    "token = 'ed714e4b6c4306abf7b9813c3447963b693e1370'"
   ]
  },
  {
   "cell_type": "code",
   "execution_count": 4,
   "metadata": {},
   "outputs": [],
   "source": [
    "dadata = Dadata(token)"
   ]
  },
  {
   "cell_type": "code",
   "execution_count": 9,
   "metadata": {
    "scrolled": true
   },
   "outputs": [
    {
     "data": {
      "text/plain": [
       "[{'value': 'г Уфа, деревня Жилино',\n",
       "  'unrestricted_value': '450902, Респ Башкортостан, г Уфа, Октябрьский р-н, деревня Жилино',\n",
       "  'data': {'postal_code': '450902',\n",
       "   'country': 'Россия',\n",
       "   'country_iso_code': 'RU',\n",
       "   'federal_district': 'Приволжский',\n",
       "   'region_fias_id': '6f2cbfd8-692a-4ee4-9b16-067210bde3fc',\n",
       "   'region_kladr_id': '0200000000000',\n",
       "   'region_iso_code': 'RU-BA',\n",
       "   'region_with_type': 'Респ Башкортостан',\n",
       "   'region_type': 'Респ',\n",
       "   'region_type_full': 'республика',\n",
       "   'region': 'Башкортостан',\n",
       "   'area_fias_id': None,\n",
       "   'area_kladr_id': None,\n",
       "   'area_with_type': None,\n",
       "   'area_type': None,\n",
       "   'area_type_full': None,\n",
       "   'area': None,\n",
       "   'city_fias_id': '7339e834-2cb4-4734-a4c7-1fca2c66e562',\n",
       "   'city_kladr_id': '0200000100000',\n",
       "   'city_with_type': 'г Уфа',\n",
       "   'city_type': 'г',\n",
       "   'city_type_full': 'город',\n",
       "   'city': 'Уфа',\n",
       "   'city_area': None,\n",
       "   'city_district_fias_id': '67123c23-a198-422c-8c74-13c8ca57ba09',\n",
       "   'city_district_kladr_id': None,\n",
       "   'city_district_with_type': 'Октябрьский р-н',\n",
       "   'city_district_type': 'р-н',\n",
       "   'city_district_type_full': 'район',\n",
       "   'city_district': 'Октябрьский',\n",
       "   'settlement_fias_id': 'b1333407-d51b-4959-876e-a8d4436bbd4b',\n",
       "   'settlement_kladr_id': '0200000101500',\n",
       "   'settlement_with_type': 'деревня Жилино',\n",
       "   'settlement_type': 'д',\n",
       "   'settlement_type_full': 'деревня',\n",
       "   'settlement': 'Жилино',\n",
       "   'street_fias_id': None,\n",
       "   'street_kladr_id': None,\n",
       "   'street_with_type': None,\n",
       "   'street_type': None,\n",
       "   'street_type_full': None,\n",
       "   'street': None,\n",
       "   'stead_fias_id': None,\n",
       "   'stead_cadnum': None,\n",
       "   'stead_type': None,\n",
       "   'stead_type_full': None,\n",
       "   'stead': None,\n",
       "   'house_fias_id': None,\n",
       "   'house_kladr_id': None,\n",
       "   'house_cadnum': None,\n",
       "   'house_type': None,\n",
       "   'house_type_full': None,\n",
       "   'house': None,\n",
       "   'block_type': None,\n",
       "   'block_type_full': None,\n",
       "   'block': None,\n",
       "   'entrance': None,\n",
       "   'floor': None,\n",
       "   'flat_fias_id': None,\n",
       "   'flat_cadnum': None,\n",
       "   'flat_type': None,\n",
       "   'flat_type_full': None,\n",
       "   'flat': None,\n",
       "   'flat_area': None,\n",
       "   'square_meter_price': None,\n",
       "   'flat_price': None,\n",
       "   'postal_box': None,\n",
       "   'fias_id': 'b1333407-d51b-4959-876e-a8d4436bbd4b',\n",
       "   'fias_code': None,\n",
       "   'fias_level': '6',\n",
       "   'fias_actuality_state': '0',\n",
       "   'kladr_id': '0200000101500',\n",
       "   'geoname_id': '479561',\n",
       "   'capital_marker': '2',\n",
       "   'okato': '80401944002',\n",
       "   'oktmo': '80701000156',\n",
       "   'tax_office': '0276',\n",
       "   'tax_office_legal': '0276',\n",
       "   'timezone': None,\n",
       "   'geo_lat': '54.656886',\n",
       "   'geo_lon': '56.061027',\n",
       "   'beltway_hit': None,\n",
       "   'beltway_distance': None,\n",
       "   'metro': None,\n",
       "   'divisions': None,\n",
       "   'qc_geo': '3',\n",
       "   'qc_complete': None,\n",
       "   'qc_house': None,\n",
       "   'history_values': None,\n",
       "   'unparsed_parts': None,\n",
       "   'source': None,\n",
       "   'qc': None}}]"
      ]
     },
     "execution_count": 9,
     "metadata": {},
     "output_type": "execute_result"
    }
   ],
   "source": [
    "dadata.find_by_id(\"address\", '0200000101500')"
   ]
  },
  {
   "cell_type": "markdown",
   "metadata": {},
   "source": [
    "# Data"
   ]
  },
  {
   "cell_type": "markdown",
   "metadata": {},
   "source": [
    "## Region"
   ]
  },
  {
   "cell_type": "code",
   "execution_count": 6,
   "metadata": {},
   "outputs": [],
   "source": [
    "# reg = 66 # Екатеринбург\n",
    "# reg = 52 # Нижний Новгород\n",
    "# reg = 72 # Тюмень\n",
    "# reg = 45 # Курган\n",
    "# reg = 50 # Московская\n",
    "# reg = '23' # Краснодар\n",
    "reg = 70 # Томск"
   ]
  },
  {
   "cell_type": "markdown",
   "metadata": {},
   "source": [
    "## Load KLADR"
   ]
  },
  {
   "cell_type": "code",
   "execution_count": 8,
   "metadata": {},
   "outputs": [],
   "source": [
    "df = pd.read_csv(f'/home/tochka/Documents/Other/Work/Geo/EGRUL/kladr/df_kladr_{reg}.csv.gz', compression='gzip', dtype={'kladr_11':str})"
   ]
  },
  {
   "cell_type": "code",
   "execution_count": 9,
   "metadata": {},
   "outputs": [
    {
     "name": "stdout",
     "output_type": "stream",
     "text": [
      "<class 'pandas.core.frame.DataFrame'>\n",
      "RangeIndex: 317 entries, 0 to 316\n",
      "Data columns (total 1 columns):\n",
      " #   Column    Non-Null Count  Dtype \n",
      "---  ------    --------------  ----- \n",
      " 0   kladr_11  317 non-null    object\n",
      "dtypes: object(1)\n",
      "memory usage: 2.6+ KB\n"
     ]
    },
    {
     "name": "stderr",
     "output_type": "stream",
     "text": [
      "/tmp/ipykernel_39569/2612161665.py:1: FutureWarning: null_counts is deprecated. Use show_counts instead\n",
      "  df.info(verbose=True, null_counts=True)\n"
     ]
    }
   ],
   "source": [
    "df.info(verbose=True, null_counts=True)"
   ]
  },
  {
   "cell_type": "code",
   "execution_count": 10,
   "metadata": {},
   "outputs": [
    {
     "data": {
      "text/html": [
       "<div>\n",
       "<style scoped>\n",
       "    .dataframe tbody tr th:only-of-type {\n",
       "        vertical-align: middle;\n",
       "    }\n",
       "\n",
       "    .dataframe tbody tr th {\n",
       "        vertical-align: top;\n",
       "    }\n",
       "\n",
       "    .dataframe thead th {\n",
       "        text-align: right;\n",
       "    }\n",
       "</style>\n",
       "<table border=\"1\" class=\"dataframe\">\n",
       "  <thead>\n",
       "    <tr style=\"text-align: right;\">\n",
       "      <th></th>\n",
       "      <th>kladr_11</th>\n",
       "    </tr>\n",
       "  </thead>\n",
       "  <tbody>\n",
       "    <tr>\n",
       "      <th>0</th>\n",
       "      <td>70000001000</td>\n",
       "    </tr>\n",
       "    <tr>\n",
       "      <th>1</th>\n",
       "      <td>70013000020</td>\n",
       "    </tr>\n",
       "    <tr>\n",
       "      <th>2</th>\n",
       "      <td>70000004000</td>\n",
       "    </tr>\n",
       "    <tr>\n",
       "      <th>3</th>\n",
       "      <td>70009001000</td>\n",
       "    </tr>\n",
       "    <tr>\n",
       "      <th>4</th>\n",
       "      <td>70017000012</td>\n",
       "    </tr>\n",
       "  </tbody>\n",
       "</table>\n",
       "</div>"
      ],
      "text/plain": [
       "      kladr_11\n",
       "0  70000001000\n",
       "1  70013000020\n",
       "2  70000004000\n",
       "3  70009001000\n",
       "4  70017000012"
      ]
     },
     "execution_count": 10,
     "metadata": {},
     "output_type": "execute_result"
    }
   ],
   "source": [
    "df.head()"
   ]
  },
  {
   "cell_type": "code",
   "execution_count": 11,
   "metadata": {},
   "outputs": [
    {
     "data": {
      "text/plain": [
       "kladr_11\n",
       "11    317\n",
       "dtype: int64"
      ]
     },
     "execution_count": 11,
     "metadata": {},
     "output_type": "execute_result"
    }
   ],
   "source": [
    "df.groupby(df.kladr_11.map(len)).size()"
   ]
  },
  {
   "cell_type": "code",
   "execution_count": 12,
   "metadata": {},
   "outputs": [],
   "source": [
    "df['kladr'] = df['kladr_11'] + '00'"
   ]
  },
  {
   "cell_type": "code",
   "execution_count": 13,
   "metadata": {},
   "outputs": [
    {
     "data": {
      "text/html": [
       "<div>\n",
       "<style scoped>\n",
       "    .dataframe tbody tr th:only-of-type {\n",
       "        vertical-align: middle;\n",
       "    }\n",
       "\n",
       "    .dataframe tbody tr th {\n",
       "        vertical-align: top;\n",
       "    }\n",
       "\n",
       "    .dataframe thead th {\n",
       "        text-align: right;\n",
       "    }\n",
       "</style>\n",
       "<table border=\"1\" class=\"dataframe\">\n",
       "  <thead>\n",
       "    <tr style=\"text-align: right;\">\n",
       "      <th></th>\n",
       "      <th>kladr_11</th>\n",
       "      <th>kladr</th>\n",
       "    </tr>\n",
       "  </thead>\n",
       "  <tbody>\n",
       "    <tr>\n",
       "      <th>0</th>\n",
       "      <td>70000001000</td>\n",
       "      <td>7000000100000</td>\n",
       "    </tr>\n",
       "    <tr>\n",
       "      <th>1</th>\n",
       "      <td>70013000020</td>\n",
       "      <td>7001300002000</td>\n",
       "    </tr>\n",
       "    <tr>\n",
       "      <th>2</th>\n",
       "      <td>70000004000</td>\n",
       "      <td>7000000400000</td>\n",
       "    </tr>\n",
       "    <tr>\n",
       "      <th>3</th>\n",
       "      <td>70009001000</td>\n",
       "      <td>7000900100000</td>\n",
       "    </tr>\n",
       "    <tr>\n",
       "      <th>4</th>\n",
       "      <td>70017000012</td>\n",
       "      <td>7001700001200</td>\n",
       "    </tr>\n",
       "  </tbody>\n",
       "</table>\n",
       "</div>"
      ],
      "text/plain": [
       "      kladr_11          kladr\n",
       "0  70000001000  7000000100000\n",
       "1  70013000020  7001300002000\n",
       "2  70000004000  7000000400000\n",
       "3  70009001000  7000900100000\n",
       "4  70017000012  7001700001200"
      ]
     },
     "execution_count": 13,
     "metadata": {},
     "output_type": "execute_result"
    }
   ],
   "source": [
    "df.head()"
   ]
  },
  {
   "cell_type": "markdown",
   "metadata": {},
   "source": [
    "## Coordinates KLADR"
   ]
  },
  {
   "cell_type": "code",
   "execution_count": 14,
   "metadata": {},
   "outputs": [],
   "source": [
    "kladr_list = df['kladr']"
   ]
  },
  {
   "cell_type": "code",
   "execution_count": 15,
   "metadata": {},
   "outputs": [
    {
     "data": {
      "text/plain": [
       "0      7000000100000\n",
       "1      7001300002000\n",
       "2      7000000400000\n",
       "3      7000900100000\n",
       "4      7001700001200\n",
       "           ...      \n",
       "312    7000900001500\n",
       "313    7000300000700\n",
       "314    7000000102000\n",
       "315    7001700008400\n",
       "316    7001700001300\n",
       "Name: kladr, Length: 317, dtype: object"
      ]
     },
     "execution_count": 15,
     "metadata": {},
     "output_type": "execute_result"
    }
   ],
   "source": [
    "kladr_list"
   ]
  },
  {
   "cell_type": "code",
   "execution_count": 16,
   "metadata": {},
   "outputs": [],
   "source": [
    "def kladr_to_coodr(kladr):\n",
    "    response = dadata.find_by_id(\"address\", kladr)\n",
    "    address = response[0]['unrestricted_value']\n",
    "    latitude = response[0]['data']['geo_lat']\n",
    "    longitude = response[0]['data']['geo_lon']\n",
    "    return address, latitude, longitude"
   ]
  },
  {
   "cell_type": "code",
   "execution_count": 17,
   "metadata": {},
   "outputs": [
    {
     "name": "stderr",
     "output_type": "stream",
     "text": [
      "100%|█████████████████████████████████████████| 317/317 [01:26<00:00,  3.66it/s]\n"
     ]
    }
   ],
   "source": [
    "addresses = []\n",
    "latitudes = []\n",
    "longitudes = []\n",
    "\n",
    "for kladr in tqdm(kladr_list):\n",
    "    try:\n",
    "        address, latitude, longitude = kladr_to_coodr(kladr)\n",
    "        addresses.append(address)\n",
    "        latitudes.append(latitude)\n",
    "        longitudes.append(longitude)\n",
    "        # print(address, latitude, longitude)\n",
    "    except Exception as e:\n",
    "        addresses.append(None)\n",
    "        latitudes.append(None)\n",
    "        longitudes.append(None)\n",
    "        # print(e)"
   ]
  },
  {
   "cell_type": "code",
   "execution_count": 18,
   "metadata": {},
   "outputs": [
    {
     "data": {
      "text/plain": [
       "317"
      ]
     },
     "execution_count": 18,
     "metadata": {},
     "output_type": "execute_result"
    }
   ],
   "source": [
    "len(addresses)"
   ]
  },
  {
   "cell_type": "code",
   "execution_count": 19,
   "metadata": {},
   "outputs": [],
   "source": [
    "df['address'] = addresses"
   ]
  },
  {
   "cell_type": "code",
   "execution_count": 20,
   "metadata": {},
   "outputs": [],
   "source": [
    "df['latitude'] = latitudes"
   ]
  },
  {
   "cell_type": "code",
   "execution_count": 21,
   "metadata": {},
   "outputs": [],
   "source": [
    "df['longitude'] = longitudes"
   ]
  },
  {
   "cell_type": "code",
   "execution_count": 22,
   "metadata": {},
   "outputs": [
    {
     "data": {
      "text/plain": [
       "(317, 5)"
      ]
     },
     "execution_count": 22,
     "metadata": {},
     "output_type": "execute_result"
    }
   ],
   "source": [
    "df.shape"
   ]
  },
  {
   "cell_type": "code",
   "execution_count": 23,
   "metadata": {},
   "outputs": [
    {
     "name": "stdout",
     "output_type": "stream",
     "text": [
      "<class 'pandas.core.frame.DataFrame'>\n",
      "RangeIndex: 317 entries, 0 to 316\n",
      "Data columns (total 5 columns):\n",
      " #   Column     Non-Null Count  Dtype \n",
      "---  ------     --------------  ----- \n",
      " 0   kladr_11   317 non-null    object\n",
      " 1   kladr      317 non-null    object\n",
      " 2   address    312 non-null    object\n",
      " 3   latitude   310 non-null    object\n",
      " 4   longitude  310 non-null    object\n",
      "dtypes: object(5)\n",
      "memory usage: 12.5+ KB\n"
     ]
    }
   ],
   "source": [
    "df.info()"
   ]
  },
  {
   "cell_type": "code",
   "execution_count": 24,
   "metadata": {},
   "outputs": [
    {
     "data": {
      "text/html": [
       "<div>\n",
       "<style scoped>\n",
       "    .dataframe tbody tr th:only-of-type {\n",
       "        vertical-align: middle;\n",
       "    }\n",
       "\n",
       "    .dataframe tbody tr th {\n",
       "        vertical-align: top;\n",
       "    }\n",
       "\n",
       "    .dataframe thead th {\n",
       "        text-align: right;\n",
       "    }\n",
       "</style>\n",
       "<table border=\"1\" class=\"dataframe\">\n",
       "  <thead>\n",
       "    <tr style=\"text-align: right;\">\n",
       "      <th></th>\n",
       "      <th>kladr_11</th>\n",
       "      <th>kladr</th>\n",
       "      <th>address</th>\n",
       "      <th>latitude</th>\n",
       "      <th>longitude</th>\n",
       "    </tr>\n",
       "  </thead>\n",
       "  <tbody>\n",
       "    <tr>\n",
       "      <th>0</th>\n",
       "      <td>70000001000</td>\n",
       "      <td>7000000100000</td>\n",
       "      <td>634000, Томская обл, г Томск</td>\n",
       "      <td>56.48468</td>\n",
       "      <td>84.948197</td>\n",
       "    </tr>\n",
       "    <tr>\n",
       "      <th>1</th>\n",
       "      <td>70013000020</td>\n",
       "      <td>7001300002000</td>\n",
       "      <td>636953, Томская обл, Первомайский р-н, село Ку...</td>\n",
       "      <td>56.949172</td>\n",
       "      <td>86.465613</td>\n",
       "    </tr>\n",
       "    <tr>\n",
       "      <th>2</th>\n",
       "      <td>70000004000</td>\n",
       "      <td>7000000400000</td>\n",
       "      <td>636780, Томская обл, г Стрежевой</td>\n",
       "      <td>60.732801</td>\n",
       "      <td>77.604047</td>\n",
       "    </tr>\n",
       "    <tr>\n",
       "      <th>3</th>\n",
       "      <td>70009001000</td>\n",
       "      <td>7000900100000</td>\n",
       "      <td>636460, Томская обл, Колпашевский р-н, г Колпа...</td>\n",
       "      <td>58.311384</td>\n",
       "      <td>82.902679</td>\n",
       "    </tr>\n",
       "    <tr>\n",
       "      <th>4</th>\n",
       "      <td>70017000012</td>\n",
       "      <td>7001700001200</td>\n",
       "      <td>634582, Томская обл, Томский р-н, село Алексан...</td>\n",
       "      <td>56.74143</td>\n",
       "      <td>85.388326</td>\n",
       "    </tr>\n",
       "  </tbody>\n",
       "</table>\n",
       "</div>"
      ],
      "text/plain": [
       "      kladr_11          kladr  \\\n",
       "0  70000001000  7000000100000   \n",
       "1  70013000020  7001300002000   \n",
       "2  70000004000  7000000400000   \n",
       "3  70009001000  7000900100000   \n",
       "4  70017000012  7001700001200   \n",
       "\n",
       "                                             address   latitude  longitude  \n",
       "0                       634000, Томская обл, г Томск   56.48468  84.948197  \n",
       "1  636953, Томская обл, Первомайский р-н, село Ку...  56.949172  86.465613  \n",
       "2                   636780, Томская обл, г Стрежевой  60.732801  77.604047  \n",
       "3  636460, Томская обл, Колпашевский р-н, г Колпа...  58.311384  82.902679  \n",
       "4  634582, Томская обл, Томский р-н, село Алексан...   56.74143  85.388326  "
      ]
     },
     "execution_count": 24,
     "metadata": {},
     "output_type": "execute_result"
    }
   ],
   "source": [
    "df.head()"
   ]
  },
  {
   "cell_type": "code",
   "execution_count": 25,
   "metadata": {},
   "outputs": [],
   "source": [
    "df.to_csv(f'/home/tochka/Documents/Other/Work/Geo/EGRUL/kladr/df_kladr_{reg}_upd.csv.gz', sep=';', index=False, compression='gzip')"
   ]
  },
  {
   "cell_type": "markdown",
   "metadata": {},
   "source": [
    "## Load FIAS"
   ]
  },
  {
   "cell_type": "code",
   "execution_count": 26,
   "metadata": {},
   "outputs": [],
   "source": [
    "df_fias = pd.read_csv(f'/home/tochka/Documents/Other/Work/Geo/EGRUL/fias/df_fias_{reg}.csv.gz', compression='gzip')"
   ]
  },
  {
   "cell_type": "code",
   "execution_count": 27,
   "metadata": {},
   "outputs": [
    {
     "name": "stdout",
     "output_type": "stream",
     "text": [
      "<class 'pandas.core.frame.DataFrame'>\n",
      "RangeIndex: 2149 entries, 0 to 2148\n",
      "Data columns (total 1 columns):\n",
      " #   Column     Non-Null Count  Dtype \n",
      "---  ------     --------------  ----- \n",
      " 0   fias_code  2149 non-null   object\n",
      "dtypes: object(1)\n",
      "memory usage: 16.9+ KB\n"
     ]
    },
    {
     "name": "stderr",
     "output_type": "stream",
     "text": [
      "/tmp/ipykernel_39569/1671388246.py:1: FutureWarning: null_counts is deprecated. Use show_counts instead\n",
      "  df_fias.info(verbose=True, null_counts=True)\n"
     ]
    }
   ],
   "source": [
    "df_fias.info(verbose=True, null_counts=True)"
   ]
  },
  {
   "cell_type": "code",
   "execution_count": 28,
   "metadata": {},
   "outputs": [
    {
     "data": {
      "text/html": [
       "<div>\n",
       "<style scoped>\n",
       "    .dataframe tbody tr th:only-of-type {\n",
       "        vertical-align: middle;\n",
       "    }\n",
       "\n",
       "    .dataframe tbody tr th {\n",
       "        vertical-align: top;\n",
       "    }\n",
       "\n",
       "    .dataframe thead th {\n",
       "        text-align: right;\n",
       "    }\n",
       "</style>\n",
       "<table border=\"1\" class=\"dataframe\">\n",
       "  <thead>\n",
       "    <tr style=\"text-align: right;\">\n",
       "      <th></th>\n",
       "      <th>fias_code</th>\n",
       "    </tr>\n",
       "  </thead>\n",
       "  <tbody>\n",
       "    <tr>\n",
       "      <th>0</th>\n",
       "      <td>83da1256-a96d-47c7-9dce-78742c0fa454</td>\n",
       "    </tr>\n",
       "    <tr>\n",
       "      <th>1</th>\n",
       "      <td>0a4d3c20-a7e0-4cd9-b17e-9022dc79a663</td>\n",
       "    </tr>\n",
       "    <tr>\n",
       "      <th>2</th>\n",
       "      <td>e940a45e-b29f-451e-a0f3-1974df8e22ae</td>\n",
       "    </tr>\n",
       "    <tr>\n",
       "      <th>3</th>\n",
       "      <td>16ba864e-241a-44a5-ac76-d30d591a9280</td>\n",
       "    </tr>\n",
       "    <tr>\n",
       "      <th>4</th>\n",
       "      <td>683d98a6-5eee-46d8-aba6-030af4d2b060</td>\n",
       "    </tr>\n",
       "  </tbody>\n",
       "</table>\n",
       "</div>"
      ],
      "text/plain": [
       "                              fias_code\n",
       "0  83da1256-a96d-47c7-9dce-78742c0fa454\n",
       "1  0a4d3c20-a7e0-4cd9-b17e-9022dc79a663\n",
       "2  e940a45e-b29f-451e-a0f3-1974df8e22ae\n",
       "3  16ba864e-241a-44a5-ac76-d30d591a9280\n",
       "4  683d98a6-5eee-46d8-aba6-030af4d2b060"
      ]
     },
     "execution_count": 28,
     "metadata": {},
     "output_type": "execute_result"
    }
   ],
   "source": [
    "df_fias.head()"
   ]
  },
  {
   "cell_type": "markdown",
   "metadata": {},
   "source": [
    "## Coordinates FIAS"
   ]
  },
  {
   "cell_type": "code",
   "execution_count": 29,
   "metadata": {},
   "outputs": [],
   "source": [
    "fias_list = df_fias['fias_code']"
   ]
  },
  {
   "cell_type": "code",
   "execution_count": 30,
   "metadata": {},
   "outputs": [
    {
     "data": {
      "text/plain": [
       "0       83da1256-a96d-47c7-9dce-78742c0fa454\n",
       "1       0a4d3c20-a7e0-4cd9-b17e-9022dc79a663\n",
       "2       e940a45e-b29f-451e-a0f3-1974df8e22ae\n",
       "3       16ba864e-241a-44a5-ac76-d30d591a9280\n",
       "4       683d98a6-5eee-46d8-aba6-030af4d2b060\n",
       "                        ...                 \n",
       "2144    05ce32f5-e167-44d9-b973-2dc681222e59\n",
       "2145    1b14b308-b84b-42cf-8bc6-fe4717b3dca6\n",
       "2146    8283393c-1b6e-40f7-8ae2-a4ca386b95bc\n",
       "2147    768dd377-e84c-4a09-9f33-3fe896fd56b5\n",
       "2148    21f87f43-c2d8-4f0f-b5f0-87a6c7dd15da\n",
       "Name: fias_code, Length: 2149, dtype: object"
      ]
     },
     "execution_count": 30,
     "metadata": {},
     "output_type": "execute_result"
    }
   ],
   "source": [
    "fias_list"
   ]
  },
  {
   "cell_type": "code",
   "execution_count": 31,
   "metadata": {},
   "outputs": [],
   "source": [
    "def fias_to_coodr(fias):\n",
    "    response = dadata.find_by_id(\"address\", str(fias))\n",
    "    address = response[0]['unrestricted_value']\n",
    "    latitude = response[0]['data']['geo_lat']\n",
    "    longitude = response[0]['data']['geo_lon']\n",
    "    return address, latitude, longitude"
   ]
  },
  {
   "cell_type": "code",
   "execution_count": 32,
   "metadata": {},
   "outputs": [
    {
     "name": "stderr",
     "output_type": "stream",
     "text": [
      "100%|███████████████████████████████████████████| 15/15 [00:05<00:00,  2.65it/s]\n"
     ]
    }
   ],
   "source": [
    "addresses_fias = []\n",
    "latitudes_fias = []\n",
    "longitudes_fias = []\n",
    "\n",
    "for kladr in tqdm(fias_list[:10]):\n",
    "    try:\n",
    "        address, latitude, longitude = fias_to_coodr(kladr)\n",
    "        addresses_fias.append(address)\n",
    "        latitudes_fias.append(latitude)\n",
    "        longitudes_fias.append(longitude)\n",
    "        # print(address, latitude, longitude)\n",
    "    except Exception as e:\n",
    "        addresses_fias.append(None)\n",
    "        latitudes_fias.append(None)\n",
    "        longitudes_fias.append(None)\n",
    "        # print(e)"
   ]
  },
  {
   "cell_type": "code",
   "execution_count": 33,
   "metadata": {},
   "outputs": [
    {
     "data": {
      "text/plain": [
       "15"
      ]
     },
     "execution_count": 33,
     "metadata": {},
     "output_type": "execute_result"
    }
   ],
   "source": [
    "len(addresses_fias)"
   ]
  },
  {
   "cell_type": "code",
   "execution_count": 34,
   "metadata": {},
   "outputs": [
    {
     "data": {
      "text/plain": [
       "['634049, Томская обл, г Томск, Иркутский тракт, д 13/1',\n",
       " '634020, Томская обл, г Томск, ул Сибирская, д 80',\n",
       " '634507, Томская обл, Томский р-н, поселок Зональная Станция, ул Совхозная, д 2а',\n",
       " '636844, Томская обл, Асиновский р-н, г Асино, ул имени Ленина, д 172/1',\n",
       " '634009, Томская обл, г Томск, ул Бердская',\n",
       " '634507, Томская обл, Томский р-н, поселок Зональная Станция, ул 40 лет Победы, д 2',\n",
       " '636842, Томская обл, Асиновский р-н, г Асино, ул Степная, д 1',\n",
       " '634061, Томская обл, г Томск, ул Киевская, д 1',\n",
       " '634009, Томская обл, г Томск, Совпартшкольный пер, д 13',\n",
       " '634032, Томская обл, г Томск, ул Бирюкова, д 2',\n",
       " '634015, Томская обл, г Томск, 1-й Вилюйский проезд, д 8 стр 5',\n",
       " '634538, Томская обл, Томский р-н, село Корнилово, ул Гагарина, д 29а',\n",
       " '634024, Томская обл, г Томск, ул Усть-Керепеть',\n",
       " '634050, Томская обл, г Томск, ул Татарская',\n",
       " '634059, Томская обл, г Томск, ул Ференца Мюнниха, д 34']"
      ]
     },
     "execution_count": 34,
     "metadata": {},
     "output_type": "execute_result"
    }
   ],
   "source": [
    "addresses_fias"
   ]
  },
  {
   "cell_type": "code",
   "execution_count": 35,
   "metadata": {},
   "outputs": [
    {
     "data": {
      "text/plain": [
       "['56.50067',\n",
       " '56.482672',\n",
       " '56.430987',\n",
       " '56.999274',\n",
       " '56.511168',\n",
       " '56.426094',\n",
       " '56.99419',\n",
       " '56.48375',\n",
       " '56.491911',\n",
       " '56.5051404',\n",
       " '56.5250686',\n",
       " '56.495509',\n",
       " '56.525594',\n",
       " '56.47796',\n",
       " '56.5184187']"
      ]
     },
     "execution_count": 35,
     "metadata": {},
     "output_type": "execute_result"
    }
   ],
   "source": [
    "latitudes_fias"
   ]
  },
  {
   "cell_type": "code",
   "execution_count": 36,
   "metadata": {},
   "outputs": [
    {
     "data": {
      "text/plain": [
       "['85.00571',\n",
       " '84.993858',\n",
       " '85.008581',\n",
       " '86.141671',\n",
       " '84.942942',\n",
       " '85.02207',\n",
       " '86.1854',\n",
       " '84.9756',\n",
       " '84.949778',\n",
       " '85.0350428',\n",
       " '85.0047201',\n",
       " '85.170108',\n",
       " '84.930877',\n",
       " '84.944909',\n",
       " '84.984918']"
      ]
     },
     "execution_count": 36,
     "metadata": {},
     "output_type": "execute_result"
    }
   ],
   "source": [
    "longitudes_fias"
   ]
  },
  {
   "cell_type": "code",
   "execution_count": 37,
   "metadata": {},
   "outputs": [
    {
     "name": "stderr",
     "output_type": "stream",
     "text": [
      "100%|███████████████████████████████████████| 2149/2149 [12:01<00:00,  2.98it/s]\n"
     ]
    }
   ],
   "source": [
    "addresses_fias = []\n",
    "latitudes_fias = []\n",
    "longitudes_fias = []\n",
    "\n",
    "for kladr in tqdm(fias_list):\n",
    "    try:\n",
    "        address, latitude, longitude = fias_to_coodr(kladr)\n",
    "        addresses_fias.append(address)\n",
    "        latitudes_fias.append(latitude)\n",
    "        longitudes_fias.append(longitude)\n",
    "        # print(address, latitude, longitude)\n",
    "    except Exception as e:\n",
    "        addresses_fias.append(None)\n",
    "        latitudes_fias.append(None)\n",
    "        longitudes_fias.append(None)\n",
    "        # print(e)"
   ]
  },
  {
   "cell_type": "code",
   "execution_count": 38,
   "metadata": {},
   "outputs": [
    {
     "data": {
      "text/plain": [
       "2149"
      ]
     },
     "execution_count": 38,
     "metadata": {},
     "output_type": "execute_result"
    }
   ],
   "source": [
    "len(addresses_fias)"
   ]
  },
  {
   "cell_type": "code",
   "execution_count": 39,
   "metadata": {},
   "outputs": [],
   "source": [
    "df_fias['address'] = addresses_fias"
   ]
  },
  {
   "cell_type": "code",
   "execution_count": 40,
   "metadata": {},
   "outputs": [],
   "source": [
    "df_fias['latitude'] = latitudes_fias"
   ]
  },
  {
   "cell_type": "code",
   "execution_count": 41,
   "metadata": {},
   "outputs": [],
   "source": [
    "df_fias['longitude'] = longitudes_fias"
   ]
  },
  {
   "cell_type": "code",
   "execution_count": 42,
   "metadata": {},
   "outputs": [
    {
     "data": {
      "text/plain": [
       "(2149, 4)"
      ]
     },
     "execution_count": 42,
     "metadata": {},
     "output_type": "execute_result"
    }
   ],
   "source": [
    "df_fias.shape"
   ]
  },
  {
   "cell_type": "code",
   "execution_count": 43,
   "metadata": {},
   "outputs": [
    {
     "name": "stdout",
     "output_type": "stream",
     "text": [
      "<class 'pandas.core.frame.DataFrame'>\n",
      "RangeIndex: 2149 entries, 0 to 2148\n",
      "Data columns (total 4 columns):\n",
      " #   Column     Non-Null Count  Dtype \n",
      "---  ------     --------------  ----- \n",
      " 0   fias_code  2149 non-null   object\n",
      " 1   address    2149 non-null   object\n",
      " 2   latitude   2145 non-null   object\n",
      " 3   longitude  2145 non-null   object\n",
      "dtypes: object(4)\n",
      "memory usage: 67.3+ KB\n"
     ]
    }
   ],
   "source": [
    "df_fias.info()"
   ]
  },
  {
   "cell_type": "code",
   "execution_count": 44,
   "metadata": {},
   "outputs": [
    {
     "data": {
      "text/html": [
       "<div>\n",
       "<style scoped>\n",
       "    .dataframe tbody tr th:only-of-type {\n",
       "        vertical-align: middle;\n",
       "    }\n",
       "\n",
       "    .dataframe tbody tr th {\n",
       "        vertical-align: top;\n",
       "    }\n",
       "\n",
       "    .dataframe thead th {\n",
       "        text-align: right;\n",
       "    }\n",
       "</style>\n",
       "<table border=\"1\" class=\"dataframe\">\n",
       "  <thead>\n",
       "    <tr style=\"text-align: right;\">\n",
       "      <th></th>\n",
       "      <th>fias_code</th>\n",
       "      <th>address</th>\n",
       "      <th>latitude</th>\n",
       "      <th>longitude</th>\n",
       "    </tr>\n",
       "  </thead>\n",
       "  <tbody>\n",
       "    <tr>\n",
       "      <th>0</th>\n",
       "      <td>83da1256-a96d-47c7-9dce-78742c0fa454</td>\n",
       "      <td>634049, Томская обл, г Томск, Иркутский тракт,...</td>\n",
       "      <td>56.50067</td>\n",
       "      <td>85.00571</td>\n",
       "    </tr>\n",
       "    <tr>\n",
       "      <th>1</th>\n",
       "      <td>0a4d3c20-a7e0-4cd9-b17e-9022dc79a663</td>\n",
       "      <td>634020, Томская обл, г Томск, ул Сибирская, д 80</td>\n",
       "      <td>56.482672</td>\n",
       "      <td>84.993858</td>\n",
       "    </tr>\n",
       "    <tr>\n",
       "      <th>2</th>\n",
       "      <td>e940a45e-b29f-451e-a0f3-1974df8e22ae</td>\n",
       "      <td>634507, Томская обл, Томский р-н, поселок Зона...</td>\n",
       "      <td>56.430987</td>\n",
       "      <td>85.008581</td>\n",
       "    </tr>\n",
       "    <tr>\n",
       "      <th>3</th>\n",
       "      <td>16ba864e-241a-44a5-ac76-d30d591a9280</td>\n",
       "      <td>636844, Томская обл, Асиновский р-н, г Асино, ...</td>\n",
       "      <td>56.999274</td>\n",
       "      <td>86.141671</td>\n",
       "    </tr>\n",
       "    <tr>\n",
       "      <th>4</th>\n",
       "      <td>683d98a6-5eee-46d8-aba6-030af4d2b060</td>\n",
       "      <td>634009, Томская обл, г Томск, ул Бердская</td>\n",
       "      <td>56.511168</td>\n",
       "      <td>84.942942</td>\n",
       "    </tr>\n",
       "  </tbody>\n",
       "</table>\n",
       "</div>"
      ],
      "text/plain": [
       "                              fias_code  \\\n",
       "0  83da1256-a96d-47c7-9dce-78742c0fa454   \n",
       "1  0a4d3c20-a7e0-4cd9-b17e-9022dc79a663   \n",
       "2  e940a45e-b29f-451e-a0f3-1974df8e22ae   \n",
       "3  16ba864e-241a-44a5-ac76-d30d591a9280   \n",
       "4  683d98a6-5eee-46d8-aba6-030af4d2b060   \n",
       "\n",
       "                                             address   latitude  longitude  \n",
       "0  634049, Томская обл, г Томск, Иркутский тракт,...   56.50067   85.00571  \n",
       "1   634020, Томская обл, г Томск, ул Сибирская, д 80  56.482672  84.993858  \n",
       "2  634507, Томская обл, Томский р-н, поселок Зона...  56.430987  85.008581  \n",
       "3  636844, Томская обл, Асиновский р-н, г Асино, ...  56.999274  86.141671  \n",
       "4          634009, Томская обл, г Томск, ул Бердская  56.511168  84.942942  "
      ]
     },
     "execution_count": 44,
     "metadata": {},
     "output_type": "execute_result"
    }
   ],
   "source": [
    "df_fias.head()"
   ]
  },
  {
   "cell_type": "code",
   "execution_count": 45,
   "metadata": {},
   "outputs": [],
   "source": [
    "df_fias.to_csv(f'/home/tochka/Documents/Other/Work/Geo/EGRUL/fias/df_fias_{reg}_upd.csv.gz', sep=';', index=False, compression='gzip')"
   ]
  },
  {
   "cell_type": "code",
   "execution_count": null,
   "metadata": {},
   "outputs": [],
   "source": []
  },
  {
   "cell_type": "code",
   "execution_count": null,
   "metadata": {},
   "outputs": [],
   "source": []
  }
 ],
 "metadata": {
  "kernelspec": {
   "display_name": "env_geo",
   "language": "python",
   "name": "env_geo"
  },
  "language_info": {
   "codemirror_mode": {
    "name": "ipython",
    "version": 3
   },
   "file_extension": ".py",
   "mimetype": "text/x-python",
   "name": "python",
   "nbconvert_exporter": "python",
   "pygments_lexer": "ipython3",
   "version": "3.8.8"
  }
 },
 "nbformat": 4,
 "nbformat_minor": 4
}

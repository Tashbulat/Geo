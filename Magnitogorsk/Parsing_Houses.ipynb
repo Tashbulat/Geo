{
 "cells": [
  {
   "cell_type": "code",
   "execution_count": 117,
   "id": "d821de50",
   "metadata": {},
   "outputs": [],
   "source": [
    "import pandas as pd\n",
    "import numpy as np\n",
    "import requests\n",
    "from tqdm import tqdm\n",
    "import time\n",
    "import pickle\n",
    "import os"
   ]
  },
  {
   "cell_type": "code",
   "execution_count": 83,
   "id": "8168c488-9938-4cf5-9a82-bae353b4c16b",
   "metadata": {},
   "outputs": [],
   "source": [
    "pd.options.display.max_columns = 100"
   ]
  },
  {
   "cell_type": "code",
   "execution_count": 2,
   "id": "da382501-c688-4d12-a834-879d4000b778",
   "metadata": {},
   "outputs": [],
   "source": [
    "import warn(ings\n",
    "warnings.filterwarnings(\"ignore\")"
   ]
  },
  {
   "cell_type": "raw",
   "id": "362d1a06-cb46-493a-99c2-6bc7f9731eb2",
   "metadata": {},
   "source": [
    "from selenium import webdriver\n",
    "from selenium.webdriver.firefox.options import Options\n",
    "from selenium.webdriver.firefox.service import Service\n",
    "from selenium.webdriver.common.by import By"
   ]
  },
  {
   "cell_type": "raw",
   "id": "041c9b39-c34b-4245-b192-ded21b0f6543",
   "metadata": {},
   "source": [
    "firefox_options = Options()\n",
    "user_agent = 'Mozilla/5.0 (X11; Ubuntu; Linux x86_64; rv:109.0) Gecko/20100101 Firefox/113.0'\n",
    "firefox_options.add_argument(f'user-agent={user_agent}')\n",
    "firefox_options.add_argument('-headless')\n",
    "firefox_options.add_argument(\"--disable-notifications\")\n",
    "firefox_options.add_argument('--no-sandbox')\n",
    "firefox_options.add_argument('--disable-dev-shm-usage')\n",
    "\n",
    "service = Service(executable_path=\"/snap/bin/geckodriver\")"
   ]
  },
  {
   "cell_type": "raw",
   "id": "6c0261ec-db33-459e-870b-890b2eec72e5",
   "metadata": {},
   "source": [
    "browser = webdriver.Firefox(options=firefox_options, service=service)"
   ]
  },
  {
   "cell_type": "code",
   "execution_count": 4,
   "id": "de088cb6",
   "metadata": {},
   "outputs": [],
   "source": [
    "url = 'https://dom.mingkh.ru/chelyabinskaya-oblast/magnitogorsk/houses?page='"
   ]
  },
  {
   "cell_type": "raw",
   "id": "893ddb67-1465-440f-af3d-e040161048d6",
   "metadata": {},
   "source": [
    "browser.get(url+'1')"
   ]
  },
  {
   "cell_type": "raw",
   "id": "57da286a-dfcd-42c6-a43b-f9ae24c2d50b",
   "metadata": {
    "scrolled": true
   },
   "source": [
    "browser.page_source"
   ]
  },
  {
   "cell_type": "raw",
   "id": "e79ecf70-26fa-47fa-989e-24804b29bfb6",
   "metadata": {
    "scrolled": true
   },
   "source": [
    "browser.find_element(By.CLASS_NAME, \"table-responsive\").get_attribute('outerHTML')"
   ]
  },
  {
   "cell_type": "raw",
   "id": "5ca1e8bf-b19f-4b7b-ad53-dd0103970e1f",
   "metadata": {},
   "source": [
    "pd.read_html(browser.find_element(By.CLASS_NAME, \"table-responsive\").get_attribute('outerHTML'), extract_links='all')[0]"
   ]
  },
  {
   "cell_type": "code",
   "execution_count": 5,
   "id": "b1370264-db99-4d48-803e-9568e0f0231a",
   "metadata": {},
   "outputs": [],
   "source": [
    "response = requests.get(url+'1')"
   ]
  },
  {
   "cell_type": "code",
   "execution_count": 6,
   "id": "cb4a0c65-9e94-468c-b289-ca1e9a02a40b",
   "metadata": {
    "scrolled": true
   },
   "outputs": [
    {
     "data": {
      "text/plain": [
       "'<!DOCTYPE html> <html lang=\"ru\"> <head> <meta charset=\"utf-8\"> <title>Многоквартирные дома в Магнитогорске</title> <meta name=\"viewport\" content=\"width=device-width, initial-scale=1.0\"> <meta name=\"yandex-verification\" content=\"e56b213a88efb078\"/> <meta name=\"google-site-verification\" content=\"WE2oHcbtdeZYnEeOqLIl4yw7tt0hqHT7WWJvrNC-sG0\"/> <link rel=\"preload\" href=\"https://fonts.googleapis.com/css?family=Open+Sans&display=swap\" as=\"style\"> <link rel=\"preload\" href=\"https://maxcdn.bootstrapcdn.com/font-awesome/4.5.0/css/font-awesome.min.css\" as=\"style\"> <link rel=\"preconnect\" href=\"https://www.google-analytics.com/\"> <link rel=\"stylesheet\" href=\"/assets/css/bootstrap.min.css\"> <link rel=\"stylesheet\" href=\"https://maxcdn.bootstrapcdn.com/font-awesome/4.5.0/css/font-awesome.min.css\"> <link rel=\"stylesheet\" href=\"https://fonts.googleapis.com/css?family=Open+Sans&display=swap\"> <link rel=\"stylesheet\" href=\"/assets/css/magnific-popup.css\"> <link rel=\"stylesheet\" href=\"/assets/css/owl.carousel.css\"> <link rel=\"stylesheet\" href=\"/assets/css/styles/style.min.css\"> <link rel=\"stylesheet\" href=\"/assets/css/styles/skin-lblue.min.css\"> <link rel=\"stylesheet\" href=\"/assets/css/custom.css?1697820247\"> <link rel=\"stylesheet\" href=\"/assets/css/customads.css?1697820247\"> <link rel=\"stylesheet\" href=\"/assets/css/selectize.css\"/> <link rel=\"apple-touch-icon\" sizes=\"180x180\" href=\"/assets/favicon/apple-touch-icon.png\"> <link rel=\"icon\" type=\"image/png\" sizes=\"32x32\" href=\"/assets/favicon/favicon-32x32.png\"> <link rel=\"icon\" type=\"image/png\" sizes=\"16x16\" href=\"/assets/favicon/favicon-16x16.png\"> <link rel=\"manifest\" href=\"/assets/favicon/site.webmanifest\"> <link rel=\"mask-icon\" href=\"/assets/favicon/safari-pinned-tab.svg\" color=\"#5bbad5\"> <meta name=\"msapplication-TileColor\" content=\"#da532c\"> <meta name=\"theme-color\" content=\"#ffffff\"> <link rel=\"canonical\" href=\"https://dom.mingkh.ru/chelyabinskaya-oblast/magnitogorsk/houses\"/> <!-- Yandex.Metrika counter --> <script type=\"text/javascript\"> (function (m, e, t, r, i, k, a) { m[i] = m[i] || function () { (m[i].a = m[i].a || []).push(arguments) }; m[i].l = 1 * new Date(); k = e.createElement(t), a = e.getElementsByTagName(t)[0], k.async = 1, k.src = r, a.parentNode.insertBefore(k, a) }) (window, document, \"script\", \"https://mc.yandex.ru/metrika/tag.js\", \"ym\"); ym(37773300, \"init\", { clickmap: true, trackLinks: true, accurateTrackBounce: true }); </script> <!-- /Yandex.Metrika counter --> <!-- Yandex.RTB --> <script>window.yaContextCb = window.yaContextCb || []</script> <script src=\"https://yandex.ru/ads/system/context.js\" async></script> <!-- Global site tag (gtag.js) - Google Analytics --> <script async src=\"https://www.googletagmanager.com/gtag/js?id=G-PEFEWHRN38\"></script> <script> window.dataLayer = window.dataLayer || []; function gtag() { dataLayer.push(arguments); } gtag(\\'js\\', new Date()); gtag(\\'config\\', \\'G-PEFEWHRN38\\'); </script> <!-- Yandex.RTB R-A-1440432-6 --> <script>window.yaContextCb.push(() => { Ya.Context.AdvManager.render({ type: \\'floorAd\\', blockId: \\'R-A-1440432-6\\' }) })</script> </head> <body> <div class=\"outer\"> <div class=\"header-2\"> <div class=\"container\"> <div class=\"row\"> <div class=\"col-md-3\"> <div class=\"logo\"> <a href=\"https://dom.mingkh.ru/\"><i class=\"fa fa-laptop\"></i> дом.минжкх</a> </div> </div> <div class=\"col-md-7\"> <div class=\"navy\"> <ul> <li><a href=\"#\">Жилой фонд</a> <ul> <li><a href=\"/region/\">По регионам</a> <li><a href=\"/city/\">По городам</a> <li><a href=\"/seriya/\">По сериям</a> <li><a href=\"/avarijnye/\">Аварийные дома</a> </ul> </li> <li><a href=\"https://mingkh.ru/\">Управляющие компании</a></li> <li><a href=\"/about\">О проекте</a></li> <li><a href=\"/feedback\">Обратная связь</a></li> </ul> </div> </div> <div class=\"col-md-2\"> <div class=\"head-search pull-right\"> <a href=\"/search?address=&searchtype=house\"><i class=\"fa fa-search square-2 rounded-1 bg-color white\"></i></a> </div> <div class=\"clearfix\"></div> </div> </div> </div> </div> <div class=\"main-block\"> <div class=\"page-heading-two\"> <div class=\"container\"> <div class=\"breads\"> <ul class=\"breadcrumb\" itemscope itemtype=\"https://schema.org/BreadcrumbList\"><li itemprop=\"itemListElement\" itemscope itemtype=\"https://schema.org/ListItem\"><a itemprop=\"item\" href=\"/\"><span itemprop=\"name\">Россия</span></a><meta itemprop=\"position\" content=\"1\" /></li><li itemprop=\"itemListElement\" itemscope itemtype=\"https://schema.org/ListItem\"><a itemprop=\"item\" href=\"/chelyabinskaya-oblast/\"><span itemprop=\"name\">Челябинская область</span></a><meta itemprop=\"position\" content=\"2\" /></li><li itemprop=\"itemListElement\" itemscope itemtype=\"https://schema.org/ListItem\"><a itemprop=\"item\" href=\"/chelyabinskaya-oblast/magnitogorsk/\"><span itemprop=\"name\">Магнитогорск</span></a><meta itemprop=\"position\" content=\"3\" /></li><li itemprop=\"itemListElement\" itemscope itemtype=\"https://schema.org/ListItem\"><a itemprop=\"item\" href=\"#!\"><span itemprop=\"name\">Все дома</span></a><meta itemprop=\"position\" content=\"4\" /></li></ul> </div> <div class=\"clearfix\"></div> </div> </div> <div class=\"container\"> <div class=\"row\"> <div class=\"col-12 text-center\"> <div class=\"ad-unit\"> <!-- Yandex.RTB R-A-1440432-1 --> <div id=\"yandex_rtb_R-A-1440432-1\"></div> <script>window.yaContextCb.push(()=>{ Ya.Context.AdvManager.render({ renderTo: \\'yandex_rtb_R-A-1440432-1\\', blockId: \\'R-A-1440432-1\\' }) })</script> </div> </div> </div> <!--div class=\"ad-container margin-bottom\"> </div--> <div class=\"block-heading-two\"> <h1>Жилой фонд в Магнитогорске</h1> </div> <p class=\"seo-text margin-bottom-20\"> Список домов в Магнитогорске </p> <div class=\"nav-tabs-two margin-bottom-20\"> <!-- Nav tabs --> <ul class=\"nav nav-tabs\"> <li class=\"active\"><a href=\"#tab-2\" data-toggle=\"tab\">Поиск дома по адресу</a></li> <li ><a href=\"#tab-1\" data-toggle=\"tab\">Поиск УК и ТСЖ</a></li> </ul> <!-- Tab content --> <div class=\"tab-content\"> <div class=\"tab-pane fade\" id=\"tab-1\"> <form role=\"form\" action=\"/search\" method=\"get\" name=\"companysearch\"> <div class=\"row\"> <div class=\"col-md-5 col-sm-12\"> <select id=\"select-companycity\" name=\"city\" placeholder=\"название города...\"> <option value=\"\">Город...</option> </select> </div> <div class=\"col-md-5 col-sm-12\"> <div class=\"margin-top visible-xs-inline-block\"></div> <input type=\"text\" class=\"form-control\" id=\"name\" name=\"name\" placeholder=\"название компании\" value=\"\"> </div> <div class=\"col-md-2 col-sm-12\"> <div class=\"margin-top visible-xs-inline-block\"></div> <button type=\"submit\" class=\"btn btn-block btn-color\"><i class=\"fa fa-search\"></i>&nbsp; Найти компанию</button> <input type=\"hidden\" name=\"searchtype\" value=\"company\"/> </div> </div> </form> </div> <div class=\"tab-pane fade in active\" id=\"tab-2\"> <form role=\"form\" action=\"/search\" method=\"get\" name=\"housesearch\"> <div class=\"row\"> <div class=\"col-md-10 col-sm-6 col-xs-12\"> <input type=\"text\" class=\"form-control\" id=\"address\" name=\"address\" placeholder=\"адрес дома, например, Москва, Шаболовка, 37\" value=\"\"> </div> <div class=\"col-md-2 col-sm-6 col-xs-12\"> <div class=\"margin-top visible-xs-inline-block\"></div> <button type=\"submit\" class=\"btn btn-block btn-color\"><i class=\"fa fa-search\"></i>&nbsp; Найти дом</button> <input type=\"hidden\" name=\"searchtype\" value=\"house\"/> <input type=\"hidden\" name=\"page-region\" value=\"chelyabinskaya-oblast\"/> <input type=\"hidden\" name=\"page-city\" value=\"magnitogorsk\"/> </div> </div> </form> </div> </div> </div><div class=\"ad-unit\"> <!-- Yandex.RTB R-A-1440432-2 --> <div id=\"yandex_rtb_R-A-1440432-2\"></div> <script>window.yaContextCb.push(()=>{ Ya.Context.AdvManager.render({ renderTo: \\'yandex_rtb_R-A-1440432-2\\', blockId: \\'R-A-1440432-2\\' }) })</script> </div><div class=\"table-responsive margin-top-20\"> <table class=\"table table-bordered table-striped table-hover\"> <thead> <tr> <th class=\"col-md-1\">№</th> <th class=\"col-md-2\">Город</th> <th class=\"col-md-5\">Адрес</th> <th class=\"col-md-2\">Площадь м<sup>2</sup></th> <th class=\"col-md-1\">Год</th> <th class=\"col-md-1\">Этажей</th> </tr> </thead> <tbody> <tr> <td>1</td> <td>Магнитогорск</td> <td><a href=\"/chelyabinskaya-oblast/magnitogorsk/160355\">ул. 50-летия Магнитки, 29 корпус 1</a></td> <td>1595.2</td> <td>2006</td> <td>10</td> </tr> <tr> <td>2</td> <td>Магнитогорск</td> <td><a href=\"/chelyabinskaya-oblast/magnitogorsk/396513\">ул. 50-летия Магнитки, 31</a></td> <td>15743.6</td> <td>2006</td> <td>9</td> </tr> <tr> <td>3</td> <td>Магнитогорск</td> <td><a href=\"/chelyabinskaya-oblast/magnitogorsk/633123\">ул. 50-летия Магнитки, 32</a></td> <td>10393.1</td> <td>1988</td> <td>9</td> </tr> <tr> <td>4</td> <td>Магнитогорск</td> <td><a href=\"/chelyabinskaya-oblast/magnitogorsk/396514\">ул. 50-летия Магнитки, 33 корпус 1</a></td> <td>4587</td> <td>2006</td> <td>9</td> </tr> <tr> <td>5</td> <td>Магнитогорск</td> <td><a href=\"/chelyabinskaya-oblast/magnitogorsk/536059\">ул. 50-летия Магнитки, 33</a></td> <td>9187.62</td> <td>2003</td> <td>9</td> </tr> <tr> <td>6</td> <td>Магнитогорск</td> <td><a href=\"/chelyabinskaya-oblast/magnitogorsk/633124\">ул. 50-летия Магнитки, 34</a></td> <td>5763.8</td> <td>1989</td> <td>9</td> </tr> <tr> <td>7</td> <td>Магнитогорск</td> <td><a href=\"/chelyabinskaya-oblast/magnitogorsk/1136480\">ул. 50-летия Магнитки, 35 корпус 1</a></td> <td>11774.4</td> <td>2019</td> <td>17</td> </tr> <tr> <td>8</td> <td>Магнитогорск</td> <td><a href=\"/chelyabinskaya-oblast/magnitogorsk/790098\">ул. 50-летия Магнитки, 35</a></td> <td>12487.8</td> <td>2015</td> <td>10</td> </tr> <tr> <td>9</td> <td>Магнитогорск</td> <td><a href=\"/chelyabinskaya-oblast/magnitogorsk/256896\">ул. 50-летия Магнитки, 36</a></td> <td>3985.5</td> <td>1988</td> <td>9</td> </tr> <tr> <td>10</td> <td>Магнитогорск</td> <td><a href=\"/chelyabinskaya-oblast/magnitogorsk/396515\">ул. 50-летия Магнитки, 37</a></td> <td>5731.5</td> <td>1997</td> <td>16</td> </tr> <tr> <td>11</td> <td>Магнитогорск</td> <td><a href=\"/chelyabinskaya-oblast/magnitogorsk/633125\">ул. 50-летия Магнитки, 38</a></td> <td>5790.8</td> <td>1988</td> <td>9</td> </tr> <tr> <td>12</td> <td>Магнитогорск</td> <td><a href=\"/chelyabinskaya-oblast/magnitogorsk/396516\">ул. 50-летия Магнитки, 39</a></td> <td>5705.8</td> <td>1994</td> <td>16</td> </tr> <tr> <td>13</td> <td>Магнитогорск</td> <td><a href=\"/chelyabinskaya-oblast/magnitogorsk/893452\">ул. 50-летия Магнитки, 40 корпус 1</a></td> <td>7750.6</td> <td>1991</td> <td>8</td> </tr> <tr> <td>14</td> <td>Магнитогорск</td> <td><a href=\"/chelyabinskaya-oblast/magnitogorsk/633126\">ул. 50-летия Магнитки, 40</a></td> <td>249.5</td> <td>1986</td> <td>9</td> </tr> <tr> <td>15</td> <td>Магнитогорск</td> <td><a href=\"/chelyabinskaya-oblast/magnitogorsk/160370\">ул. 50-летия Магнитки, 41</a></td> <td>7764.9</td> <td>1994</td> <td>16</td> </tr> <tr> <td>16</td> <td>Магнитогорск</td> <td><a href=\"/chelyabinskaya-oblast/magnitogorsk/396517\">ул. 50-летия Магнитки, 42</a></td> <td>12338.8</td> <td>1985</td> <td>9</td> </tr> <tr> <td>17</td> <td>Магнитогорск</td> <td><a href=\"/chelyabinskaya-oblast/magnitogorsk/396518\">ул. 50-летия Магнитки, 44</a></td> <td>7157.1</td> <td>1989</td> <td>9</td> </tr> <tr> <td>18</td> <td>Магнитогорск</td> <td><a href=\"/chelyabinskaya-oblast/magnitogorsk/159250\">ул. 50-летия Магнитки, 45</a></td> <td>3974.2</td> <td>1999</td> <td>10</td> </tr> <tr> <td>19</td> <td>Магнитогорск</td> <td><a href=\"/chelyabinskaya-oblast/magnitogorsk/396519\">ул. 50-летия Магнитки, 46</a></td> <td>4013.3</td> <td>1984</td> <td>9</td> </tr> <tr> <td>20</td> <td>Магнитогорск</td> <td><a href=\"/chelyabinskaya-oblast/magnitogorsk/160372\">ул. 50-летия Магнитки, 47 корпус 1</a></td> <td>5106.3</td> <td>1995</td> <td>6</td> </tr> <tr> <td>21</td> <td>Магнитогорск</td> <td><a href=\"/chelyabinskaya-oblast/magnitogorsk/160371\">ул. 50-летия Магнитки, 47</a></td> <td>12880</td> <td>1993</td> <td>9</td> </tr> <tr> <td>22</td> <td>Магнитогорск</td> <td><a href=\"/chelyabinskaya-oblast/magnitogorsk/396521\">ул. 50-летия Магнитки, 48 корпус 1</a></td> <td>5799</td> <td>1993</td> <td>9</td> </tr> <tr> <td>23</td> <td>Магнитогорск</td> <td><a href=\"/chelyabinskaya-oblast/magnitogorsk/396520\">ул. 50-летия Магнитки, 48</a></td> <td>8279.4</td> <td>1987</td> <td>9</td> </tr> <tr> <td>24</td> <td>Магнитогорск</td> <td><a href=\"/chelyabinskaya-oblast/magnitogorsk/633128\">ул. 50-летия Магнитки, 50</a></td> <td>9220.4</td> <td>1983</td> <td>9</td> </tr> <tr> <td>25</td> <td>Магнитогорск</td> <td><a href=\"/chelyabinskaya-oblast/magnitogorsk/252486\">ул. 50-летия Магнитки, 51</a></td> <td>4364.5</td> <td>1991</td> <td>9</td> </tr> <tr> <td>26</td> <td>Магнитогорск</td> <td><a href=\"/chelyabinskaya-oblast/magnitogorsk/160837\">ул. 50-летия Магнитки, 51А</a></td> <td>2778.8</td> <td>2005</td> <td>10</td> </tr> <tr> <td>27</td> <td>Магнитогорск</td> <td><a href=\"/chelyabinskaya-oblast/magnitogorsk/633130\">ул. 50-летия Магнитки, 52 корпус 2</a></td> <td>12214</td> <td>1983</td> <td>9</td> </tr> <tr> <td>28</td> <td>Магнитогорск</td> <td><a href=\"/chelyabinskaya-oblast/magnitogorsk/633129\">ул. 50-летия Магнитки, 52</a></td> <td>16074.6</td> <td>1983</td> <td>9</td> </tr> <tr> <td>29</td> <td>Магнитогорск</td> <td><a href=\"/chelyabinskaya-oblast/magnitogorsk/252487\">ул. 50-летия Магнитки, 53</a></td> <td>8032.3</td> <td>1991</td> <td>9</td> </tr> <tr> <td>30</td> <td>Магнитогорск</td> <td><a href=\"/chelyabinskaya-oblast/magnitogorsk/633131\">ул. 50-летия Магнитки, 54</a></td> <td>5138.7</td> <td>1989</td> <td>14</td> </tr> <tr> <td>31</td> <td>Магнитогорск</td> <td><a href=\"/chelyabinskaya-oblast/magnitogorsk/160839\">ул. 50-летия Магнитки, 55а</a></td> <td>2166.8</td> <td>&mdash;</td> <td>9</td> </tr> <tr> <td>32</td> <td>Магнитогорск</td> <td><a href=\"/chelyabinskaya-oblast/magnitogorsk/160838\">ул. 50-летия Магнитки, 55</a></td> <td>3659.7</td> <td>1997</td> <td>7</td> </tr> <tr> <td>33</td> <td>Магнитогорск</td> <td><a href=\"/chelyabinskaya-oblast/magnitogorsk/540444\">ул. 50-летия Магнитки, 56</a></td> <td>4309.1</td> <td>1988</td> <td>5</td> </tr> <tr> <td>34</td> <td>Магнитогорск</td> <td><a href=\"/chelyabinskaya-oblast/magnitogorsk/1032879\">ул. 50-летия Магнитки, 57</a></td> <td>&mdash;</td> <td>&mdash;</td> <td>&mdash;</td> </tr> <tr> <td>35</td> <td>Магнитогорск</td> <td><a href=\"/chelyabinskaya-oblast/magnitogorsk/633132\">ул. 50-летия Магнитки, 58</a></td> <td>5280</td> <td>1987</td> <td>14</td> </tr> <tr> <td>36</td> <td>Магнитогорск</td> <td><a href=\"/chelyabinskaya-oblast/magnitogorsk/252488\">ул. 50-летия Магнитки, 59</a></td> <td>5383.6</td> <td>1994</td> <td>9</td> </tr> <tr> <td>37</td> <td>Магнитогорск</td> <td><a href=\"/chelyabinskaya-oblast/magnitogorsk/160840\">ул. 50-летия Магнитки, 59А</a></td> <td>114.9</td> <td>2006</td> <td>10</td> </tr> <tr> <td>38</td> <td>Магнитогорск</td> <td><a href=\"/chelyabinskaya-oblast/magnitogorsk/252489\">ул. 50-летия Магнитки, 59 корпус 1</a></td> <td>5749.6</td> <td>1994</td> <td>5</td> </tr> <tr> <td>39</td> <td>Магнитогорск</td> <td><a href=\"/chelyabinskaya-oblast/magnitogorsk/252490\">ул. 50-летия Магнитки, 61</a></td> <td>8146.9</td> <td>1993</td> <td>9</td> </tr> <tr> <td>40</td> <td>Магнитогорск</td> <td><a href=\"/chelyabinskaya-oblast/magnitogorsk/633133\">ул. 50-летия Магнитки, 62</a></td> <td>11441.6</td> <td>1983</td> <td>9</td> </tr> <tr> <td>41</td> <td>Магнитогорск</td> <td><a href=\"/chelyabinskaya-oblast/magnitogorsk/160841\">ул. 50-летия Магнитки, 63А</a></td> <td>4336.1</td> <td>&mdash;</td> <td>10</td> </tr> <tr> <td>42</td> <td>Магнитогорск</td> <td><a href=\"/chelyabinskaya-oblast/magnitogorsk/937632\">ул. 50-летия Магнитки, 63</a></td> <td>4336.1</td> <td>1991</td> <td>9</td> </tr> <tr> <td>43</td> <td>Магнитогорск</td> <td><a href=\"/chelyabinskaya-oblast/magnitogorsk/252491\">ул. 50-летия Магнитки, 64</a></td> <td>5610.8</td> <td>1989</td> <td>4</td> </tr> <tr> <td>44</td> <td>Магнитогорск</td> <td><a href=\"/chelyabinskaya-oblast/magnitogorsk/540247\">ул. 50-летия Магнитки, 65</a></td> <td>7983.8</td> <td>1991</td> <td>9</td> </tr> <tr> <td>45</td> <td>Магнитогорск</td> <td><a href=\"/chelyabinskaya-oblast/magnitogorsk/252492\">ул. 50-летия Магнитки, 65 корпус 1</a></td> <td>4187.6</td> <td>1991</td> <td>5</td> </tr> <tr> <td>46</td> <td>Магнитогорск</td> <td><a href=\"/chelyabinskaya-oblast/magnitogorsk/252493\">ул. 50-летия Магнитки, 66</a></td> <td>4583.4</td> <td>1998</td> <td>13</td> </tr> <tr> <td>47</td> <td>Магнитогорск</td> <td><a href=\"/chelyabinskaya-oblast/magnitogorsk/252494\">ул. 50-летия Магнитки, 67</a></td> <td>4562.2</td> <td>1992</td> <td>9</td> </tr> <tr> <td>48</td> <td>Магнитогорск</td> <td><a href=\"/chelyabinskaya-oblast/magnitogorsk/160842\">ул. 50-летия Магнитки, 67А</a></td> <td>6181.5</td> <td>1992</td> <td>10</td> </tr> <tr> <td>49</td> <td>Магнитогорск</td> <td><a href=\"/chelyabinskaya-oblast/magnitogorsk/252495\">ул. 50-летия Магнитки, 68</a></td> <td>1892.9</td> <td>1988</td> <td>5</td> </tr> <tr> <td>50</td> <td>Магнитогорск</td> <td><a href=\"/chelyabinskaya-oblast/magnitogorsk/252496\">ул. 50-летия Магнитки, 70</a></td> <td>4151.2</td> <td>1989</td> <td>5</td> </tr> <tr> <td>51</td> <td>Магнитогорск</td> <td><a href=\"/chelyabinskaya-oblast/magnitogorsk/540839\">ул. 50-летия Магнитки, 32/2</a></td> <td>4140.2</td> <td>1979</td> <td>5</td> </tr> <tr> <td>52</td> <td>Магнитогорск</td> <td><a href=\"/chelyabinskaya-oblast/magnitogorsk/540840\">ул. 50-летия Магнитки, 32/3</a></td> <td>3427.1</td> <td>1985</td> <td>5</td> </tr> <tr> <td>53</td> <td>Магнитогорск</td> <td><a href=\"/chelyabinskaya-oblast/magnitogorsk/540693\">ул. 50-летия Магнитки, 44/1</a></td> <td>9409.6</td> <td>1987</td> <td>5</td> </tr> <tr> <td>54</td> <td>Магнитогорск</td> <td><a href=\"/chelyabinskaya-oblast/magnitogorsk/540442\">ул. 50-летия Магнитки, 52/1 корпус 1</a></td> <td>4429.8</td> <td>1984</td> <td>5</td> </tr> <tr> <td>55</td> <td>Магнитогорск</td> <td><a href=\"/chelyabinskaya-oblast/magnitogorsk/540443\">ул. 50-летия Магнитки, 52/1 корпус 2</a></td> <td>3832.5</td> <td>1984</td> <td>5</td> </tr> <tr> <td>56</td> <td>Магнитогорск</td> <td><a href=\"/chelyabinskaya-oblast/magnitogorsk/1106848\">ул. 50-летия Магнитки, 62/1</a></td> <td>13899.7</td> <td>1983</td> <td>9</td> </tr> <tr> <td>57</td> <td>Магнитогорск</td> <td><a href=\"/chelyabinskaya-oblast/magnitogorsk/334702\">ул. Ангарская, 135</a></td> <td>3551.5</td> <td>1972</td> <td>5</td> </tr> <tr> <td>58</td> <td>Магнитогорск</td> <td><a href=\"/chelyabinskaya-oblast/magnitogorsk/540842\">ул. Ангарская, 136</a></td> <td>4205.3</td> <td>1982</td> <td>4</td> </tr> <tr> <td>59</td> <td>Магнитогорск</td> <td><a href=\"/chelyabinskaya-oblast/magnitogorsk/334703\">ул. Ангарская, 137</a></td> <td>4988.1</td> <td>1972</td> <td>5</td> </tr> <tr> <td>60</td> <td>Магнитогорск</td> <td><a href=\"/chelyabinskaya-oblast/magnitogorsk/334704\">ул. Ангарская, 139</a></td> <td>3911.6</td> <td>1972</td> <td>5</td> </tr> <tr> <td>61</td> <td>Магнитогорск</td> <td><a href=\"/chelyabinskaya-oblast/magnitogorsk/1266637\">ул. Аносова, 33</a></td> <td>375.9</td> <td>1965</td> <td>2</td> </tr> <tr> <td>62</td> <td>Магнитогорск</td> <td><a href=\"/chelyabinskaya-oblast/magnitogorsk/942878\">ул. Аносова, 37</a></td> <td>1537.1</td> <td>1996</td> <td>3</td> </tr> <tr> <td>63</td> <td>Магнитогорск</td> <td><a href=\"/chelyabinskaya-oblast/magnitogorsk/942880\">ул. Аносова, 39 корпус 1</a></td> <td>245.3</td> <td>1994</td> <td>3</td> </tr> <tr> <td>64</td> <td>Магнитогорск</td> <td><a href=\"/chelyabinskaya-oblast/magnitogorsk/942879\">ул. Аносова, 39</a></td> <td>55.6</td> <td>1971</td> <td>3</td> </tr> <tr> <td>65</td> <td>Магнитогорск</td> <td><a href=\"/chelyabinskaya-oblast/magnitogorsk/942881\">ул. Аносова, 41</a></td> <td>1522.3</td> <td>1997</td> <td>3</td> </tr> <tr> <td>66</td> <td>Магнитогорск</td> <td><a href=\"/chelyabinskaya-oblast/magnitogorsk/395491\">ул. Аэродромная, 12</a></td> <td>416.6</td> <td>1957</td> <td>2</td> </tr> <tr> <td>67</td> <td>Магнитогорск</td> <td><a href=\"/chelyabinskaya-oblast/magnitogorsk/395492\">ул. Аэродромная, 14</a></td> <td>455.38</td> <td>1957</td> <td>2</td> </tr> <tr> <td>68</td> <td>Магнитогорск</td> <td><a href=\"/chelyabinskaya-oblast/magnitogorsk/395493\">ул. Аэродромная, 16</a></td> <td>468.8</td> <td>1957</td> <td>2</td> </tr> <tr> <td>69</td> <td>Магнитогорск</td> <td><a href=\"/chelyabinskaya-oblast/magnitogorsk/395494\">ул. Аэродромная, 18</a></td> <td>455.8</td> <td>1957</td> <td>2</td> </tr> <tr> <td>70</td> <td>Магнитогорск</td> <td><a href=\"/chelyabinskaya-oblast/magnitogorsk/395495\">ул. Аэродромная, 20</a></td> <td>467.26</td> <td>1958</td> <td>2</td> </tr> <tr> <td>71</td> <td>Магнитогорск</td> <td><a href=\"/chelyabinskaya-oblast/magnitogorsk/395496\">ул. Аэродромная, 22</a></td> <td>463</td> <td>1958</td> <td>2</td> </tr> <tr> <td>72</td> <td>Магнитогорск</td> <td><a href=\"/chelyabinskaya-oblast/magnitogorsk/395497\">ул. Аэродромная, 24</a></td> <td>417.4</td> <td>1958</td> <td>2</td> </tr> <tr> <td>73</td> <td>Магнитогорск</td> <td><a href=\"/chelyabinskaya-oblast/magnitogorsk/395498\">ул. Аэродромная, 26</a></td> <td>447.6</td> <td>1958</td> <td>2</td> </tr> <tr> <td>74</td> <td>Магнитогорск</td> <td><a href=\"/chelyabinskaya-oblast/magnitogorsk/395499\">ул. Аэродромная, 28</a></td> <td>686.3</td> <td>1960</td> <td>2</td> </tr> <tr> <td>75</td> <td>Магнитогорск</td> <td><a href=\"/chelyabinskaya-oblast/magnitogorsk/395500\">ул. Аэродромная, 30</a></td> <td>456.5</td> <td>1959</td> <td>2</td> </tr> <tr> <td>76</td> <td>Магнитогорск</td> <td><a href=\"/chelyabinskaya-oblast/magnitogorsk/395501\">ул. Аэродромная, 32</a></td> <td>447.5</td> <td>1960</td> <td>2</td> </tr> <tr> <td>77</td> <td>Магнитогорск</td> <td><a href=\"/chelyabinskaya-oblast/magnitogorsk/395502\">ул. Аэродромная, 34</a></td> <td>625.3</td> <td>1959</td> <td>2</td> </tr> <tr> <td>78</td> <td>Магнитогорск</td> <td><a href=\"/chelyabinskaya-oblast/magnitogorsk/395503\">ул. Аэродромная, 36</a></td> <td>415.4</td> <td>1960</td> <td>2</td> </tr> <tr> <td>79</td> <td>Магнитогорск</td> <td><a href=\"/chelyabinskaya-oblast/magnitogorsk/537856\">ул. Бахметьева, 1</a></td> <td>2893.7</td> <td>1974</td> <td>5</td> </tr> <tr> <td>80</td> <td>Магнитогорск</td> <td><a href=\"/chelyabinskaya-oblast/magnitogorsk/537858\">ул. Бахметьева, 3 корпус 1</a></td> <td>2637.4</td> <td>1973</td> <td>5</td> </tr> <tr> <td>81</td> <td>Магнитогорск</td> <td><a href=\"/chelyabinskaya-oblast/magnitogorsk/537857\">ул. Бахметьева, 3</a></td> <td>3146.1</td> <td>1975</td> <td>5</td> </tr> <tr> <td>82</td> <td>Магнитогорск</td> <td><a href=\"/chelyabinskaya-oblast/magnitogorsk/537859\">ул. Бахметьева, 5</a></td> <td>2617.9</td> <td>1975</td> <td>5</td> </tr> <tr> <td>83</td> <td>Магнитогорск</td> <td><a href=\"/chelyabinskaya-oblast/magnitogorsk/537860\">ул. Бахметьева, 6</a></td> <td>6540.3</td> <td>1996</td> <td>5</td> </tr> <tr> <td>84</td> <td>Магнитогорск</td> <td><a href=\"/chelyabinskaya-oblast/magnitogorsk/537861\">ул. Бахметьева, 7</a></td> <td>1513.1</td> <td>1969</td> <td>3</td> </tr> <tr> <td>85</td> <td>Магнитогорск</td> <td><a href=\"/chelyabinskaya-oblast/magnitogorsk/537862\">ул. Бахметьева, 9</a></td> <td>571.9</td> <td>1960</td> <td>3</td> </tr> <tr> <td>86</td> <td>Магнитогорск</td> <td><a href=\"/chelyabinskaya-oblast/magnitogorsk/537863\">ул. Бахметьева, 12</a></td> <td>4934.1</td> <td>1985</td> <td>5</td> </tr> <tr> <td>87</td> <td>Магнитогорск</td> <td><a href=\"/chelyabinskaya-oblast/magnitogorsk/1315951\">ул. Бахметьева, 13</a></td> <td>755.2</td> <td>1957</td> <td>2</td> </tr> <tr> <td>88</td> <td>Магнитогорск</td> <td><a href=\"/chelyabinskaya-oblast/magnitogorsk/537865\">ул. Бахметьева, 14</a></td> <td>4899</td> <td>1985</td> <td>5</td> </tr> <tr> <td>89</td> <td>Магнитогорск</td> <td><a href=\"/chelyabinskaya-oblast/magnitogorsk/537866\">ул. Бахметьева, 15</a></td> <td>635.1</td> <td>1959</td> <td>2</td> </tr> <tr> <td>90</td> <td>Магнитогорск</td> <td><a href=\"/chelyabinskaya-oblast/magnitogorsk/537867\">ул. Бахметьева, 17</a></td> <td>705.3</td> <td>1957</td> <td>2</td> </tr> <tr> <td>91</td> <td>Магнитогорск</td> <td><a href=\"/chelyabinskaya-oblast/magnitogorsk/537868\">ул. Бахметьева, 19</a></td> <td>635.1</td> <td>1960</td> <td>2</td> </tr> <tr> <td>92</td> <td>Магнитогорск</td> <td><a href=\"/chelyabinskaya-oblast/magnitogorsk/537869\">ул. Бахметьева, 21</a></td> <td>419.4</td> <td>1954</td> <td>2</td> </tr> <tr> <td>93</td> <td>Магнитогорск</td> <td><a href=\"/chelyabinskaya-oblast/magnitogorsk/537870\">ул. Бахметьева, 23</a></td> <td>419.2</td> <td>1954</td> <td>2</td> </tr> <tr> <td>94</td> <td>Магнитогорск</td> <td><a href=\"/chelyabinskaya-oblast/magnitogorsk/537871\">ул. Бахметьева, 35</a></td> <td>2809.6</td> <td>1993</td> <td>5</td> </tr> <tr> <td>95</td> <td>Магнитогорск</td> <td><a href=\"/chelyabinskaya-oblast/magnitogorsk/857491\">ул. Белинского, 83</a></td> <td>1117.1</td> <td>1953</td> <td>2</td> </tr> <tr> <td>96</td> <td>Магнитогорск</td> <td><a href=\"/chelyabinskaya-oblast/magnitogorsk/826405\">ул. Бестужева, 4</a></td> <td>1172.9</td> <td>1954</td> <td>2</td> </tr> <tr> <td>97</td> <td>Магнитогорск</td> <td><a href=\"/chelyabinskaya-oblast/magnitogorsk/826404\">ул. Бестужева, 10</a></td> <td>1192.6</td> <td>1954</td> <td>3</td> </tr> <tr> <td>98</td> <td>Магнитогорск</td> <td><a href=\"/chelyabinskaya-oblast/magnitogorsk/313376\">ул. Бехтерева, 1</a></td> <td>2837.1</td> <td>1988</td> <td>5</td> </tr> <tr> <td>99</td> <td>Магнитогорск</td> <td><a href=\"/chelyabinskaya-oblast/magnitogorsk/313377\">ул. Бехтерева, 3</a></td> <td>2890.8</td> <td>1988</td> <td>5</td> </tr> <tr> <td>100</td> <td>Магнитогорск</td> <td><a href=\"/chelyabinskaya-oblast/magnitogorsk/313378\">ул. Бехтерева, 5</a></td> <td>3860.1</td> <td>1989</td> <td>5</td> </tr> </tbody> </table> </div> <ul class=\"pagination\"> <li class=\"active\"><a href=\"#\">1 <span class=\"sr-only\">(current)</span></a></li><li><a href=\"/chelyabinskaya-oblast/magnitogorsk/houses?page=2\" data-ci-pagination-page=\"2\" rel=\"start\">2</a></li><li><a href=\"/chelyabinskaya-oblast/magnitogorsk/houses?page=3\" data-ci-pagination-page=\"3\">3</a></li><li><a href=\"/chelyabinskaya-oblast/magnitogorsk/houses?page=2\" data-ci-pagination-page=\"2\" rel=\"next\">&gt;</a></li><li><a href=\"/chelyabinskaya-oblast/magnitogorsk/houses?page=25\" data-ci-pagination-page=\"25\">Последняя</a></li></ul> <input type=\"hidden\" id=\"city_url\" name=\"city_url\" value=\"magnitogorsk\"/> <input type=\"hidden\" id=\"region_url\" name=\"region_url\" value=\"chelyabinskaya-oblast\"/> <script type=\"text/javascript\" > var city = \\'Магнитогорск\\'; var city_region_url = \\'chelyabinskaya-oblast#magnitogorsk\\'; </script> <div class=\"row\"> <div class=\"col-12 text-center\"> <div class=\"ad-unit margin-top-20 margin-bottom-20\"> <!-- Yandex.RTB R-A-1440432-5 --> <div id=\"yandex_rtb_R-A-1440432-5\"></div> <script>window.yaContextCb.push(()=>{ Ya.Context.AdvManager.render({ renderTo: \\'yandex_rtb_R-A-1440432-5\\', blockId: \\'R-A-1440432-5\\' }) })</script> </div> </div> </div> </div> </div> <div class=\"foot\"> <div class=\"container\"> <div class=\"row\"> <div class=\"col-md-9 col-sm-6\"> <h5 class=\"bold\"><i class=\"fa fa-building\"></i>&nbsp;Общественный проект &laquo;Дом.МинЖКХ.РУ&raquo;</h5> <p>Сайт общественного инициативного проекта по раскрытию информации о состоянии жилого фонда в Российской Федерации</p> </div> <div class=\"col-md-3 col-sm-6\"> <div class=\"foot-item\"> </div> </div> </div> </div> </div> <footer> <div class=\"container\"> <p class=\"pull-left\">&copy; 2015 - 2023 <a href=\"/\">Дом.МинЖКХ.РУ</a></p>&nbsp; <!--LiveInternet counter--><script type=\"text/javascript\"> document.write(\"<a href=\\'//www.liveinternet.ru/click\\' \"+ \"target=_blank><img src=\\'//counter.yadro.ru/hit?t44.1;r\"+ escape(document.referrer)+((typeof(screen)==\"undefined\")?\"\": \";s\"+screen.width+\"*\"+screen.height+\"*\"+(screen.colorDepth? screen.colorDepth:screen.pixelDepth))+\";u\"+escape(document.URL)+ \";h\"+escape(document.title.substring(0,80))+\";\"+Math.random()+ \"\\' alt=\\'\\' title=\\'LiveInternet\\' \"+ \"border=\\'0\\' width=\\'31\\' height=\\'31\\'><\\\\/a>\") </script><!--/LiveInternet--> <ul class=\"list-inline pull-right\"> <li><a href=\"/feedback\">Обратная связь</a></li> </ul> <div class=\"clearfix\"></div> </div> </footer> </div> <span class=\"totop\"><a href=\"#\"><i class=\"fa fa-angle-up bg-color\"></i></a></span> <script src=\"/assets/js/jquery.js\"></script> <script src=\"/assets/js/bootstrap.min.js\"></script> <script src=\"/assets/js/placeholders.js\"></script> <script src=\"/assets/js/jquery.magnific-popup.min.js\"></script> <script src=\"/assets/js/owl.carousel.min.js\"></script> <script src=\"/assets/js/respond.min.js\"></script> <script src=\"/assets/js/html5shiv.js\"></script> <script src=\"/assets/js/main.js\"></script> <script type=\"text/javascript\" src=\"/assets/js/selectize.min.js\"></script> <script src=\"/assets/js/custom.js?1697820247\"></script> <noscript><div><img src=\"https://mc.yandex.ru/watch/37773300\" style=\"position:absolute; left:-9999px;\" alt=\"\" /></div></noscript> </body> </html> '"
      ]
     },
     "execution_count": 6,
     "metadata": {},
     "output_type": "execute_result"
    }
   ],
   "source": [
    "response.text"
   ]
  },
  {
   "cell_type": "code",
   "execution_count": 8,
   "id": "bdf43103-7e0f-40e3-97b8-8941033d2d06",
   "metadata": {},
   "outputs": [
    {
     "data": {
      "text/html": [
       "<div>\n",
       "<style scoped>\n",
       "    .dataframe tbody tr th:only-of-type {\n",
       "        vertical-align: middle;\n",
       "    }\n",
       "\n",
       "    .dataframe tbody tr th {\n",
       "        vertical-align: top;\n",
       "    }\n",
       "\n",
       "    .dataframe thead th {\n",
       "        text-align: right;\n",
       "    }\n",
       "</style>\n",
       "<table border=\"1\" class=\"dataframe\">\n",
       "  <thead>\n",
       "    <tr style=\"text-align: right;\">\n",
       "      <th></th>\n",
       "      <th>(№, None)</th>\n",
       "      <th>(Город, None)</th>\n",
       "      <th>(Адрес, None)</th>\n",
       "      <th>(Площадь м2, None)</th>\n",
       "      <th>(Год, None)</th>\n",
       "      <th>(Этажей, None)</th>\n",
       "    </tr>\n",
       "  </thead>\n",
       "  <tbody>\n",
       "    <tr>\n",
       "      <th>0</th>\n",
       "      <td>(1, None)</td>\n",
       "      <td>(Магнитогорск, None)</td>\n",
       "      <td>(ул. 50-летия Магнитки, 29 корпус 1, /chelyabi...</td>\n",
       "      <td>(1595.2, None)</td>\n",
       "      <td>(2006, None)</td>\n",
       "      <td>(10, None)</td>\n",
       "    </tr>\n",
       "    <tr>\n",
       "      <th>1</th>\n",
       "      <td>(2, None)</td>\n",
       "      <td>(Магнитогорск, None)</td>\n",
       "      <td>(ул. 50-летия Магнитки, 31, /chelyabinskaya-ob...</td>\n",
       "      <td>(15743.6, None)</td>\n",
       "      <td>(2006, None)</td>\n",
       "      <td>(9, None)</td>\n",
       "    </tr>\n",
       "    <tr>\n",
       "      <th>2</th>\n",
       "      <td>(3, None)</td>\n",
       "      <td>(Магнитогорск, None)</td>\n",
       "      <td>(ул. 50-летия Магнитки, 32, /chelyabinskaya-ob...</td>\n",
       "      <td>(10393.1, None)</td>\n",
       "      <td>(1988, None)</td>\n",
       "      <td>(9, None)</td>\n",
       "    </tr>\n",
       "    <tr>\n",
       "      <th>3</th>\n",
       "      <td>(4, None)</td>\n",
       "      <td>(Магнитогорск, None)</td>\n",
       "      <td>(ул. 50-летия Магнитки, 33 корпус 1, /chelyabi...</td>\n",
       "      <td>(4587, None)</td>\n",
       "      <td>(2006, None)</td>\n",
       "      <td>(9, None)</td>\n",
       "    </tr>\n",
       "    <tr>\n",
       "      <th>4</th>\n",
       "      <td>(5, None)</td>\n",
       "      <td>(Магнитогорск, None)</td>\n",
       "      <td>(ул. 50-летия Магнитки, 33, /chelyabinskaya-ob...</td>\n",
       "      <td>(9187.62, None)</td>\n",
       "      <td>(2003, None)</td>\n",
       "      <td>(9, None)</td>\n",
       "    </tr>\n",
       "    <tr>\n",
       "      <th>...</th>\n",
       "      <td>...</td>\n",
       "      <td>...</td>\n",
       "      <td>...</td>\n",
       "      <td>...</td>\n",
       "      <td>...</td>\n",
       "      <td>...</td>\n",
       "    </tr>\n",
       "    <tr>\n",
       "      <th>95</th>\n",
       "      <td>(96, None)</td>\n",
       "      <td>(Магнитогорск, None)</td>\n",
       "      <td>(ул. Бестужева, 4, /chelyabinskaya-oblast/magn...</td>\n",
       "      <td>(1172.9, None)</td>\n",
       "      <td>(1954, None)</td>\n",
       "      <td>(2, None)</td>\n",
       "    </tr>\n",
       "    <tr>\n",
       "      <th>96</th>\n",
       "      <td>(97, None)</td>\n",
       "      <td>(Магнитогорск, None)</td>\n",
       "      <td>(ул. Бестужева, 10, /chelyabinskaya-oblast/mag...</td>\n",
       "      <td>(1192.6, None)</td>\n",
       "      <td>(1954, None)</td>\n",
       "      <td>(3, None)</td>\n",
       "    </tr>\n",
       "    <tr>\n",
       "      <th>97</th>\n",
       "      <td>(98, None)</td>\n",
       "      <td>(Магнитогорск, None)</td>\n",
       "      <td>(ул. Бехтерева, 1, /chelyabinskaya-oblast/magn...</td>\n",
       "      <td>(2837.1, None)</td>\n",
       "      <td>(1988, None)</td>\n",
       "      <td>(5, None)</td>\n",
       "    </tr>\n",
       "    <tr>\n",
       "      <th>98</th>\n",
       "      <td>(99, None)</td>\n",
       "      <td>(Магнитогорск, None)</td>\n",
       "      <td>(ул. Бехтерева, 3, /chelyabinskaya-oblast/magn...</td>\n",
       "      <td>(2890.8, None)</td>\n",
       "      <td>(1988, None)</td>\n",
       "      <td>(5, None)</td>\n",
       "    </tr>\n",
       "    <tr>\n",
       "      <th>99</th>\n",
       "      <td>(100, None)</td>\n",
       "      <td>(Магнитогорск, None)</td>\n",
       "      <td>(ул. Бехтерева, 5, /chelyabinskaya-oblast/magn...</td>\n",
       "      <td>(3860.1, None)</td>\n",
       "      <td>(1989, None)</td>\n",
       "      <td>(5, None)</td>\n",
       "    </tr>\n",
       "  </tbody>\n",
       "</table>\n",
       "<p>100 rows × 6 columns</p>\n",
       "</div>"
      ],
      "text/plain": [
       "      (№, None)         (Город, None)  \\\n",
       "0     (1, None)  (Магнитогорск, None)   \n",
       "1     (2, None)  (Магнитогорск, None)   \n",
       "2     (3, None)  (Магнитогорск, None)   \n",
       "3     (4, None)  (Магнитогорск, None)   \n",
       "4     (5, None)  (Магнитогорск, None)   \n",
       "..          ...                   ...   \n",
       "95   (96, None)  (Магнитогорск, None)   \n",
       "96   (97, None)  (Магнитогорск, None)   \n",
       "97   (98, None)  (Магнитогорск, None)   \n",
       "98   (99, None)  (Магнитогорск, None)   \n",
       "99  (100, None)  (Магнитогорск, None)   \n",
       "\n",
       "                                        (Адрес, None) (Площадь м2, None)  \\\n",
       "0   (ул. 50-летия Магнитки, 29 корпус 1, /chelyabi...     (1595.2, None)   \n",
       "1   (ул. 50-летия Магнитки, 31, /chelyabinskaya-ob...    (15743.6, None)   \n",
       "2   (ул. 50-летия Магнитки, 32, /chelyabinskaya-ob...    (10393.1, None)   \n",
       "3   (ул. 50-летия Магнитки, 33 корпус 1, /chelyabi...       (4587, None)   \n",
       "4   (ул. 50-летия Магнитки, 33, /chelyabinskaya-ob...    (9187.62, None)   \n",
       "..                                                ...                ...   \n",
       "95  (ул. Бестужева, 4, /chelyabinskaya-oblast/magn...     (1172.9, None)   \n",
       "96  (ул. Бестужева, 10, /chelyabinskaya-oblast/mag...     (1192.6, None)   \n",
       "97  (ул. Бехтерева, 1, /chelyabinskaya-oblast/magn...     (2837.1, None)   \n",
       "98  (ул. Бехтерева, 3, /chelyabinskaya-oblast/magn...     (2890.8, None)   \n",
       "99  (ул. Бехтерева, 5, /chelyabinskaya-oblast/magn...     (3860.1, None)   \n",
       "\n",
       "     (Год, None) (Этажей, None)  \n",
       "0   (2006, None)     (10, None)  \n",
       "1   (2006, None)      (9, None)  \n",
       "2   (1988, None)      (9, None)  \n",
       "3   (2006, None)      (9, None)  \n",
       "4   (2003, None)      (9, None)  \n",
       "..           ...            ...  \n",
       "95  (1954, None)      (2, None)  \n",
       "96  (1954, None)      (3, None)  \n",
       "97  (1988, None)      (5, None)  \n",
       "98  (1988, None)      (5, None)  \n",
       "99  (1989, None)      (5, None)  \n",
       "\n",
       "[100 rows x 6 columns]"
      ]
     },
     "execution_count": 8,
     "metadata": {},
     "output_type": "execute_result"
    }
   ],
   "source": [
    "pd.read_html(response.text, extract_links='all')[0]"
   ]
  },
  {
   "cell_type": "code",
   "execution_count": 16,
   "id": "cc8f3c98-1ad0-4771-80fa-f67e4b942176",
   "metadata": {},
   "outputs": [
    {
     "name": "stderr",
     "output_type": "stream",
     "text": [
      "100%|███████████████████████████████████████████| 25/25 [01:00<00:00,  2.41s/it]\n"
     ]
    }
   ],
   "source": [
    "page_min = 1\n",
    "page_max = 25\n",
    "\n",
    "houses_df = pd.DataFrame()\n",
    "for page in tqdm(range(page_min, page_max+1)):\n",
    "    response = requests.get(f'{url}{page}')\n",
    "    houses_df = pd.concat(\n",
    "        [\n",
    "            houses_df,\n",
    "            pd.read_html(response.text, extract_links='all')[0],\n",
    "        ],\n",
    "        axis=0,\n",
    "        join='outer',\n",
    "        ignore_index=True,\n",
    "    )\n",
    "    time.sleep(2)"
   ]
  },
  {
   "cell_type": "code",
   "execution_count": 17,
   "id": "f9db24d3",
   "metadata": {},
   "outputs": [
    {
     "data": {
      "text/html": [
       "<div>\n",
       "<style scoped>\n",
       "    .dataframe tbody tr th:only-of-type {\n",
       "        vertical-align: middle;\n",
       "    }\n",
       "\n",
       "    .dataframe tbody tr th {\n",
       "        vertical-align: top;\n",
       "    }\n",
       "\n",
       "    .dataframe thead th {\n",
       "        text-align: right;\n",
       "    }\n",
       "</style>\n",
       "<table border=\"1\" class=\"dataframe\">\n",
       "  <thead>\n",
       "    <tr style=\"text-align: right;\">\n",
       "      <th></th>\n",
       "      <th>(№, None)</th>\n",
       "      <th>(Город, None)</th>\n",
       "      <th>(Адрес, None)</th>\n",
       "      <th>(Площадь м2, None)</th>\n",
       "      <th>(Год, None)</th>\n",
       "      <th>(Этажей, None)</th>\n",
       "    </tr>\n",
       "  </thead>\n",
       "  <tbody>\n",
       "    <tr>\n",
       "      <th>0</th>\n",
       "      <td>(1, None)</td>\n",
       "      <td>(Магнитогорск, None)</td>\n",
       "      <td>(ул. 50-летия Магнитки, 29 корпус 1, /chelyabi...</td>\n",
       "      <td>(1595.2, None)</td>\n",
       "      <td>(2006, None)</td>\n",
       "      <td>(10, None)</td>\n",
       "    </tr>\n",
       "    <tr>\n",
       "      <th>1</th>\n",
       "      <td>(2, None)</td>\n",
       "      <td>(Магнитогорск, None)</td>\n",
       "      <td>(ул. 50-летия Магнитки, 31, /chelyabinskaya-ob...</td>\n",
       "      <td>(15743.6, None)</td>\n",
       "      <td>(2006, None)</td>\n",
       "      <td>(9, None)</td>\n",
       "    </tr>\n",
       "    <tr>\n",
       "      <th>2</th>\n",
       "      <td>(3, None)</td>\n",
       "      <td>(Магнитогорск, None)</td>\n",
       "      <td>(ул. 50-летия Магнитки, 32, /chelyabinskaya-ob...</td>\n",
       "      <td>(10393.1, None)</td>\n",
       "      <td>(1988, None)</td>\n",
       "      <td>(9, None)</td>\n",
       "    </tr>\n",
       "    <tr>\n",
       "      <th>3</th>\n",
       "      <td>(4, None)</td>\n",
       "      <td>(Магнитогорск, None)</td>\n",
       "      <td>(ул. 50-летия Магнитки, 33 корпус 1, /chelyabi...</td>\n",
       "      <td>(4587, None)</td>\n",
       "      <td>(2006, None)</td>\n",
       "      <td>(9, None)</td>\n",
       "    </tr>\n",
       "    <tr>\n",
       "      <th>4</th>\n",
       "      <td>(5, None)</td>\n",
       "      <td>(Магнитогорск, None)</td>\n",
       "      <td>(ул. 50-летия Магнитки, 33, /chelyabinskaya-ob...</td>\n",
       "      <td>(9187.62, None)</td>\n",
       "      <td>(2003, None)</td>\n",
       "      <td>(9, None)</td>\n",
       "    </tr>\n",
       "    <tr>\n",
       "      <th>...</th>\n",
       "      <td>...</td>\n",
       "      <td>...</td>\n",
       "      <td>...</td>\n",
       "      <td>...</td>\n",
       "      <td>...</td>\n",
       "      <td>...</td>\n",
       "    </tr>\n",
       "    <tr>\n",
       "      <th>2478</th>\n",
       "      <td>(2479, None)</td>\n",
       "      <td>(Магнитогорск, None)</td>\n",
       "      <td>(Школьный пер., 14, /chelyabinskaya-oblast/mag...</td>\n",
       "      <td>(997, None)</td>\n",
       "      <td>(1961, None)</td>\n",
       "      <td>(2, None)</td>\n",
       "    </tr>\n",
       "    <tr>\n",
       "      <th>2479</th>\n",
       "      <td>(2480, None)</td>\n",
       "      <td>(Магнитогорск, None)</td>\n",
       "      <td>(ул. Шоссейная, 28, /chelyabinskaya-oblast/mag...</td>\n",
       "      <td>(267.7, None)</td>\n",
       "      <td>(1961, None)</td>\n",
       "      <td>(2, None)</td>\n",
       "    </tr>\n",
       "    <tr>\n",
       "      <th>2480</th>\n",
       "      <td>(2481, None)</td>\n",
       "      <td>(Магнитогорск, None)</td>\n",
       "      <td>(ул. Шота Руставели, 9, /chelyabinskaya-oblast...</td>\n",
       "      <td>(519.9, None)</td>\n",
       "      <td>(1959, None)</td>\n",
       "      <td>(2, None)</td>\n",
       "    </tr>\n",
       "    <tr>\n",
       "      <th>2481</th>\n",
       "      <td>(2482, None)</td>\n",
       "      <td>(Магнитогорск, None)</td>\n",
       "      <td>(ул. Шота Руставели, 11, /chelyabinskaya-oblas...</td>\n",
       "      <td>(427.9, None)</td>\n",
       "      <td>(1964, None)</td>\n",
       "      <td>(2, None)</td>\n",
       "    </tr>\n",
       "    <tr>\n",
       "      <th>2482</th>\n",
       "      <td>(2483, None)</td>\n",
       "      <td>(Магнитогорск, None)</td>\n",
       "      <td>(ул. Щорса, 29, /chelyabinskaya-oblast/magnito...</td>\n",
       "      <td>(172.6, None)</td>\n",
       "      <td>(1900, None)</td>\n",
       "      <td>(2, None)</td>\n",
       "    </tr>\n",
       "  </tbody>\n",
       "</table>\n",
       "<p>2483 rows × 6 columns</p>\n",
       "</div>"
      ],
      "text/plain": [
       "         (№, None)         (Город, None)  \\\n",
       "0        (1, None)  (Магнитогорск, None)   \n",
       "1        (2, None)  (Магнитогорск, None)   \n",
       "2        (3, None)  (Магнитогорск, None)   \n",
       "3        (4, None)  (Магнитогорск, None)   \n",
       "4        (5, None)  (Магнитогорск, None)   \n",
       "...            ...                   ...   \n",
       "2478  (2479, None)  (Магнитогорск, None)   \n",
       "2479  (2480, None)  (Магнитогорск, None)   \n",
       "2480  (2481, None)  (Магнитогорск, None)   \n",
       "2481  (2482, None)  (Магнитогорск, None)   \n",
       "2482  (2483, None)  (Магнитогорск, None)   \n",
       "\n",
       "                                          (Адрес, None) (Площадь м2, None)  \\\n",
       "0     (ул. 50-летия Магнитки, 29 корпус 1, /chelyabi...     (1595.2, None)   \n",
       "1     (ул. 50-летия Магнитки, 31, /chelyabinskaya-ob...    (15743.6, None)   \n",
       "2     (ул. 50-летия Магнитки, 32, /chelyabinskaya-ob...    (10393.1, None)   \n",
       "3     (ул. 50-летия Магнитки, 33 корпус 1, /chelyabi...       (4587, None)   \n",
       "4     (ул. 50-летия Магнитки, 33, /chelyabinskaya-ob...    (9187.62, None)   \n",
       "...                                                 ...                ...   \n",
       "2478  (Школьный пер., 14, /chelyabinskaya-oblast/mag...        (997, None)   \n",
       "2479  (ул. Шоссейная, 28, /chelyabinskaya-oblast/mag...      (267.7, None)   \n",
       "2480  (ул. Шота Руставели, 9, /chelyabinskaya-oblast...      (519.9, None)   \n",
       "2481  (ул. Шота Руставели, 11, /chelyabinskaya-oblas...      (427.9, None)   \n",
       "2482  (ул. Щорса, 29, /chelyabinskaya-oblast/magnito...      (172.6, None)   \n",
       "\n",
       "       (Год, None) (Этажей, None)  \n",
       "0     (2006, None)     (10, None)  \n",
       "1     (2006, None)      (9, None)  \n",
       "2     (1988, None)      (9, None)  \n",
       "3     (2006, None)      (9, None)  \n",
       "4     (2003, None)      (9, None)  \n",
       "...            ...            ...  \n",
       "2478  (1961, None)      (2, None)  \n",
       "2479  (1961, None)      (2, None)  \n",
       "2480  (1959, None)      (2, None)  \n",
       "2481  (1964, None)      (2, None)  \n",
       "2482  (1900, None)      (2, None)  \n",
       "\n",
       "[2483 rows x 6 columns]"
      ]
     },
     "execution_count": 17,
     "metadata": {},
     "output_type": "execute_result"
    }
   ],
   "source": [
    "houses_df"
   ]
  },
  {
   "cell_type": "code",
   "execution_count": 19,
   "id": "13374f43-1e6f-4ac8-b897-ec28e722c2ed",
   "metadata": {},
   "outputs": [
    {
     "name": "stdout",
     "output_type": "stream",
     "text": [
      "<class 'pandas.core.frame.DataFrame'>\n",
      "RangeIndex: 2483 entries, 0 to 2482\n",
      "Data columns (total 6 columns):\n",
      " #   Column              Non-Null Count  Dtype \n",
      "---  ------              --------------  ----- \n",
      " 0   (№, None)           2483 non-null   object\n",
      " 1   (Город, None)       2483 non-null   object\n",
      " 2   (Адрес, None)       2483 non-null   object\n",
      " 3   (Площадь м2, None)  2483 non-null   object\n",
      " 4   (Год, None)         2483 non-null   object\n",
      " 5   (Этажей, None)      2483 non-null   object\n",
      "dtypes: object(6)\n",
      "memory usage: 116.5+ KB\n"
     ]
    }
   ],
   "source": [
    "houses_df.info()"
   ]
  },
  {
   "cell_type": "code",
   "execution_count": 26,
   "id": "b14e85ff-c8df-4e13-9a13-2f836fafcafe",
   "metadata": {},
   "outputs": [],
   "source": [
    "columns = houses_df.columns"
   ]
  },
  {
   "cell_type": "code",
   "execution_count": 45,
   "id": "5de889ef-ed8a-4b02-bfb3-a5b59c0f895d",
   "metadata": {},
   "outputs": [
    {
     "data": {
      "text/plain": [
       "('№', None)"
      ]
     },
     "execution_count": 45,
     "metadata": {},
     "output_type": "execute_result"
    }
   ],
   "source": [
    "columns[0]"
   ]
  },
  {
   "cell_type": "code",
   "execution_count": 46,
   "id": "04dfa8fc-aca1-41d8-8863-f23bb491240f",
   "metadata": {},
   "outputs": [
    {
     "data": {
      "text/plain": [
       "tuple"
      ]
     },
     "execution_count": 46,
     "metadata": {},
     "output_type": "execute_result"
    }
   ],
   "source": [
    "type(columns[0])"
   ]
  },
  {
   "cell_type": "code",
   "execution_count": 29,
   "id": "7dff0661-248f-4ef9-a45a-c74ac3c578a1",
   "metadata": {},
   "outputs": [
    {
     "data": {
      "text/plain": [
       "('1', None)"
      ]
     },
     "execution_count": 29,
     "metadata": {},
     "output_type": "execute_result"
    }
   ],
   "source": [
    "houses_df[columns[0]].values[0]"
   ]
  },
  {
   "cell_type": "code",
   "execution_count": 30,
   "id": "8e100971-5be5-4b36-90ae-c21852eb8039",
   "metadata": {},
   "outputs": [
    {
     "data": {
      "text/plain": [
       "tuple"
      ]
     },
     "execution_count": 30,
     "metadata": {},
     "output_type": "execute_result"
    }
   ],
   "source": [
    "type(houses_df[columns[0]].values[0])"
   ]
  },
  {
   "cell_type": "code",
   "execution_count": 41,
   "id": "54f67e2a-abbe-4039-83ad-8de6bd91167c",
   "metadata": {},
   "outputs": [
    {
     "data": {
      "text/plain": [
       "'1'"
      ]
     },
     "execution_count": 41,
     "metadata": {},
     "output_type": "execute_result"
    }
   ],
   "source": [
    "houses_df[columns[0]].values[0][0]"
   ]
  },
  {
   "cell_type": "code",
   "execution_count": 43,
   "id": "df4ce002-a8ee-48c2-9137-5f28ed341924",
   "metadata": {
    "scrolled": true
   },
   "outputs": [],
   "source": [
    "for col_ind in [0, 1, 3, 4, 5]:\n",
    "    houses_df[columns[col_ind]] = [v[0] for v in houses_df[columns[col_ind]].values]"
   ]
  },
  {
   "cell_type": "code",
   "execution_count": 44,
   "id": "a6f24327-9322-4f30-ac86-f939462dd8c9",
   "metadata": {},
   "outputs": [
    {
     "data": {
      "text/html": [
       "<div>\n",
       "<style scoped>\n",
       "    .dataframe tbody tr th:only-of-type {\n",
       "        vertical-align: middle;\n",
       "    }\n",
       "\n",
       "    .dataframe tbody tr th {\n",
       "        vertical-align: top;\n",
       "    }\n",
       "\n",
       "    .dataframe thead th {\n",
       "        text-align: right;\n",
       "    }\n",
       "</style>\n",
       "<table border=\"1\" class=\"dataframe\">\n",
       "  <thead>\n",
       "    <tr style=\"text-align: right;\">\n",
       "      <th></th>\n",
       "      <th>(№, None)</th>\n",
       "      <th>(Город, None)</th>\n",
       "      <th>(Адрес, None)</th>\n",
       "      <th>(Площадь м2, None)</th>\n",
       "      <th>(Год, None)</th>\n",
       "      <th>(Этажей, None)</th>\n",
       "    </tr>\n",
       "  </thead>\n",
       "  <tbody>\n",
       "    <tr>\n",
       "      <th>0</th>\n",
       "      <td>1</td>\n",
       "      <td>Магнитогорск</td>\n",
       "      <td>(ул. 50-летия Магнитки, 29 корпус 1, /chelyabi...</td>\n",
       "      <td>1595.2</td>\n",
       "      <td>2006</td>\n",
       "      <td>10</td>\n",
       "    </tr>\n",
       "    <tr>\n",
       "      <th>1</th>\n",
       "      <td>2</td>\n",
       "      <td>Магнитогорск</td>\n",
       "      <td>(ул. 50-летия Магнитки, 31, /chelyabinskaya-ob...</td>\n",
       "      <td>15743.6</td>\n",
       "      <td>2006</td>\n",
       "      <td>9</td>\n",
       "    </tr>\n",
       "    <tr>\n",
       "      <th>2</th>\n",
       "      <td>3</td>\n",
       "      <td>Магнитогорск</td>\n",
       "      <td>(ул. 50-летия Магнитки, 32, /chelyabinskaya-ob...</td>\n",
       "      <td>10393.1</td>\n",
       "      <td>1988</td>\n",
       "      <td>9</td>\n",
       "    </tr>\n",
       "    <tr>\n",
       "      <th>3</th>\n",
       "      <td>4</td>\n",
       "      <td>Магнитогорск</td>\n",
       "      <td>(ул. 50-летия Магнитки, 33 корпус 1, /chelyabi...</td>\n",
       "      <td>4587</td>\n",
       "      <td>2006</td>\n",
       "      <td>9</td>\n",
       "    </tr>\n",
       "    <tr>\n",
       "      <th>4</th>\n",
       "      <td>5</td>\n",
       "      <td>Магнитогорск</td>\n",
       "      <td>(ул. 50-летия Магнитки, 33, /chelyabinskaya-ob...</td>\n",
       "      <td>9187.62</td>\n",
       "      <td>2003</td>\n",
       "      <td>9</td>\n",
       "    </tr>\n",
       "  </tbody>\n",
       "</table>\n",
       "</div>"
      ],
      "text/plain": [
       "  (№, None) (Город, None)                                      (Адрес, None)  \\\n",
       "0         1  Магнитогорск  (ул. 50-летия Магнитки, 29 корпус 1, /chelyabi...   \n",
       "1         2  Магнитогорск  (ул. 50-летия Магнитки, 31, /chelyabinskaya-ob...   \n",
       "2         3  Магнитогорск  (ул. 50-летия Магнитки, 32, /chelyabinskaya-ob...   \n",
       "3         4  Магнитогорск  (ул. 50-летия Магнитки, 33 корпус 1, /chelyabi...   \n",
       "4         5  Магнитогорск  (ул. 50-летия Магнитки, 33, /chelyabinskaya-ob...   \n",
       "\n",
       "  (Площадь м2, None) (Год, None) (Этажей, None)  \n",
       "0             1595.2        2006             10  \n",
       "1            15743.6        2006              9  \n",
       "2            10393.1        1988              9  \n",
       "3               4587        2006              9  \n",
       "4            9187.62        2003              9  "
      ]
     },
     "execution_count": 44,
     "metadata": {},
     "output_type": "execute_result"
    }
   ],
   "source": [
    "houses_df.head()"
   ]
  },
  {
   "cell_type": "code",
   "execution_count": 47,
   "id": "b93d9bbd-d9f4-460d-aadc-df8264cc9014",
   "metadata": {},
   "outputs": [],
   "source": [
    "for col_ind in [0, 1, 3, 4, 5]:\n",
    "    houses_df.rename(columns={columns[col_ind]: columns[col_ind][0]}, inplace=True)"
   ]
  },
  {
   "cell_type": "code",
   "execution_count": 48,
   "id": "ebf9ee00-7549-4fe9-8e01-5094309f456a",
   "metadata": {},
   "outputs": [
    {
     "data": {
      "text/html": [
       "<div>\n",
       "<style scoped>\n",
       "    .dataframe tbody tr th:only-of-type {\n",
       "        vertical-align: middle;\n",
       "    }\n",
       "\n",
       "    .dataframe tbody tr th {\n",
       "        vertical-align: top;\n",
       "    }\n",
       "\n",
       "    .dataframe thead th {\n",
       "        text-align: right;\n",
       "    }\n",
       "</style>\n",
       "<table border=\"1\" class=\"dataframe\">\n",
       "  <thead>\n",
       "    <tr style=\"text-align: right;\">\n",
       "      <th></th>\n",
       "      <th>№</th>\n",
       "      <th>Город</th>\n",
       "      <th>(Адрес, None)</th>\n",
       "      <th>Площадь м2</th>\n",
       "      <th>Год</th>\n",
       "      <th>Этажей</th>\n",
       "    </tr>\n",
       "  </thead>\n",
       "  <tbody>\n",
       "    <tr>\n",
       "      <th>0</th>\n",
       "      <td>1</td>\n",
       "      <td>Магнитогорск</td>\n",
       "      <td>(ул. 50-летия Магнитки, 29 корпус 1, /chelyabi...</td>\n",
       "      <td>1595.2</td>\n",
       "      <td>2006</td>\n",
       "      <td>10</td>\n",
       "    </tr>\n",
       "    <tr>\n",
       "      <th>1</th>\n",
       "      <td>2</td>\n",
       "      <td>Магнитогорск</td>\n",
       "      <td>(ул. 50-летия Магнитки, 31, /chelyabinskaya-ob...</td>\n",
       "      <td>15743.6</td>\n",
       "      <td>2006</td>\n",
       "      <td>9</td>\n",
       "    </tr>\n",
       "    <tr>\n",
       "      <th>2</th>\n",
       "      <td>3</td>\n",
       "      <td>Магнитогорск</td>\n",
       "      <td>(ул. 50-летия Магнитки, 32, /chelyabinskaya-ob...</td>\n",
       "      <td>10393.1</td>\n",
       "      <td>1988</td>\n",
       "      <td>9</td>\n",
       "    </tr>\n",
       "    <tr>\n",
       "      <th>3</th>\n",
       "      <td>4</td>\n",
       "      <td>Магнитогорск</td>\n",
       "      <td>(ул. 50-летия Магнитки, 33 корпус 1, /chelyabi...</td>\n",
       "      <td>4587</td>\n",
       "      <td>2006</td>\n",
       "      <td>9</td>\n",
       "    </tr>\n",
       "    <tr>\n",
       "      <th>4</th>\n",
       "      <td>5</td>\n",
       "      <td>Магнитогорск</td>\n",
       "      <td>(ул. 50-летия Магнитки, 33, /chelyabinskaya-ob...</td>\n",
       "      <td>9187.62</td>\n",
       "      <td>2003</td>\n",
       "      <td>9</td>\n",
       "    </tr>\n",
       "  </tbody>\n",
       "</table>\n",
       "</div>"
      ],
      "text/plain": [
       "   №         Город                                      (Адрес, None)  \\\n",
       "0  1  Магнитогорск  (ул. 50-летия Магнитки, 29 корпус 1, /chelyabi...   \n",
       "1  2  Магнитогорск  (ул. 50-летия Магнитки, 31, /chelyabinskaya-ob...   \n",
       "2  3  Магнитогорск  (ул. 50-летия Магнитки, 32, /chelyabinskaya-ob...   \n",
       "3  4  Магнитогорск  (ул. 50-летия Магнитки, 33 корпус 1, /chelyabi...   \n",
       "4  5  Магнитогорск  (ул. 50-летия Магнитки, 33, /chelyabinskaya-ob...   \n",
       "\n",
       "  Площадь м2   Год Этажей  \n",
       "0     1595.2  2006     10  \n",
       "1    15743.6  2006      9  \n",
       "2    10393.1  1988      9  \n",
       "3       4587  2006      9  \n",
       "4    9187.62  2003      9  "
      ]
     },
     "execution_count": 48,
     "metadata": {},
     "output_type": "execute_result"
    }
   ],
   "source": [
    "houses_df.head()"
   ]
  },
  {
   "cell_type": "code",
   "execution_count": 49,
   "id": "904c1ae4-c932-493a-817a-dbd69325b398",
   "metadata": {},
   "outputs": [],
   "source": [
    "houses_df['Адрес'] = [v[0] for v in houses_df[columns[2]].values]\n",
    "houses_df['Ссылка'] = [v[1] for v in houses_df[columns[2]].values]"
   ]
  },
  {
   "cell_type": "code",
   "execution_count": 50,
   "id": "93742a95-2be0-48e3-9119-b747225f1e3b",
   "metadata": {},
   "outputs": [
    {
     "data": {
      "text/html": [
       "<div>\n",
       "<style scoped>\n",
       "    .dataframe tbody tr th:only-of-type {\n",
       "        vertical-align: middle;\n",
       "    }\n",
       "\n",
       "    .dataframe tbody tr th {\n",
       "        vertical-align: top;\n",
       "    }\n",
       "\n",
       "    .dataframe thead th {\n",
       "        text-align: right;\n",
       "    }\n",
       "</style>\n",
       "<table border=\"1\" class=\"dataframe\">\n",
       "  <thead>\n",
       "    <tr style=\"text-align: right;\">\n",
       "      <th></th>\n",
       "      <th>№</th>\n",
       "      <th>Город</th>\n",
       "      <th>(Адрес, None)</th>\n",
       "      <th>Площадь м2</th>\n",
       "      <th>Год</th>\n",
       "      <th>Этажей</th>\n",
       "      <th>Адрес</th>\n",
       "      <th>Ссылка</th>\n",
       "    </tr>\n",
       "  </thead>\n",
       "  <tbody>\n",
       "    <tr>\n",
       "      <th>0</th>\n",
       "      <td>1</td>\n",
       "      <td>Магнитогорск</td>\n",
       "      <td>(ул. 50-летия Магнитки, 29 корпус 1, /chelyabi...</td>\n",
       "      <td>1595.2</td>\n",
       "      <td>2006</td>\n",
       "      <td>10</td>\n",
       "      <td>ул. 50-летия Магнитки, 29 корпус 1</td>\n",
       "      <td>/chelyabinskaya-oblast/magnitogorsk/160355</td>\n",
       "    </tr>\n",
       "    <tr>\n",
       "      <th>1</th>\n",
       "      <td>2</td>\n",
       "      <td>Магнитогорск</td>\n",
       "      <td>(ул. 50-летия Магнитки, 31, /chelyabinskaya-ob...</td>\n",
       "      <td>15743.6</td>\n",
       "      <td>2006</td>\n",
       "      <td>9</td>\n",
       "      <td>ул. 50-летия Магнитки, 31</td>\n",
       "      <td>/chelyabinskaya-oblast/magnitogorsk/396513</td>\n",
       "    </tr>\n",
       "    <tr>\n",
       "      <th>2</th>\n",
       "      <td>3</td>\n",
       "      <td>Магнитогорск</td>\n",
       "      <td>(ул. 50-летия Магнитки, 32, /chelyabinskaya-ob...</td>\n",
       "      <td>10393.1</td>\n",
       "      <td>1988</td>\n",
       "      <td>9</td>\n",
       "      <td>ул. 50-летия Магнитки, 32</td>\n",
       "      <td>/chelyabinskaya-oblast/magnitogorsk/633123</td>\n",
       "    </tr>\n",
       "    <tr>\n",
       "      <th>3</th>\n",
       "      <td>4</td>\n",
       "      <td>Магнитогорск</td>\n",
       "      <td>(ул. 50-летия Магнитки, 33 корпус 1, /chelyabi...</td>\n",
       "      <td>4587</td>\n",
       "      <td>2006</td>\n",
       "      <td>9</td>\n",
       "      <td>ул. 50-летия Магнитки, 33 корпус 1</td>\n",
       "      <td>/chelyabinskaya-oblast/magnitogorsk/396514</td>\n",
       "    </tr>\n",
       "    <tr>\n",
       "      <th>4</th>\n",
       "      <td>5</td>\n",
       "      <td>Магнитогорск</td>\n",
       "      <td>(ул. 50-летия Магнитки, 33, /chelyabinskaya-ob...</td>\n",
       "      <td>9187.62</td>\n",
       "      <td>2003</td>\n",
       "      <td>9</td>\n",
       "      <td>ул. 50-летия Магнитки, 33</td>\n",
       "      <td>/chelyabinskaya-oblast/magnitogorsk/536059</td>\n",
       "    </tr>\n",
       "  </tbody>\n",
       "</table>\n",
       "</div>"
      ],
      "text/plain": [
       "   №         Город                                      (Адрес, None)  \\\n",
       "0  1  Магнитогорск  (ул. 50-летия Магнитки, 29 корпус 1, /chelyabi...   \n",
       "1  2  Магнитогорск  (ул. 50-летия Магнитки, 31, /chelyabinskaya-ob...   \n",
       "2  3  Магнитогорск  (ул. 50-летия Магнитки, 32, /chelyabinskaya-ob...   \n",
       "3  4  Магнитогорск  (ул. 50-летия Магнитки, 33 корпус 1, /chelyabi...   \n",
       "4  5  Магнитогорск  (ул. 50-летия Магнитки, 33, /chelyabinskaya-ob...   \n",
       "\n",
       "  Площадь м2   Год Этажей                               Адрес  \\\n",
       "0     1595.2  2006     10  ул. 50-летия Магнитки, 29 корпус 1   \n",
       "1    15743.6  2006      9           ул. 50-летия Магнитки, 31   \n",
       "2    10393.1  1988      9           ул. 50-летия Магнитки, 32   \n",
       "3       4587  2006      9  ул. 50-летия Магнитки, 33 корпус 1   \n",
       "4    9187.62  2003      9           ул. 50-летия Магнитки, 33   \n",
       "\n",
       "                                       Ссылка  \n",
       "0  /chelyabinskaya-oblast/magnitogorsk/160355  \n",
       "1  /chelyabinskaya-oblast/magnitogorsk/396513  \n",
       "2  /chelyabinskaya-oblast/magnitogorsk/633123  \n",
       "3  /chelyabinskaya-oblast/magnitogorsk/396514  \n",
       "4  /chelyabinskaya-oblast/magnitogorsk/536059  "
      ]
     },
     "execution_count": 50,
     "metadata": {},
     "output_type": "execute_result"
    }
   ],
   "source": [
    "houses_df.head()"
   ]
  },
  {
   "cell_type": "code",
   "execution_count": 51,
   "id": "a10c5a8e-f610-4226-97ee-ae695e27b2d1",
   "metadata": {},
   "outputs": [],
   "source": [
    "houses_df.drop(columns=[columns[2]], inplace=True)"
   ]
  },
  {
   "cell_type": "code",
   "execution_count": 52,
   "id": "e9a4553b-48fc-4c5b-928e-57ad0cc7bcd1",
   "metadata": {},
   "outputs": [
    {
     "data": {
      "text/html": [
       "<div>\n",
       "<style scoped>\n",
       "    .dataframe tbody tr th:only-of-type {\n",
       "        vertical-align: middle;\n",
       "    }\n",
       "\n",
       "    .dataframe tbody tr th {\n",
       "        vertical-align: top;\n",
       "    }\n",
       "\n",
       "    .dataframe thead th {\n",
       "        text-align: right;\n",
       "    }\n",
       "</style>\n",
       "<table border=\"1\" class=\"dataframe\">\n",
       "  <thead>\n",
       "    <tr style=\"text-align: right;\">\n",
       "      <th></th>\n",
       "      <th>№</th>\n",
       "      <th>Город</th>\n",
       "      <th>Площадь м2</th>\n",
       "      <th>Год</th>\n",
       "      <th>Этажей</th>\n",
       "      <th>Адрес</th>\n",
       "      <th>Ссылка</th>\n",
       "    </tr>\n",
       "  </thead>\n",
       "  <tbody>\n",
       "    <tr>\n",
       "      <th>0</th>\n",
       "      <td>1</td>\n",
       "      <td>Магнитогорск</td>\n",
       "      <td>1595.2</td>\n",
       "      <td>2006</td>\n",
       "      <td>10</td>\n",
       "      <td>ул. 50-летия Магнитки, 29 корпус 1</td>\n",
       "      <td>/chelyabinskaya-oblast/magnitogorsk/160355</td>\n",
       "    </tr>\n",
       "    <tr>\n",
       "      <th>1</th>\n",
       "      <td>2</td>\n",
       "      <td>Магнитогорск</td>\n",
       "      <td>15743.6</td>\n",
       "      <td>2006</td>\n",
       "      <td>9</td>\n",
       "      <td>ул. 50-летия Магнитки, 31</td>\n",
       "      <td>/chelyabinskaya-oblast/magnitogorsk/396513</td>\n",
       "    </tr>\n",
       "    <tr>\n",
       "      <th>2</th>\n",
       "      <td>3</td>\n",
       "      <td>Магнитогорск</td>\n",
       "      <td>10393.1</td>\n",
       "      <td>1988</td>\n",
       "      <td>9</td>\n",
       "      <td>ул. 50-летия Магнитки, 32</td>\n",
       "      <td>/chelyabinskaya-oblast/magnitogorsk/633123</td>\n",
       "    </tr>\n",
       "    <tr>\n",
       "      <th>3</th>\n",
       "      <td>4</td>\n",
       "      <td>Магнитогорск</td>\n",
       "      <td>4587</td>\n",
       "      <td>2006</td>\n",
       "      <td>9</td>\n",
       "      <td>ул. 50-летия Магнитки, 33 корпус 1</td>\n",
       "      <td>/chelyabinskaya-oblast/magnitogorsk/396514</td>\n",
       "    </tr>\n",
       "    <tr>\n",
       "      <th>4</th>\n",
       "      <td>5</td>\n",
       "      <td>Магнитогорск</td>\n",
       "      <td>9187.62</td>\n",
       "      <td>2003</td>\n",
       "      <td>9</td>\n",
       "      <td>ул. 50-летия Магнитки, 33</td>\n",
       "      <td>/chelyabinskaya-oblast/magnitogorsk/536059</td>\n",
       "    </tr>\n",
       "  </tbody>\n",
       "</table>\n",
       "</div>"
      ],
      "text/plain": [
       "   №         Город Площадь м2   Год Этажей  \\\n",
       "0  1  Магнитогорск     1595.2  2006     10   \n",
       "1  2  Магнитогорск    15743.6  2006      9   \n",
       "2  3  Магнитогорск    10393.1  1988      9   \n",
       "3  4  Магнитогорск       4587  2006      9   \n",
       "4  5  Магнитогорск    9187.62  2003      9   \n",
       "\n",
       "                                Адрес  \\\n",
       "0  ул. 50-летия Магнитки, 29 корпус 1   \n",
       "1           ул. 50-летия Магнитки, 31   \n",
       "2           ул. 50-летия Магнитки, 32   \n",
       "3  ул. 50-летия Магнитки, 33 корпус 1   \n",
       "4           ул. 50-летия Магнитки, 33   \n",
       "\n",
       "                                       Ссылка  \n",
       "0  /chelyabinskaya-oblast/magnitogorsk/160355  \n",
       "1  /chelyabinskaya-oblast/magnitogorsk/396513  \n",
       "2  /chelyabinskaya-oblast/magnitogorsk/633123  \n",
       "3  /chelyabinskaya-oblast/magnitogorsk/396514  \n",
       "4  /chelyabinskaya-oblast/magnitogorsk/536059  "
      ]
     },
     "execution_count": 52,
     "metadata": {},
     "output_type": "execute_result"
    }
   ],
   "source": [
    "houses_df.head()"
   ]
  },
  {
   "cell_type": "code",
   "execution_count": null,
   "id": "91e55eb1-25a3-40a3-a756-131802a6cd8b",
   "metadata": {},
   "outputs": [],
   "source": []
  },
  {
   "cell_type": "code",
   "execution_count": 60,
   "id": "088b2983-f864-4a0d-a60e-23dd622b51eb",
   "metadata": {},
   "outputs": [],
   "source": [
    "from dadata import Dadata"
   ]
  },
  {
   "cell_type": "code",
   "execution_count": 65,
   "id": "0bd2f6fc-d161-4a26-b80a-f48bbd00a653",
   "metadata": {},
   "outputs": [],
   "source": [
    "login = 'dima@mind-set.ru'\n",
    "password = 'Magnitka-74'\n",
    "token = '0db2698b3d497747a22ef9f76b0b48cf8d1b5bfb'\n",
    "secret = '5e67774eec5a8b6ca1839a27996dc370872ba9f7'"
   ]
  },
  {
   "cell_type": "code",
   "execution_count": 66,
   "id": "43aaa01e-b3fa-410e-8838-65f6f67ef653",
   "metadata": {},
   "outputs": [],
   "source": [
    "dadata = Dadata(token, secret)"
   ]
  },
  {
   "cell_type": "code",
   "execution_count": 70,
   "id": "9858d219-ad1c-402e-959b-1031bdbb083c",
   "metadata": {},
   "outputs": [
    {
     "data": {
      "text/plain": [
       "'ул. 50-летия Магнитки, 29 корпус 1'"
      ]
     },
     "execution_count": 70,
     "metadata": {},
     "output_type": "execute_result"
    }
   ],
   "source": [
    "houses_df['Адрес'][0]"
   ]
  },
  {
   "cell_type": "code",
   "execution_count": 72,
   "id": "7a3896d3-cea7-40d5-a3e4-0980ef1fe73d",
   "metadata": {
    "scrolled": true
   },
   "outputs": [
    {
     "data": {
      "text/plain": [
       "{'source': 'Магнитогорск, ул. 50-летия Магнитки, 29 корпус 1',\n",
       " 'result': 'Челябинская обл, г Магнитогорск, ул 50-летия Магнитки, д 29 к 1',\n",
       " 'postal_code': '455008',\n",
       " 'country': 'Россия',\n",
       " 'country_iso_code': 'RU',\n",
       " 'federal_district': 'Уральский',\n",
       " 'region_fias_id': '27eb7c10-a234-44da-a59c-8b1f864966de',\n",
       " 'region_kladr_id': '7400000000000',\n",
       " 'region_iso_code': 'RU-CHE',\n",
       " 'region_with_type': 'Челябинская обл',\n",
       " 'region_type': 'обл',\n",
       " 'region_type_full': 'область',\n",
       " 'region': 'Челябинская',\n",
       " 'area_fias_id': None,\n",
       " 'area_kladr_id': None,\n",
       " 'area_with_type': None,\n",
       " 'area_type': None,\n",
       " 'area_type_full': None,\n",
       " 'area': None,\n",
       " 'city_fias_id': '988157bf-d6d5-4c2a-80ec-4ad531eea056',\n",
       " 'city_kladr_id': '7400000900000',\n",
       " 'city_with_type': 'г Магнитогорск',\n",
       " 'city_type': 'г',\n",
       " 'city_type_full': 'город',\n",
       " 'city': 'Магнитогорск',\n",
       " 'city_area': None,\n",
       " 'city_district_fias_id': None,\n",
       " 'city_district_kladr_id': None,\n",
       " 'city_district_with_type': 'р-н Орджоникидзевский',\n",
       " 'city_district_type': 'р-н',\n",
       " 'city_district_type_full': 'район',\n",
       " 'city_district': 'Орджоникидзевский',\n",
       " 'settlement_fias_id': None,\n",
       " 'settlement_kladr_id': None,\n",
       " 'settlement_with_type': None,\n",
       " 'settlement_type': None,\n",
       " 'settlement_type_full': None,\n",
       " 'settlement': None,\n",
       " 'street_fias_id': 'd40059c9-b13d-4036-afc8-218e4b8ba4bf',\n",
       " 'street_kladr_id': '74000009000000300',\n",
       " 'street_with_type': 'ул 50-летия Магнитки',\n",
       " 'street_type': 'ул',\n",
       " 'street_type_full': 'улица',\n",
       " 'street': '50-летия Магнитки',\n",
       " 'stead_fias_id': None,\n",
       " 'stead_kladr_id': None,\n",
       " 'stead_cadnum': None,\n",
       " 'stead_type': None,\n",
       " 'stead_type_full': None,\n",
       " 'stead': None,\n",
       " 'house_fias_id': '35ccd00c-b104-40e7-9e51-bb3e9bd70d58',\n",
       " 'house_kladr_id': '7400000900000030008',\n",
       " 'house_cadnum': '74:33:0311001:284',\n",
       " 'house_type': 'д',\n",
       " 'house_type_full': 'дом',\n",
       " 'house': '29',\n",
       " 'block_type': 'к',\n",
       " 'block_type_full': 'корпус',\n",
       " 'block': '1',\n",
       " 'entrance': None,\n",
       " 'floor': None,\n",
       " 'flat_fias_id': None,\n",
       " 'flat_cadnum': None,\n",
       " 'flat_type': None,\n",
       " 'flat_type_full': None,\n",
       " 'flat': None,\n",
       " 'flat_area': None,\n",
       " 'square_meter_price': None,\n",
       " 'flat_price': None,\n",
       " 'postal_box': None,\n",
       " 'fias_id': '35ccd00c-b104-40e7-9e51-bb3e9bd70d58',\n",
       " 'fias_code': '74000009000000000030008',\n",
       " 'fias_level': '8',\n",
       " 'fias_actuality_state': '0',\n",
       " 'kladr_id': '7400000900000030008',\n",
       " 'capital_marker': '0',\n",
       " 'okato': '75438369000',\n",
       " 'oktmo': '75738000001',\n",
       " 'tax_office': '7455',\n",
       " 'tax_office_legal': '7455',\n",
       " 'timezone': 'UTC+5',\n",
       " 'geo_lat': '53.3577015',\n",
       " 'geo_lon': '58.9754144',\n",
       " 'beltway_hit': None,\n",
       " 'beltway_distance': None,\n",
       " 'qc_geo': 1,\n",
       " 'qc_complete': 5,\n",
       " 'qc_house': 2,\n",
       " 'qc': 0,\n",
       " 'unparsed_parts': None,\n",
       " 'metro': None}"
      ]
     },
     "execution_count": 72,
     "metadata": {},
     "output_type": "execute_result"
    }
   ],
   "source": [
    "dadata.clean('address', 'Магнитогорск, ' + houses_df['Адрес'][0])"
   ]
  },
  {
   "cell_type": "code",
   "execution_count": 88,
   "id": "71d62182-2c0d-4752-b6ca-db675737bdc2",
   "metadata": {},
   "outputs": [],
   "source": [
    "dadata_values = [\n",
    "    'result',\n",
    "    'postal_code',\n",
    "    'city_district',\n",
    "    'street_type_full',\n",
    "    'street',\n",
    "    'house_fias_id',\n",
    "    'house_kladr_id',\n",
    "    'house_cadnum',\n",
    "    'house_type_full',\n",
    "    'house',\n",
    "    'block_type_full',\n",
    "    'block',\n",
    "    'geo_lat',\n",
    "    'geo_lon',\n",
    "]"
   ]
  },
  {
   "cell_type": "code",
   "execution_count": 89,
   "id": "10a05ad7-bac2-4759-aa80-4320d6c7942a",
   "metadata": {},
   "outputs": [],
   "source": [
    "houses_df[dadata_values] = None"
   ]
  },
  {
   "cell_type": "code",
   "execution_count": 90,
   "id": "3387303f-630d-48d5-a0aa-b67400243dba",
   "metadata": {},
   "outputs": [],
   "source": [
    "dadata_responses = []\n",
    "dadata_errors = []"
   ]
  },
  {
   "cell_type": "code",
   "execution_count": 91,
   "id": "e5721e92-1c2d-48a4-a873-86b8e3227a7d",
   "metadata": {},
   "outputs": [
    {
     "name": "stderr",
     "output_type": "stream",
     "text": [
      "2483it [03:19, 12.45it/s]\n"
     ]
    }
   ],
   "source": [
    "for ind, row in tqdm(houses_df.iterrows()):\n",
    "    address = row['Адрес']\n",
    "    try:\n",
    "        dadata_response = dadata.clean('address', 'Магнитогорск, ' + address)\n",
    "        dadata_responses.append(dadata_response)\n",
    "        for val in dadata_values:\n",
    "            houses_df.loc[ind, val] = dadata_response[val]\n",
    "    except:\n",
    "        dadata_errors.append(address)"
   ]
  },
  {
   "cell_type": "code",
   "execution_count": 92,
   "id": "67d641d0-3dbc-4a55-9dfd-e56e0efc35f9",
   "metadata": {},
   "outputs": [
    {
     "data": {
      "text/plain": [
       "0"
      ]
     },
     "execution_count": 92,
     "metadata": {},
     "output_type": "execute_result"
    }
   ],
   "source": [
    "len(dadata_errors)"
   ]
  },
  {
   "cell_type": "code",
   "execution_count": 93,
   "id": "6c705098-dd48-46f5-bbec-77dc2b26089e",
   "metadata": {},
   "outputs": [
    {
     "data": {
      "text/plain": [
       "2483"
      ]
     },
     "execution_count": 93,
     "metadata": {},
     "output_type": "execute_result"
    }
   ],
   "source": [
    "len(dadata_responses)"
   ]
  },
  {
   "cell_type": "code",
   "execution_count": 95,
   "id": "b4e999f3-f0c9-45ad-8e9c-bf12250dee37",
   "metadata": {},
   "outputs": [],
   "source": [
    "with open('magnitogorsk_houses_dadata_responses.pickle', 'wb') as f:\n",
    "    pickle.dump(dadata_responses, f, pickle.HIGHEST_PROTOCOL)"
   ]
  },
  {
   "cell_type": "code",
   "execution_count": 96,
   "id": "bf8c0781-97e2-43a6-9086-3cc3c05a4f73",
   "metadata": {},
   "outputs": [
    {
     "data": {
      "text/html": [
       "<div>\n",
       "<style scoped>\n",
       "    .dataframe tbody tr th:only-of-type {\n",
       "        vertical-align: middle;\n",
       "    }\n",
       "\n",
       "    .dataframe tbody tr th {\n",
       "        vertical-align: top;\n",
       "    }\n",
       "\n",
       "    .dataframe thead th {\n",
       "        text-align: right;\n",
       "    }\n",
       "</style>\n",
       "<table border=\"1\" class=\"dataframe\">\n",
       "  <thead>\n",
       "    <tr style=\"text-align: right;\">\n",
       "      <th></th>\n",
       "      <th>№</th>\n",
       "      <th>Город</th>\n",
       "      <th>Площадь м2</th>\n",
       "      <th>Год</th>\n",
       "      <th>Этажей</th>\n",
       "      <th>Адрес</th>\n",
       "      <th>Ссылка</th>\n",
       "      <th>result</th>\n",
       "      <th>postal_code</th>\n",
       "      <th>city_district</th>\n",
       "      <th>street_type_full</th>\n",
       "      <th>street</th>\n",
       "      <th>house_fias_id</th>\n",
       "      <th>house_kladr_id</th>\n",
       "      <th>house_cadnum</th>\n",
       "      <th>house_type_full</th>\n",
       "      <th>house</th>\n",
       "      <th>block_type_full</th>\n",
       "      <th>block</th>\n",
       "      <th>geo_lat</th>\n",
       "      <th>geo_lon</th>\n",
       "    </tr>\n",
       "  </thead>\n",
       "  <tbody>\n",
       "    <tr>\n",
       "      <th>0</th>\n",
       "      <td>1</td>\n",
       "      <td>Магнитогорск</td>\n",
       "      <td>1595.2</td>\n",
       "      <td>2006</td>\n",
       "      <td>10</td>\n",
       "      <td>ул. 50-летия Магнитки, 29 корпус 1</td>\n",
       "      <td>/chelyabinskaya-oblast/magnitogorsk/160355</td>\n",
       "      <td>Челябинская обл, г Магнитогорск, ул 50-летия М...</td>\n",
       "      <td>455008</td>\n",
       "      <td>Орджоникидзевский</td>\n",
       "      <td>улица</td>\n",
       "      <td>50-летия Магнитки</td>\n",
       "      <td>35ccd00c-b104-40e7-9e51-bb3e9bd70d58</td>\n",
       "      <td>7400000900000030008</td>\n",
       "      <td>74:33:0311001:284</td>\n",
       "      <td>дом</td>\n",
       "      <td>29</td>\n",
       "      <td>корпус</td>\n",
       "      <td>1</td>\n",
       "      <td>53.3577015</td>\n",
       "      <td>58.9754144</td>\n",
       "    </tr>\n",
       "    <tr>\n",
       "      <th>1</th>\n",
       "      <td>2</td>\n",
       "      <td>Магнитогорск</td>\n",
       "      <td>15743.6</td>\n",
       "      <td>2006</td>\n",
       "      <td>9</td>\n",
       "      <td>ул. 50-летия Магнитки, 31</td>\n",
       "      <td>/chelyabinskaya-oblast/magnitogorsk/396513</td>\n",
       "      <td>Челябинская обл, г Магнитогорск, ул 50-летия М...</td>\n",
       "      <td>455008</td>\n",
       "      <td>Орджоникидзевский</td>\n",
       "      <td>улица</td>\n",
       "      <td>50-летия Магнитки</td>\n",
       "      <td>f69f4cc6-5e8b-4a4d-8ade-9aa01714f0f6</td>\n",
       "      <td>7400000900000030006</td>\n",
       "      <td>74:33:0311002:61</td>\n",
       "      <td>дом</td>\n",
       "      <td>31</td>\n",
       "      <td>None</td>\n",
       "      <td>None</td>\n",
       "      <td>53.358437</td>\n",
       "      <td>58.9739283</td>\n",
       "    </tr>\n",
       "    <tr>\n",
       "      <th>2</th>\n",
       "      <td>3</td>\n",
       "      <td>Магнитогорск</td>\n",
       "      <td>10393.1</td>\n",
       "      <td>1988</td>\n",
       "      <td>9</td>\n",
       "      <td>ул. 50-летия Магнитки, 32</td>\n",
       "      <td>/chelyabinskaya-oblast/magnitogorsk/633123</td>\n",
       "      <td>Челябинская обл, г Магнитогорск, ул 50-летия М...</td>\n",
       "      <td>455051</td>\n",
       "      <td>Орджоникидзевский</td>\n",
       "      <td>улица</td>\n",
       "      <td>50-летия Магнитки</td>\n",
       "      <td>b452e68f-99d9-43a4-88ef-7721c82e43f7</td>\n",
       "      <td>7400000900000030034</td>\n",
       "      <td>None</td>\n",
       "      <td>дом</td>\n",
       "      <td>32</td>\n",
       "      <td>None</td>\n",
       "      <td>None</td>\n",
       "      <td>53.3596953</td>\n",
       "      <td>58.9761334</td>\n",
       "    </tr>\n",
       "    <tr>\n",
       "      <th>3</th>\n",
       "      <td>4</td>\n",
       "      <td>Магнитогорск</td>\n",
       "      <td>4587</td>\n",
       "      <td>2006</td>\n",
       "      <td>9</td>\n",
       "      <td>ул. 50-летия Магнитки, 33 корпус 1</td>\n",
       "      <td>/chelyabinskaya-oblast/magnitogorsk/396514</td>\n",
       "      <td>Челябинская обл, г Магнитогорск, ул 50-летия М...</td>\n",
       "      <td>455008</td>\n",
       "      <td>Орджоникидзевский</td>\n",
       "      <td>улица</td>\n",
       "      <td>50-летия Магнитки</td>\n",
       "      <td>8bb93b23-7f10-43a3-b2bf-389ac039b580</td>\n",
       "      <td>7400000900000030010</td>\n",
       "      <td>None</td>\n",
       "      <td>дом</td>\n",
       "      <td>33</td>\n",
       "      <td>корпус</td>\n",
       "      <td>1</td>\n",
       "      <td>53.3578484</td>\n",
       "      <td>58.972427</td>\n",
       "    </tr>\n",
       "    <tr>\n",
       "      <th>4</th>\n",
       "      <td>5</td>\n",
       "      <td>Магнитогорск</td>\n",
       "      <td>9187.62</td>\n",
       "      <td>2003</td>\n",
       "      <td>9</td>\n",
       "      <td>ул. 50-летия Магнитки, 33</td>\n",
       "      <td>/chelyabinskaya-oblast/magnitogorsk/536059</td>\n",
       "      <td>Челябинская обл, г Магнитогорск, ул 50-летия М...</td>\n",
       "      <td>455008</td>\n",
       "      <td>Орджоникидзевский</td>\n",
       "      <td>улица</td>\n",
       "      <td>50-летия Магнитки</td>\n",
       "      <td>72af7653-8149-4e91-a640-f547aabd7503</td>\n",
       "      <td>7400000900000030009</td>\n",
       "      <td>None</td>\n",
       "      <td>дом</td>\n",
       "      <td>33</td>\n",
       "      <td>None</td>\n",
       "      <td>None</td>\n",
       "      <td>53.3579553</td>\n",
       "      <td>58.9724857</td>\n",
       "    </tr>\n",
       "  </tbody>\n",
       "</table>\n",
       "</div>"
      ],
      "text/plain": [
       "   №         Город Площадь м2   Год Этажей  \\\n",
       "0  1  Магнитогорск     1595.2  2006     10   \n",
       "1  2  Магнитогорск    15743.6  2006      9   \n",
       "2  3  Магнитогорск    10393.1  1988      9   \n",
       "3  4  Магнитогорск       4587  2006      9   \n",
       "4  5  Магнитогорск    9187.62  2003      9   \n",
       "\n",
       "                                Адрес  \\\n",
       "0  ул. 50-летия Магнитки, 29 корпус 1   \n",
       "1           ул. 50-летия Магнитки, 31   \n",
       "2           ул. 50-летия Магнитки, 32   \n",
       "3  ул. 50-летия Магнитки, 33 корпус 1   \n",
       "4           ул. 50-летия Магнитки, 33   \n",
       "\n",
       "                                       Ссылка  \\\n",
       "0  /chelyabinskaya-oblast/magnitogorsk/160355   \n",
       "1  /chelyabinskaya-oblast/magnitogorsk/396513   \n",
       "2  /chelyabinskaya-oblast/magnitogorsk/633123   \n",
       "3  /chelyabinskaya-oblast/magnitogorsk/396514   \n",
       "4  /chelyabinskaya-oblast/magnitogorsk/536059   \n",
       "\n",
       "                                              result postal_code  \\\n",
       "0  Челябинская обл, г Магнитогорск, ул 50-летия М...      455008   \n",
       "1  Челябинская обл, г Магнитогорск, ул 50-летия М...      455008   \n",
       "2  Челябинская обл, г Магнитогорск, ул 50-летия М...      455051   \n",
       "3  Челябинская обл, г Магнитогорск, ул 50-летия М...      455008   \n",
       "4  Челябинская обл, г Магнитогорск, ул 50-летия М...      455008   \n",
       "\n",
       "       city_district street_type_full             street  \\\n",
       "0  Орджоникидзевский            улица  50-летия Магнитки   \n",
       "1  Орджоникидзевский            улица  50-летия Магнитки   \n",
       "2  Орджоникидзевский            улица  50-летия Магнитки   \n",
       "3  Орджоникидзевский            улица  50-летия Магнитки   \n",
       "4  Орджоникидзевский            улица  50-летия Магнитки   \n",
       "\n",
       "                          house_fias_id       house_kladr_id  \\\n",
       "0  35ccd00c-b104-40e7-9e51-bb3e9bd70d58  7400000900000030008   \n",
       "1  f69f4cc6-5e8b-4a4d-8ade-9aa01714f0f6  7400000900000030006   \n",
       "2  b452e68f-99d9-43a4-88ef-7721c82e43f7  7400000900000030034   \n",
       "3  8bb93b23-7f10-43a3-b2bf-389ac039b580  7400000900000030010   \n",
       "4  72af7653-8149-4e91-a640-f547aabd7503  7400000900000030009   \n",
       "\n",
       "        house_cadnum house_type_full house block_type_full block     geo_lat  \\\n",
       "0  74:33:0311001:284             дом    29          корпус     1  53.3577015   \n",
       "1   74:33:0311002:61             дом    31            None  None   53.358437   \n",
       "2               None             дом    32            None  None  53.3596953   \n",
       "3               None             дом    33          корпус     1  53.3578484   \n",
       "4               None             дом    33            None  None  53.3579553   \n",
       "\n",
       "      geo_lon  \n",
       "0  58.9754144  \n",
       "1  58.9739283  \n",
       "2  58.9761334  \n",
       "3   58.972427  \n",
       "4  58.9724857  "
      ]
     },
     "execution_count": 96,
     "metadata": {},
     "output_type": "execute_result"
    }
   ],
   "source": [
    "houses_df.head()"
   ]
  },
  {
   "cell_type": "code",
   "execution_count": 97,
   "id": "31bd06a2-2374-4249-8199-4f9430eab06e",
   "metadata": {},
   "outputs": [
    {
     "name": "stdout",
     "output_type": "stream",
     "text": [
      "<class 'pandas.core.frame.DataFrame'>\n",
      "RangeIndex: 2483 entries, 0 to 2482\n",
      "Data columns (total 21 columns):\n",
      " #   Column            Non-Null Count  Dtype \n",
      "---  ------            --------------  ----- \n",
      " 0   №                 2483 non-null   object\n",
      " 1   Город             2483 non-null   object\n",
      " 2   Площадь м2        2483 non-null   object\n",
      " 3   Год               2483 non-null   object\n",
      " 4   Этажей            2483 non-null   object\n",
      " 5   Адрес             2483 non-null   object\n",
      " 6   Ссылка            2483 non-null   object\n",
      " 7   result            2483 non-null   object\n",
      " 8   postal_code       2483 non-null   object\n",
      " 9   city_district     2483 non-null   object\n",
      " 10  street_type_full  2483 non-null   object\n",
      " 11  street            2483 non-null   object\n",
      " 12  house_fias_id     2483 non-null   object\n",
      " 13  house_kladr_id    2483 non-null   object\n",
      " 14  house_cadnum      1310 non-null   object\n",
      " 15  house_type_full   2483 non-null   object\n",
      " 16  house             2483 non-null   object\n",
      " 17  block_type_full   579 non-null    object\n",
      " 18  block             579 non-null    object\n",
      " 19  geo_lat           2483 non-null   object\n",
      " 20  geo_lon           2483 non-null   object\n",
      "dtypes: object(21)\n",
      "memory usage: 407.5+ KB\n"
     ]
    }
   ],
   "source": [
    "houses_df.info()"
   ]
  },
  {
   "cell_type": "code",
   "execution_count": 98,
   "id": "871fdbb7-7197-466a-bd15-081fe321cfe0",
   "metadata": {},
   "outputs": [],
   "source": [
    "houses_df.to_csv('magnitogorsk_houses.csv', sep=';', index=False)"
   ]
  },
  {
   "cell_type": "code",
   "execution_count": 99,
   "id": "00159a17-e714-4f6c-a3ee-b0e2ab4129f1",
   "metadata": {},
   "outputs": [],
   "source": [
    "houses_df.to_parquet('magnitogorsk_houses.parquet.gzip', compression='gzip', index=False)"
   ]
  },
  {
   "cell_type": "code",
   "execution_count": null,
   "id": "68ff161d-aaa5-42cb-af02-aa2c22349bdd",
   "metadata": {},
   "outputs": [],
   "source": []
  },
  {
   "cell_type": "code",
   "execution_count": 105,
   "id": "9ada4fcf-782a-477c-840d-d552bdde0561",
   "metadata": {},
   "outputs": [
    {
     "data": {
      "text/plain": [
       "'/chelyabinskaya-oblast/magnitogorsk/160355'"
      ]
     },
     "execution_count": 105,
     "metadata": {},
     "output_type": "execute_result"
    }
   ],
   "source": [
    "houses_df['Ссылка'][0]"
   ]
  },
  {
   "cell_type": "code",
   "execution_count": 108,
   "id": "604b5601-fd33-4617-b359-1407bc20d533",
   "metadata": {},
   "outputs": [
    {
     "data": {
      "text/plain": [
       "'160355'"
      ]
     },
     "execution_count": 108,
     "metadata": {},
     "output_type": "execute_result"
    }
   ],
   "source": [
    "houses_df['Ссылка'][0].split('/')[-1]"
   ]
  },
  {
   "cell_type": "code",
   "execution_count": 100,
   "id": "fd3cfd48-1a97-42d4-937c-870d501c834d",
   "metadata": {},
   "outputs": [],
   "source": [
    "response = requests.get('https://dom.mingkh.ru/' + houses_df['Ссылка'][0])"
   ]
  },
  {
   "cell_type": "code",
   "execution_count": 101,
   "id": "b75131d0-38c6-49b8-bff2-4eb48585cae7",
   "metadata": {
    "scrolled": true
   },
   "outputs": [
    {
     "data": {
      "text/plain": [
       "'<!DOCTYPE html> <html lang=\"ru\"> <head> <meta charset=\"utf-8\"> <title>Дом по адресу ул. 50-летия Магнитки, 29 корпус 1, Магнитогорск</title> <meta name=\"description\" content=\"Информация о доме г. Магнитогорск, ул. 50-летия Магнитки, 29 корпус 1 — год постройки, серия и тип проекта, количество этажей и подъездов, управляющая компания\"> <meta name=\"viewport\" content=\"width=device-width, initial-scale=1.0\"> <meta name=\"yandex-verification\" content=\"e56b213a88efb078\"/> <meta name=\"google-site-verification\" content=\"WE2oHcbtdeZYnEeOqLIl4yw7tt0hqHT7WWJvrNC-sG0\"/> <link rel=\"preload\" href=\"https://fonts.googleapis.com/css?family=Open+Sans&display=swap\" as=\"style\"> <link rel=\"preload\" href=\"https://maxcdn.bootstrapcdn.com/font-awesome/4.5.0/css/font-awesome.min.css\" as=\"style\"> <link rel=\"preconnect\" href=\"https://www.google-analytics.com/\"> <link rel=\"stylesheet\" href=\"/assets/css/bootstrap.min.css\"> <link rel=\"stylesheet\" href=\"https://maxcdn.bootstrapcdn.com/font-awesome/4.5.0/css/font-awesome.min.css\"> <link rel=\"stylesheet\" href=\"https://fonts.googleapis.com/css?family=Open+Sans&display=swap\"> <link rel=\"stylesheet\" href=\"/assets/css/magnific-popup.css\"> <link rel=\"stylesheet\" href=\"/assets/css/owl.carousel.css\"> <link rel=\"stylesheet\" href=\"/assets/css/styles/style.min.css\"> <link rel=\"stylesheet\" href=\"/assets/css/styles/skin-lblue.min.css\"> <link rel=\"stylesheet\" href=\"/assets/css/custom.css?1697824395\"> <link rel=\"stylesheet\" href=\"/assets/css/customads.css?1697824395\"> <link rel=\"stylesheet\" href=\"/assets/css/selectize.css\"/> <link rel=\"apple-touch-icon\" sizes=\"180x180\" href=\"/assets/favicon/apple-touch-icon.png\"> <link rel=\"icon\" type=\"image/png\" sizes=\"32x32\" href=\"/assets/favicon/favicon-32x32.png\"> <link rel=\"icon\" type=\"image/png\" sizes=\"16x16\" href=\"/assets/favicon/favicon-16x16.png\"> <link rel=\"manifest\" href=\"/assets/favicon/site.webmanifest\"> <link rel=\"mask-icon\" href=\"/assets/favicon/safari-pinned-tab.svg\" color=\"#5bbad5\"> <meta name=\"msapplication-TileColor\" content=\"#da532c\"> <meta name=\"theme-color\" content=\"#ffffff\"> <link rel=\"canonical\" href=\"https://dom.mingkh.ru/chelyabinskaya-oblast/magnitogorsk/160355\"/> <!-- Yandex.Metrika counter --> <script type=\"text/javascript\"> (function (m, e, t, r, i, k, a) { m[i] = m[i] || function () { (m[i].a = m[i].a || []).push(arguments) }; m[i].l = 1 * new Date(); k = e.createElement(t), a = e.getElementsByTagName(t)[0], k.async = 1, k.src = r, a.parentNode.insertBefore(k, a) }) (window, document, \"script\", \"https://mc.yandex.ru/metrika/tag.js\", \"ym\"); ym(37773300, \"init\", { clickmap: true, trackLinks: true, accurateTrackBounce: true }); </script> <!-- /Yandex.Metrika counter --> <!-- Yandex.RTB --> <script>window.yaContextCb = window.yaContextCb || []</script> <script src=\"https://yandex.ru/ads/system/context.js\" async></script> <!-- Global site tag (gtag.js) - Google Analytics --> <script async src=\"https://www.googletagmanager.com/gtag/js?id=G-PEFEWHRN38\"></script> <script> window.dataLayer = window.dataLayer || []; function gtag() { dataLayer.push(arguments); } gtag(\\'js\\', new Date()); gtag(\\'config\\', \\'G-PEFEWHRN38\\'); </script> <!-- Yandex.RTB R-A-1440432-6 --> <script>window.yaContextCb.push(() => { Ya.Context.AdvManager.render({ type: \\'floorAd\\', blockId: \\'R-A-1440432-6\\' }) })</script> </head> <body> <div class=\"outer\"> <div class=\"header-2\"> <div class=\"container\"> <div class=\"row\"> <div class=\"col-md-3\"> <div class=\"logo\"> <a href=\"https://dom.mingkh.ru/\"><i class=\"fa fa-laptop\"></i> дом.минжкх</a> </div> </div> <div class=\"col-md-7\"> <div class=\"navy\"> <ul> <li><a href=\"#\">Жилой фонд</a> <ul> <li><a href=\"/region/\">По регионам</a> <li><a href=\"/city/\">По городам</a> <li><a href=\"/seriya/\">По сериям</a> <li><a href=\"/avarijnye/\">Аварийные дома</a> </ul> </li> <li><a href=\"https://mingkh.ru/\">Управляющие компании</a></li> <li><a href=\"/about\">О проекте</a></li> <li><a href=\"/feedback\">Обратная связь</a></li> </ul> </div> </div> <div class=\"col-md-2\"> <div class=\"head-search pull-right\"> <a href=\"/search?address=&searchtype=house\"><i class=\"fa fa-search square-2 rounded-1 bg-color white\"></i></a> </div> <div class=\"clearfix\"></div> </div> </div> </div> </div> <div class=\"main-block\"> <div class=\"page-heading-two\"> <div class=\"container\"> <div class=\"breads\"> <ul class=\"breadcrumb\" itemscope itemtype=\"https://schema.org/BreadcrumbList\"><li itemprop=\"itemListElement\" itemscope itemtype=\"https://schema.org/ListItem\"><a itemprop=\"item\" href=\"/\"><span itemprop=\"name\">Росcия</span></a><meta itemprop=\"position\" content=\"1\" /></li><li itemprop=\"itemListElement\" itemscope itemtype=\"https://schema.org/ListItem\"><a itemprop=\"item\" href=\"/chelyabinskaya-oblast/\"><span itemprop=\"name\">Челябинская область</span></a><meta itemprop=\"position\" content=\"2\" /></li><li itemprop=\"itemListElement\" itemscope itemtype=\"https://schema.org/ListItem\"><a itemprop=\"item\" href=\"/chelyabinskaya-oblast/magnitogorsk/\"><span itemprop=\"name\">Магнитогорск</span></a><meta itemprop=\"position\" content=\"3\" /></li><li itemprop=\"itemListElement\" itemscope itemtype=\"https://schema.org/ListItem\"><a itemprop=\"item\" href=\"/chelyabinskaya-oblast/magnitogorsk/50-letiya-magnitki-ulica\"><span itemprop=\"name\">улица 50-летия Магнитки</span></a><meta itemprop=\"position\" content=\"4\" /></li><li itemprop=\"itemListElement\" itemscope itemtype=\"https://schema.org/ListItem\"><a itemprop=\"item\" href=\"/chelyabinskaya-oblast/magnitogorsk/160355\"><span itemprop=\"name\">29</span></a><meta itemprop=\"position\" content=\"5\" /></li></ul> </div> <div class=\"clearfix\"></div> </div> </div> <div class=\"container\"> <div class=\"row\"> <div class=\"col-12 text-center\"> <div class=\"ad-unit\"> <!-- Yandex.RTB R-A-1440432-1 --> <div id=\"yandex_rtb_R-A-1440432-1\"></div> <script>window.yaContextCb.push(()=>{ Ya.Context.AdvManager.render({ renderTo: \\'yandex_rtb_R-A-1440432-1\\', blockId: \\'R-A-1440432-1\\' }) })</script> </div> </div> </div> <!--div class=\"ad-container margin-bottom\"> </div--> <div class=\"block-heading-two\"> <h1>Анкета дома г. Магнитогорск, ул. 50-летия Магнитки, 29 корпус 1</h1> </div> <p class=\"seo-text margin-bottom-20\">Жилой дом в Магнитогорске, Челябинской области, по адресу ул. 50-летия Магнитки, 29 корпус 1 построен в 2006 году, 10-этажный, имеет общую площадь всех помещений 1595.2 квадратных метров. Дом находится под управлением УК «Домовой» с 02.04.2015.</p> <div class=\"row margin-top-40\"> <div class=\"col-md-7\"> <dl class=\"dl-horizontal house\"> <dt>Адрес</dt> <dd>ул. 50-летия Магнитки, 29 корпус 1, Магнитогорск, Челябинская область&nbsp;&nbsp;&nbsp;<a href=\"#housemap\" class=\"underlined-link\">На карте</a></dd> <dt>Год постройки</dt> <dd>2006</dd> <dt>Количество этажей</dt> <dd> 10 </dd> <dt>Тип дома</dt> <dd>Многоквартирный дом</dd> <dt>Жилых помещений</dt> <dd>228</dd> <dt>Капитальный ремонт</dt> <dd><a id=\"house-overhaul-link\" href=\"#house-overhaul\">см. сроки</a></dd> <dt>Серия, тип постройки</dt> <dd>97 серия, панельные стены, железобетонная плоская кровля.</dd> <dt>Тип перекрытий</dt> <dd>Перекрытия из сборных и монолитных сплошных плит</dd> <dt>Материал несущих стен</dt> <dd>Стены из слоистых железобетонных панелей</dd> <dt>Тип мусоропровода</dt> <dd>На лестничной клетке</dd> <dt>Дом признан аварийным</dt> <dd>Нет</dd> <dt>Выписка из ЕГРН<dt> <dd><a href=\"/egrn_report/\" rel=\"nofollow\" class=\"underlined-link red\" target=\"_blank\">Как получить выписку?</a></dd> <dt class=\"hidden-xs\">&nbsp;</dt> <dd class=\"hidden-xs\">&nbsp;</dd> <dt>Кадастровый номер</dt> <dd>74:33:0311001:284</dd> <dt>Код ОКТМО</dt> <dd>75738000001</dd> <dt>Управляющая компания</dt> <dd><span class=\"clickable\" data-url=\"https://mingkh.ru/chelyabinskaya-oblast/magnitogorsk/1067444029894/\">УК «Домовой»</span> с 02.04.2015 </dd> <dt class=\"margin-top\">&nbsp;</dt> <dd class=\"margin-top\"><i class=\"fa fa-comments\" aria-hidden=\"true\"></i>&nbsp;<a id=\"house-reviews-link\" href=\"#ureviews\" class=\"underlined-link\">Оставить отзыв</a> о доме или УК </dd> </dl> </div> <div class=\"col-md-5\"> <div class=\"ad-unit\"> <!-- Yandex.RTB R-A-1440432-4 --> <div id=\"yandex_rtb_R-A-1440432-4\"></div> <script>window.yaContextCb.push(()=>{ Ya.Context.AdvManager.render({ renderTo: \\'yandex_rtb_R-A-1440432-4\\', blockId: \\'R-A-1440432-4\\' }) })</script> </div> </div> </div> <div class=\"row\"> <div class=\"col-md-12\"> <div class=\"ad-unit\"> <!-- Yandex.RTB R-A-1440432-2 --> <div id=\"yandex_rtb_R-A-1440432-2\"></div> <script>window.yaContextCb.push(()=>{ Ya.Context.AdvManager.render({ renderTo: \\'yandex_rtb_R-A-1440432-2\\', blockId: \\'R-A-1440432-2\\' }) })</script> </div> </div> </div> <div class=\"block-heading-two margin-top-20 margin-bottom-20\"> <h2><span><i class=\"fa fa-building-o\" aria-hidden=\"true\"></i>&nbsp;&nbsp;Основные сведения</span> </h2> </div> <div class=\"row\"> <div class=\"col-md-6\"> <div class=\"table-responsive\"> <table class=\"table table-striped\"> <tr> <td class=\"col-md-6 col-xs-5 word-wrap-force\">Год ввода в эксплуатацию <td> <td class=\"col-md-6 col-xs-7 word-wrap-force\">2006</td> </tr> <tr> <td class=\"col-md-6 col-xs-5 word-wrap-force\">Дом признан аварийным <td> <td class=\"col-md-6 col-xs-7 word-wrap-force\">Нет</td> </tr> <tr> <td class=\"col-md-6 col-xs-5 word-wrap-force\">Состояние дома <td> <td class=\"col-md-6 col-xs-7 word-wrap-force\">Исправный</td> </tr> <tr> <td class=\"col-md-6 col-xs-5 word-wrap-force\">Количество квартир <td> <td class=\"col-md-6 col-xs-7 word-wrap-force\">228</td> </tr> <tr> <td class=\"col-md-6 col-xs-5 word-wrap-force\">Количество балконов <td> <td class=\"col-md-6 col-xs-7 word-wrap-force\">228</td> </tr> <tr> <td class=\"col-md-6 col-xs-5 word-wrap-force\">Класс энергетической эффективности <td> <td class=\"col-md-6 col-xs-7 word-wrap-force\">A</td> </tr> <tr> <td class=\"col-md-6 col-xs-5 word-wrap-force\">Количество подъездов <td> <td class=\"col-md-6 col-xs-7 word-wrap-force\">5</td> </tr> <tr> <td class=\"col-md-6 col-xs-5 word-wrap-force\">Количество лифтов <td> <td class=\"col-md-6 col-xs-7 word-wrap-force\">5</td> </tr> <tr> <td class=\"col-md-6 col-xs-5 word-wrap-force\">Наибольшее количество этажей <td> <td class=\"col-md-6 col-xs-7 word-wrap-force\">10</td> </tr> <tr> <td class=\"col-md-6 col-xs-5 word-wrap-force\">Наименьшее количество этажей <td> <td class=\"col-md-6 col-xs-7 word-wrap-force\">10</td> </tr> <tr> <td class=\"col-md-6 col-xs-5 word-wrap-force\">Подземных этажей <td> <td class=\"col-md-6 col-xs-7 word-wrap-force\">1</td> </tr> </table> </div> </div> <div class=\"col-md-6\"> <div class=\"table-responsive\"> <table class=\"table table-striped\"> <tr> <td class=\"col-md-6 col-xs-5 word-wrap-force\">Формирование фонда кап. ремонта <td> <td class=\"col-md-6 col-xs-7 word-wrap-force\">На счете регионального оператора</td> </tr> <tr> <td class=\"col-md-6 col-xs-5 word-wrap-force\">Площадь парковки м<sup>2</sup> <td> <td class=\"col-md-6 col-xs-7 word-wrap-force\">985</td> </tr> <tr> <td class=\"col-md-6 col-xs-5 word-wrap-force\">Наличие в подъездах приспособлений для нужд маломобильных групп населения <td> <td class=\"col-md-6 col-xs-7 word-wrap-force\">Нет</td> </tr> <tr> <td class=\"col-md-6 col-xs-5 word-wrap-force\">Тип дома <td> <td class=\"col-md-6 col-xs-7 word-wrap-force\">Многоквартирный дом</td> </tr> <tr> <td class=\"col-md-6 col-xs-5 word-wrap-force\">Износ здания, % <td> <td class=\"col-md-6 col-xs-7 word-wrap-force\">13</td> </tr> <tr> <td class=\"col-md-6 col-xs-5 word-wrap-force\">Дата, на которую установлен износ здания <td> <td class=\"col-md-6 col-xs-7 word-wrap-force\">01.11.2019</td> </tr> <tr> <td class=\"col-md-6 col-xs-5 word-wrap-force\">Площадь многоквартирного дома, кв.м <td> <td class=\"col-md-6 col-xs-7 word-wrap-force\">1595.2</td> </tr> <tr> <td class=\"col-md-6 col-xs-5 word-wrap-force\">Площадь жилых помещений м<sup>2</sup> <td> <td class=\"col-md-6 col-xs-7 word-wrap-force\">118059</td> </tr> <tr> <td class=\"col-md-6 col-xs-5 word-wrap-force\">Площадь нежилых помещений м<sup>2</sup> <td> <td class=\"col-md-6 col-xs-7 word-wrap-force\">0</td> </tr> <tr> <td class=\"col-md-6 col-xs-5 word-wrap-force\">Площадь помещений общего имущества м<sup>2</sup> <td> <td class=\"col-md-6 col-xs-7 word-wrap-force\">1595.2</td> </tr> <tr> <td class=\"col-md-6 col-xs-5 word-wrap-force\">Площадь зем. участка общего имущества м<sup>2</sup> <td> <td class=\"col-md-6 col-xs-7 word-wrap-force\">1280.7</td> </tr> <tr> <td class=\"col-md-6 col-xs-5 word-wrap-force\">Серия, тип постройки здания <td> <td class=\"col-md-6 col-xs-7 word-wrap-force\">97 серия, панельные стены, железобетонная плоская кровля.</td> </tr> <tr> <td class=\"col-md-6 col-xs-5 word-wrap-force\">Статус объекта культурного наследия <td> <td class=\"col-md-6 col-xs-7 word-wrap-force\">Нет</td> </tr> </table> </div> </div> </div> <div class=\"block-heading-two margin-top-20 margin-bottom-20\"> <h2><span><i class=\"fa fa-building-o\" aria-hidden=\"true\"></i>&nbsp;&nbsp;Инженерные системы</span> </h2> </div> <div class=\"row\"> <div class=\"col-md-6\"> <div class=\"table-responsive\"> <table class=\"table table-striped\"> <tr> <td class=\"col-md-6 col-xs-5 word-wrap-force\">Вентиляция <td> <td class=\"col-md-6 col-xs-7 word-wrap-force\">Вытяжная вентиляция</td> </tr> <tr> <td class=\"col-md-6 col-xs-5 word-wrap-force\">Водоотведение <td> <td class=\"col-md-6 col-xs-7 word-wrap-force\">Центральное</td> </tr> <tr> <td class=\"col-md-6 col-xs-5 word-wrap-force\">Система водостоков <td> <td class=\"col-md-6 col-xs-7 word-wrap-force\">Внутренние водостоки</td> </tr> <tr> <td class=\"col-md-6 col-xs-5 word-wrap-force\">Газоснабжение <td> <td class=\"col-md-6 col-xs-7 word-wrap-force\">Отсутствует</td> </tr> <tr> <td class=\"col-md-6 col-xs-5 word-wrap-force\">Горячее водоснабжение <td> <td class=\"col-md-6 col-xs-7 word-wrap-force\">Тупиковая</td> </tr> </table> </div> </div> <div class=\"col-md-6\"> <div class=\"table-responsive\"> <table class=\"table table-striped\"> <tr> <td class=\"col-md-6 col-xs-5 word-wrap-force\">Система пожаротушения <td> <td class=\"col-md-6 col-xs-7 word-wrap-force\">Отсутствует</td> </tr> <tr> <td class=\"col-md-6 col-xs-5 word-wrap-force\">Теплоснабжение <td> <td class=\"col-md-6 col-xs-7 word-wrap-force\">Центральная</td> </tr> <tr> <td class=\"col-md-6 col-xs-5 word-wrap-force\">Холодное водоснабжение <td> <td class=\"col-md-6 col-xs-7 word-wrap-force\">Тупиковая</td> </tr> <tr> <td class=\"col-md-6 col-xs-5 word-wrap-force\">Электроснабжение <td> <td class=\"col-md-6 col-xs-7 word-wrap-force\">Центральное</td> </tr> <tr> <td class=\"col-md-6 col-xs-5 word-wrap-force\">Количество вводов в дом, ед. <td> <td class=\"col-md-6 col-xs-7 word-wrap-force\">2</td> </tr> </table> </div> </div> </div> <div class=\"block-heading-two margin-top-20 margin-bottom-20\"> <h2><span><i class=\"fa fa-building-o\" aria-hidden=\"true\"></i>&nbsp;&nbsp;Конструктивные элементы</span> </h2> </div> <div class=\"row\"> <div class=\"col-md-6\"> <div class=\"table-responsive\"> <table class=\"table table-striped\"> <tr> <td class=\"col-md-6 col-xs-5 word-wrap-force\">Мусоропровод <td> <td class=\"col-md-6 col-xs-7 word-wrap-force\">На лестничной клетке</td> </tr> <tr> <td class=\"col-md-6 col-xs-5 word-wrap-force\">Количество мусоропроводов, ед. <td> <td class=\"col-md-6 col-xs-7 word-wrap-force\">5</td> </tr> <tr> <td class=\"col-md-6 col-xs-5 word-wrap-force\">Несущие стены <td> <td class=\"col-md-6 col-xs-7 word-wrap-force\">Стены из слоистых железобетонных панелей</td> </tr> </table> </div> </div> <div class=\"col-md-6\"> <div class=\"table-responsive\"> <table class=\"table table-striped\"> <tr> <td class=\"col-md-6 col-xs-5 word-wrap-force\">Площадь подвала, кв.м <td> <td class=\"col-md-6 col-xs-7 word-wrap-force\">1750.60</td> </tr> <tr> <td class=\"col-md-6 col-xs-5 word-wrap-force\">Фундамент <td> <td class=\"col-md-6 col-xs-7 word-wrap-force\">Свайно-забивной на монолитных железобетонных ростверках</td> </tr> <tr> <td class=\"col-md-6 col-xs-5 word-wrap-force\">Перекрытия <td> <td class=\"col-md-6 col-xs-7 word-wrap-force\">Перекрытия из сборных и монолитных сплошных плит</td> </tr> </table> </div> </div> </div> <div class=\"row\"> <div class=\"col-xs-12\"> <div class=\"ad-unit\"> <!-- Yandex.RTB R-A-1440432-3 --> <div id=\"yandex_rtb_R-A-1440432-3\"></div> <script>window.yaContextCb.push(()=>{ Ya.Context.AdvManager.render({ renderTo: \\'yandex_rtb_R-A-1440432-3\\', blockId: \\'R-A-1440432-3\\' }) })</script> </div> </div> </div> <div class=\"block-heading-two margin-top-20 margin-bottom-20\"> <h2><span><svg xmlns=\"http://www.w3.org/2000/svg\" width=\"16\" height=\"16\" fill=\"currentColor\" class=\"bi bi-bricks\" viewBox=\"0 0 16 16\"> <path d=\"M0 .5A.5.5 0 0 1 .5 0h15a.5.5 0 0 1 .5.5v3a.5.5 0 0 1-.5.5H14v2h1.5a.5.5 0 0 1 .5.5v3a.5.5 0 0 1-.5.5H14v2h1.5a.5.5 0 0 1 .5.5v3a.5.5 0 0 1-.5.5H.5a.5.5 0 0 1-.5-.5v-3a.5.5 0 0 1 .5-.5H2v-2H.5a.5.5 0 0 1-.5-.5v-3A.5.5 0 0 1 .5 6H2V4H.5a.5.5 0 0 1-.5-.5v-3zM3 4v2h4.5V4H3zm5.5 0v2H13V4H8.5zM3 10v2h4.5v-2H3zm5.5 0v2H13v-2H8.5zM1 1v2h3.5V1H1zm4.5 0v2h5V1h-5zm6 0v2H15V1h-3.5zM1 7v2h3.5V7H1zm4.5 0v2h5V7h-5zm6 0v2H15V7h-3.5zM1 13v2h3.5v-2H1zm4.5 0v2h5v-2h-5zm6 0v2H15v-2h-3.5z\"/> </svg>&nbsp;&nbsp; Подробные сведения о конструктиве и инженерных сетях</span></h2> </div> <div class=\"row\"> <div class=\"col-md-6 col-sm-12\"> <table class=\"table margin-bottom-20\"> <tr> <td class=\"col-md-12 bg-gray\" colspan=\"2\"><strong>Cистема горячего водоснабжения</strong></td> </tr> <tr> <td class=\"col-md-6 col-xs-5\">Тип системы горячего водоснабжения</td> <td class=\"col-md-6 col-xs-7\">Тупиковая</td> </tr> <tr> <td class=\"col-md-6 col-xs-5\">Физический износ</td> <td class=\"col-md-6 col-xs-7\">60&nbsp;%</td> </tr> <tr> <td class=\"col-md-6 col-xs-5\">Материал сети</td> <td class=\"col-md-6 col-xs-7\">Полипропилен</td> </tr> <tr> <td class=\"col-md-6 col-xs-5\">Материал теплоизоляции сети</td> <td class=\"col-md-6 col-xs-7\">Минеральная вата с покрытием</td> </tr> <tr> <td class=\"col-md-6 col-xs-5\">Материал стояков</td> <td class=\"col-md-6 col-xs-7\">Полипропилен</td> </tr> </table> <table class=\"table margin-bottom-20\"> <tr> <td class=\"col-md-12 bg-gray\" colspan=\"2\"><strong>Система водоотведения</strong></td> </tr> <tr> <td class=\"col-md-6 col-xs-5\">Физический износ</td> <td class=\"col-md-6 col-xs-7\">24&nbsp;%</td> </tr> <tr> <td class=\"col-md-6 col-xs-5\">Тип системы водоотведения</td> <td class=\"col-md-6 col-xs-7\">Централизованная канализация</td> </tr> <tr> <td class=\"col-md-6 col-xs-5\">Материал сети</td> <td class=\"col-md-6 col-xs-7\">пластик</td> </tr> </table> <table class=\"table margin-bottom-20\"> <tr> <td class=\"col-md-12 bg-gray\" colspan=\"2\"><strong>Система газоснабжения</strong></td> </tr> <tr> <td class=\"col-md-6 col-xs-5\">Тип системы газоснабжения</td> <td class=\"col-md-6 col-xs-7\">нет</td> </tr> </table> <table class=\"table margin-bottom-20\"> <tr> <td class=\"col-md-12 bg-gray\" colspan=\"2\"><strong>Система электроснабжения</strong></td> </tr> <tr> <td class=\"col-md-6 col-xs-5\">Физический износ</td> <td class=\"col-md-6 col-xs-7\">24&nbsp;%</td> </tr> <tr> <td class=\"col-md-6 col-xs-5\">Количество вводов системы электроснабжения</td> <td class=\"col-md-6 col-xs-7\">2&nbsp;единиц</td> </tr> </table> <table class=\"table margin-bottom-20\"> <tr> <td class=\"col-md-12 bg-gray\" colspan=\"2\"><strong>Фундамент</strong></td> </tr> <tr> <td class=\"col-md-6 col-xs-5\">Тип фундамента </td> <td class=\"col-md-6 col-xs-7\">Свайно-забивной на монолитных железобетонных ростверках</td> </tr> <tr> <td class=\"col-md-6 col-xs-5\">Материал фундамента</td> <td class=\"col-md-6 col-xs-7\">Монолитный железобетон</td> </tr> <tr> <td class=\"col-md-6 col-xs-5\">Площадь отмостки</td> <td class=\"col-md-6 col-xs-7\">270&nbsp;кв.м.</td> </tr> <tr> <td class=\"col-md-6 col-xs-5\">Физический износ</td> <td class=\"col-md-6 col-xs-7\">10&nbsp;%</td> </tr> </table> <table class=\"table margin-bottom-20\"> <tr> <td class=\"col-md-12 bg-gray\" colspan=\"2\"><strong>Внутренние стены</strong></td> </tr> <tr> <td class=\"col-md-6 col-xs-5\">Тип внутренних стен</td> <td class=\"col-md-6 col-xs-7\">Стены из слоистых железобетонных панелей</td> </tr> <tr> <td class=\"col-md-6 col-xs-5\">Физический износ</td> <td class=\"col-md-6 col-xs-7\">10&nbsp;%</td> </tr> </table> <table class=\"table margin-bottom-20\"> <tr> <td class=\"col-md-12 bg-gray\" colspan=\"2\"><strong>Фасад</strong></td> </tr> <tr> <td class=\"col-md-6 col-xs-5\">Тип наружных стен</td> <td class=\"col-md-6 col-xs-7\">Стены из слоистых железобетонных панелей</td> </tr> <tr> <td class=\"col-md-6 col-xs-5\">Тип наружного утепления фасада</td> <td class=\"col-md-6 col-xs-7\">Нет</td> </tr> <tr> <td class=\"col-md-6 col-xs-5\">Материал отделки фасада</td> <td class=\"col-md-6 col-xs-7\">окраска, панель с заводской отделкой</td> </tr> <tr> <td class=\"col-md-6 col-xs-5\">Физический износ </td> <td class=\"col-md-6 col-xs-7\">10&nbsp;%</td> </tr> </table> <table class=\"table margin-bottom-20\"> <tr> <td class=\"col-md-12 bg-gray\" colspan=\"2\"><strong>Перекрытия</strong></td> </tr> <tr> <td class=\"col-md-6 col-xs-5\">Тип перекрытия</td> <td class=\"col-md-6 col-xs-7\">Перекрытия из сборных и монолитных сплошных плит</td> </tr> <tr> <td class=\"col-md-6 col-xs-5\">Физический износ</td> <td class=\"col-md-6 col-xs-7\">10&nbsp;%</td> </tr> </table> <table class=\"table margin-bottom-20\"> <tr> <td class=\"col-md-12 bg-gray\" colspan=\"2\"><strong>Крыша</strong></td> </tr> <tr> <td class=\"col-md-6 col-xs-5\">Форма крыши</td> <td class=\"col-md-6 col-xs-7\">Плоская</td> </tr> <tr> <td class=\"col-md-6 col-xs-5\">Утепляющие слои чердачных перекрытий</td> <td class=\"col-md-6 col-xs-7\">Полимерные плиты (пенопласт, пенополиуретан и другие)</td> </tr> <tr> <td class=\"col-md-6 col-xs-5\">Вид несущей части</td> <td class=\"col-md-6 col-xs-7\">Ж/б плиты</td> </tr> <tr> <td class=\"col-md-6 col-xs-5\">Тип кровли</td> <td class=\"col-md-6 col-xs-7\">Лоток железобетонной панели</td> </tr> <tr> <td class=\"col-md-6 col-xs-5\">Физический износ кровли</td> <td class=\"col-md-6 col-xs-7\">10&nbsp;%</td> </tr> </table> </div> <div class=\"col-md-6 col-sm-12\"> <table class=\"table margin-bottom-20\"> <tr> <td class=\"col-md-12 bg-gray\" colspan=\"2\"><strong>Окна</strong></td> </tr> <tr> <td class=\"col-md-6 col-xs-5\">Физический износ</td> <td class=\"col-md-6 col-xs-7\">24&nbsp;%</td> </tr> <tr> <td class=\"col-md-6 col-xs-5\">Материал окон</td> <td class=\"col-md-6 col-xs-7\">Пластиковые</td> </tr> </table> <table class=\"table margin-bottom-20\"> <tr> <td class=\"col-md-12 bg-gray\" colspan=\"2\"><strong>Двери</strong></td> </tr> <tr> <td class=\"col-md-6 col-xs-5\">Физический износ</td> <td class=\"col-md-6 col-xs-7\">40&nbsp;%</td> </tr> </table> <table class=\"table margin-bottom-20\"> <tr> <td class=\"col-md-12 bg-gray\" colspan=\"2\"><strong>Отделочные покрытия помещений общего пользования</strong></td> </tr> <tr> <td class=\"col-md-6 col-xs-5\">Физический износ</td> <td class=\"col-md-6 col-xs-7\">35&nbsp;%</td> </tr> </table> <table class=\"table margin-bottom-20\"> <tr> <td class=\"col-md-12 bg-gray\" colspan=\"2\"><strong>Система отопления</strong></td> </tr> <tr> <td class=\"col-md-6 col-xs-5\">Физический износ</td> <td class=\"col-md-6 col-xs-7\">40&nbsp;%</td> </tr> <tr> <td class=\"col-md-6 col-xs-5\">Материал сети</td> <td class=\"col-md-6 col-xs-7\">Сталь черная</td> </tr> <tr> <td class=\"col-md-6 col-xs-5\">Материал теплоизоляции сети </td> <td class=\"col-md-6 col-xs-7\">Минеральная вата с покрытием</td> </tr> </table> <table class=\"table margin-bottom-20\"> <tr> <td class=\"col-md-12 bg-gray\" colspan=\"2\"><strong>Стояки системы отопления</strong></td> </tr> <tr> <td class=\"col-md-6 col-xs-5\">Физический износ</td> <td class=\"col-md-6 col-xs-7\">40&nbsp;%</td> </tr> <tr> <td class=\"col-md-6 col-xs-5\">Тип поквартирной разводки внутридомовой системы отопления</td> <td class=\"col-md-6 col-xs-7\">Вертикальная</td> </tr> <tr> <td class=\"col-md-6 col-xs-5\">Материал </td> <td class=\"col-md-6 col-xs-7\">Сталь черная</td> </tr> </table> <table class=\"table margin-bottom-20\"> <tr> <td class=\"col-md-12 bg-gray\" colspan=\"2\"><strong>Запорная арматура системы отопления</strong></td> </tr> <tr> <td class=\"col-md-6 col-xs-5\">Физический износ</td> <td class=\"col-md-6 col-xs-7\">60&nbsp;%</td> </tr> </table> <table class=\"table margin-bottom-20\"> <tr> <td class=\"col-md-12 bg-gray\" colspan=\"2\"><strong>Отопительные приборы</strong></td> </tr> <tr> <td class=\"col-md-6 col-xs-5\">Физический износ</td> <td class=\"col-md-6 col-xs-7\">40&nbsp;%</td> </tr> <tr> <td class=\"col-md-6 col-xs-5\">Тип отопительных приборов</td> <td class=\"col-md-6 col-xs-7\">Конвектор</td> </tr> </table> <table class=\"table margin-bottom-20\"> <tr> <td class=\"col-md-12 bg-gray\" colspan=\"2\"><strong>Система холодного водоснабжения</strong></td> </tr> <tr> <td class=\"col-md-6 col-xs-5\">Физический износ</td> <td class=\"col-md-6 col-xs-7\">24&nbsp;%</td> </tr> <tr> <td class=\"col-md-6 col-xs-5\">Материал сети</td> <td class=\"col-md-6 col-xs-7\">Полипропилен</td> </tr> </table> <table class=\"table margin-bottom-20\"> <tr> <td class=\"col-md-12 bg-gray\" colspan=\"2\"><strong>Стояки системы холодного водоснабжения</strong></td> </tr> <tr> <td class=\"col-md-6 col-xs-5\">Физический износ</td> <td class=\"col-md-6 col-xs-7\">24&nbsp;%</td> </tr> <tr> <td class=\"col-md-6 col-xs-5\">Материал сети</td> <td class=\"col-md-6 col-xs-7\">Полипропилен</td> </tr> </table> <table class=\"table margin-bottom-20\"> <tr> <td class=\"col-md-12 bg-gray\" colspan=\"2\"><strong>Запорная арматура системы холодного водоснабжения</strong></td> </tr> <tr> <td class=\"col-md-6 col-xs-5\">Физический износ</td> <td class=\"col-md-6 col-xs-7\">60&nbsp;%</td> </tr> </table> <table class=\"table margin-bottom-20\"> <tr> <td class=\"col-md-12 bg-gray\" colspan=\"2\"><strong>Стояки системы горячего водоснабжения</strong></td> </tr> <tr> <td class=\"col-md-6 col-xs-5\">Физический износ</td> <td class=\"col-md-6 col-xs-7\">60&nbsp;%</td> </tr> </table> <table class=\"table margin-bottom-20\"> <tr> <td class=\"col-md-12 bg-gray\" colspan=\"2\"><strong>Запорная арматура системы горячего водоснабжения</strong></td> </tr> <tr> <td class=\"col-md-6 col-xs-5\">Физический износ</td> <td class=\"col-md-6 col-xs-7\">60&nbsp;%</td> </tr> </table> </div> </div> <div class=\"block-heading-two margin-top-20 margin-bottom-20\"> <h2><span><i class=\"fa fa-bars\" aria-hidden=\"true\"></i>&nbsp;&nbsp;Лифты</span></h2> </div> <div class=\"table-responsive margin-top-20\"> <table class=\"table table-hover table-striped\"> <thead> <tr> <th>Подъезд</th> <th>Тип лифта</th> <th>Заводской №</th> <th>Инвентарный №</th> <th>Грузоподъемность, кг.</th> <th>Ввод в эксплуатацию</th> <th>Срок службы</th> <th>Износ, %</th> <th>Ремонт</th> </tr> </thead> <tbody> <tr> <td>1</td> <td>Пассажирский</td> <td>Пд-36143</td> <td>Пд-36143</td> <td>400</td> <td>2006</td> <td>25</td> <td>56</td> <td>&nbsp;&mdash;&nbsp;</td> </tr> <tr> <td>2</td> <td>Пассажирский</td> <td>Пд-36144</td> <td>Пд-36144</td> <td>400</td> <td>2006</td> <td>25</td> <td>56</td> <td>&nbsp;&mdash;&nbsp;</td> </tr> <tr> <td>3</td> <td>Пассажирский</td> <td>Пд-36145</td> <td>Пд-36145</td> <td>400</td> <td>2006</td> <td>25</td> <td>56</td> <td>&nbsp;&mdash;&nbsp;</td> </tr> <tr> <td>4</td> <td>Пассажирский</td> <td>Пд-36146</td> <td>Пд-36146</td> <td>400</td> <td>2006</td> <td>25</td> <td>56</td> <td>&nbsp;&mdash;&nbsp;</td> </tr> <tr> <td>5</td> <td>Пассажирский</td> <td>Пд-36147</td> <td>Пд-36147</td> <td>400</td> <td>2006</td> <td>25</td> <td>56</td> <td>&nbsp;&mdash;&nbsp;</td> </tr> </tbody> </table> </div> <a id=\"house-overhaul\"></a> <div class=\"block-heading-two margin-top-20 margin-bottom-20\"> <h2><span><i class=\"fa fa-wrench\" aria-hidden=\"true\"></i>&nbsp;Капитальный ремонт</span></h2> </div> <div class=\"row\"> <div class=\"col-xs-12\"> <div class=\"modal_sub-title\">Реализация региональной программы капремонта многоквартирных домов (общее имущество).</div> <div class=\"table-responsive margin-top-20\"><table class=\"table table-hover table-striped\"> <thead> <tr> <th> Вид услуги (работы)</th> <th>Год проведения</th> <th>Объем услуги (работы)</th> <th>Ед. изм.</th> </tr> </thead> <tbody> <tr> <td>Ремонт внутридомовых инжен. систем холодного водоснабжения</td> <td style=\"text-align: center;\">2037</td> <td style=\"text-align: center\">0.00</td> <td>пог.м.</td> </tr> <tr> <td>Ремонт внутридомовых инжен. систем горячего водоснабжения</td> <td style=\"text-align: center;\">2037</td> <td style=\"text-align: center\">0.00</td> <td>пог.м.</td> </tr> <tr> <td>Ремонт систем электроснабжения</td> <td style=\"text-align: center;\">2031</td> <td style=\"text-align: center\">0.00</td> <td>пог.м.</td> </tr> <tr> <td>Ремонт систем теплоснабжения</td> <td style=\"text-align: center;\">2037</td> <td style=\"text-align: center\">0.00</td> <td>пог.м.</td> </tr> <tr> <td> Ремонт или замена лифтового оборудования</td> <td style=\"text-align: center;\">2034</td> <td style=\"text-align: center\">0.00</td> <td>шт.</td> </tr> <tr> <td> Ремонт или замена лифтового оборудования</td> <td style=\"text-align: center;\">2034</td> <td style=\"text-align: center\">0.00</td> <td>шт.</td> </tr> <tr> <td> Ремонт или замена лифтового оборудования</td> <td style=\"text-align: center;\">2034</td> <td style=\"text-align: center\">0.00</td> <td>шт.</td> </tr> <tr> <td>Ремонт крыши</td> <td style=\"text-align: center;\">2031</td> <td style=\"text-align: center\">0.00</td> <td>кв.м</td> </tr> <tr> <td>Ремонт подвальных помещений</td> <td style=\"text-align: center;\">2037</td> <td style=\"text-align: center\">0.00</td> <td>кв.м</td> </tr> <tr> <td>Ремонт фасада</td> <td style=\"text-align: center;\">2031</td> <td style=\"text-align: center\">0.00</td> <td>кв.м</td> </tr> <tr> <td> Ремонт фундамента дома</td> <td style=\"text-align: center;\">2037</td> <td style=\"text-align: center\">0.00</td> <td>кв.м</td> </tr> <tr> <td>Установка коллективных (общедомовых) приборов учета потребления тепловой энергии</td> <td style=\"text-align: center;\">2031</td> <td style=\"text-align: center\">0.00</td> <td>шт.</td> </tr> <tr> <td>Установка коллективных (общедомовых) приборов учета потребления тепловой энергии</td> <td style=\"text-align: center;\">2043</td> <td style=\"text-align: center\">0.00</td> <td>шт.</td> </tr> <tr> <td>Установка коллективных (общедомовых) приборов учета потребления горячей воды</td> <td style=\"text-align: center;\">2031</td> <td style=\"text-align: center\">0.00</td> <td>шт.</td> </tr> <tr> <td>Установка коллективных (общедомовых) приборов учета потребления горячей воды</td> <td style=\"text-align: center;\">2043</td> <td style=\"text-align: center\">0.00</td> <td>шт.</td> </tr> <tr> <td>Установка коллективных (общедомовых) приборов учета потребления холодной воды</td> <td style=\"text-align: center;\">2037</td> <td style=\"text-align: center\">0.00</td> <td>шт.</td> </tr> </tbody> </table></div> </div> </div> <div class=\"block-heading-two margin-top-20 margin-bottom-20\"> <h2 id=\"housemap\"><span><i class=\"fa fa-map\"></i>&nbsp;Дом на карте</span></h2> </div> <div class=\"panel-body\" id=\"ymap_large\"></div> <div class=\"row margin-top-20\"> <div class=\"col-xs-12\"> <strong>Справочно</strong> <ul class=\"list-unstyled\"> <li>— <a href=\"/chelyabinskaya-oblast/magnitogorsk/50-letiya-magnitki-ulica\">Все дома на ул. 50-летия Магнитки</a></li> <li>— <a href=\"/chelyabinskaya-oblast/magnitogorsk/\">Дома в Магнитогорске</a></li> </ul> </div> </div> <div class=\"blog-two\"> <div class=\"row margin-top-20\"> <div class=\"col-md-10\"> <h4 class=\"margin-bottom-20\"><i class=\"fa fa-comments color\"></i>&nbsp; Отзывы о доме г. Магнитогорск, ул. 50-летия Магнитки, 29 корпус 1</h4> <div class=\"blog-comments\"> <a id=\"ureviews\"></a> <a id=\"reviews\" name=\"reviews\"></a> <script src=\\'/ureviews/ajax.js.php\\' type=\\'text/javascript\\'></script> <div id=\\'ok\\'></div><div id=\"tableDiv\" style=\"display:none;\"><img alt=\"\" title=\"\" src=\"/ureviews/im/loader.gif\" border=\"0\" style=\"vertical-align:middle\" /> Идёт загрузка...</div><div id=\\'addfomz\\'><div class=\"well\"> <!-- Heading --> <h4><i class=\"fa fa-comments color\"></i>&nbsp; Отзыв о доме</h4><!-- Form --> <p class=\"margin-bottom-20\">Вы можете написать мнение о состоянии инженерных систем дома, качестве работы управлящей компании или ТСЖ, тарифах на коммунальные услуги, выполненных работах по ремонту и т.д. Если нашли ошибки и неточности в описании дома.</p> <form name=\"addcomm\" ENCTYPE=\"multipart/form-data\" onKeyPress=\"if (event.keyCode==10 || (event.ctrlKey && event.keyCode==13)) {send_message();}\" method=\"post\" class=\"form\"> <div class=\"row\"> <div class=\"col-md-6 col-sm-12\"> <label for=\"categorynew\" class=\"control-label\">О чем отзыв</label> <div class=\"form-group\"> <select name=\"categorynew\" id=\"category\" class=\"form-control\" required> <option value=\"Без темы\" selected>Без темы</option> <option value=\"Моя квартира\">Моя квартира</option> <option value=\"Состояние дома\">Состояние дома</option> <option value=\"Состояние инженерных систем\">Состояние инженерных систем</option> <option value=\"Работа управляющей компании\">Работа управляющей компании</option> <option value=\"Тарифы ЖКУ\">Тарифы ЖКУ</option> <option value=\"Платежи за ЖКУ\">Платежи за ЖКУ</option> <option value=\"Вопросы по оплате\">Вопросы по оплате</option> <option value=\"Ошибка в описании дома\">Ошибка в описании дома</option> <option value=\"Придомовая территория\">Придомовая территория</option> </select> </div> </div> <div class=\"col-md-6 col-sm-12\"> <label for=\"namenew\" class=\"control-label\">Ваше имя</label> <div class=\"form-group\"> <input type=\"text\" class=\"form-control\" id=\"nick\" type=\"text\" name=\"namenew\" value=\"\" required> </div> </div> </div> <div class=\"form-group\"> <label for=\"comment\" class=\"control-label\">Ваш отзыв</label> <textarea class=\"form-control\" rows=\"10\" name=\"comment\" id=\"textz\" required></textarea> </div> <!-- Button --> <input type=\"button\" id=\"enter\" onclick=\"javascript:send_message();return false;\" name=\"addcomment\" class=\"btn btn-primary\" value=\"Добавить отзыв\"/> <div style=\"text-align:center\"> <img alt=\"Идёт загрузка...\" style=\"display:none;vertical-align:middle\" id=\"miniload\" src=\"/ureviews/im/loadermini.gif\" border=\"0\"/> </div> <input id=\"usurl\" type=\"hidden\" name=\"useurl\" value=\"\" type=\"hidden\" value=\"\"/> <input id=\"usmail\" type=\"hidden\" name=\"usemail\" value=\"\" type=\"hidden\" value=\"\"/> <input type=\"hidden\" value=\"none\" id=\"keystringz\" autocomplete=\"off\" name=\"keystring\" type=\"hidden\" value=\"\"/> </form> </div></div><input type=\"hidden\" name=\"url\" id=\"urls\" value=\"//chelyabinskaya-oblast/magnitogorsk/160355\" /> <input type=\"hidden\" name=\"for\" id=\"forms\" value=\"123\" /> <input type=\"hidden\" name=\"idcom\" id=\"idcomnow\" value=\"0\" /> <input type=\"hidden\" name=\"oldid\" id=\"oldid\" value=\"addfomz\" /> <input type=\"hidden\" name=\"token\" id=\"token\" value=\"\" /> </div> </div> </div> </div> <input type=\"hidden\" id=\"houseid\" name=\"houseid\" value=\"160355\"/> <input type=\"hidden\" id=\"mapcenterlat\" name=\"mapcenterlat\" value=\"53.3576\"/> <input type=\"hidden\" id=\"mapcenterlng\" name=\"mapcenterlng\" value=\"58.9753\"/> <div class=\"row\"> <div class=\"col-12 text-center\"> <div class=\"ad-unit margin-top-20 margin-bottom-20\"> <!-- Yandex.RTB R-A-1440432-5 --> <div id=\"yandex_rtb_R-A-1440432-5\"></div> <script>window.yaContextCb.push(()=>{ Ya.Context.AdvManager.render({ renderTo: \\'yandex_rtb_R-A-1440432-5\\', blockId: \\'R-A-1440432-5\\' }) })</script> </div> </div> </div> </div> </div> <div class=\"foot\"> <div class=\"container\"> <div class=\"row\"> <div class=\"col-md-9 col-sm-6\"> <h5 class=\"bold\"><i class=\"fa fa-building\"></i>&nbsp;Общественный проект &laquo;Дом.МинЖКХ.РУ&raquo;</h5> <p>Сайт общественного инициативного проекта по раскрытию информации о состоянии жилого фонда в Российской Федерации</p> </div> <div class=\"col-md-3 col-sm-6\"> <div class=\"foot-item\"> </div> </div> </div> </div> </div> <footer> <div class=\"container\"> <p class=\"pull-left\">&copy; 2015 - 2023 <a href=\"/\">Дом.МинЖКХ.РУ</a></p>&nbsp; <!--LiveInternet counter--><script type=\"text/javascript\"> document.write(\"<a href=\\'//www.liveinternet.ru/click\\' \"+ \"target=_blank><img src=\\'//counter.yadro.ru/hit?t44.1;r\"+ escape(document.referrer)+((typeof(screen)==\"undefined\")?\"\": \";s\"+screen.width+\"*\"+screen.height+\"*\"+(screen.colorDepth? screen.colorDepth:screen.pixelDepth))+\";u\"+escape(document.URL)+ \";h\"+escape(document.title.substring(0,80))+\";\"+Math.random()+ \"\\' alt=\\'\\' title=\\'LiveInternet\\' \"+ \"border=\\'0\\' width=\\'31\\' height=\\'31\\'><\\\\/a>\") </script><!--/LiveInternet--> <ul class=\"list-inline pull-right\"> <li><a href=\"/feedback\">Обратная связь</a></li> </ul> <div class=\"clearfix\"></div> </div> </footer> </div> <span class=\"totop\"><a href=\"#\"><i class=\"fa fa-angle-up bg-color\"></i></a></span> <script src=\"/assets/js/jquery.js\"></script> <script src=\"/assets/js/bootstrap.min.js\"></script> <script src=\"/assets/js/placeholders.js\"></script> <script src=\"/assets/js/jquery.magnific-popup.min.js\"></script> <script src=\"/assets/js/owl.carousel.min.js\"></script> <script src=\"/assets/js/respond.min.js\"></script> <script src=\"/assets/js/html5shiv.js\"></script> <script src=\"/assets/js/main.js\"></script> <script type=\"text/javascript\" src=\"/assets/js/selectize.min.js\"></script> <script src=\"/assets/js/custom.js?1697824395\"></script> <script src=\"https://api-maps.yandex.ru/2.1/?lang=ru_RU\" type=\"text/javascript\"></script> <script type=\"text/javascript\"> ymaps.ready(function () { myMap_large = new ymaps.Map(\"ymap_large\", { center: [$(\\'#mapcenterlat\\').val(), $(\\'#mapcenterlng\\').val()], zoom: 16 }), objectManager_large = new ymaps.ObjectManager({ clusterize: false, gridSize: 16 }); var MyBalloonContentLayoutClass = ymaps.templateLayoutFactory.createClass( \\'<strong>адрес:</strong> {{properties.address}}<br/>\\' + \\'<strong>площадь:</strong> {{properties.square}} м<sup>2</sup> <strong>этажность:</strong> {{properties.floors}}<br/>\\' + \\'<strong>год постройки:</strong> {{properties.year}}</div>\\' ); objectManager_large.objects.options.set(\\'preset\\', \\'islands#greenCircleDotIcon\\'); objectManager_large.objects.options.set(\\'balloonContentLayout\\', MyBalloonContentLayoutClass); objectManager_large.clusters.options.set(\\'preset\\', \\'islands#greenClusterIcons\\'); objectManager_large.clusters.options.set(\\'balloonContentLayout\\', \\'cluster#balloonTwoColumns\\'); objectManager_large.clusters.options.set(\\'balloonItemContentLayout\\', MyBalloonContentLayoutClass); objectManager_large.clusters.options.set(\\'balloonItemContentLayout\\', MyBalloonContentLayoutClass); myMap_large.geoObjects.add(objectManager_large); $.ajax({ url: \"/api/map/house/\" + $(\\'#houseid\\').val() }).done(function(data) { objectManager_large.add(data); objectManager_large.objects.balloon.open( + $(\\'#houseid\\').val()); }); myMap_large.behaviors.disable(\\'scrollZoom\\'); myMap_large.controls.remove(\\'searchControl\\'); /* if (!ymaps.panorama.isSupported()) { return; } console.log(ymaps.panorama.isSupported()); ymaps.panorama.locate([$(\\'#mapcenterlat\\').val(), $(\\'#mapcenterlng\\').val()]).done( function (panoramas) { console.log(panoramas.length); if (panoramas.length > 0) { var player = new ymaps.panorama.Player( \\'house_pan\\', panoramas[0], { controls: [] } ); } }, function (error) { console.log(error.message); } ); */ }); </script> <noscript><div><img src=\"https://mc.yandex.ru/watch/37773300\" style=\"position:absolute; left:-9999px;\" alt=\"\" /></div></noscript> </body> </html> '"
      ]
     },
     "execution_count": 101,
     "metadata": {},
     "output_type": "execute_result"
    }
   ],
   "source": [
    "response.text"
   ]
  },
  {
   "cell_type": "code",
   "execution_count": 103,
   "id": "03cbe474-e7ec-4ba8-8615-1fae8bb94111",
   "metadata": {},
   "outputs": [
    {
     "data": {
      "text/plain": [
       "29"
      ]
     },
     "execution_count": 103,
     "metadata": {},
     "output_type": "execute_result"
    }
   ],
   "source": [
    "len(pd.read_html(response.text))"
   ]
  },
  {
   "cell_type": "code",
   "execution_count": 104,
   "id": "59923dbe-84fc-447e-a40c-1a687cd3a9cd",
   "metadata": {},
   "outputs": [
    {
     "data": {
      "text/html": [
       "<div>\n",
       "<style scoped>\n",
       "    .dataframe tbody tr th:only-of-type {\n",
       "        vertical-align: middle;\n",
       "    }\n",
       "\n",
       "    .dataframe tbody tr th {\n",
       "        vertical-align: top;\n",
       "    }\n",
       "\n",
       "    .dataframe thead th {\n",
       "        text-align: right;\n",
       "    }\n",
       "</style>\n",
       "<table border=\"1\" class=\"dataframe\">\n",
       "  <thead>\n",
       "    <tr style=\"text-align: right;\">\n",
       "      <th></th>\n",
       "      <th>0</th>\n",
       "      <th>1</th>\n",
       "      <th>2</th>\n",
       "    </tr>\n",
       "  </thead>\n",
       "  <tbody>\n",
       "    <tr>\n",
       "      <th>0</th>\n",
       "      <td>Год ввода в эксплуатацию</td>\n",
       "      <td>NaN</td>\n",
       "      <td>2006</td>\n",
       "    </tr>\n",
       "    <tr>\n",
       "      <th>1</th>\n",
       "      <td>Дом признан аварийным</td>\n",
       "      <td>NaN</td>\n",
       "      <td>Нет</td>\n",
       "    </tr>\n",
       "    <tr>\n",
       "      <th>2</th>\n",
       "      <td>Состояние дома</td>\n",
       "      <td>NaN</td>\n",
       "      <td>Исправный</td>\n",
       "    </tr>\n",
       "    <tr>\n",
       "      <th>3</th>\n",
       "      <td>Количество квартир</td>\n",
       "      <td>NaN</td>\n",
       "      <td>228</td>\n",
       "    </tr>\n",
       "    <tr>\n",
       "      <th>4</th>\n",
       "      <td>Количество балконов</td>\n",
       "      <td>NaN</td>\n",
       "      <td>228</td>\n",
       "    </tr>\n",
       "    <tr>\n",
       "      <th>5</th>\n",
       "      <td>Класс энергетической эффективности</td>\n",
       "      <td>NaN</td>\n",
       "      <td>A</td>\n",
       "    </tr>\n",
       "    <tr>\n",
       "      <th>6</th>\n",
       "      <td>Количество подъездов</td>\n",
       "      <td>NaN</td>\n",
       "      <td>5</td>\n",
       "    </tr>\n",
       "    <tr>\n",
       "      <th>7</th>\n",
       "      <td>Количество лифтов</td>\n",
       "      <td>NaN</td>\n",
       "      <td>5</td>\n",
       "    </tr>\n",
       "    <tr>\n",
       "      <th>8</th>\n",
       "      <td>Наибольшее количество этажей</td>\n",
       "      <td>NaN</td>\n",
       "      <td>10</td>\n",
       "    </tr>\n",
       "    <tr>\n",
       "      <th>9</th>\n",
       "      <td>Наименьшее количество этажей</td>\n",
       "      <td>NaN</td>\n",
       "      <td>10</td>\n",
       "    </tr>\n",
       "    <tr>\n",
       "      <th>10</th>\n",
       "      <td>Подземных этажей</td>\n",
       "      <td>NaN</td>\n",
       "      <td>1</td>\n",
       "    </tr>\n",
       "  </tbody>\n",
       "</table>\n",
       "</div>"
      ],
      "text/plain": [
       "                                     0   1          2\n",
       "0             Год ввода в эксплуатацию NaN       2006\n",
       "1                Дом признан аварийным NaN        Нет\n",
       "2                       Состояние дома NaN  Исправный\n",
       "3                   Количество квартир NaN        228\n",
       "4                  Количество балконов NaN        228\n",
       "5   Класс энергетической эффективности NaN          A\n",
       "6                 Количество подъездов NaN          5\n",
       "7                    Количество лифтов NaN          5\n",
       "8         Наибольшее количество этажей NaN         10\n",
       "9         Наименьшее количество этажей NaN         10\n",
       "10                    Подземных этажей NaN          1"
      ]
     },
     "execution_count": 104,
     "metadata": {},
     "output_type": "execute_result"
    }
   ],
   "source": [
    "pd.read_html(response.text)[0]"
   ]
  },
  {
   "cell_type": "code",
   "execution_count": 149,
   "id": "78bf8883-f66d-4d6f-8be2-bdeafc06aa0d",
   "metadata": {},
   "outputs": [
    {
     "name": "stderr",
     "output_type": "stream",
     "text": [
      "100%|███████████████████████████████████████| 2483/2483 [18:53<00:00,  2.19it/s]\n"
     ]
    }
   ],
   "source": [
    "table_main = pd.DataFrame()\n",
    "errors = []\n",
    "\n",
    "for house in tqdm(houses_df['Ссылка']):\n",
    "    \n",
    "    try:\n",
    "        out_dir = f\"/home/dimitri/Documents/Geo/Magnitogorsk/houses/{house.split('/')[-1]}/\"\n",
    "        if not os.path.exists(out_dir):\n",
    "            os.mkdir(out_dir)\n",
    "        \n",
    "        response = requests.get('https://dom.mingkh.ru/' + house)\n",
    "        with open(f'{out_dir}/mingkh_response.pickle', 'wb') as f:\n",
    "            pickle.dump(response, f, pickle.HIGHEST_PROTOCOL)\n",
    "        \n",
    "        tables = pd.read_html(response.text)\n",
    "        for i in range(len(tables)):\n",
    "            tables[i].to_parquet(f\"{out_dir}/{i}.parquet.gzip\", compression='gzip')\n",
    "\n",
    "        table_0 = tables[0].set_index(0).T\n",
    "        table_0['house_id'] = house.split('/')[-1]\n",
    "        table_main = pd.concat(\n",
    "            [\n",
    "                table_main,\n",
    "                table_0,\n",
    "            ],\n",
    "            axis=0,\n",
    "            join='outer',\n",
    "            ignore_index=True,\n",
    "        )\n",
    "\n",
    "    except Exception as exc:\n",
    "        errors.append((house, exc))\n",
    "\n",
    "    time.sleep(0.02)"
   ]
  },
  {
   "cell_type": "code",
   "execution_count": 150,
   "id": "abc6a1cf-f7f6-4a89-a5a2-d0a24de41d88",
   "metadata": {},
   "outputs": [
    {
     "data": {
      "text/plain": [
       "141"
      ]
     },
     "execution_count": 150,
     "metadata": {},
     "output_type": "execute_result"
    }
   ],
   "source": [
    "len(errors)"
   ]
  },
  {
   "cell_type": "code",
   "execution_count": 152,
   "id": "1942d81a-c8fc-4be2-a67b-cc8e83856133",
   "metadata": {},
   "outputs": [
    {
     "data": {
      "text/plain": [
       "[('/chelyabinskaya-oblast/magnitogorsk/942892',\n",
       "  requests.exceptions.ConnectionError(urllib3.exceptions.MaxRetryError('HTTPSConnectionPool(host=\\'dom.mingkh.ru\\', port=443): Max retries exceeded with url: //chelyabinskaya-oblast/magnitogorsk/942892 (Caused by NameResolutionError(\"<urllib3.connection.HTTPSConnection object at 0x7fc029700a60>: Failed to resolve \\'dom.mingkh.ru\\' ([Errno -3] Temporary failure in name resolution)\"))'))),\n",
       " ('/chelyabinskaya-oblast/magnitogorsk/313583',\n",
       "  requests.exceptions.ConnectionError(urllib3.exceptions.MaxRetryError('HTTPSConnectionPool(host=\\'dom.mingkh.ru\\', port=443): Max retries exceeded with url: //chelyabinskaya-oblast/magnitogorsk/313583 (Caused by NameResolutionError(\"<urllib3.connection.HTTPSConnection object at 0x7fc03103a8c0>: Failed to resolve \\'dom.mingkh.ru\\' ([Errno -3] Temporary failure in name resolution)\"))'))),\n",
       " ('/chelyabinskaya-oblast/magnitogorsk/918146',\n",
       "  requests.exceptions.ConnectionError(urllib3.exceptions.MaxRetryError('HTTPSConnectionPool(host=\\'dom.mingkh.ru\\', port=443): Max retries exceeded with url: //chelyabinskaya-oblast/magnitogorsk/918146 (Caused by NameResolutionError(\"<urllib3.connection.HTTPSConnection object at 0x7fc02a158550>: Failed to resolve \\'dom.mingkh.ru\\' ([Errno -3] Temporary failure in name resolution)\"))'))),\n",
       " ('/chelyabinskaya-oblast/magnitogorsk/313584',\n",
       "  requests.exceptions.ConnectionError(urllib3.exceptions.MaxRetryError('HTTPSConnectionPool(host=\\'dom.mingkh.ru\\', port=443): Max retries exceeded with url: //chelyabinskaya-oblast/magnitogorsk/313584 (Caused by NameResolutionError(\"<urllib3.connection.HTTPSConnection object at 0x7fc02a15a8f0>: Failed to resolve \\'dom.mingkh.ru\\' ([Errno -3] Temporary failure in name resolution)\"))'))),\n",
       " ('/chelyabinskaya-oblast/magnitogorsk/918151',\n",
       "  requests.exceptions.ConnectionError(urllib3.exceptions.MaxRetryError('HTTPSConnectionPool(host=\\'dom.mingkh.ru\\', port=443): Max retries exceeded with url: //chelyabinskaya-oblast/magnitogorsk/918151 (Caused by NameResolutionError(\"<urllib3.connection.HTTPSConnection object at 0x7fc02a15b8e0>: Failed to resolve \\'dom.mingkh.ru\\' ([Errno -3] Temporary failure in name resolution)\"))')))]"
      ]
     },
     "execution_count": 152,
     "metadata": {},
     "output_type": "execute_result"
    }
   ],
   "source": [
    "errors[:5]"
   ]
  },
  {
   "cell_type": "code",
   "execution_count": 154,
   "id": "4165cc18-f115-424d-a844-06d0e2bce183",
   "metadata": {},
   "outputs": [
    {
     "name": "stderr",
     "output_type": "stream",
     "text": [
      "100%|█████████████████████████████████████████| 141/141 [01:33<00:00,  1.50it/s]\n"
     ]
    }
   ],
   "source": [
    "errors_2 = []\n",
    "\n",
    "for house in tqdm(errors):\n",
    "    house = house[0]\n",
    "    \n",
    "    try:\n",
    "        out_dir = f\"/home/dimitri/Documents/Geo/Magnitogorsk/houses/{house.split('/')[-1]}/\"\n",
    "        if not os.path.exists(out_dir):\n",
    "            os.mkdir(out_dir)\n",
    "        \n",
    "        response = requests.get('https://dom.mingkh.ru/' + house)\n",
    "        with open(f'{out_dir}/mingkh_response.pickle', 'wb') as f:\n",
    "            pickle.dump(response, f, pickle.HIGHEST_PROTOCOL)\n",
    "        \n",
    "        tables = pd.read_html(response.text)\n",
    "        for i in range(len(tables)):\n",
    "            tables[i].to_parquet(f\"{out_dir}/{i}.parquet.gzip\", compression='gzip')\n",
    "\n",
    "        table_0 = tables[0].set_index(0).T\n",
    "        table_0['house_id'] = house.split('/')[-1]\n",
    "        table_main = pd.concat(\n",
    "            [\n",
    "                table_main,\n",
    "                table_0,\n",
    "            ],\n",
    "            axis=0,\n",
    "            join='outer',\n",
    "            ignore_index=True,\n",
    "        )\n",
    "\n",
    "    except Exception as exc:\n",
    "        errors_2.append((house, exc))\n",
    "\n",
    "    time.sleep(0.2)"
   ]
  },
  {
   "cell_type": "code",
   "execution_count": 156,
   "id": "6700d5d5-1393-4dd7-95bc-d2e72bd8348c",
   "metadata": {},
   "outputs": [
    {
     "data": {
      "text/plain": [
       "0"
      ]
     },
     "execution_count": 156,
     "metadata": {},
     "output_type": "execute_result"
    }
   ],
   "source": [
    "len(errors_2)"
   ]
  },
  {
   "cell_type": "code",
   "execution_count": 157,
   "id": "047b8a74-560f-4c97-8256-fe819d6b46d2",
   "metadata": {},
   "outputs": [
    {
     "data": {
      "text/plain": [
       "[]"
      ]
     },
     "execution_count": 157,
     "metadata": {},
     "output_type": "execute_result"
    }
   ],
   "source": [
    "errors_2[:5]"
   ]
  },
  {
   "cell_type": "code",
   "execution_count": 158,
   "id": "d3f23196-38a4-4ac1-9fec-2a19d11238b0",
   "metadata": {},
   "outputs": [
    {
     "data": {
      "text/html": [
       "<div>\n",
       "<style scoped>\n",
       "    .dataframe tbody tr th:only-of-type {\n",
       "        vertical-align: middle;\n",
       "    }\n",
       "\n",
       "    .dataframe tbody tr th {\n",
       "        vertical-align: top;\n",
       "    }\n",
       "\n",
       "    .dataframe thead th {\n",
       "        text-align: right;\n",
       "    }\n",
       "</style>\n",
       "<table border=\"1\" class=\"dataframe\">\n",
       "  <thead>\n",
       "    <tr style=\"text-align: right;\">\n",
       "      <th></th>\n",
       "      <th>Год ввода в эксплуатацию</th>\n",
       "      <th>Дом признан аварийным</th>\n",
       "      <th>Состояние дома</th>\n",
       "      <th>Количество квартир</th>\n",
       "      <th>Количество балконов</th>\n",
       "      <th>Класс энергетической эффективности</th>\n",
       "      <th>Количество подъездов</th>\n",
       "      <th>Количество лифтов</th>\n",
       "      <th>Наибольшее количество этажей</th>\n",
       "      <th>Наименьшее количество этажей</th>\n",
       "      <th>Подземных этажей</th>\n",
       "      <th>house_id</th>\n",
       "      <th>Количество нежилых помещений</th>\n",
       "      <th>Дата проведения энергетического обследования</th>\n",
       "      <th>Формирование фонда кап. ремонта</th>\n",
       "      <th>Площадь парковки м2</th>\n",
       "      <th>Наличие в подъездах приспособлений для нужд маломобильных групп населения</th>\n",
       "      <th>Тип дома</th>\n",
       "      <th>Количество лоджий</th>\n",
       "      <th>Износ здания, %</th>\n",
       "      <th>Дата, на которую установлен износ здания</th>\n",
       "      <th>Основание признания дома аварийным</th>\n",
       "      <th>Площадь многоквартирного дома, кв.м</th>\n",
       "      <th>Дата документа о признании дома аварийным</th>\n",
       "    </tr>\n",
       "  </thead>\n",
       "  <tbody>\n",
       "    <tr>\n",
       "      <th>0</th>\n",
       "      <td>NaN</td>\n",
       "      <td>NaN</td>\n",
       "      <td>NaN</td>\n",
       "      <td>NaN</td>\n",
       "      <td>NaN</td>\n",
       "      <td>NaN</td>\n",
       "      <td>NaN</td>\n",
       "      <td>NaN</td>\n",
       "      <td>NaN</td>\n",
       "      <td>NaN</td>\n",
       "      <td>NaN</td>\n",
       "      <td>160355</td>\n",
       "      <td>NaN</td>\n",
       "      <td>NaN</td>\n",
       "      <td>NaN</td>\n",
       "      <td>NaN</td>\n",
       "      <td>NaN</td>\n",
       "      <td>NaN</td>\n",
       "      <td>NaN</td>\n",
       "      <td>NaN</td>\n",
       "      <td>NaN</td>\n",
       "      <td>NaN</td>\n",
       "      <td>NaN</td>\n",
       "      <td>NaN</td>\n",
       "    </tr>\n",
       "    <tr>\n",
       "      <th>1</th>\n",
       "      <td>2006</td>\n",
       "      <td>Нет</td>\n",
       "      <td>Исправный</td>\n",
       "      <td>228</td>\n",
       "      <td>228</td>\n",
       "      <td>A</td>\n",
       "      <td>5</td>\n",
       "      <td>5</td>\n",
       "      <td>10</td>\n",
       "      <td>10</td>\n",
       "      <td>1</td>\n",
       "      <td>160355</td>\n",
       "      <td>NaN</td>\n",
       "      <td>NaN</td>\n",
       "      <td>NaN</td>\n",
       "      <td>NaN</td>\n",
       "      <td>NaN</td>\n",
       "      <td>NaN</td>\n",
       "      <td>NaN</td>\n",
       "      <td>NaN</td>\n",
       "      <td>NaN</td>\n",
       "      <td>NaN</td>\n",
       "      <td>NaN</td>\n",
       "      <td>NaN</td>\n",
       "    </tr>\n",
       "    <tr>\n",
       "      <th>2</th>\n",
       "      <td>NaN</td>\n",
       "      <td>NaN</td>\n",
       "      <td>NaN</td>\n",
       "      <td>NaN</td>\n",
       "      <td>NaN</td>\n",
       "      <td>NaN</td>\n",
       "      <td>NaN</td>\n",
       "      <td>NaN</td>\n",
       "      <td>NaN</td>\n",
       "      <td>NaN</td>\n",
       "      <td>NaN</td>\n",
       "      <td>396513</td>\n",
       "      <td>NaN</td>\n",
       "      <td>NaN</td>\n",
       "      <td>NaN</td>\n",
       "      <td>NaN</td>\n",
       "      <td>NaN</td>\n",
       "      <td>NaN</td>\n",
       "      <td>NaN</td>\n",
       "      <td>NaN</td>\n",
       "      <td>NaN</td>\n",
       "      <td>NaN</td>\n",
       "      <td>NaN</td>\n",
       "      <td>NaN</td>\n",
       "    </tr>\n",
       "    <tr>\n",
       "      <th>3</th>\n",
       "      <td>2006</td>\n",
       "      <td>Нет</td>\n",
       "      <td>Исправный</td>\n",
       "      <td>148</td>\n",
       "      <td>148</td>\n",
       "      <td>А (Очень высокий)</td>\n",
       "      <td>5</td>\n",
       "      <td>5</td>\n",
       "      <td>9</td>\n",
       "      <td>1</td>\n",
       "      <td>1</td>\n",
       "      <td>396513</td>\n",
       "      <td>6</td>\n",
       "      <td>15.06.2016</td>\n",
       "      <td>На счете регионального оператора</td>\n",
       "      <td>NaN</td>\n",
       "      <td>NaN</td>\n",
       "      <td>NaN</td>\n",
       "      <td>NaN</td>\n",
       "      <td>NaN</td>\n",
       "      <td>NaN</td>\n",
       "      <td>NaN</td>\n",
       "      <td>NaN</td>\n",
       "      <td>NaN</td>\n",
       "    </tr>\n",
       "    <tr>\n",
       "      <th>4</th>\n",
       "      <td>NaN</td>\n",
       "      <td>NaN</td>\n",
       "      <td>NaN</td>\n",
       "      <td>NaN</td>\n",
       "      <td>NaN</td>\n",
       "      <td>NaN</td>\n",
       "      <td>NaN</td>\n",
       "      <td>NaN</td>\n",
       "      <td>NaN</td>\n",
       "      <td>NaN</td>\n",
       "      <td>NaN</td>\n",
       "      <td>633123</td>\n",
       "      <td>NaN</td>\n",
       "      <td>NaN</td>\n",
       "      <td>NaN</td>\n",
       "      <td>NaN</td>\n",
       "      <td>NaN</td>\n",
       "      <td>NaN</td>\n",
       "      <td>NaN</td>\n",
       "      <td>NaN</td>\n",
       "      <td>NaN</td>\n",
       "      <td>NaN</td>\n",
       "      <td>NaN</td>\n",
       "      <td>NaN</td>\n",
       "    </tr>\n",
       "  </tbody>\n",
       "</table>\n",
       "</div>"
      ],
      "text/plain": [
       "0 Год ввода в эксплуатацию Дом признан аварийным Состояние дома  \\\n",
       "0                      NaN                   NaN            NaN   \n",
       "1                     2006                   Нет      Исправный   \n",
       "2                      NaN                   NaN            NaN   \n",
       "3                     2006                   Нет      Исправный   \n",
       "4                      NaN                   NaN            NaN   \n",
       "\n",
       "0 Количество квартир Количество балконов Класс энергетической эффективности  \\\n",
       "0                NaN                 NaN                                NaN   \n",
       "1                228                 228                                  A   \n",
       "2                NaN                 NaN                                NaN   \n",
       "3                148                 148                  А (Очень высокий)   \n",
       "4                NaN                 NaN                                NaN   \n",
       "\n",
       "0 Количество подъездов Количество лифтов Наибольшее количество этажей  \\\n",
       "0                  NaN               NaN                          NaN   \n",
       "1                    5                 5                           10   \n",
       "2                  NaN               NaN                          NaN   \n",
       "3                    5                 5                            9   \n",
       "4                  NaN               NaN                          NaN   \n",
       "\n",
       "0 Наименьшее количество этажей Подземных этажей house_id  \\\n",
       "0                          NaN              NaN   160355   \n",
       "1                           10                1   160355   \n",
       "2                          NaN              NaN   396513   \n",
       "3                            1                1   396513   \n",
       "4                          NaN              NaN   633123   \n",
       "\n",
       "0 Количество нежилых помещений Дата проведения энергетического обследования  \\\n",
       "0                          NaN                                          NaN   \n",
       "1                          NaN                                          NaN   \n",
       "2                          NaN                                          NaN   \n",
       "3                            6                                   15.06.2016   \n",
       "4                          NaN                                          NaN   \n",
       "\n",
       "0   Формирование фонда кап. ремонта Площадь парковки м2  \\\n",
       "0                               NaN                 NaN   \n",
       "1                               NaN                 NaN   \n",
       "2                               NaN                 NaN   \n",
       "3  На счете регионального оператора                 NaN   \n",
       "4                               NaN                 NaN   \n",
       "\n",
       "0 Наличие в подъездах приспособлений для нужд маломобильных групп населения  \\\n",
       "0                                                NaN                          \n",
       "1                                                NaN                          \n",
       "2                                                NaN                          \n",
       "3                                                NaN                          \n",
       "4                                                NaN                          \n",
       "\n",
       "0 Тип дома Количество лоджий Износ здания, %  \\\n",
       "0      NaN               NaN             NaN   \n",
       "1      NaN               NaN             NaN   \n",
       "2      NaN               NaN             NaN   \n",
       "3      NaN               NaN             NaN   \n",
       "4      NaN               NaN             NaN   \n",
       "\n",
       "0 Дата, на которую установлен износ здания Основание признания дома аварийным  \\\n",
       "0                                      NaN                                NaN   \n",
       "1                                      NaN                                NaN   \n",
       "2                                      NaN                                NaN   \n",
       "3                                      NaN                                NaN   \n",
       "4                                      NaN                                NaN   \n",
       "\n",
       "0 Площадь многоквартирного дома, кв.м  \\\n",
       "0                                 NaN   \n",
       "1                                 NaN   \n",
       "2                                 NaN   \n",
       "3                                 NaN   \n",
       "4                                 NaN   \n",
       "\n",
       "0 Дата документа о признании дома аварийным  \n",
       "0                                       NaN  \n",
       "1                                       NaN  \n",
       "2                                       NaN  \n",
       "3                                       NaN  \n",
       "4                                       NaN  "
      ]
     },
     "execution_count": 158,
     "metadata": {},
     "output_type": "execute_result"
    }
   ],
   "source": [
    "table_main.head()"
   ]
  },
  {
   "cell_type": "code",
   "execution_count": 159,
   "id": "c368c221-e0bb-47ad-abcd-156e5fb5f46b",
   "metadata": {},
   "outputs": [
    {
     "data": {
      "text/plain": [
       "(4966, 24)"
      ]
     },
     "execution_count": 159,
     "metadata": {},
     "output_type": "execute_result"
    }
   ],
   "source": [
    "table_main.shape"
   ]
  },
  {
   "cell_type": "code",
   "execution_count": 160,
   "id": "17b7aee5-5ed0-44ce-b8c8-8807d856778e",
   "metadata": {},
   "outputs": [
    {
     "data": {
      "text/plain": [
       "2483"
      ]
     },
     "execution_count": 160,
     "metadata": {},
     "output_type": "execute_result"
    }
   ],
   "source": [
    "table_main['house_id'].nunique()"
   ]
  },
  {
   "cell_type": "code",
   "execution_count": 161,
   "id": "38068920-9530-4af7-8253-6315617c62a3",
   "metadata": {},
   "outputs": [
    {
     "name": "stdout",
     "output_type": "stream",
     "text": [
      "<class 'pandas.core.frame.DataFrame'>\n",
      "RangeIndex: 4966 entries, 0 to 4965\n",
      "Data columns (total 24 columns):\n",
      " #   Column                                                                     Non-Null Count  Dtype \n",
      "---  ------                                                                     --------------  ----- \n",
      " 0   Год ввода в эксплуатацию                                                   2456 non-null   object\n",
      " 1   Дом признан аварийным                                                      2483 non-null   object\n",
      " 2   Состояние дома                                                             2483 non-null   object\n",
      " 3   Количество квартир                                                         2359 non-null   object\n",
      " 4   Количество балконов                                                        1797 non-null   object\n",
      " 5   Класс энергетической эффективности                                         2076 non-null   object\n",
      " 6   Количество подъездов                                                       2432 non-null   object\n",
      " 7   Количество лифтов                                                          584 non-null    object\n",
      " 8   Наибольшее количество этажей                                               2157 non-null   object\n",
      " 9   Наименьшее количество этажей                                               1737 non-null   object\n",
      " 10  Подземных этажей                                                           1682 non-null   object\n",
      " 11  house_id                                                                   4966 non-null   object\n",
      " 12  Количество нежилых помещений                                               1288 non-null   object\n",
      " 13  Дата проведения энергетического обследования                               59 non-null     object\n",
      " 14  Формирование фонда кап. ремонта                                            1303 non-null   object\n",
      " 15  Площадь парковки м2                                                        750 non-null    object\n",
      " 16  Наличие в подъездах приспособлений для нужд маломобильных групп населения  470 non-null    object\n",
      " 17  Тип дома                                                                   336 non-null    object\n",
      " 18  Количество лоджий                                                          479 non-null    object\n",
      " 19  Износ здания, %                                                            148 non-null    object\n",
      " 20  Дата, на которую установлен износ здания                                   29 non-null     object\n",
      " 21  Основание признания дома аварийным                                         13 non-null     object\n",
      " 22  Площадь многоквартирного дома, кв.м                                        9 non-null      object\n",
      " 23  Дата документа о признании дома аварийным                                  1 non-null      object\n",
      "dtypes: object(24)\n",
      "memory usage: 931.2+ KB\n"
     ]
    }
   ],
   "source": [
    "table_main.info()"
   ]
  },
  {
   "cell_type": "code",
   "execution_count": 162,
   "id": "c2558518-ea0d-4be7-844e-f2308a144012",
   "metadata": {},
   "outputs": [],
   "source": [
    "table_main = table_main[table_main['Дом признан аварийным'].notnull()].reset_index(drop=True)"
   ]
  },
  {
   "cell_type": "code",
   "execution_count": 163,
   "id": "8b7003d8-c0ab-4275-b8d4-28729dbe68a8",
   "metadata": {},
   "outputs": [
    {
     "data": {
      "text/plain": [
       "(2483, 24)"
      ]
     },
     "execution_count": 163,
     "metadata": {},
     "output_type": "execute_result"
    }
   ],
   "source": [
    "table_main.shape"
   ]
  },
  {
   "cell_type": "code",
   "execution_count": 164,
   "id": "fecabcc0-1a71-4832-a711-e76a57fa28da",
   "metadata": {},
   "outputs": [
    {
     "data": {
      "text/plain": [
       "2483"
      ]
     },
     "execution_count": 164,
     "metadata": {},
     "output_type": "execute_result"
    }
   ],
   "source": [
    "table_main['house_id'].nunique()"
   ]
  },
  {
   "cell_type": "code",
   "execution_count": 165,
   "id": "9f0bcc6a-2d54-422a-9a9a-614f7f1e346b",
   "metadata": {},
   "outputs": [],
   "source": [
    "table_main.to_csv('magnitogorsk_houses_main.csv', sep=';', index=False)"
   ]
  },
  {
   "cell_type": "code",
   "execution_count": 166,
   "id": "299aee07-d371-4340-9bf9-d276898da2a8",
   "metadata": {},
   "outputs": [],
   "source": [
    "table_main.to_parquet('magnitogorsk_houses_main.parquet.gzip', compression='gzip', index=False)"
   ]
  },
  {
   "cell_type": "code",
   "execution_count": null,
   "id": "43ac2ee7-2904-431a-a3d3-52a7ac494eb0",
   "metadata": {},
   "outputs": [],
   "source": []
  },
  {
   "cell_type": "code",
   "execution_count": null,
   "id": "3ce9b7b8-c560-4a9a-9e38-f2993570a085",
   "metadata": {},
   "outputs": [],
   "source": []
  },
  {
   "cell_type": "code",
   "execution_count": null,
   "id": "000f41ae-427b-4deb-a496-e2ad250c1309",
   "metadata": {},
   "outputs": [],
   "source": []
  },
  {
   "cell_type": "code",
   "execution_count": null,
   "id": "67790c79-3bb3-4fdb-af09-64ed93616d35",
   "metadata": {},
   "outputs": [],
   "source": []
  },
  {
   "cell_type": "code",
   "execution_count": null,
   "id": "e7e67fcb-9157-4633-850f-a672ade87fa6",
   "metadata": {},
   "outputs": [],
   "source": []
  },
  {
   "cell_type": "code",
   "execution_count": null,
   "id": "3710ce0b-7e6d-4cf8-bbbe-c37f94b14112",
   "metadata": {},
   "outputs": [],
   "source": []
  }
 ],
 "metadata": {
  "kernelspec": {
   "display_name": "env_geo",
   "language": "python",
   "name": "env_geo"
  },
  "language_info": {
   "codemirror_mode": {
    "name": "ipython",
    "version": 3
   },
   "file_extension": ".py",
   "mimetype": "text/x-python",
   "name": "python",
   "nbconvert_exporter": "python",
   "pygments_lexer": "ipython3",
   "version": "3.10.12"
  }
 },
 "nbformat": 4,
 "nbformat_minor": 5
}

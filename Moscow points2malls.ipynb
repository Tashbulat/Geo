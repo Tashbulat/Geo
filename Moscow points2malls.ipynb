{
 "cells": [
  {
   "cell_type": "code",
   "execution_count": 1,
   "metadata": {},
   "outputs": [],
   "source": [
    "import pandas as pd\n",
    "import numpy as np\n",
    "from numpy import inf, mean, median\n",
    "import math\n",
    "import datetime\n",
    "import json\n",
    "import os\n",
    "import glob\n",
    "import pickle\n",
    "import requests\n",
    "# import requests_cache\n",
    "import plotly.graph_objects as go\n",
    "import plotly.express as px\n",
    "import folium\n",
    "from folium.plugins import MarkerCluster, HeatMap\n",
    "import geopandas as gpd\n",
    "import osm2geojson\n",
    "import geojson\n",
    "import shapely\n",
    "from shapely import wkt\n",
    "from shapely.geometry import Point, Polygon, LineString"
   ]
  },
  {
   "cell_type": "markdown",
   "metadata": {},
   "source": [
    "# Load Points"
   ]
  },
  {
   "cell_type": "code",
   "execution_count": 2,
   "metadata": {},
   "outputs": [],
   "source": [
    "data_points = pd.read_csv('data_post_offices.csv', sep=';')"
   ]
  },
  {
   "cell_type": "code",
   "execution_count": 3,
   "metadata": {},
   "outputs": [
    {
     "data": {
      "text/html": [
       "<div>\n",
       "<style scoped>\n",
       "    .dataframe tbody tr th:only-of-type {\n",
       "        vertical-align: middle;\n",
       "    }\n",
       "\n",
       "    .dataframe tbody tr th {\n",
       "        vertical-align: top;\n",
       "    }\n",
       "\n",
       "    .dataframe thead th {\n",
       "        text-align: right;\n",
       "    }\n",
       "</style>\n",
       "<table border=\"1\" class=\"dataframe\">\n",
       "  <thead>\n",
       "    <tr style=\"text-align: right;\">\n",
       "      <th></th>\n",
       "      <th>post_index</th>\n",
       "      <th>post_address</th>\n",
       "      <th>post_coordinates</th>\n",
       "      <th>post_lat</th>\n",
       "      <th>post_lon</th>\n",
       "    </tr>\n",
       "  </thead>\n",
       "  <tbody>\n",
       "    <tr>\n",
       "      <th>0</th>\n",
       "      <td>101000</td>\n",
       "      <td>г Москва , Мясницкая ул, 26</td>\n",
       "      <td>[55.763874, 37.637253]</td>\n",
       "      <td>55.763874</td>\n",
       "      <td>37.637253</td>\n",
       "    </tr>\n",
       "    <tr>\n",
       "      <th>1</th>\n",
       "      <td>103132</td>\n",
       "      <td>г Москва , Старая пл, 2/14, стр.1</td>\n",
       "      <td>[55.75586, 37.629196]</td>\n",
       "      <td>55.755860</td>\n",
       "      <td>37.629196</td>\n",
       "    </tr>\n",
       "    <tr>\n",
       "      <th>2</th>\n",
       "      <td>103265</td>\n",
       "      <td>г Москва , Охотный Ряд ул, 1</td>\n",
       "      <td>[55.757416, 37.61613]</td>\n",
       "      <td>55.757416</td>\n",
       "      <td>37.616130</td>\n",
       "    </tr>\n",
       "    <tr>\n",
       "      <th>3</th>\n",
       "      <td>103274</td>\n",
       "      <td>г Москва , Краснопресненская наб, 2, стр.1</td>\n",
       "      <td>[55.755093, 37.572784]</td>\n",
       "      <td>55.755093</td>\n",
       "      <td>37.572784</td>\n",
       "    </tr>\n",
       "    <tr>\n",
       "      <th>4</th>\n",
       "      <td>103426</td>\n",
       "      <td>г Москва , Дмитровка Б. ул, 26</td>\n",
       "      <td>[55.76444, 37.612213]</td>\n",
       "      <td>55.764440</td>\n",
       "      <td>37.612213</td>\n",
       "    </tr>\n",
       "  </tbody>\n",
       "</table>\n",
       "</div>"
      ],
      "text/plain": [
       "   post_index                                post_address  \\\n",
       "0      101000                 г Москва , Мясницкая ул, 26   \n",
       "1      103132           г Москва , Старая пл, 2/14, стр.1   \n",
       "2      103265                г Москва , Охотный Ряд ул, 1   \n",
       "3      103274  г Москва , Краснопресненская наб, 2, стр.1   \n",
       "4      103426              г Москва , Дмитровка Б. ул, 26   \n",
       "\n",
       "         post_coordinates   post_lat   post_lon  \n",
       "0  [55.763874, 37.637253]  55.763874  37.637253  \n",
       "1   [55.75586, 37.629196]  55.755860  37.629196  \n",
       "2   [55.757416, 37.61613]  55.757416  37.616130  \n",
       "3  [55.755093, 37.572784]  55.755093  37.572784  \n",
       "4   [55.76444, 37.612213]  55.764440  37.612213  "
      ]
     },
     "execution_count": 3,
     "metadata": {},
     "output_type": "execute_result"
    }
   ],
   "source": [
    "data_points.head()"
   ]
  },
  {
   "cell_type": "code",
   "execution_count": 4,
   "metadata": {},
   "outputs": [],
   "source": [
    "data_points.rename(columns={'post_address':'address', 'post_coordinates':'coordinates', 'post_lat':'lat', 'post_lon':'lon'}, inplace=True)\n",
    "data_points.drop('post_index', axis=1, inplace=True)"
   ]
  },
  {
   "cell_type": "code",
   "execution_count": 5,
   "metadata": {},
   "outputs": [
    {
     "name": "stdout",
     "output_type": "stream",
     "text": [
      "<class 'pandas.core.frame.DataFrame'>\n",
      "RangeIndex: 496 entries, 0 to 495\n",
      "Data columns (total 4 columns):\n",
      " #   Column       Non-Null Count  Dtype  \n",
      "---  ------       --------------  -----  \n",
      " 0   address      496 non-null    object \n",
      " 1   coordinates  496 non-null    object \n",
      " 2   lat          496 non-null    float64\n",
      " 3   lon          496 non-null    float64\n",
      "dtypes: float64(2), object(2)\n",
      "memory usage: 15.6+ KB\n"
     ]
    }
   ],
   "source": [
    "data_points.info()"
   ]
  },
  {
   "cell_type": "markdown",
   "metadata": {},
   "source": [
    "# Load Malls"
   ]
  },
  {
   "cell_type": "code",
   "execution_count": 6,
   "metadata": {},
   "outputs": [],
   "source": [
    "data_malls = pd.read_csv('data_malls.csv', sep=';')"
   ]
  },
  {
   "cell_type": "code",
   "execution_count": 7,
   "metadata": {},
   "outputs": [
    {
     "data": {
      "text/html": [
       "<div>\n",
       "<style scoped>\n",
       "    .dataframe tbody tr th:only-of-type {\n",
       "        vertical-align: middle;\n",
       "    }\n",
       "\n",
       "    .dataframe tbody tr th {\n",
       "        vertical-align: top;\n",
       "    }\n",
       "\n",
       "    .dataframe thead th {\n",
       "        text-align: right;\n",
       "    }\n",
       "</style>\n",
       "<table border=\"1\" class=\"dataframe\">\n",
       "  <thead>\n",
       "    <tr style=\"text-align: right;\">\n",
       "      <th></th>\n",
       "      <th>mall_name</th>\n",
       "      <th>mall_address</th>\n",
       "      <th>mall_coordinates</th>\n",
       "      <th>mall_lat</th>\n",
       "      <th>mall_lon</th>\n",
       "    </tr>\n",
       "  </thead>\n",
       "  <tbody>\n",
       "    <tr>\n",
       "      <th>0</th>\n",
       "      <td>Columbus</td>\n",
       "      <td>ул. Красного Маяка, 2Б, Москва</td>\n",
       "      <td>[55.611088, 37.60684]</td>\n",
       "      <td>55.611088</td>\n",
       "      <td>37.606840</td>\n",
       "    </tr>\n",
       "    <tr>\n",
       "      <th>1</th>\n",
       "      <td>Crocus City Mall</td>\n",
       "      <td>66-й км МКАД, Красногорск, Московская обл.</td>\n",
       "      <td>[55.76421, 37.84499]</td>\n",
       "      <td>55.764210</td>\n",
       "      <td>37.844990</td>\n",
       "    </tr>\n",
       "    <tr>\n",
       "      <th>2</th>\n",
       "      <td>FORT</td>\n",
       "      <td>Новоясеневский просп., 11, Москва</td>\n",
       "      <td>[55.606438, 37.53098]</td>\n",
       "      <td>55.606438</td>\n",
       "      <td>37.530980</td>\n",
       "    </tr>\n",
       "    <tr>\n",
       "      <th>3</th>\n",
       "      <td>XL</td>\n",
       "      <td>Дмитровское ш., 89, Москва</td>\n",
       "      <td>[55.86367, 37.545452]</td>\n",
       "      <td>55.863670</td>\n",
       "      <td>37.545452</td>\n",
       "    </tr>\n",
       "    <tr>\n",
       "      <th>4</th>\n",
       "      <td>XL-2</td>\n",
       "      <td>Коммунистическая ул., 10, корп. 1, Мытищи, Мос...</td>\n",
       "      <td>[55.891644, 37.745007]</td>\n",
       "      <td>55.891644</td>\n",
       "      <td>37.745007</td>\n",
       "    </tr>\n",
       "  </tbody>\n",
       "</table>\n",
       "</div>"
      ],
      "text/plain": [
       "          mall_name                                       mall_address  \\\n",
       "0          Columbus                     ул. Красного Маяка, 2Б, Москва   \n",
       "1  Crocus City Mall         66-й км МКАД, Красногорск, Московская обл.   \n",
       "2              FORT                  Новоясеневский просп., 11, Москва   \n",
       "3                XL                         Дмитровское ш., 89, Москва   \n",
       "4              XL-2  Коммунистическая ул., 10, корп. 1, Мытищи, Мос...   \n",
       "\n",
       "         mall_coordinates   mall_lat   mall_lon  \n",
       "0   [55.611088, 37.60684]  55.611088  37.606840  \n",
       "1    [55.76421, 37.84499]  55.764210  37.844990  \n",
       "2   [55.606438, 37.53098]  55.606438  37.530980  \n",
       "3   [55.86367, 37.545452]  55.863670  37.545452  \n",
       "4  [55.891644, 37.745007]  55.891644  37.745007  "
      ]
     },
     "execution_count": 7,
     "metadata": {},
     "output_type": "execute_result"
    }
   ],
   "source": [
    "data_malls.head()"
   ]
  },
  {
   "cell_type": "code",
   "execution_count": 8,
   "metadata": {},
   "outputs": [
    {
     "data": {
      "text/plain": [
       "(94, 5)"
      ]
     },
     "execution_count": 8,
     "metadata": {},
     "output_type": "execute_result"
    }
   ],
   "source": [
    "data_malls.shape"
   ]
  },
  {
   "cell_type": "markdown",
   "metadata": {},
   "source": [
    "# Points To Malls"
   ]
  },
  {
   "cell_type": "code",
   "execution_count": 9,
   "metadata": {},
   "outputs": [],
   "source": [
    "data_points_2 = data_points.loc[(pd.notnull(data_points['lat']))&(pd.notnull(data_points['lon'])), ['lat', 'lon']].reset_index()"
   ]
  },
  {
   "cell_type": "code",
   "execution_count": 10,
   "metadata": {},
   "outputs": [
    {
     "name": "stdout",
     "output_type": "stream",
     "text": [
      "<class 'pandas.core.frame.DataFrame'>\n",
      "RangeIndex: 496 entries, 0 to 495\n",
      "Data columns (total 3 columns):\n",
      " #   Column  Non-Null Count  Dtype  \n",
      "---  ------  --------------  -----  \n",
      " 0   index   496 non-null    int64  \n",
      " 1   lat     496 non-null    float64\n",
      " 2   lon     496 non-null    float64\n",
      "dtypes: float64(2), int64(1)\n",
      "memory usage: 11.8 KB\n"
     ]
    }
   ],
   "source": [
    "data_points_2.info()"
   ]
  },
  {
   "cell_type": "code",
   "execution_count": 11,
   "metadata": {},
   "outputs": [],
   "source": [
    "data_malls_2 = data_malls.loc[(pd.notnull(data_malls['mall_lat']))&(pd.notnull(data_malls['mall_lon'])), ['mall_lon', 'mall_lat']]"
   ]
  },
  {
   "cell_type": "code",
   "execution_count": 12,
   "metadata": {},
   "outputs": [
    {
     "name": "stdout",
     "output_type": "stream",
     "text": [
      "<class 'pandas.core.frame.DataFrame'>\n",
      "Int64Index: 94 entries, 0 to 93\n",
      "Data columns (total 2 columns):\n",
      " #   Column    Non-Null Count  Dtype  \n",
      "---  ------    --------------  -----  \n",
      " 0   mall_lon  94 non-null     float64\n",
      " 1   mall_lat  94 non-null     float64\n",
      "dtypes: float64(2)\n",
      "memory usage: 2.2 KB\n"
     ]
    }
   ],
   "source": [
    "data_malls_2.info()"
   ]
  },
  {
   "cell_type": "code",
   "execution_count": 13,
   "metadata": {},
   "outputs": [
    {
     "name": "stdout",
     "output_type": "stream",
     "text": [
      "CPU times: user 73 ms, sys: 22.5 ms, total: 95.5 ms\n",
      "Wall time: 80.6 ms\n"
     ]
    }
   ],
   "source": [
    "%%time\n",
    "data_points2malls = pd.merge(data_points_2[['index', 'lat', 'lon']],\n",
    "                             data_malls_2,\n",
    "                             how='cross',\n",
    "                            )"
   ]
  },
  {
   "cell_type": "code",
   "execution_count": 14,
   "metadata": {},
   "outputs": [
    {
     "data": {
      "text/plain": [
       "(46624, 5)"
      ]
     },
     "execution_count": 14,
     "metadata": {},
     "output_type": "execute_result"
    }
   ],
   "source": [
    "data_points2malls.shape"
   ]
  },
  {
   "cell_type": "code",
   "execution_count": 15,
   "metadata": {},
   "outputs": [
    {
     "data": {
      "text/html": [
       "<div>\n",
       "<style scoped>\n",
       "    .dataframe tbody tr th:only-of-type {\n",
       "        vertical-align: middle;\n",
       "    }\n",
       "\n",
       "    .dataframe tbody tr th {\n",
       "        vertical-align: top;\n",
       "    }\n",
       "\n",
       "    .dataframe thead th {\n",
       "        text-align: right;\n",
       "    }\n",
       "</style>\n",
       "<table border=\"1\" class=\"dataframe\">\n",
       "  <thead>\n",
       "    <tr style=\"text-align: right;\">\n",
       "      <th></th>\n",
       "      <th>index</th>\n",
       "      <th>lat</th>\n",
       "      <th>lon</th>\n",
       "      <th>mall_lon</th>\n",
       "      <th>mall_lat</th>\n",
       "    </tr>\n",
       "  </thead>\n",
       "  <tbody>\n",
       "    <tr>\n",
       "      <th>0</th>\n",
       "      <td>0</td>\n",
       "      <td>55.763874</td>\n",
       "      <td>37.637253</td>\n",
       "      <td>37.606840</td>\n",
       "      <td>55.611088</td>\n",
       "    </tr>\n",
       "    <tr>\n",
       "      <th>1</th>\n",
       "      <td>0</td>\n",
       "      <td>55.763874</td>\n",
       "      <td>37.637253</td>\n",
       "      <td>37.844990</td>\n",
       "      <td>55.764210</td>\n",
       "    </tr>\n",
       "    <tr>\n",
       "      <th>2</th>\n",
       "      <td>0</td>\n",
       "      <td>55.763874</td>\n",
       "      <td>37.637253</td>\n",
       "      <td>37.530980</td>\n",
       "      <td>55.606438</td>\n",
       "    </tr>\n",
       "    <tr>\n",
       "      <th>3</th>\n",
       "      <td>0</td>\n",
       "      <td>55.763874</td>\n",
       "      <td>37.637253</td>\n",
       "      <td>37.545452</td>\n",
       "      <td>55.863670</td>\n",
       "    </tr>\n",
       "    <tr>\n",
       "      <th>4</th>\n",
       "      <td>0</td>\n",
       "      <td>55.763874</td>\n",
       "      <td>37.637253</td>\n",
       "      <td>37.745007</td>\n",
       "      <td>55.891644</td>\n",
       "    </tr>\n",
       "  </tbody>\n",
       "</table>\n",
       "</div>"
      ],
      "text/plain": [
       "   index        lat        lon   mall_lon   mall_lat\n",
       "0      0  55.763874  37.637253  37.606840  55.611088\n",
       "1      0  55.763874  37.637253  37.844990  55.764210\n",
       "2      0  55.763874  37.637253  37.530980  55.606438\n",
       "3      0  55.763874  37.637253  37.545452  55.863670\n",
       "4      0  55.763874  37.637253  37.745007  55.891644"
      ]
     },
     "execution_count": 15,
     "metadata": {},
     "output_type": "execute_result"
    }
   ],
   "source": [
    "data_points2malls.head()"
   ]
  },
  {
   "cell_type": "code",
   "execution_count": 16,
   "metadata": {},
   "outputs": [
    {
     "name": "stdout",
     "output_type": "stream",
     "text": [
      "<class 'pandas.core.frame.DataFrame'>\n",
      "Int64Index: 46624 entries, 0 to 46623\n",
      "Data columns (total 5 columns):\n",
      " #   Column    Non-Null Count  Dtype  \n",
      "---  ------    --------------  -----  \n",
      " 0   index     46624 non-null  int64  \n",
      " 1   lat       46624 non-null  float64\n",
      " 2   lon       46624 non-null  float64\n",
      " 3   mall_lon  46624 non-null  float64\n",
      " 4   mall_lat  46624 non-null  float64\n",
      "dtypes: float64(4), int64(1)\n",
      "memory usage: 2.1 MB\n"
     ]
    }
   ],
   "source": [
    "data_points2malls.info()"
   ]
  },
  {
   "cell_type": "code",
   "execution_count": 17,
   "metadata": {},
   "outputs": [],
   "source": [
    "def f_dist(df, col_lat_1, col_lon_1, col_lat_2, col_lon_2, col_dist):\n",
    "    \n",
    "    lat_1 = math.pi/180 * df[col_lat_1].to_numpy()\n",
    "    lon_1 = math.pi/180 * df[col_lon_1].to_numpy()\n",
    "    lat_2 = math.pi/180 * df[col_lat_2].to_numpy()\n",
    "    lon_2 = math.pi/180 * df[col_lon_2].to_numpy()\n",
    "    \n",
    "    dlon = lon_1 - lon_2\n",
    "    dlat = lat_1 - lat_2\n",
    "    a = np.sin(dlat/2)**2 + np.cos(lat_1) * np.cos(lat_2) * np.sin(dlon/2)**2\n",
    "    c = 2 * np.arcsin(np.sqrt(a))\n",
    "    dist = c * 6371.009\n",
    "    \n",
    "    df[col_dist] = dist\n",
    "    \n",
    "    return df"
   ]
  },
  {
   "cell_type": "code",
   "execution_count": 18,
   "metadata": {},
   "outputs": [
    {
     "name": "stdout",
     "output_type": "stream",
     "text": [
      "CPU times: user 10.1 ms, sys: 4.51 ms, total: 14.6 ms\n",
      "Wall time: 11.5 ms\n"
     ]
    }
   ],
   "source": [
    "%%time\n",
    "data_points2malls = f_dist(data_points2malls, 'lat', 'lon', 'mall_lat', 'mall_lon', 'dist')"
   ]
  },
  {
   "cell_type": "code",
   "execution_count": 19,
   "metadata": {},
   "outputs": [
    {
     "data": {
      "text/html": [
       "<div>\n",
       "<style scoped>\n",
       "    .dataframe tbody tr th:only-of-type {\n",
       "        vertical-align: middle;\n",
       "    }\n",
       "\n",
       "    .dataframe tbody tr th {\n",
       "        vertical-align: top;\n",
       "    }\n",
       "\n",
       "    .dataframe thead th {\n",
       "        text-align: right;\n",
       "    }\n",
       "</style>\n",
       "<table border=\"1\" class=\"dataframe\">\n",
       "  <thead>\n",
       "    <tr style=\"text-align: right;\">\n",
       "      <th></th>\n",
       "      <th>index</th>\n",
       "      <th>lat</th>\n",
       "      <th>lon</th>\n",
       "      <th>mall_lon</th>\n",
       "      <th>mall_lat</th>\n",
       "      <th>dist</th>\n",
       "    </tr>\n",
       "  </thead>\n",
       "  <tbody>\n",
       "    <tr>\n",
       "      <th>0</th>\n",
       "      <td>0</td>\n",
       "      <td>55.763874</td>\n",
       "      <td>37.637253</td>\n",
       "      <td>37.606840</td>\n",
       "      <td>55.611088</td>\n",
       "      <td>17.095671</td>\n",
       "    </tr>\n",
       "    <tr>\n",
       "      <th>1</th>\n",
       "      <td>0</td>\n",
       "      <td>55.763874</td>\n",
       "      <td>37.637253</td>\n",
       "      <td>37.844990</td>\n",
       "      <td>55.764210</td>\n",
       "      <td>12.995787</td>\n",
       "    </tr>\n",
       "    <tr>\n",
       "      <th>2</th>\n",
       "      <td>0</td>\n",
       "      <td>55.763874</td>\n",
       "      <td>37.637253</td>\n",
       "      <td>37.530980</td>\n",
       "      <td>55.606438</td>\n",
       "      <td>18.730787</td>\n",
       "    </tr>\n",
       "    <tr>\n",
       "      <th>3</th>\n",
       "      <td>0</td>\n",
       "      <td>55.763874</td>\n",
       "      <td>37.637253</td>\n",
       "      <td>37.545452</td>\n",
       "      <td>55.863670</td>\n",
       "      <td>12.491467</td>\n",
       "    </tr>\n",
       "    <tr>\n",
       "      <th>4</th>\n",
       "      <td>0</td>\n",
       "      <td>55.763874</td>\n",
       "      <td>37.637253</td>\n",
       "      <td>37.745007</td>\n",
       "      <td>55.891644</td>\n",
       "      <td>15.720744</td>\n",
       "    </tr>\n",
       "  </tbody>\n",
       "</table>\n",
       "</div>"
      ],
      "text/plain": [
       "   index        lat        lon   mall_lon   mall_lat       dist\n",
       "0      0  55.763874  37.637253  37.606840  55.611088  17.095671\n",
       "1      0  55.763874  37.637253  37.844990  55.764210  12.995787\n",
       "2      0  55.763874  37.637253  37.530980  55.606438  18.730787\n",
       "3      0  55.763874  37.637253  37.545452  55.863670  12.491467\n",
       "4      0  55.763874  37.637253  37.745007  55.891644  15.720744"
      ]
     },
     "execution_count": 19,
     "metadata": {},
     "output_type": "execute_result"
    }
   ],
   "source": [
    "data_points2malls.head()"
   ]
  },
  {
   "cell_type": "markdown",
   "metadata": {},
   "source": [
    "# Update Points"
   ]
  },
  {
   "cell_type": "code",
   "execution_count": 20,
   "metadata": {},
   "outputs": [
    {
     "name": "stdout",
     "output_type": "stream",
     "text": [
      "CPU times: user 225 ms, sys: 45.6 ms, total: 270 ms\n",
      "Wall time: 258 ms\n"
     ]
    }
   ],
   "source": [
    "%%time\n",
    "data_points2malls_min = data_points2malls[['index', 'dist']].groupby('index').min().reset_index()"
   ]
  },
  {
   "cell_type": "code",
   "execution_count": 21,
   "metadata": {},
   "outputs": [
    {
     "data": {
      "text/html": [
       "<div>\n",
       "<style scoped>\n",
       "    .dataframe tbody tr th:only-of-type {\n",
       "        vertical-align: middle;\n",
       "    }\n",
       "\n",
       "    .dataframe tbody tr th {\n",
       "        vertical-align: top;\n",
       "    }\n",
       "\n",
       "    .dataframe thead th {\n",
       "        text-align: right;\n",
       "    }\n",
       "</style>\n",
       "<table border=\"1\" class=\"dataframe\">\n",
       "  <thead>\n",
       "    <tr style=\"text-align: right;\">\n",
       "      <th></th>\n",
       "      <th>index</th>\n",
       "      <th>dist</th>\n",
       "    </tr>\n",
       "  </thead>\n",
       "  <tbody>\n",
       "    <tr>\n",
       "      <th>0</th>\n",
       "      <td>0</td>\n",
       "      <td>0.961460</td>\n",
       "    </tr>\n",
       "    <tr>\n",
       "      <th>1</th>\n",
       "      <td>1</td>\n",
       "      <td>0.496921</td>\n",
       "    </tr>\n",
       "    <tr>\n",
       "      <th>2</th>\n",
       "      <td>2</td>\n",
       "      <td>0.042458</td>\n",
       "    </tr>\n",
       "    <tr>\n",
       "      <th>3</th>\n",
       "      <td>3</td>\n",
       "      <td>0.691111</td>\n",
       "    </tr>\n",
       "    <tr>\n",
       "      <th>4</th>\n",
       "      <td>4</td>\n",
       "      <td>0.620061</td>\n",
       "    </tr>\n",
       "  </tbody>\n",
       "</table>\n",
       "</div>"
      ],
      "text/plain": [
       "   index      dist\n",
       "0      0  0.961460\n",
       "1      1  0.496921\n",
       "2      2  0.042458\n",
       "3      3  0.691111\n",
       "4      4  0.620061"
      ]
     },
     "execution_count": 21,
     "metadata": {},
     "output_type": "execute_result"
    }
   ],
   "source": [
    "data_points2malls_min.head()"
   ]
  },
  {
   "cell_type": "code",
   "execution_count": 22,
   "metadata": {},
   "outputs": [
    {
     "data": {
      "text/plain": [
       "(496, 2)"
      ]
     },
     "execution_count": 22,
     "metadata": {},
     "output_type": "execute_result"
    }
   ],
   "source": [
    "data_points2malls_min.shape"
   ]
  },
  {
   "cell_type": "code",
   "execution_count": 23,
   "metadata": {},
   "outputs": [],
   "source": [
    "data_points2malls_min.set_index('index', inplace=True)"
   ]
  },
  {
   "cell_type": "code",
   "execution_count": 24,
   "metadata": {},
   "outputs": [
    {
     "data": {
      "text/html": [
       "<div>\n",
       "<style scoped>\n",
       "    .dataframe tbody tr th:only-of-type {\n",
       "        vertical-align: middle;\n",
       "    }\n",
       "\n",
       "    .dataframe tbody tr th {\n",
       "        vertical-align: top;\n",
       "    }\n",
       "\n",
       "    .dataframe thead th {\n",
       "        text-align: right;\n",
       "    }\n",
       "</style>\n",
       "<table border=\"1\" class=\"dataframe\">\n",
       "  <thead>\n",
       "    <tr style=\"text-align: right;\">\n",
       "      <th></th>\n",
       "      <th>dist</th>\n",
       "    </tr>\n",
       "    <tr>\n",
       "      <th>index</th>\n",
       "      <th></th>\n",
       "    </tr>\n",
       "  </thead>\n",
       "  <tbody>\n",
       "    <tr>\n",
       "      <th>0</th>\n",
       "      <td>0.961460</td>\n",
       "    </tr>\n",
       "    <tr>\n",
       "      <th>1</th>\n",
       "      <td>0.496921</td>\n",
       "    </tr>\n",
       "    <tr>\n",
       "      <th>2</th>\n",
       "      <td>0.042458</td>\n",
       "    </tr>\n",
       "    <tr>\n",
       "      <th>3</th>\n",
       "      <td>0.691111</td>\n",
       "    </tr>\n",
       "    <tr>\n",
       "      <th>4</th>\n",
       "      <td>0.620061</td>\n",
       "    </tr>\n",
       "  </tbody>\n",
       "</table>\n",
       "</div>"
      ],
      "text/plain": [
       "           dist\n",
       "index          \n",
       "0      0.961460\n",
       "1      0.496921\n",
       "2      0.042458\n",
       "3      0.691111\n",
       "4      0.620061"
      ]
     },
     "execution_count": 24,
     "metadata": {},
     "output_type": "execute_result"
    }
   ],
   "source": [
    "data_points2malls_min.head()"
   ]
  },
  {
   "cell_type": "code",
   "execution_count": 25,
   "metadata": {},
   "outputs": [
    {
     "name": "stdout",
     "output_type": "stream",
     "text": [
      "CPU times: user 3.01 ms, sys: 0 ns, total: 3.01 ms\n",
      "Wall time: 2.7 ms\n"
     ]
    }
   ],
   "source": [
    "%%time\n",
    "data_points = data_points.merge(data_points2malls_min, left_index=True, right_index=True, how='left')"
   ]
  },
  {
   "cell_type": "code",
   "execution_count": 26,
   "metadata": {},
   "outputs": [],
   "source": [
    "data_points.rename(columns={'dist':'dist_to_mall'}, inplace=True)"
   ]
  },
  {
   "cell_type": "code",
   "execution_count": 27,
   "metadata": {},
   "outputs": [
    {
     "data": {
      "text/html": [
       "<div>\n",
       "<style scoped>\n",
       "    .dataframe tbody tr th:only-of-type {\n",
       "        vertical-align: middle;\n",
       "    }\n",
       "\n",
       "    .dataframe tbody tr th {\n",
       "        vertical-align: top;\n",
       "    }\n",
       "\n",
       "    .dataframe thead th {\n",
       "        text-align: right;\n",
       "    }\n",
       "</style>\n",
       "<table border=\"1\" class=\"dataframe\">\n",
       "  <thead>\n",
       "    <tr style=\"text-align: right;\">\n",
       "      <th></th>\n",
       "      <th>address</th>\n",
       "      <th>coordinates</th>\n",
       "      <th>lat</th>\n",
       "      <th>lon</th>\n",
       "      <th>dist_to_mall</th>\n",
       "    </tr>\n",
       "  </thead>\n",
       "  <tbody>\n",
       "    <tr>\n",
       "      <th>0</th>\n",
       "      <td>г Москва , Мясницкая ул, 26</td>\n",
       "      <td>[55.763874, 37.637253]</td>\n",
       "      <td>55.763874</td>\n",
       "      <td>37.637253</td>\n",
       "      <td>0.961460</td>\n",
       "    </tr>\n",
       "    <tr>\n",
       "      <th>1</th>\n",
       "      <td>г Москва , Старая пл, 2/14, стр.1</td>\n",
       "      <td>[55.75586, 37.629196]</td>\n",
       "      <td>55.755860</td>\n",
       "      <td>37.629196</td>\n",
       "      <td>0.496921</td>\n",
       "    </tr>\n",
       "    <tr>\n",
       "      <th>2</th>\n",
       "      <td>г Москва , Охотный Ряд ул, 1</td>\n",
       "      <td>[55.757416, 37.61613]</td>\n",
       "      <td>55.757416</td>\n",
       "      <td>37.616130</td>\n",
       "      <td>0.042458</td>\n",
       "    </tr>\n",
       "    <tr>\n",
       "      <th>3</th>\n",
       "      <td>г Москва , Краснопресненская наб, 2, стр.1</td>\n",
       "      <td>[55.755093, 37.572784]</td>\n",
       "      <td>55.755093</td>\n",
       "      <td>37.572784</td>\n",
       "      <td>0.691111</td>\n",
       "    </tr>\n",
       "    <tr>\n",
       "      <th>4</th>\n",
       "      <td>г Москва , Дмитровка Б. ул, 26</td>\n",
       "      <td>[55.76444, 37.612213]</td>\n",
       "      <td>55.764440</td>\n",
       "      <td>37.612213</td>\n",
       "      <td>0.620061</td>\n",
       "    </tr>\n",
       "  </tbody>\n",
       "</table>\n",
       "</div>"
      ],
      "text/plain": [
       "                                      address             coordinates  \\\n",
       "0                 г Москва , Мясницкая ул, 26  [55.763874, 37.637253]   \n",
       "1           г Москва , Старая пл, 2/14, стр.1   [55.75586, 37.629196]   \n",
       "2                г Москва , Охотный Ряд ул, 1   [55.757416, 37.61613]   \n",
       "3  г Москва , Краснопресненская наб, 2, стр.1  [55.755093, 37.572784]   \n",
       "4              г Москва , Дмитровка Б. ул, 26   [55.76444, 37.612213]   \n",
       "\n",
       "         lat        lon  dist_to_mall  \n",
       "0  55.763874  37.637253      0.961460  \n",
       "1  55.755860  37.629196      0.496921  \n",
       "2  55.757416  37.616130      0.042458  \n",
       "3  55.755093  37.572784      0.691111  \n",
       "4  55.764440  37.612213      0.620061  "
      ]
     },
     "execution_count": 27,
     "metadata": {},
     "output_type": "execute_result"
    }
   ],
   "source": [
    "data_points.head()"
   ]
  },
  {
   "cell_type": "code",
   "execution_count": 28,
   "metadata": {},
   "outputs": [],
   "source": [
    "def f_gr(val, gr):\n",
    "    return int(val / gr) * gr"
   ]
  },
  {
   "cell_type": "code",
   "execution_count": 29,
   "metadata": {},
   "outputs": [],
   "source": [
    "data_points['dist_to_mall_gr'] = data_points['dist_to_mall'].apply(f_gr, args=(0.5,))\n",
    "data_points.loc[data_points['dist_to_mall_gr']>15, 'dist_to_mall_gr'] = 15"
   ]
  },
  {
   "cell_type": "code",
   "execution_count": 30,
   "metadata": {},
   "outputs": [
    {
     "data": {
      "text/html": [
       "<div>\n",
       "<style scoped>\n",
       "    .dataframe tbody tr th:only-of-type {\n",
       "        vertical-align: middle;\n",
       "    }\n",
       "\n",
       "    .dataframe tbody tr th {\n",
       "        vertical-align: top;\n",
       "    }\n",
       "\n",
       "    .dataframe thead th {\n",
       "        text-align: right;\n",
       "    }\n",
       "</style>\n",
       "<table border=\"1\" class=\"dataframe\">\n",
       "  <thead>\n",
       "    <tr style=\"text-align: right;\">\n",
       "      <th></th>\n",
       "      <th>address</th>\n",
       "      <th>coordinates</th>\n",
       "      <th>lat</th>\n",
       "      <th>lon</th>\n",
       "      <th>dist_to_mall</th>\n",
       "      <th>dist_to_mall_gr</th>\n",
       "    </tr>\n",
       "  </thead>\n",
       "  <tbody>\n",
       "    <tr>\n",
       "      <th>0</th>\n",
       "      <td>г Москва , Мясницкая ул, 26</td>\n",
       "      <td>[55.763874, 37.637253]</td>\n",
       "      <td>55.763874</td>\n",
       "      <td>37.637253</td>\n",
       "      <td>0.961460</td>\n",
       "      <td>0.5</td>\n",
       "    </tr>\n",
       "    <tr>\n",
       "      <th>1</th>\n",
       "      <td>г Москва , Старая пл, 2/14, стр.1</td>\n",
       "      <td>[55.75586, 37.629196]</td>\n",
       "      <td>55.755860</td>\n",
       "      <td>37.629196</td>\n",
       "      <td>0.496921</td>\n",
       "      <td>0.0</td>\n",
       "    </tr>\n",
       "    <tr>\n",
       "      <th>2</th>\n",
       "      <td>г Москва , Охотный Ряд ул, 1</td>\n",
       "      <td>[55.757416, 37.61613]</td>\n",
       "      <td>55.757416</td>\n",
       "      <td>37.616130</td>\n",
       "      <td>0.042458</td>\n",
       "      <td>0.0</td>\n",
       "    </tr>\n",
       "    <tr>\n",
       "      <th>3</th>\n",
       "      <td>г Москва , Краснопресненская наб, 2, стр.1</td>\n",
       "      <td>[55.755093, 37.572784]</td>\n",
       "      <td>55.755093</td>\n",
       "      <td>37.572784</td>\n",
       "      <td>0.691111</td>\n",
       "      <td>0.5</td>\n",
       "    </tr>\n",
       "    <tr>\n",
       "      <th>4</th>\n",
       "      <td>г Москва , Дмитровка Б. ул, 26</td>\n",
       "      <td>[55.76444, 37.612213]</td>\n",
       "      <td>55.764440</td>\n",
       "      <td>37.612213</td>\n",
       "      <td>0.620061</td>\n",
       "      <td>0.5</td>\n",
       "    </tr>\n",
       "  </tbody>\n",
       "</table>\n",
       "</div>"
      ],
      "text/plain": [
       "                                      address             coordinates  \\\n",
       "0                 г Москва , Мясницкая ул, 26  [55.763874, 37.637253]   \n",
       "1           г Москва , Старая пл, 2/14, стр.1   [55.75586, 37.629196]   \n",
       "2                г Москва , Охотный Ряд ул, 1   [55.757416, 37.61613]   \n",
       "3  г Москва , Краснопресненская наб, 2, стр.1  [55.755093, 37.572784]   \n",
       "4              г Москва , Дмитровка Б. ул, 26   [55.76444, 37.612213]   \n",
       "\n",
       "         lat        lon  dist_to_mall  dist_to_mall_gr  \n",
       "0  55.763874  37.637253      0.961460              0.5  \n",
       "1  55.755860  37.629196      0.496921              0.0  \n",
       "2  55.757416  37.616130      0.042458              0.0  \n",
       "3  55.755093  37.572784      0.691111              0.5  \n",
       "4  55.764440  37.612213      0.620061              0.5  "
      ]
     },
     "execution_count": 30,
     "metadata": {},
     "output_type": "execute_result"
    }
   ],
   "source": [
    "data_points.head()"
   ]
  },
  {
   "cell_type": "code",
   "execution_count": 31,
   "metadata": {},
   "outputs": [
    {
     "data": {
      "text/html": [
       "<div>\n",
       "<style scoped>\n",
       "    .dataframe tbody tr th:only-of-type {\n",
       "        vertical-align: middle;\n",
       "    }\n",
       "\n",
       "    .dataframe tbody tr th {\n",
       "        vertical-align: top;\n",
       "    }\n",
       "\n",
       "    .dataframe thead th {\n",
       "        text-align: right;\n",
       "    }\n",
       "</style>\n",
       "<table border=\"1\" class=\"dataframe\">\n",
       "  <thead>\n",
       "    <tr style=\"text-align: right;\">\n",
       "      <th></th>\n",
       "      <th>dist_to_mall_gr</th>\n",
       "      <th>count</th>\n",
       "    </tr>\n",
       "  </thead>\n",
       "  <tbody>\n",
       "    <tr>\n",
       "      <th>0</th>\n",
       "      <td>0.0</td>\n",
       "      <td>61</td>\n",
       "    </tr>\n",
       "    <tr>\n",
       "      <th>1</th>\n",
       "      <td>0.5</td>\n",
       "      <td>90</td>\n",
       "    </tr>\n",
       "    <tr>\n",
       "      <th>2</th>\n",
       "      <td>1.0</td>\n",
       "      <td>93</td>\n",
       "    </tr>\n",
       "    <tr>\n",
       "      <th>3</th>\n",
       "      <td>1.5</td>\n",
       "      <td>61</td>\n",
       "    </tr>\n",
       "    <tr>\n",
       "      <th>4</th>\n",
       "      <td>2.0</td>\n",
       "      <td>63</td>\n",
       "    </tr>\n",
       "    <tr>\n",
       "      <th>5</th>\n",
       "      <td>2.5</td>\n",
       "      <td>35</td>\n",
       "    </tr>\n",
       "    <tr>\n",
       "      <th>6</th>\n",
       "      <td>3.0</td>\n",
       "      <td>28</td>\n",
       "    </tr>\n",
       "    <tr>\n",
       "      <th>7</th>\n",
       "      <td>3.5</td>\n",
       "      <td>18</td>\n",
       "    </tr>\n",
       "    <tr>\n",
       "      <th>8</th>\n",
       "      <td>4.0</td>\n",
       "      <td>8</td>\n",
       "    </tr>\n",
       "    <tr>\n",
       "      <th>9</th>\n",
       "      <td>4.5</td>\n",
       "      <td>9</td>\n",
       "    </tr>\n",
       "    <tr>\n",
       "      <th>10</th>\n",
       "      <td>5.0</td>\n",
       "      <td>5</td>\n",
       "    </tr>\n",
       "    <tr>\n",
       "      <th>11</th>\n",
       "      <td>5.5</td>\n",
       "      <td>4</td>\n",
       "    </tr>\n",
       "    <tr>\n",
       "      <th>12</th>\n",
       "      <td>6.0</td>\n",
       "      <td>2</td>\n",
       "    </tr>\n",
       "    <tr>\n",
       "      <th>13</th>\n",
       "      <td>6.5</td>\n",
       "      <td>4</td>\n",
       "    </tr>\n",
       "    <tr>\n",
       "      <th>14</th>\n",
       "      <td>7.0</td>\n",
       "      <td>2</td>\n",
       "    </tr>\n",
       "    <tr>\n",
       "      <th>15</th>\n",
       "      <td>10.0</td>\n",
       "      <td>1</td>\n",
       "    </tr>\n",
       "    <tr>\n",
       "      <th>16</th>\n",
       "      <td>14.5</td>\n",
       "      <td>1</td>\n",
       "    </tr>\n",
       "    <tr>\n",
       "      <th>17</th>\n",
       "      <td>15.0</td>\n",
       "      <td>11</td>\n",
       "    </tr>\n",
       "  </tbody>\n",
       "</table>\n",
       "</div>"
      ],
      "text/plain": [
       "    dist_to_mall_gr  count\n",
       "0               0.0     61\n",
       "1               0.5     90\n",
       "2               1.0     93\n",
       "3               1.5     61\n",
       "4               2.0     63\n",
       "5               2.5     35\n",
       "6               3.0     28\n",
       "7               3.5     18\n",
       "8               4.0      8\n",
       "9               4.5      9\n",
       "10              5.0      5\n",
       "11              5.5      4\n",
       "12              6.0      2\n",
       "13              6.5      4\n",
       "14              7.0      2\n",
       "15             10.0      1\n",
       "16             14.5      1\n",
       "17             15.0     11"
      ]
     },
     "execution_count": 31,
     "metadata": {},
     "output_type": "execute_result"
    }
   ],
   "source": [
    "data_points_gr = data_points[['dist_to_mall_gr']].groupby('dist_to_mall_gr').size().reset_index(name='count')\n",
    "data_points_gr"
   ]
  },
  {
   "cell_type": "code",
   "execution_count": null,
   "metadata": {},
   "outputs": [],
   "source": [
    "fig_dist_to_mall = px.bar(data_points_gr, x='dist_to_mall_gr', y='count')"
   ]
  },
  {
   "cell_type": "code",
   "execution_count": 33,
   "metadata": {},
   "outputs": [],
   "source": [
    "fig_dist_to_mall.write_html('fig_dist_to_mall.html')"
   ]
  },
  {
   "cell_type": "code",
   "execution_count": null,
   "metadata": {},
   "outputs": [],
   "source": [
    "with open('data_points.pickle', 'wb') as _f:\n",
    "    pickle.dump(data_points, _f, protocol=pickle.HIGHEST_PROTOCOL)"
   ]
  },
  {
   "cell_type": "code",
   "execution_count": null,
   "metadata": {},
   "outputs": [],
   "source": [
    "with open('data_points.pickle', 'rb') as _f:\n",
    "    data_points = pickle.load(_f)"
   ]
  },
  {
   "cell_type": "code",
   "execution_count": null,
   "metadata": {},
   "outputs": [],
   "source": []
  }
 ],
 "metadata": {
  "kernelspec": {
   "display_name": "new_env",
   "language": "python",
   "name": "new_env"
  },
  "language_info": {
   "codemirror_mode": {
    "name": "ipython",
    "version": 3
   },
   "file_extension": ".py",
   "mimetype": "text/x-python",
   "name": "python",
   "nbconvert_exporter": "python",
   "pygments_lexer": "ipython3",
   "version": "3.8.6"
  }
 },
 "nbformat": 4,
 "nbformat_minor": 4
}

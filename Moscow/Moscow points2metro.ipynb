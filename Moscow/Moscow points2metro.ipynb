{
 "cells": [
  {
   "cell_type": "code",
   "execution_count": 48,
   "metadata": {},
   "outputs": [],
   "source": [
    "import pandas as pd\n",
    "import numpy as np\n",
    "from numpy import inf, mean, median\n",
    "import math\n",
    "import datetime\n",
    "import json\n",
    "import os\n",
    "import glob\n",
    "import pickle\n",
    "import requests\n",
    "# import requests_cache\n",
    "import plotly.graph_objects as go\n",
    "import plotly.express as px\n",
    "import folium\n",
    "from folium.plugins import MarkerCluster, HeatMap\n",
    "import geopandas as gpd\n",
    "import osm2geojson\n",
    "import geojson\n",
    "import shapely\n",
    "from shapely import wkt\n",
    "from shapely.geometry import Point, Polygon, LineString"
   ]
  },
  {
   "cell_type": "markdown",
   "metadata": {},
   "source": [
    "# Load Points"
   ]
  },
  {
   "cell_type": "code",
   "execution_count": 2,
   "metadata": {},
   "outputs": [],
   "source": [
    "data_points = pd.read_csv('data_post_offices.csv', sep=';')"
   ]
  },
  {
   "cell_type": "code",
   "execution_count": 3,
   "metadata": {},
   "outputs": [
    {
     "data": {
      "text/html": [
       "<div>\n",
       "<style scoped>\n",
       "    .dataframe tbody tr th:only-of-type {\n",
       "        vertical-align: middle;\n",
       "    }\n",
       "\n",
       "    .dataframe tbody tr th {\n",
       "        vertical-align: top;\n",
       "    }\n",
       "\n",
       "    .dataframe thead th {\n",
       "        text-align: right;\n",
       "    }\n",
       "</style>\n",
       "<table border=\"1\" class=\"dataframe\">\n",
       "  <thead>\n",
       "    <tr style=\"text-align: right;\">\n",
       "      <th></th>\n",
       "      <th>post_index</th>\n",
       "      <th>post_address</th>\n",
       "      <th>post_coordinates</th>\n",
       "      <th>post_lat</th>\n",
       "      <th>post_lon</th>\n",
       "    </tr>\n",
       "  </thead>\n",
       "  <tbody>\n",
       "    <tr>\n",
       "      <th>0</th>\n",
       "      <td>101000</td>\n",
       "      <td>г Москва , Мясницкая ул, 26</td>\n",
       "      <td>[55.763874, 37.637253]</td>\n",
       "      <td>55.763874</td>\n",
       "      <td>37.637253</td>\n",
       "    </tr>\n",
       "    <tr>\n",
       "      <th>1</th>\n",
       "      <td>103132</td>\n",
       "      <td>г Москва , Старая пл, 2/14, стр.1</td>\n",
       "      <td>[55.75586, 37.629196]</td>\n",
       "      <td>55.755860</td>\n",
       "      <td>37.629196</td>\n",
       "    </tr>\n",
       "    <tr>\n",
       "      <th>2</th>\n",
       "      <td>103265</td>\n",
       "      <td>г Москва , Охотный Ряд ул, 1</td>\n",
       "      <td>[55.757416, 37.61613]</td>\n",
       "      <td>55.757416</td>\n",
       "      <td>37.616130</td>\n",
       "    </tr>\n",
       "    <tr>\n",
       "      <th>3</th>\n",
       "      <td>103274</td>\n",
       "      <td>г Москва , Краснопресненская наб, 2, стр.1</td>\n",
       "      <td>[55.755093, 37.572784]</td>\n",
       "      <td>55.755093</td>\n",
       "      <td>37.572784</td>\n",
       "    </tr>\n",
       "    <tr>\n",
       "      <th>4</th>\n",
       "      <td>103426</td>\n",
       "      <td>г Москва , Дмитровка Б. ул, 26</td>\n",
       "      <td>[55.76444, 37.612213]</td>\n",
       "      <td>55.764440</td>\n",
       "      <td>37.612213</td>\n",
       "    </tr>\n",
       "  </tbody>\n",
       "</table>\n",
       "</div>"
      ],
      "text/plain": [
       "   post_index                                post_address  \\\n",
       "0      101000                 г Москва , Мясницкая ул, 26   \n",
       "1      103132           г Москва , Старая пл, 2/14, стр.1   \n",
       "2      103265                г Москва , Охотный Ряд ул, 1   \n",
       "3      103274  г Москва , Краснопресненская наб, 2, стр.1   \n",
       "4      103426              г Москва , Дмитровка Б. ул, 26   \n",
       "\n",
       "         post_coordinates   post_lat   post_lon  \n",
       "0  [55.763874, 37.637253]  55.763874  37.637253  \n",
       "1   [55.75586, 37.629196]  55.755860  37.629196  \n",
       "2   [55.757416, 37.61613]  55.757416  37.616130  \n",
       "3  [55.755093, 37.572784]  55.755093  37.572784  \n",
       "4   [55.76444, 37.612213]  55.764440  37.612213  "
      ]
     },
     "execution_count": 3,
     "metadata": {},
     "output_type": "execute_result"
    }
   ],
   "source": [
    "data_points.head()"
   ]
  },
  {
   "cell_type": "code",
   "execution_count": 4,
   "metadata": {},
   "outputs": [],
   "source": [
    "data_points.rename(columns={'post_address':'address', 'post_coordinates':'coordinates', 'post_lat':'lat', 'post_lon':'lon'}, inplace=True)\n",
    "data_points.drop('post_index', axis=1, inplace=True)"
   ]
  },
  {
   "cell_type": "code",
   "execution_count": 5,
   "metadata": {},
   "outputs": [
    {
     "name": "stdout",
     "output_type": "stream",
     "text": [
      "<class 'pandas.core.frame.DataFrame'>\n",
      "RangeIndex: 496 entries, 0 to 495\n",
      "Data columns (total 4 columns):\n",
      " #   Column       Non-Null Count  Dtype  \n",
      "---  ------       --------------  -----  \n",
      " 0   address      496 non-null    object \n",
      " 1   coordinates  496 non-null    object \n",
      " 2   lat          496 non-null    float64\n",
      " 3   lon          496 non-null    float64\n",
      "dtypes: float64(2), object(2)\n",
      "memory usage: 15.6+ KB\n"
     ]
    }
   ],
   "source": [
    "data_points.info()"
   ]
  },
  {
   "cell_type": "markdown",
   "metadata": {},
   "source": [
    "# Load Metro Stations"
   ]
  },
  {
   "cell_type": "code",
   "execution_count": 6,
   "metadata": {},
   "outputs": [],
   "source": [
    "with open('data_mos_metro_stations_gdf.pickle', 'rb') as _f:\n",
    "    data_mos_metro_stations_gdf = pickle.load(_f)"
   ]
  },
  {
   "cell_type": "code",
   "execution_count": 7,
   "metadata": {},
   "outputs": [
    {
     "data": {
      "text/html": [
       "<div>\n",
       "<style scoped>\n",
       "    .dataframe tbody tr th:only-of-type {\n",
       "        vertical-align: middle;\n",
       "    }\n",
       "\n",
       "    .dataframe tbody tr th {\n",
       "        vertical-align: top;\n",
       "    }\n",
       "\n",
       "    .dataframe thead th {\n",
       "        text-align: right;\n",
       "    }\n",
       "</style>\n",
       "<table border=\"1\" class=\"dataframe\">\n",
       "  <thead>\n",
       "    <tr style=\"text-align: right;\">\n",
       "      <th></th>\n",
       "      <th>station_name</th>\n",
       "      <th>line_name</th>\n",
       "      <th>geometry</th>\n",
       "      <th>station_point</th>\n",
       "    </tr>\n",
       "  </thead>\n",
       "  <tbody>\n",
       "    <tr>\n",
       "      <th>0</th>\n",
       "      <td>Авиамоторная</td>\n",
       "      <td>Большая кольцевая линия</td>\n",
       "      <td>POINT (37.71948 55.75325)</td>\n",
       "      <td>POINT (37.71948 55.75325)</td>\n",
       "    </tr>\n",
       "    <tr>\n",
       "      <th>1</th>\n",
       "      <td>Авиамоторная</td>\n",
       "      <td>Калининская линия</td>\n",
       "      <td>MULTIPOINT (37.71637 55.75168, 37.71640 55.751...</td>\n",
       "      <td>POINT (37.71680 55.75196)</td>\n",
       "    </tr>\n",
       "    <tr>\n",
       "      <th>2</th>\n",
       "      <td>Автозаводская</td>\n",
       "      <td>Замоскворецкая линия</td>\n",
       "      <td>MULTIPOINT (37.65732 55.70643, 37.65737 55.708...</td>\n",
       "      <td>POINT (37.65737 55.70860)</td>\n",
       "    </tr>\n",
       "    <tr>\n",
       "      <th>3</th>\n",
       "      <td>Автозаводская</td>\n",
       "      <td>Московское центральное кольцо</td>\n",
       "      <td>MULTIPOINT (37.66057 55.70599, 37.66290 55.70537)</td>\n",
       "      <td>POINT (37.66057 55.70599)</td>\n",
       "    </tr>\n",
       "    <tr>\n",
       "      <th>4</th>\n",
       "      <td>Академическая</td>\n",
       "      <td>Калужско-Рижская линия</td>\n",
       "      <td>MULTIPOINT (37.57222 55.68702, 37.57237 55.687...</td>\n",
       "      <td>POINT (37.57306 55.68695)</td>\n",
       "    </tr>\n",
       "  </tbody>\n",
       "</table>\n",
       "</div>"
      ],
      "text/plain": [
       "    station_name                      line_name  \\\n",
       "0   Авиамоторная        Большая кольцевая линия   \n",
       "1   Авиамоторная              Калининская линия   \n",
       "2  Автозаводская           Замоскворецкая линия   \n",
       "3  Автозаводская  Московское центральное кольцо   \n",
       "4  Академическая         Калужско-Рижская линия   \n",
       "\n",
       "                                            geometry  \\\n",
       "0                          POINT (37.71948 55.75325)   \n",
       "1  MULTIPOINT (37.71637 55.75168, 37.71640 55.751...   \n",
       "2  MULTIPOINT (37.65732 55.70643, 37.65737 55.708...   \n",
       "3  MULTIPOINT (37.66057 55.70599, 37.66290 55.70537)   \n",
       "4  MULTIPOINT (37.57222 55.68702, 37.57237 55.687...   \n",
       "\n",
       "               station_point  \n",
       "0  POINT (37.71948 55.75325)  \n",
       "1  POINT (37.71680 55.75196)  \n",
       "2  POINT (37.65737 55.70860)  \n",
       "3  POINT (37.66057 55.70599)  \n",
       "4  POINT (37.57306 55.68695)  "
      ]
     },
     "execution_count": 7,
     "metadata": {},
     "output_type": "execute_result"
    }
   ],
   "source": [
    "data_mos_metro_stations_gdf.head()"
   ]
  },
  {
   "cell_type": "code",
   "execution_count": 8,
   "metadata": {},
   "outputs": [
    {
     "data": {
      "text/plain": [
       "(264, 4)"
      ]
     },
     "execution_count": 8,
     "metadata": {},
     "output_type": "execute_result"
    }
   ],
   "source": [
    "data_mos_metro_stations_gdf.shape"
   ]
  },
  {
   "cell_type": "code",
   "execution_count": 11,
   "metadata": {},
   "outputs": [],
   "source": [
    "data_mos_metro_stations_gdf['station_lon'] = data_mos_metro_stations_gdf['station_point'].x\n",
    "data_mos_metro_stations_gdf['station_lat'] = data_mos_metro_stations_gdf['station_point'].y"
   ]
  },
  {
   "cell_type": "markdown",
   "metadata": {},
   "source": [
    "# Points To Metro Stations"
   ]
  },
  {
   "cell_type": "code",
   "execution_count": 9,
   "metadata": {},
   "outputs": [],
   "source": [
    "data_points_2 = data_points.loc[(pd.notnull(data_points['lat']))&(pd.notnull(data_points['lon'])), ['lat', 'lon']].reset_index()"
   ]
  },
  {
   "cell_type": "code",
   "execution_count": 10,
   "metadata": {},
   "outputs": [
    {
     "name": "stdout",
     "output_type": "stream",
     "text": [
      "<class 'pandas.core.frame.DataFrame'>\n",
      "RangeIndex: 496 entries, 0 to 495\n",
      "Data columns (total 3 columns):\n",
      " #   Column  Non-Null Count  Dtype  \n",
      "---  ------  --------------  -----  \n",
      " 0   index   496 non-null    int64  \n",
      " 1   lat     496 non-null    float64\n",
      " 2   lon     496 non-null    float64\n",
      "dtypes: float64(2), int64(1)\n",
      "memory usage: 11.8 KB\n"
     ]
    }
   ],
   "source": [
    "data_points_2.info()"
   ]
  },
  {
   "cell_type": "code",
   "execution_count": 13,
   "metadata": {},
   "outputs": [],
   "source": [
    "data_mos_metro_stations_gdf_2 = data_mos_metro_stations_gdf.loc[(pd.notnull(data_mos_metro_stations_gdf['station_lat']))&(pd.notnull(data_mos_metro_stations_gdf['station_lon'])), ['station_lon', 'station_lat']]"
   ]
  },
  {
   "cell_type": "code",
   "execution_count": 14,
   "metadata": {},
   "outputs": [
    {
     "name": "stdout",
     "output_type": "stream",
     "text": [
      "<class 'geopandas.geodataframe.GeoDataFrame'>\n",
      "Int64Index: 264 entries, 0 to 263\n",
      "Data columns (total 2 columns):\n",
      " #   Column       Non-Null Count  Dtype  \n",
      "---  ------       --------------  -----  \n",
      " 0   station_lon  264 non-null    float64\n",
      " 1   station_lat  264 non-null    float64\n",
      "dtypes: float64(2)\n",
      "memory usage: 6.2 KB\n"
     ]
    }
   ],
   "source": [
    "data_mos_metro_stations_gdf_2.info()"
   ]
  },
  {
   "cell_type": "code",
   "execution_count": 15,
   "metadata": {},
   "outputs": [
    {
     "name": "stdout",
     "output_type": "stream",
     "text": [
      "CPU times: user 27 ms, sys: 41.5 ms, total: 68.6 ms\n",
      "Wall time: 65.7 ms\n"
     ]
    }
   ],
   "source": [
    "%%time\n",
    "data_points2metro = pd.merge(data_points_2[['index', 'lat', 'lon']],\n",
    "                             data_mos_metro_stations_gdf_2,\n",
    "                             how='cross',\n",
    "                            )"
   ]
  },
  {
   "cell_type": "code",
   "execution_count": 16,
   "metadata": {},
   "outputs": [
    {
     "data": {
      "text/plain": [
       "(130944, 5)"
      ]
     },
     "execution_count": 16,
     "metadata": {},
     "output_type": "execute_result"
    }
   ],
   "source": [
    "data_points2metro.shape"
   ]
  },
  {
   "cell_type": "code",
   "execution_count": 17,
   "metadata": {},
   "outputs": [
    {
     "data": {
      "text/html": [
       "<div>\n",
       "<style scoped>\n",
       "    .dataframe tbody tr th:only-of-type {\n",
       "        vertical-align: middle;\n",
       "    }\n",
       "\n",
       "    .dataframe tbody tr th {\n",
       "        vertical-align: top;\n",
       "    }\n",
       "\n",
       "    .dataframe thead th {\n",
       "        text-align: right;\n",
       "    }\n",
       "</style>\n",
       "<table border=\"1\" class=\"dataframe\">\n",
       "  <thead>\n",
       "    <tr style=\"text-align: right;\">\n",
       "      <th></th>\n",
       "      <th>index</th>\n",
       "      <th>lat</th>\n",
       "      <th>lon</th>\n",
       "      <th>station_lon</th>\n",
       "      <th>station_lat</th>\n",
       "    </tr>\n",
       "  </thead>\n",
       "  <tbody>\n",
       "    <tr>\n",
       "      <th>0</th>\n",
       "      <td>0</td>\n",
       "      <td>55.763874</td>\n",
       "      <td>37.637253</td>\n",
       "      <td>37.719478</td>\n",
       "      <td>55.753246</td>\n",
       "    </tr>\n",
       "    <tr>\n",
       "      <th>1</th>\n",
       "      <td>0</td>\n",
       "      <td>55.763874</td>\n",
       "      <td>37.637253</td>\n",
       "      <td>37.716800</td>\n",
       "      <td>55.751956</td>\n",
       "    </tr>\n",
       "    <tr>\n",
       "      <th>2</th>\n",
       "      <td>0</td>\n",
       "      <td>55.763874</td>\n",
       "      <td>37.637253</td>\n",
       "      <td>37.657373</td>\n",
       "      <td>55.708597</td>\n",
       "    </tr>\n",
       "    <tr>\n",
       "      <th>3</th>\n",
       "      <td>0</td>\n",
       "      <td>55.763874</td>\n",
       "      <td>37.637253</td>\n",
       "      <td>37.660571</td>\n",
       "      <td>55.705993</td>\n",
       "    </tr>\n",
       "    <tr>\n",
       "      <th>4</th>\n",
       "      <td>0</td>\n",
       "      <td>55.763874</td>\n",
       "      <td>37.637253</td>\n",
       "      <td>37.573061</td>\n",
       "      <td>55.686951</td>\n",
       "    </tr>\n",
       "  </tbody>\n",
       "</table>\n",
       "</div>"
      ],
      "text/plain": [
       "   index        lat        lon  station_lon  station_lat\n",
       "0      0  55.763874  37.637253    37.719478    55.753246\n",
       "1      0  55.763874  37.637253    37.716800    55.751956\n",
       "2      0  55.763874  37.637253    37.657373    55.708597\n",
       "3      0  55.763874  37.637253    37.660571    55.705993\n",
       "4      0  55.763874  37.637253    37.573061    55.686951"
      ]
     },
     "execution_count": 17,
     "metadata": {},
     "output_type": "execute_result"
    }
   ],
   "source": [
    "data_points2metro.head()"
   ]
  },
  {
   "cell_type": "code",
   "execution_count": 18,
   "metadata": {},
   "outputs": [
    {
     "name": "stdout",
     "output_type": "stream",
     "text": [
      "<class 'pandas.core.frame.DataFrame'>\n",
      "Int64Index: 130944 entries, 0 to 130943\n",
      "Data columns (total 5 columns):\n",
      " #   Column       Non-Null Count   Dtype  \n",
      "---  ------       --------------   -----  \n",
      " 0   index        130944 non-null  int64  \n",
      " 1   lat          130944 non-null  float64\n",
      " 2   lon          130944 non-null  float64\n",
      " 3   station_lon  130944 non-null  float64\n",
      " 4   station_lat  130944 non-null  float64\n",
      "dtypes: float64(4), int64(1)\n",
      "memory usage: 6.0 MB\n"
     ]
    }
   ],
   "source": [
    "data_points2metro.info()"
   ]
  },
  {
   "cell_type": "code",
   "execution_count": 19,
   "metadata": {},
   "outputs": [],
   "source": [
    "def f_dist(df, col_lat_1, col_lon_1, col_lat_2, col_lon_2, col_dist):\n",
    "    \n",
    "    lat_1 = math.pi/180 * df[col_lat_1].to_numpy()\n",
    "    lon_1 = math.pi/180 * df[col_lon_1].to_numpy()\n",
    "    lat_2 = math.pi/180 * df[col_lat_2].to_numpy()\n",
    "    lon_2 = math.pi/180 * df[col_lon_2].to_numpy()\n",
    "    \n",
    "    dlon = lon_1 - lon_2\n",
    "    dlat = lat_1 - lat_2\n",
    "    a = np.sin(dlat/2)**2 + np.cos(lat_1) * np.cos(lat_2) * np.sin(dlon/2)**2\n",
    "    c = 2 * np.arcsin(np.sqrt(a))\n",
    "    dist = c * 6371.009\n",
    "    \n",
    "    df[col_dist] = dist\n",
    "    \n",
    "    return df"
   ]
  },
  {
   "cell_type": "code",
   "execution_count": 20,
   "metadata": {},
   "outputs": [
    {
     "name": "stdout",
     "output_type": "stream",
     "text": [
      "CPU times: user 73.8 ms, sys: 46 ms, total: 120 ms\n",
      "Wall time: 81.5 ms\n"
     ]
    }
   ],
   "source": [
    "%%time\n",
    "data_points2metro = f_dist(data_points2metro, 'lat', 'lon', 'station_lat', 'station_lon', 'dist')"
   ]
  },
  {
   "cell_type": "code",
   "execution_count": 21,
   "metadata": {},
   "outputs": [
    {
     "data": {
      "text/html": [
       "<div>\n",
       "<style scoped>\n",
       "    .dataframe tbody tr th:only-of-type {\n",
       "        vertical-align: middle;\n",
       "    }\n",
       "\n",
       "    .dataframe tbody tr th {\n",
       "        vertical-align: top;\n",
       "    }\n",
       "\n",
       "    .dataframe thead th {\n",
       "        text-align: right;\n",
       "    }\n",
       "</style>\n",
       "<table border=\"1\" class=\"dataframe\">\n",
       "  <thead>\n",
       "    <tr style=\"text-align: right;\">\n",
       "      <th></th>\n",
       "      <th>index</th>\n",
       "      <th>lat</th>\n",
       "      <th>lon</th>\n",
       "      <th>station_lon</th>\n",
       "      <th>station_lat</th>\n",
       "      <th>dist</th>\n",
       "    </tr>\n",
       "  </thead>\n",
       "  <tbody>\n",
       "    <tr>\n",
       "      <th>0</th>\n",
       "      <td>0</td>\n",
       "      <td>55.763874</td>\n",
       "      <td>37.637253</td>\n",
       "      <td>37.719478</td>\n",
       "      <td>55.753246</td>\n",
       "      <td>5.278595</td>\n",
       "    </tr>\n",
       "    <tr>\n",
       "      <th>1</th>\n",
       "      <td>0</td>\n",
       "      <td>55.763874</td>\n",
       "      <td>37.637253</td>\n",
       "      <td>37.716800</td>\n",
       "      <td>55.751956</td>\n",
       "      <td>5.150539</td>\n",
       "    </tr>\n",
       "    <tr>\n",
       "      <th>2</th>\n",
       "      <td>0</td>\n",
       "      <td>55.763874</td>\n",
       "      <td>37.637253</td>\n",
       "      <td>37.657373</td>\n",
       "      <td>55.708597</td>\n",
       "      <td>6.274263</td>\n",
       "    </tr>\n",
       "    <tr>\n",
       "      <th>3</th>\n",
       "      <td>0</td>\n",
       "      <td>55.763874</td>\n",
       "      <td>37.637253</td>\n",
       "      <td>37.660571</td>\n",
       "      <td>55.705993</td>\n",
       "      <td>6.599565</td>\n",
       "    </tr>\n",
       "    <tr>\n",
       "      <th>4</th>\n",
       "      <td>0</td>\n",
       "      <td>55.763874</td>\n",
       "      <td>37.637253</td>\n",
       "      <td>37.573061</td>\n",
       "      <td>55.686951</td>\n",
       "      <td>9.450924</td>\n",
       "    </tr>\n",
       "  </tbody>\n",
       "</table>\n",
       "</div>"
      ],
      "text/plain": [
       "   index        lat        lon  station_lon  station_lat      dist\n",
       "0      0  55.763874  37.637253    37.719478    55.753246  5.278595\n",
       "1      0  55.763874  37.637253    37.716800    55.751956  5.150539\n",
       "2      0  55.763874  37.637253    37.657373    55.708597  6.274263\n",
       "3      0  55.763874  37.637253    37.660571    55.705993  6.599565\n",
       "4      0  55.763874  37.637253    37.573061    55.686951  9.450924"
      ]
     },
     "execution_count": 21,
     "metadata": {},
     "output_type": "execute_result"
    }
   ],
   "source": [
    "data_points2metro.head()"
   ]
  },
  {
   "cell_type": "markdown",
   "metadata": {},
   "source": [
    "# Update Points"
   ]
  },
  {
   "cell_type": "code",
   "execution_count": 23,
   "metadata": {},
   "outputs": [
    {
     "name": "stdout",
     "output_type": "stream",
     "text": [
      "CPU times: user 269 ms, sys: 0 ns, total: 269 ms\n",
      "Wall time: 270 ms\n"
     ]
    }
   ],
   "source": [
    "%%time\n",
    "data_points2metro_min = data_points2metro[['index', 'dist']].groupby('index').min().reset_index()"
   ]
  },
  {
   "cell_type": "code",
   "execution_count": 24,
   "metadata": {},
   "outputs": [
    {
     "data": {
      "text/html": [
       "<div>\n",
       "<style scoped>\n",
       "    .dataframe tbody tr th:only-of-type {\n",
       "        vertical-align: middle;\n",
       "    }\n",
       "\n",
       "    .dataframe tbody tr th {\n",
       "        vertical-align: top;\n",
       "    }\n",
       "\n",
       "    .dataframe thead th {\n",
       "        text-align: right;\n",
       "    }\n",
       "</style>\n",
       "<table border=\"1\" class=\"dataframe\">\n",
       "  <thead>\n",
       "    <tr style=\"text-align: right;\">\n",
       "      <th></th>\n",
       "      <th>index</th>\n",
       "      <th>dist</th>\n",
       "    </tr>\n",
       "  </thead>\n",
       "  <tbody>\n",
       "    <tr>\n",
       "      <th>0</th>\n",
       "      <td>0</td>\n",
       "      <td>0.133073</td>\n",
       "    </tr>\n",
       "    <tr>\n",
       "      <th>1</th>\n",
       "      <td>1</td>\n",
       "      <td>0.209655</td>\n",
       "    </tr>\n",
       "    <tr>\n",
       "      <th>2</th>\n",
       "      <td>2</td>\n",
       "      <td>0.074898</td>\n",
       "    </tr>\n",
       "    <tr>\n",
       "      <th>3</th>\n",
       "      <td>3</td>\n",
       "      <td>0.645962</td>\n",
       "    </tr>\n",
       "    <tr>\n",
       "      <th>4</th>\n",
       "      <td>4</td>\n",
       "      <td>0.308304</td>\n",
       "    </tr>\n",
       "  </tbody>\n",
       "</table>\n",
       "</div>"
      ],
      "text/plain": [
       "   index      dist\n",
       "0      0  0.133073\n",
       "1      1  0.209655\n",
       "2      2  0.074898\n",
       "3      3  0.645962\n",
       "4      4  0.308304"
      ]
     },
     "execution_count": 24,
     "metadata": {},
     "output_type": "execute_result"
    }
   ],
   "source": [
    "data_points2metro_min.head()"
   ]
  },
  {
   "cell_type": "code",
   "execution_count": 26,
   "metadata": {},
   "outputs": [
    {
     "data": {
      "text/plain": [
       "(496, 2)"
      ]
     },
     "execution_count": 26,
     "metadata": {},
     "output_type": "execute_result"
    }
   ],
   "source": [
    "data_points2metro_min.shape"
   ]
  },
  {
   "cell_type": "code",
   "execution_count": 27,
   "metadata": {},
   "outputs": [],
   "source": [
    "data_points2metro_min.set_index('index', inplace=True)"
   ]
  },
  {
   "cell_type": "code",
   "execution_count": 28,
   "metadata": {},
   "outputs": [
    {
     "data": {
      "text/html": [
       "<div>\n",
       "<style scoped>\n",
       "    .dataframe tbody tr th:only-of-type {\n",
       "        vertical-align: middle;\n",
       "    }\n",
       "\n",
       "    .dataframe tbody tr th {\n",
       "        vertical-align: top;\n",
       "    }\n",
       "\n",
       "    .dataframe thead th {\n",
       "        text-align: right;\n",
       "    }\n",
       "</style>\n",
       "<table border=\"1\" class=\"dataframe\">\n",
       "  <thead>\n",
       "    <tr style=\"text-align: right;\">\n",
       "      <th></th>\n",
       "      <th>dist</th>\n",
       "    </tr>\n",
       "    <tr>\n",
       "      <th>index</th>\n",
       "      <th></th>\n",
       "    </tr>\n",
       "  </thead>\n",
       "  <tbody>\n",
       "    <tr>\n",
       "      <th>0</th>\n",
       "      <td>0.133073</td>\n",
       "    </tr>\n",
       "    <tr>\n",
       "      <th>1</th>\n",
       "      <td>0.209655</td>\n",
       "    </tr>\n",
       "    <tr>\n",
       "      <th>2</th>\n",
       "      <td>0.074898</td>\n",
       "    </tr>\n",
       "    <tr>\n",
       "      <th>3</th>\n",
       "      <td>0.645962</td>\n",
       "    </tr>\n",
       "    <tr>\n",
       "      <th>4</th>\n",
       "      <td>0.308304</td>\n",
       "    </tr>\n",
       "  </tbody>\n",
       "</table>\n",
       "</div>"
      ],
      "text/plain": [
       "           dist\n",
       "index          \n",
       "0      0.133073\n",
       "1      0.209655\n",
       "2      0.074898\n",
       "3      0.645962\n",
       "4      0.308304"
      ]
     },
     "execution_count": 28,
     "metadata": {},
     "output_type": "execute_result"
    }
   ],
   "source": [
    "data_points2metro_min.head()"
   ]
  },
  {
   "cell_type": "code",
   "execution_count": 29,
   "metadata": {},
   "outputs": [
    {
     "name": "stdout",
     "output_type": "stream",
     "text": [
      "CPU times: user 5.42 ms, sys: 0 ns, total: 5.42 ms\n",
      "Wall time: 4.45 ms\n"
     ]
    }
   ],
   "source": [
    "%%time\n",
    "data_points = data_points.merge(data_points2metro_min, left_index=True, right_index=True, how='left')"
   ]
  },
  {
   "cell_type": "code",
   "execution_count": 31,
   "metadata": {},
   "outputs": [],
   "source": [
    "data_points.rename(columns={'dist':'dist_to_metro'}, inplace=True)"
   ]
  },
  {
   "cell_type": "code",
   "execution_count": 32,
   "metadata": {},
   "outputs": [
    {
     "data": {
      "text/html": [
       "<div>\n",
       "<style scoped>\n",
       "    .dataframe tbody tr th:only-of-type {\n",
       "        vertical-align: middle;\n",
       "    }\n",
       "\n",
       "    .dataframe tbody tr th {\n",
       "        vertical-align: top;\n",
       "    }\n",
       "\n",
       "    .dataframe thead th {\n",
       "        text-align: right;\n",
       "    }\n",
       "</style>\n",
       "<table border=\"1\" class=\"dataframe\">\n",
       "  <thead>\n",
       "    <tr style=\"text-align: right;\">\n",
       "      <th></th>\n",
       "      <th>address</th>\n",
       "      <th>coordinates</th>\n",
       "      <th>lat</th>\n",
       "      <th>lon</th>\n",
       "      <th>dist_to_metro</th>\n",
       "    </tr>\n",
       "  </thead>\n",
       "  <tbody>\n",
       "    <tr>\n",
       "      <th>0</th>\n",
       "      <td>г Москва , Мясницкая ул, 26</td>\n",
       "      <td>[55.763874, 37.637253]</td>\n",
       "      <td>55.763874</td>\n",
       "      <td>37.637253</td>\n",
       "      <td>0.133073</td>\n",
       "    </tr>\n",
       "    <tr>\n",
       "      <th>1</th>\n",
       "      <td>г Москва , Старая пл, 2/14, стр.1</td>\n",
       "      <td>[55.75586, 37.629196]</td>\n",
       "      <td>55.755860</td>\n",
       "      <td>37.629196</td>\n",
       "      <td>0.209655</td>\n",
       "    </tr>\n",
       "    <tr>\n",
       "      <th>2</th>\n",
       "      <td>г Москва , Охотный Ряд ул, 1</td>\n",
       "      <td>[55.757416, 37.61613]</td>\n",
       "      <td>55.757416</td>\n",
       "      <td>37.616130</td>\n",
       "      <td>0.074898</td>\n",
       "    </tr>\n",
       "    <tr>\n",
       "      <th>3</th>\n",
       "      <td>г Москва , Краснопресненская наб, 2, стр.1</td>\n",
       "      <td>[55.755093, 37.572784]</td>\n",
       "      <td>55.755093</td>\n",
       "      <td>37.572784</td>\n",
       "      <td>0.645962</td>\n",
       "    </tr>\n",
       "    <tr>\n",
       "      <th>4</th>\n",
       "      <td>г Москва , Дмитровка Б. ул, 26</td>\n",
       "      <td>[55.76444, 37.612213]</td>\n",
       "      <td>55.764440</td>\n",
       "      <td>37.612213</td>\n",
       "      <td>0.308304</td>\n",
       "    </tr>\n",
       "  </tbody>\n",
       "</table>\n",
       "</div>"
      ],
      "text/plain": [
       "                                      address             coordinates  \\\n",
       "0                 г Москва , Мясницкая ул, 26  [55.763874, 37.637253]   \n",
       "1           г Москва , Старая пл, 2/14, стр.1   [55.75586, 37.629196]   \n",
       "2                г Москва , Охотный Ряд ул, 1   [55.757416, 37.61613]   \n",
       "3  г Москва , Краснопресненская наб, 2, стр.1  [55.755093, 37.572784]   \n",
       "4              г Москва , Дмитровка Б. ул, 26   [55.76444, 37.612213]   \n",
       "\n",
       "         lat        lon  dist_to_metro  \n",
       "0  55.763874  37.637253       0.133073  \n",
       "1  55.755860  37.629196       0.209655  \n",
       "2  55.757416  37.616130       0.074898  \n",
       "3  55.755093  37.572784       0.645962  \n",
       "4  55.764440  37.612213       0.308304  "
      ]
     },
     "execution_count": 32,
     "metadata": {},
     "output_type": "execute_result"
    }
   ],
   "source": [
    "data_points.head()"
   ]
  },
  {
   "cell_type": "code",
   "execution_count": 33,
   "metadata": {},
   "outputs": [],
   "source": [
    "def f_gr(val, gr):\n",
    "    return int(val / gr) * gr"
   ]
  },
  {
   "cell_type": "code",
   "execution_count": 38,
   "metadata": {},
   "outputs": [],
   "source": [
    "data_points['dist_to_metro_gr'] = data_points['dist_to_metro'].apply(f_gr, args=(0.25,))\n",
    "data_points.loc[data_points['dist_to_metro_gr']>3, 'dist_to_metro_gr'] = 3"
   ]
  },
  {
   "cell_type": "code",
   "execution_count": 39,
   "metadata": {},
   "outputs": [
    {
     "data": {
      "text/html": [
       "<div>\n",
       "<style scoped>\n",
       "    .dataframe tbody tr th:only-of-type {\n",
       "        vertical-align: middle;\n",
       "    }\n",
       "\n",
       "    .dataframe tbody tr th {\n",
       "        vertical-align: top;\n",
       "    }\n",
       "\n",
       "    .dataframe thead th {\n",
       "        text-align: right;\n",
       "    }\n",
       "</style>\n",
       "<table border=\"1\" class=\"dataframe\">\n",
       "  <thead>\n",
       "    <tr style=\"text-align: right;\">\n",
       "      <th></th>\n",
       "      <th>address</th>\n",
       "      <th>coordinates</th>\n",
       "      <th>lat</th>\n",
       "      <th>lon</th>\n",
       "      <th>dist_to_metro</th>\n",
       "      <th>dist_to_metro_gr</th>\n",
       "    </tr>\n",
       "  </thead>\n",
       "  <tbody>\n",
       "    <tr>\n",
       "      <th>0</th>\n",
       "      <td>г Москва , Мясницкая ул, 26</td>\n",
       "      <td>[55.763874, 37.637253]</td>\n",
       "      <td>55.763874</td>\n",
       "      <td>37.637253</td>\n",
       "      <td>0.133073</td>\n",
       "      <td>0.00</td>\n",
       "    </tr>\n",
       "    <tr>\n",
       "      <th>1</th>\n",
       "      <td>г Москва , Старая пл, 2/14, стр.1</td>\n",
       "      <td>[55.75586, 37.629196]</td>\n",
       "      <td>55.755860</td>\n",
       "      <td>37.629196</td>\n",
       "      <td>0.209655</td>\n",
       "      <td>0.00</td>\n",
       "    </tr>\n",
       "    <tr>\n",
       "      <th>2</th>\n",
       "      <td>г Москва , Охотный Ряд ул, 1</td>\n",
       "      <td>[55.757416, 37.61613]</td>\n",
       "      <td>55.757416</td>\n",
       "      <td>37.616130</td>\n",
       "      <td>0.074898</td>\n",
       "      <td>0.00</td>\n",
       "    </tr>\n",
       "    <tr>\n",
       "      <th>3</th>\n",
       "      <td>г Москва , Краснопресненская наб, 2, стр.1</td>\n",
       "      <td>[55.755093, 37.572784]</td>\n",
       "      <td>55.755093</td>\n",
       "      <td>37.572784</td>\n",
       "      <td>0.645962</td>\n",
       "      <td>0.50</td>\n",
       "    </tr>\n",
       "    <tr>\n",
       "      <th>4</th>\n",
       "      <td>г Москва , Дмитровка Б. ул, 26</td>\n",
       "      <td>[55.76444, 37.612213]</td>\n",
       "      <td>55.764440</td>\n",
       "      <td>37.612213</td>\n",
       "      <td>0.308304</td>\n",
       "      <td>0.25</td>\n",
       "    </tr>\n",
       "  </tbody>\n",
       "</table>\n",
       "</div>"
      ],
      "text/plain": [
       "                                      address             coordinates  \\\n",
       "0                 г Москва , Мясницкая ул, 26  [55.763874, 37.637253]   \n",
       "1           г Москва , Старая пл, 2/14, стр.1   [55.75586, 37.629196]   \n",
       "2                г Москва , Охотный Ряд ул, 1   [55.757416, 37.61613]   \n",
       "3  г Москва , Краснопресненская наб, 2, стр.1  [55.755093, 37.572784]   \n",
       "4              г Москва , Дмитровка Б. ул, 26   [55.76444, 37.612213]   \n",
       "\n",
       "         lat        lon  dist_to_metro  dist_to_metro_gr  \n",
       "0  55.763874  37.637253       0.133073              0.00  \n",
       "1  55.755860  37.629196       0.209655              0.00  \n",
       "2  55.757416  37.616130       0.074898              0.00  \n",
       "3  55.755093  37.572784       0.645962              0.50  \n",
       "4  55.764440  37.612213       0.308304              0.25  "
      ]
     },
     "execution_count": 39,
     "metadata": {},
     "output_type": "execute_result"
    }
   ],
   "source": [
    "data_points.head()"
   ]
  },
  {
   "cell_type": "code",
   "execution_count": 43,
   "metadata": {},
   "outputs": [
    {
     "data": {
      "text/html": [
       "<div>\n",
       "<style scoped>\n",
       "    .dataframe tbody tr th:only-of-type {\n",
       "        vertical-align: middle;\n",
       "    }\n",
       "\n",
       "    .dataframe tbody tr th {\n",
       "        vertical-align: top;\n",
       "    }\n",
       "\n",
       "    .dataframe thead th {\n",
       "        text-align: right;\n",
       "    }\n",
       "</style>\n",
       "<table border=\"1\" class=\"dataframe\">\n",
       "  <thead>\n",
       "    <tr style=\"text-align: right;\">\n",
       "      <th></th>\n",
       "      <th>dist_to_metro_gr</th>\n",
       "      <th>count</th>\n",
       "    </tr>\n",
       "  </thead>\n",
       "  <tbody>\n",
       "    <tr>\n",
       "      <th>0</th>\n",
       "      <td>0.00</td>\n",
       "      <td>54</td>\n",
       "    </tr>\n",
       "    <tr>\n",
       "      <th>1</th>\n",
       "      <td>0.25</td>\n",
       "      <td>96</td>\n",
       "    </tr>\n",
       "    <tr>\n",
       "      <th>2</th>\n",
       "      <td>0.50</td>\n",
       "      <td>91</td>\n",
       "    </tr>\n",
       "    <tr>\n",
       "      <th>3</th>\n",
       "      <td>0.75</td>\n",
       "      <td>92</td>\n",
       "    </tr>\n",
       "    <tr>\n",
       "      <th>4</th>\n",
       "      <td>1.00</td>\n",
       "      <td>50</td>\n",
       "    </tr>\n",
       "    <tr>\n",
       "      <th>5</th>\n",
       "      <td>1.25</td>\n",
       "      <td>31</td>\n",
       "    </tr>\n",
       "    <tr>\n",
       "      <th>6</th>\n",
       "      <td>1.50</td>\n",
       "      <td>16</td>\n",
       "    </tr>\n",
       "    <tr>\n",
       "      <th>7</th>\n",
       "      <td>1.75</td>\n",
       "      <td>15</td>\n",
       "    </tr>\n",
       "    <tr>\n",
       "      <th>8</th>\n",
       "      <td>2.00</td>\n",
       "      <td>7</td>\n",
       "    </tr>\n",
       "    <tr>\n",
       "      <th>9</th>\n",
       "      <td>2.25</td>\n",
       "      <td>6</td>\n",
       "    </tr>\n",
       "    <tr>\n",
       "      <th>10</th>\n",
       "      <td>2.50</td>\n",
       "      <td>6</td>\n",
       "    </tr>\n",
       "    <tr>\n",
       "      <th>11</th>\n",
       "      <td>2.75</td>\n",
       "      <td>3</td>\n",
       "    </tr>\n",
       "    <tr>\n",
       "      <th>12</th>\n",
       "      <td>3.00</td>\n",
       "      <td>29</td>\n",
       "    </tr>\n",
       "  </tbody>\n",
       "</table>\n",
       "</div>"
      ],
      "text/plain": [
       "    dist_to_metro_gr  count\n",
       "0               0.00     54\n",
       "1               0.25     96\n",
       "2               0.50     91\n",
       "3               0.75     92\n",
       "4               1.00     50\n",
       "5               1.25     31\n",
       "6               1.50     16\n",
       "7               1.75     15\n",
       "8               2.00      7\n",
       "9               2.25      6\n",
       "10              2.50      6\n",
       "11              2.75      3\n",
       "12              3.00     29"
      ]
     },
     "execution_count": 43,
     "metadata": {},
     "output_type": "execute_result"
    }
   ],
   "source": [
    "data_points_gr = data_points[['dist_to_metro_gr']].groupby('dist_to_metro_gr').size().reset_index(name='count')\n",
    "data_points_gr"
   ]
  },
  {
   "cell_type": "code",
   "execution_count": null,
   "metadata": {},
   "outputs": [],
   "source": [
    "fig_dist_to_metro = px.bar(data_points_gr, x='dist_to_metro_gr', y='count')"
   ]
  },
  {
   "cell_type": "code",
   "execution_count": 47,
   "metadata": {},
   "outputs": [],
   "source": [
    "fig_dist_to_metro.write_html('fig_dist_to_metro.html')"
   ]
  },
  {
   "cell_type": "code",
   "execution_count": null,
   "metadata": {},
   "outputs": [],
   "source": [
    "with open('data_points.pickle', 'wb') as _f:\n",
    "    pickle.dump(data_points, _f, protocol=pickle.HIGHEST_PROTOCOL)"
   ]
  },
  {
   "cell_type": "code",
   "execution_count": null,
   "metadata": {},
   "outputs": [],
   "source": [
    "with open('data_points.pickle', 'rb') as _f:\n",
    "    data_points = pickle.load(_f)"
   ]
  },
  {
   "cell_type": "code",
   "execution_count": null,
   "metadata": {},
   "outputs": [],
   "source": []
  }
 ],
 "metadata": {
  "kernelspec": {
   "display_name": "new_env",
   "language": "python",
   "name": "new_env"
  },
  "language_info": {
   "codemirror_mode": {
    "name": "ipython",
    "version": 3
   },
   "file_extension": ".py",
   "mimetype": "text/x-python",
   "name": "python",
   "nbconvert_exporter": "python",
   "pygments_lexer": "ipython3",
   "version": "3.8.6"
  }
 },
 "nbformat": 4,
 "nbformat_minor": 4
}

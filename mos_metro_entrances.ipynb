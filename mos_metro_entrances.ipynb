{
 "cells": [
  {
   "cell_type": "code",
   "execution_count": 1,
   "metadata": {},
   "outputs": [],
   "source": [
    "import pandas as pd\n",
    "import numpy as np\n",
    "from numpy import inf, mean, median\n",
    "import math\n",
    "import datetime\n",
    "import json\n",
    "import os\n",
    "import glob\n",
    "import pickle\n",
    "import requests\n",
    "# import requests_cache\n",
    "import plotly.graph_objects as go\n",
    "import plotly.express as px\n",
    "import folium\n",
    "from folium.plugins import MarkerCluster, HeatMap\n",
    "import geopandas as gpd\n",
    "import osm2geojson\n",
    "import geojson\n",
    "import shapely\n",
    "from shapely import wkt\n",
    "from shapely.geometry import Point, Polygon, LineString"
   ]
  },
  {
   "cell_type": "markdown",
   "metadata": {},
   "source": [
    "# Load Data"
   ]
  },
  {
   "cell_type": "code",
   "execution_count": 34,
   "metadata": {},
   "outputs": [],
   "source": [
    "data_mos_token = '7f7ec5c82e28b89080babbc1c5aa5ab9'"
   ]
  },
  {
   "cell_type": "code",
   "execution_count": 35,
   "metadata": {},
   "outputs": [],
   "source": [
    "data_mos_dataset_id = 624"
   ]
  },
  {
   "cell_type": "code",
   "execution_count": 36,
   "metadata": {},
   "outputs": [
    {
     "data": {
      "text/plain": [
       "'https://apidata.mos.ru/v1/datasets/624/features?api_key=7f7ec5c82e28b89080babbc1c5aa5ab9'"
      ]
     },
     "execution_count": 36,
     "metadata": {},
     "output_type": "execute_result"
    }
   ],
   "source": [
    "data_mos_request = f'https://apidata.mos.ru/v1/datasets/{data_mos_ru_dataset_id}/features?api_key={data_mos_ru_token}'\n",
    "data_mos_request"
   ]
  },
  {
   "cell_type": "code",
   "execution_count": 43,
   "metadata": {},
   "outputs": [],
   "source": [
    "data_mos_get = requests.get('https://apidata.mos.ru/v1/datasets/624/features?api_key=7f7ec5c82e28b89080babbc1c5aa5ab9')"
   ]
  },
  {
   "cell_type": "code",
   "execution_count": 51,
   "metadata": {},
   "outputs": [],
   "source": [
    "data_mos_metro_entrances_gj = data_mos_get.json()"
   ]
  },
  {
   "cell_type": "code",
   "execution_count": 53,
   "metadata": {},
   "outputs": [
    {
     "data": {
      "text/plain": [
       "{'geometry': {'coordinates': [37.6316766, 55.7573154], 'type': 'Point'},\n",
       " 'properties': {'DatasetId': 624,\n",
       "  'VersionNumber': 4,\n",
       "  'ReleaseNumber': 98,\n",
       "  'RowId': None,\n",
       "  'Attributes': {'Name': 'Китай-город, вход-выход 5 в северный вестибюль',\n",
       "   'Longitude_WGS84': '37.6316766',\n",
       "   'Latitude_WGS84': '55.7573154',\n",
       "   'NameOfStation': 'Китай-город',\n",
       "   'Line': 'Калужско-Рижская линия',\n",
       "   'ModeOnEvenDays': 'открытие в 05:30:00; закрытие в 01:00:00; первый поезд по 1 пути в 05:44:00, по 2 пути в 05:49:05; последний поезд по 1 пути в 01:36:20, по 2 пути в 01:27:24',\n",
       "   'ModeOnOddDays': 'открытие в 05:30:00; закрытие в 01:00:00; первый поезд по 1 пути в 05:43:05, по 2 пути в 05:49:50; последний поезд по 1 пути в 01:36:20, по 2 пути в 01:27:24',\n",
       "   'FullFeaturedBPAAmount': 0,\n",
       "   'LittleFunctionalBPAAmount': 4,\n",
       "   'BPAAmount': 4,\n",
       "   'RepairOfEscalators': [],\n",
       "   'global_id': 1773539}},\n",
       " 'type': 'Feature'}"
      ]
     },
     "execution_count": 53,
     "metadata": {},
     "output_type": "execute_result"
    }
   ],
   "source": [
    "data_mos_metro_entrances_gj['features'][0]"
   ]
  },
  {
   "cell_type": "code",
   "execution_count": 13,
   "metadata": {},
   "outputs": [
    {
     "data": {
      "text/plain": [
       "1009"
      ]
     },
     "execution_count": 13,
     "metadata": {},
     "output_type": "execute_result"
    }
   ],
   "source": [
    "len(data_mos_metro_entrances_gj['features'])"
   ]
  },
  {
   "cell_type": "code",
   "execution_count": 56,
   "metadata": {},
   "outputs": [],
   "source": [
    "with open('data_mos_metro_entrances_gj.geojson', 'w') as _f:\n",
    "        geojson.dump(data_mos_metro_entrances_gj, _f)"
   ]
  },
  {
   "cell_type": "markdown",
   "metadata": {},
   "source": [
    "# Prepare Data"
   ]
  },
  {
   "cell_type": "code",
   "execution_count": 7,
   "metadata": {},
   "outputs": [],
   "source": [
    "with open('data_mos_metro_entrances_gj.geojson', 'r') as _f:\n",
    "        data_mos_metro_entrances_gj = geojson.load(_f)"
   ]
  },
  {
   "cell_type": "code",
   "execution_count": 8,
   "metadata": {},
   "outputs": [
    {
     "data": {
      "text/plain": [
       "geojson.feature.FeatureCollection"
      ]
     },
     "execution_count": 8,
     "metadata": {},
     "output_type": "execute_result"
    }
   ],
   "source": [
    "type(data_mos_metro_entrances_gj)"
   ]
  },
  {
   "cell_type": "code",
   "execution_count": 9,
   "metadata": {},
   "outputs": [
    {
     "data": {
      "text/plain": [
       "{\"geometry\": {\"coordinates\": [37.631677, 55.757315], \"type\": \"Point\"}, \"properties\": {\"Attributes\": {\"BPAAmount\": 4, \"FullFeaturedBPAAmount\": 0, \"Latitude_WGS84\": \"55.7573154\", \"Line\": \"\\u041a\\u0430\\u043b\\u0443\\u0436\\u0441\\u043a\\u043e-\\u0420\\u0438\\u0436\\u0441\\u043a\\u0430\\u044f \\u043b\\u0438\\u043d\\u0438\\u044f\", \"LittleFunctionalBPAAmount\": 4, \"Longitude_WGS84\": \"37.6316766\", \"ModeOnEvenDays\": \"\\u043e\\u0442\\u043a\\u0440\\u044b\\u0442\\u0438\\u0435 \\u0432 05:30:00; \\u0437\\u0430\\u043a\\u0440\\u044b\\u0442\\u0438\\u0435 \\u0432 01:00:00; \\u043f\\u0435\\u0440\\u0432\\u044b\\u0439 \\u043f\\u043e\\u0435\\u0437\\u0434 \\u043f\\u043e 1 \\u043f\\u0443\\u0442\\u0438 \\u0432 05:44:00, \\u043f\\u043e 2 \\u043f\\u0443\\u0442\\u0438 \\u0432 05:49:05; \\u043f\\u043e\\u0441\\u043b\\u0435\\u0434\\u043d\\u0438\\u0439 \\u043f\\u043e\\u0435\\u0437\\u0434 \\u043f\\u043e 1 \\u043f\\u0443\\u0442\\u0438 \\u0432 01:36:20, \\u043f\\u043e 2 \\u043f\\u0443\\u0442\\u0438 \\u0432 01:27:24\", \"ModeOnOddDays\": \"\\u043e\\u0442\\u043a\\u0440\\u044b\\u0442\\u0438\\u0435 \\u0432 05:30:00; \\u0437\\u0430\\u043a\\u0440\\u044b\\u0442\\u0438\\u0435 \\u0432 01:00:00; \\u043f\\u0435\\u0440\\u0432\\u044b\\u0439 \\u043f\\u043e\\u0435\\u0437\\u0434 \\u043f\\u043e 1 \\u043f\\u0443\\u0442\\u0438 \\u0432 05:43:05, \\u043f\\u043e 2 \\u043f\\u0443\\u0442\\u0438 \\u0432 05:49:50; \\u043f\\u043e\\u0441\\u043b\\u0435\\u0434\\u043d\\u0438\\u0439 \\u043f\\u043e\\u0435\\u0437\\u0434 \\u043f\\u043e 1 \\u043f\\u0443\\u0442\\u0438 \\u0432 01:36:20, \\u043f\\u043e 2 \\u043f\\u0443\\u0442\\u0438 \\u0432 01:27:24\", \"Name\": \"\\u041a\\u0438\\u0442\\u0430\\u0439-\\u0433\\u043e\\u0440\\u043e\\u0434, \\u0432\\u0445\\u043e\\u0434-\\u0432\\u044b\\u0445\\u043e\\u0434 5 \\u0432 \\u0441\\u0435\\u0432\\u0435\\u0440\\u043d\\u044b\\u0439 \\u0432\\u0435\\u0441\\u0442\\u0438\\u0431\\u044e\\u043b\\u044c\", \"NameOfStation\": \"\\u041a\\u0438\\u0442\\u0430\\u0439-\\u0433\\u043e\\u0440\\u043e\\u0434\", \"RepairOfEscalators\": [], \"global_id\": 1773539}, \"DatasetId\": 624, \"ReleaseNumber\": 98, \"RowId\": null, \"VersionNumber\": 4}, \"type\": \"Feature\"}"
      ]
     },
     "execution_count": 9,
     "metadata": {},
     "output_type": "execute_result"
    }
   ],
   "source": [
    "data_mos_metro_entrances_gj['features'][0]"
   ]
  },
  {
   "cell_type": "code",
   "execution_count": 15,
   "metadata": {},
   "outputs": [
    {
     "data": {
      "text/plain": [
       "1009"
      ]
     },
     "execution_count": 15,
     "metadata": {},
     "output_type": "execute_result"
    }
   ],
   "source": [
    "len(data_mos_metro_entrances_gj['features'])"
   ]
  },
  {
   "cell_type": "code",
   "execution_count": 10,
   "metadata": {},
   "outputs": [],
   "source": [
    "data_mos_metro_entrances_gdf = gpd.GeoDataFrame.from_features(data_mos_metro_entrances_gj['features'])"
   ]
  },
  {
   "cell_type": "code",
   "execution_count": 11,
   "metadata": {},
   "outputs": [
    {
     "data": {
      "text/html": [
       "<div>\n",
       "<style scoped>\n",
       "    .dataframe tbody tr th:only-of-type {\n",
       "        vertical-align: middle;\n",
       "    }\n",
       "\n",
       "    .dataframe tbody tr th {\n",
       "        vertical-align: top;\n",
       "    }\n",
       "\n",
       "    .dataframe thead th {\n",
       "        text-align: right;\n",
       "    }\n",
       "</style>\n",
       "<table border=\"1\" class=\"dataframe\">\n",
       "  <thead>\n",
       "    <tr style=\"text-align: right;\">\n",
       "      <th></th>\n",
       "      <th>geometry</th>\n",
       "      <th>DatasetId</th>\n",
       "      <th>VersionNumber</th>\n",
       "      <th>ReleaseNumber</th>\n",
       "      <th>RowId</th>\n",
       "      <th>Attributes</th>\n",
       "    </tr>\n",
       "  </thead>\n",
       "  <tbody>\n",
       "    <tr>\n",
       "      <th>0</th>\n",
       "      <td>POINT (37.63168 55.75731)</td>\n",
       "      <td>624</td>\n",
       "      <td>4</td>\n",
       "      <td>98</td>\n",
       "      <td>None</td>\n",
       "      <td>{'Name': 'Китай-город, вход-выход 5 в северный...</td>\n",
       "    </tr>\n",
       "    <tr>\n",
       "      <th>1</th>\n",
       "      <td>POINT (37.63121 55.75686)</td>\n",
       "      <td>624</td>\n",
       "      <td>4</td>\n",
       "      <td>98</td>\n",
       "      <td>None</td>\n",
       "      <td>{'Name': 'Китай-город, вход-выход 4 в северный...</td>\n",
       "    </tr>\n",
       "    <tr>\n",
       "      <th>2</th>\n",
       "      <td>POINT (37.63195 55.75724)</td>\n",
       "      <td>624</td>\n",
       "      <td>4</td>\n",
       "      <td>98</td>\n",
       "      <td>None</td>\n",
       "      <td>{'Name': 'Китай-город, вход-выход 6 в северный...</td>\n",
       "    </tr>\n",
       "    <tr>\n",
       "      <th>3</th>\n",
       "      <td>POINT (37.63308 55.75310)</td>\n",
       "      <td>624</td>\n",
       "      <td>4</td>\n",
       "      <td>98</td>\n",
       "      <td>None</td>\n",
       "      <td>{'Name': 'Китай-город, вход-выход 14 в южный в...</td>\n",
       "    </tr>\n",
       "    <tr>\n",
       "      <th>4</th>\n",
       "      <td>POINT (37.63356 55.75307)</td>\n",
       "      <td>624</td>\n",
       "      <td>4</td>\n",
       "      <td>98</td>\n",
       "      <td>None</td>\n",
       "      <td>{'Name': 'Китай-город, вход-выход 12 в южный в...</td>\n",
       "    </tr>\n",
       "  </tbody>\n",
       "</table>\n",
       "</div>"
      ],
      "text/plain": [
       "                    geometry  DatasetId  VersionNumber  ReleaseNumber RowId  \\\n",
       "0  POINT (37.63168 55.75731)        624              4             98  None   \n",
       "1  POINT (37.63121 55.75686)        624              4             98  None   \n",
       "2  POINT (37.63195 55.75724)        624              4             98  None   \n",
       "3  POINT (37.63308 55.75310)        624              4             98  None   \n",
       "4  POINT (37.63356 55.75307)        624              4             98  None   \n",
       "\n",
       "                                          Attributes  \n",
       "0  {'Name': 'Китай-город, вход-выход 5 в северный...  \n",
       "1  {'Name': 'Китай-город, вход-выход 4 в северный...  \n",
       "2  {'Name': 'Китай-город, вход-выход 6 в северный...  \n",
       "3  {'Name': 'Китай-город, вход-выход 14 в южный в...  \n",
       "4  {'Name': 'Китай-город, вход-выход 12 в южный в...  "
      ]
     },
     "execution_count": 11,
     "metadata": {},
     "output_type": "execute_result"
    }
   ],
   "source": [
    "data_mos_metro_entrances_gdf.head()"
   ]
  },
  {
   "cell_type": "code",
   "execution_count": 12,
   "metadata": {},
   "outputs": [
    {
     "data": {
      "text/plain": [
       "(1009, 6)"
      ]
     },
     "execution_count": 12,
     "metadata": {},
     "output_type": "execute_result"
    }
   ],
   "source": [
    "data_mos_metro_entrances_gdf.shape"
   ]
  },
  {
   "cell_type": "code",
   "execution_count": 16,
   "metadata": {},
   "outputs": [],
   "source": [
    "tags_to_parce = [\n",
    "    'Name',\n",
    "    'NameOfStation',\n",
    "    'Line',\n",
    "    'global_id',\n",
    "]"
   ]
  },
  {
   "cell_type": "code",
   "execution_count": 17,
   "metadata": {},
   "outputs": [],
   "source": [
    "for tag in tags_to_parce:\n",
    "    data_mos_metro_entrances_gdf[tag] = data_mos_metro_entrances_gdf['Attributes'].apply(lambda x: x.get(tag) if tag in x else None)"
   ]
  },
  {
   "cell_type": "code",
   "execution_count": 18,
   "metadata": {},
   "outputs": [
    {
     "data": {
      "text/html": [
       "<div>\n",
       "<style scoped>\n",
       "    .dataframe tbody tr th:only-of-type {\n",
       "        vertical-align: middle;\n",
       "    }\n",
       "\n",
       "    .dataframe tbody tr th {\n",
       "        vertical-align: top;\n",
       "    }\n",
       "\n",
       "    .dataframe thead th {\n",
       "        text-align: right;\n",
       "    }\n",
       "</style>\n",
       "<table border=\"1\" class=\"dataframe\">\n",
       "  <thead>\n",
       "    <tr style=\"text-align: right;\">\n",
       "      <th></th>\n",
       "      <th>geometry</th>\n",
       "      <th>DatasetId</th>\n",
       "      <th>VersionNumber</th>\n",
       "      <th>ReleaseNumber</th>\n",
       "      <th>RowId</th>\n",
       "      <th>Attributes</th>\n",
       "      <th>Name</th>\n",
       "      <th>NameOfStation</th>\n",
       "      <th>Line</th>\n",
       "      <th>global_id</th>\n",
       "    </tr>\n",
       "  </thead>\n",
       "  <tbody>\n",
       "    <tr>\n",
       "      <th>0</th>\n",
       "      <td>POINT (37.63168 55.75731)</td>\n",
       "      <td>624</td>\n",
       "      <td>4</td>\n",
       "      <td>98</td>\n",
       "      <td>None</td>\n",
       "      <td>{'Name': 'Китай-город, вход-выход 5 в северный...</td>\n",
       "      <td>Китай-город, вход-выход 5 в северный вестибюль</td>\n",
       "      <td>Китай-город</td>\n",
       "      <td>Калужско-Рижская линия</td>\n",
       "      <td>1773539</td>\n",
       "    </tr>\n",
       "    <tr>\n",
       "      <th>1</th>\n",
       "      <td>POINT (37.63121 55.75686)</td>\n",
       "      <td>624</td>\n",
       "      <td>4</td>\n",
       "      <td>98</td>\n",
       "      <td>None</td>\n",
       "      <td>{'Name': 'Китай-город, вход-выход 4 в северный...</td>\n",
       "      <td>Китай-город, вход-выход 4 в северный вестибюль</td>\n",
       "      <td>Китай-город</td>\n",
       "      <td>Калужско-Рижская линия</td>\n",
       "      <td>1773540</td>\n",
       "    </tr>\n",
       "    <tr>\n",
       "      <th>2</th>\n",
       "      <td>POINT (37.63195 55.75724)</td>\n",
       "      <td>624</td>\n",
       "      <td>4</td>\n",
       "      <td>98</td>\n",
       "      <td>None</td>\n",
       "      <td>{'Name': 'Китай-город, вход-выход 6 в северный...</td>\n",
       "      <td>Китай-город, вход-выход 6 в северный вестибюль</td>\n",
       "      <td>Китай-город</td>\n",
       "      <td>Калужско-Рижская линия</td>\n",
       "      <td>1773541</td>\n",
       "    </tr>\n",
       "    <tr>\n",
       "      <th>3</th>\n",
       "      <td>POINT (37.63308 55.75310)</td>\n",
       "      <td>624</td>\n",
       "      <td>4</td>\n",
       "      <td>98</td>\n",
       "      <td>None</td>\n",
       "      <td>{'Name': 'Китай-город, вход-выход 14 в южный в...</td>\n",
       "      <td>Китай-город, вход-выход 14 в южный вестибюль</td>\n",
       "      <td>Китай-город</td>\n",
       "      <td>Калужско-Рижская линия</td>\n",
       "      <td>1773542</td>\n",
       "    </tr>\n",
       "    <tr>\n",
       "      <th>4</th>\n",
       "      <td>POINT (37.63356 55.75307)</td>\n",
       "      <td>624</td>\n",
       "      <td>4</td>\n",
       "      <td>98</td>\n",
       "      <td>None</td>\n",
       "      <td>{'Name': 'Китай-город, вход-выход 12 в южный в...</td>\n",
       "      <td>Китай-город, вход-выход 12 в южный вестибюль</td>\n",
       "      <td>Китай-город</td>\n",
       "      <td>Калужско-Рижская линия</td>\n",
       "      <td>1773543</td>\n",
       "    </tr>\n",
       "  </tbody>\n",
       "</table>\n",
       "</div>"
      ],
      "text/plain": [
       "                    geometry  DatasetId  VersionNumber  ReleaseNumber RowId  \\\n",
       "0  POINT (37.63168 55.75731)        624              4             98  None   \n",
       "1  POINT (37.63121 55.75686)        624              4             98  None   \n",
       "2  POINT (37.63195 55.75724)        624              4             98  None   \n",
       "3  POINT (37.63308 55.75310)        624              4             98  None   \n",
       "4  POINT (37.63356 55.75307)        624              4             98  None   \n",
       "\n",
       "                                          Attributes  \\\n",
       "0  {'Name': 'Китай-город, вход-выход 5 в северный...   \n",
       "1  {'Name': 'Китай-город, вход-выход 4 в северный...   \n",
       "2  {'Name': 'Китай-город, вход-выход 6 в северный...   \n",
       "3  {'Name': 'Китай-город, вход-выход 14 в южный в...   \n",
       "4  {'Name': 'Китай-город, вход-выход 12 в южный в...   \n",
       "\n",
       "                                             Name NameOfStation  \\\n",
       "0  Китай-город, вход-выход 5 в северный вестибюль   Китай-город   \n",
       "1  Китай-город, вход-выход 4 в северный вестибюль   Китай-город   \n",
       "2  Китай-город, вход-выход 6 в северный вестибюль   Китай-город   \n",
       "3    Китай-город, вход-выход 14 в южный вестибюль   Китай-город   \n",
       "4    Китай-город, вход-выход 12 в южный вестибюль   Китай-город   \n",
       "\n",
       "                     Line  global_id  \n",
       "0  Калужско-Рижская линия    1773539  \n",
       "1  Калужско-Рижская линия    1773540  \n",
       "2  Калужско-Рижская линия    1773541  \n",
       "3  Калужско-Рижская линия    1773542  \n",
       "4  Калужско-Рижская линия    1773543  "
      ]
     },
     "execution_count": 18,
     "metadata": {},
     "output_type": "execute_result"
    }
   ],
   "source": [
    "data_mos_metro_entrances_gdf.head()"
   ]
  },
  {
   "cell_type": "code",
   "execution_count": 19,
   "metadata": {},
   "outputs": [],
   "source": [
    "with open('data_mos_metro_entrances_gdf.pickle', 'wb') as _f:\n",
    "    pickle.dump(data_mos_metro_entrances_gdf, _f, pickle.HIGHEST_PROTOCOL)"
   ]
  },
  {
   "cell_type": "markdown",
   "metadata": {},
   "source": [
    "# Group Entrances To Stations"
   ]
  },
  {
   "cell_type": "code",
   "execution_count": null,
   "metadata": {},
   "outputs": [],
   "source": [
    "with open('data_mos_metro_entrances_gdf.pickle', 'rb') as _f:\n",
    "    data_mos_metro_entrances_gdf = pickle.load(_f)"
   ]
  },
  {
   "cell_type": "code",
   "execution_count": 25,
   "metadata": {},
   "outputs": [],
   "source": [
    "data_mos_metro_stations_gdf = data_mos_metro_entrances_gdf[['geometry', 'NameOfStation', 'Line']].dissolve(by=['NameOfStation', 'Line']).reset_index()"
   ]
  },
  {
   "cell_type": "code",
   "execution_count": 26,
   "metadata": {},
   "outputs": [
    {
     "data": {
      "text/html": [
       "<div>\n",
       "<style scoped>\n",
       "    .dataframe tbody tr th:only-of-type {\n",
       "        vertical-align: middle;\n",
       "    }\n",
       "\n",
       "    .dataframe tbody tr th {\n",
       "        vertical-align: top;\n",
       "    }\n",
       "\n",
       "    .dataframe thead th {\n",
       "        text-align: right;\n",
       "    }\n",
       "</style>\n",
       "<table border=\"1\" class=\"dataframe\">\n",
       "  <thead>\n",
       "    <tr style=\"text-align: right;\">\n",
       "      <th></th>\n",
       "      <th>NameOfStation</th>\n",
       "      <th>Line</th>\n",
       "      <th>geometry</th>\n",
       "    </tr>\n",
       "  </thead>\n",
       "  <tbody>\n",
       "    <tr>\n",
       "      <th>0</th>\n",
       "      <td>Авиамоторная</td>\n",
       "      <td>Большая кольцевая линия</td>\n",
       "      <td>POINT (37.71948 55.75325)</td>\n",
       "    </tr>\n",
       "    <tr>\n",
       "      <th>1</th>\n",
       "      <td>Авиамоторная</td>\n",
       "      <td>Калининская линия</td>\n",
       "      <td>MULTIPOINT (37.71637 55.75168, 37.71640 55.751...</td>\n",
       "    </tr>\n",
       "    <tr>\n",
       "      <th>2</th>\n",
       "      <td>Автозаводская</td>\n",
       "      <td>Замоскворецкая линия</td>\n",
       "      <td>MULTIPOINT (37.65732 55.70643, 37.65737 55.708...</td>\n",
       "    </tr>\n",
       "    <tr>\n",
       "      <th>3</th>\n",
       "      <td>Автозаводская</td>\n",
       "      <td>Московское центральное кольцо</td>\n",
       "      <td>MULTIPOINT (37.66057 55.70599, 37.66290 55.70537)</td>\n",
       "    </tr>\n",
       "    <tr>\n",
       "      <th>4</th>\n",
       "      <td>Академическая</td>\n",
       "      <td>Калужско-Рижская линия</td>\n",
       "      <td>MULTIPOINT (37.57222 55.68702, 37.57237 55.687...</td>\n",
       "    </tr>\n",
       "  </tbody>\n",
       "</table>\n",
       "</div>"
      ],
      "text/plain": [
       "   NameOfStation                           Line  \\\n",
       "0   Авиамоторная        Большая кольцевая линия   \n",
       "1   Авиамоторная              Калининская линия   \n",
       "2  Автозаводская           Замоскворецкая линия   \n",
       "3  Автозаводская  Московское центральное кольцо   \n",
       "4  Академическая         Калужско-Рижская линия   \n",
       "\n",
       "                                            geometry  \n",
       "0                          POINT (37.71948 55.75325)  \n",
       "1  MULTIPOINT (37.71637 55.75168, 37.71640 55.751...  \n",
       "2  MULTIPOINT (37.65732 55.70643, 37.65737 55.708...  \n",
       "3  MULTIPOINT (37.66057 55.70599, 37.66290 55.70537)  \n",
       "4  MULTIPOINT (37.57222 55.68702, 37.57237 55.687...  "
      ]
     },
     "execution_count": 26,
     "metadata": {},
     "output_type": "execute_result"
    }
   ],
   "source": [
    "data_mos_metro_stations_gdf.head()"
   ]
  },
  {
   "cell_type": "code",
   "execution_count": 27,
   "metadata": {},
   "outputs": [],
   "source": [
    "data_mos_metro_stations_gdf.rename(columns={'NameOfStation':'station_name', 'Line':'line_name'}, inplace=True)"
   ]
  },
  {
   "cell_type": "code",
   "execution_count": 28,
   "metadata": {},
   "outputs": [],
   "source": [
    "data_mos_metro_stations_gdf['station_point'] = data_mos_metro_stations_gdf['geometry'].representative_point()"
   ]
  },
  {
   "cell_type": "code",
   "execution_count": 29,
   "metadata": {},
   "outputs": [
    {
     "data": {
      "text/html": [
       "<div>\n",
       "<style scoped>\n",
       "    .dataframe tbody tr th:only-of-type {\n",
       "        vertical-align: middle;\n",
       "    }\n",
       "\n",
       "    .dataframe tbody tr th {\n",
       "        vertical-align: top;\n",
       "    }\n",
       "\n",
       "    .dataframe thead th {\n",
       "        text-align: right;\n",
       "    }\n",
       "</style>\n",
       "<table border=\"1\" class=\"dataframe\">\n",
       "  <thead>\n",
       "    <tr style=\"text-align: right;\">\n",
       "      <th></th>\n",
       "      <th>station_name</th>\n",
       "      <th>line_name</th>\n",
       "      <th>geometry</th>\n",
       "      <th>station_point</th>\n",
       "    </tr>\n",
       "  </thead>\n",
       "  <tbody>\n",
       "    <tr>\n",
       "      <th>0</th>\n",
       "      <td>Авиамоторная</td>\n",
       "      <td>Большая кольцевая линия</td>\n",
       "      <td>POINT (37.71948 55.75325)</td>\n",
       "      <td>POINT (37.71948 55.75325)</td>\n",
       "    </tr>\n",
       "    <tr>\n",
       "      <th>1</th>\n",
       "      <td>Авиамоторная</td>\n",
       "      <td>Калининская линия</td>\n",
       "      <td>MULTIPOINT (37.71637 55.75168, 37.71640 55.751...</td>\n",
       "      <td>POINT (37.71680 55.75196)</td>\n",
       "    </tr>\n",
       "    <tr>\n",
       "      <th>2</th>\n",
       "      <td>Автозаводская</td>\n",
       "      <td>Замоскворецкая линия</td>\n",
       "      <td>MULTIPOINT (37.65732 55.70643, 37.65737 55.708...</td>\n",
       "      <td>POINT (37.65737 55.70860)</td>\n",
       "    </tr>\n",
       "    <tr>\n",
       "      <th>3</th>\n",
       "      <td>Автозаводская</td>\n",
       "      <td>Московское центральное кольцо</td>\n",
       "      <td>MULTIPOINT (37.66057 55.70599, 37.66290 55.70537)</td>\n",
       "      <td>POINT (37.66057 55.70599)</td>\n",
       "    </tr>\n",
       "    <tr>\n",
       "      <th>4</th>\n",
       "      <td>Академическая</td>\n",
       "      <td>Калужско-Рижская линия</td>\n",
       "      <td>MULTIPOINT (37.57222 55.68702, 37.57237 55.687...</td>\n",
       "      <td>POINT (37.57306 55.68695)</td>\n",
       "    </tr>\n",
       "  </tbody>\n",
       "</table>\n",
       "</div>"
      ],
      "text/plain": [
       "    station_name                      line_name  \\\n",
       "0   Авиамоторная        Большая кольцевая линия   \n",
       "1   Авиамоторная              Калининская линия   \n",
       "2  Автозаводская           Замоскворецкая линия   \n",
       "3  Автозаводская  Московское центральное кольцо   \n",
       "4  Академическая         Калужско-Рижская линия   \n",
       "\n",
       "                                            geometry  \\\n",
       "0                          POINT (37.71948 55.75325)   \n",
       "1  MULTIPOINT (37.71637 55.75168, 37.71640 55.751...   \n",
       "2  MULTIPOINT (37.65732 55.70643, 37.65737 55.708...   \n",
       "3  MULTIPOINT (37.66057 55.70599, 37.66290 55.70537)   \n",
       "4  MULTIPOINT (37.57222 55.68702, 37.57237 55.687...   \n",
       "\n",
       "               station_point  \n",
       "0  POINT (37.71948 55.75325)  \n",
       "1  POINT (37.71680 55.75196)  \n",
       "2  POINT (37.65737 55.70860)  \n",
       "3  POINT (37.66057 55.70599)  \n",
       "4  POINT (37.57306 55.68695)  "
      ]
     },
     "execution_count": 29,
     "metadata": {},
     "output_type": "execute_result"
    }
   ],
   "source": [
    "data_mos_metro_stations_gdf.head()"
   ]
  },
  {
   "cell_type": "code",
   "execution_count": 10,
   "metadata": {},
   "outputs": [
    {
     "data": {
      "text/plain": [
       "(264, 4)"
      ]
     },
     "execution_count": 10,
     "metadata": {},
     "output_type": "execute_result"
    }
   ],
   "source": [
    "data_mos_metro_stations_gdf.shape"
   ]
  },
  {
   "cell_type": "code",
   "execution_count": 30,
   "metadata": {},
   "outputs": [],
   "source": [
    "with open('data_mos_metro_stations_gdf.pickle', 'wb') as _f:\n",
    "    pickle.dump(data_mos_metro_stations_gdf, _f, pickle.HIGHEST_PROTOCOL)"
   ]
  },
  {
   "cell_type": "code",
   "execution_count": 6,
   "metadata": {},
   "outputs": [],
   "source": [
    "with open('data_mos_metro_stations_gdf.pickle', 'rb') as _f:\n",
    "    data_mos_metro_stations_gdf = pickle.load(_f)"
   ]
  },
  {
   "cell_type": "code",
   "execution_count": null,
   "metadata": {},
   "outputs": [],
   "source": []
  }
 ],
 "metadata": {
  "kernelspec": {
   "display_name": "new_env",
   "language": "python",
   "name": "new_env"
  },
  "language_info": {
   "codemirror_mode": {
    "name": "ipython",
    "version": 3
   },
   "file_extension": ".py",
   "mimetype": "text/x-python",
   "name": "python",
   "nbconvert_exporter": "python",
   "pygments_lexer": "ipython3",
   "version": "3.8.6"
  }
 },
 "nbformat": 4,
 "nbformat_minor": 4
}

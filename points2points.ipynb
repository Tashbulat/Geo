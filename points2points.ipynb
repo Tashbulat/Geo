{
 "cells": [
  {
   "cell_type": "code",
   "execution_count": 1,
   "metadata": {},
   "outputs": [],
   "source": [
    "import pandas as pd\n",
    "import numpy as np\n",
    "from numpy import inf, mean, median\n",
    "import math\n",
    "import datetime\n",
    "import json\n",
    "import os\n",
    "import glob\n",
    "import pickle\n",
    "import requests\n",
    "# import requests_cache\n",
    "import plotly.graph_objects as go\n",
    "import plotly.express as px\n",
    "import folium\n",
    "from folium.plugins import MarkerCluster, HeatMap\n",
    "import geopandas as gpd\n",
    "import osm2geojson\n",
    "import geojson\n",
    "import shapely\n",
    "from shapely import wkt\n",
    "from shapely.geometry import Point, Polygon, LineString"
   ]
  },
  {
   "cell_type": "code",
   "execution_count": 2,
   "metadata": {},
   "outputs": [],
   "source": [
    "pd.options.display.max_rows = 200\n",
    "pd.options.display.max_columns = 200"
   ]
  },
  {
   "cell_type": "markdown",
   "metadata": {},
   "source": [
    "# Points"
   ]
  },
  {
   "cell_type": "code",
   "execution_count": 3,
   "metadata": {},
   "outputs": [],
   "source": [
    "data_points = pd.read_excel(io='data_kladr_20210706.xlsx', sheet_name='Лист1')"
   ]
  },
  {
   "cell_type": "code",
   "execution_count": 4,
   "metadata": {},
   "outputs": [
    {
     "data": {
      "text/plain": [
       "(19701, 39)"
      ]
     },
     "execution_count": 4,
     "metadata": {},
     "output_type": "execute_result"
    }
   ],
   "source": [
    "data_points.shape"
   ]
  },
  {
   "cell_type": "code",
   "execution_count": 5,
   "metadata": {},
   "outputs": [],
   "source": [
    "data_points = data_points.loc[pd.notnull(data_points.longitude)]"
   ]
  },
  {
   "cell_type": "code",
   "execution_count": 6,
   "metadata": {},
   "outputs": [
    {
     "data": {
      "text/plain": [
       "(19467, 39)"
      ]
     },
     "execution_count": 6,
     "metadata": {},
     "output_type": "execute_result"
    }
   ],
   "source": [
    "data_points.shape"
   ]
  },
  {
   "cell_type": "code",
   "execution_count": 7,
   "metadata": {},
   "outputs": [
    {
     "data": {
      "text/plain": [
       "Index(['date', 'OwnerKLADRCode', 'count_pol', 'premium',\n",
       "       'count_pol_with_claim', 'claim_count', 'claim_sum', 'paid_sum',\n",
       "       'claim_sum_infl', 'paid_sum_infl', 'address', 'FullAddress', 'Region',\n",
       "       'Rayon', 'City', 'latitude', 'longitude', 'count_pol_200',\n",
       "       'premium_200', 'count_pol_with_claim_200', 'claim_count_200',\n",
       "       'claim_sum_200', 'paid_sum_200', 'claim_sum_infl_200',\n",
       "       'paid_sum_infl_200', 'count_pol_500', 'premium_500',\n",
       "       'count_pol_with_claim_500', 'claim_count_500', 'claim_sum_500',\n",
       "       'paid_sum_500', 'claim_sum_infl_500', 'paid_sum_infl_500',\n",
       "       'population_200', 'District_city', 'Area_city', 'District_city_dist',\n",
       "       'Area_city_dist', 'Population_density'],\n",
       "      dtype='object')"
      ]
     },
     "execution_count": 7,
     "metadata": {},
     "output_type": "execute_result"
    }
   ],
   "source": [
    "data_points.columns"
   ]
  },
  {
   "cell_type": "code",
   "execution_count": 8,
   "metadata": {},
   "outputs": [],
   "source": [
    "data_points.drop(['count_pol_200',\n",
    "       'premium_200', 'count_pol_with_claim_200', 'claim_count_200',\n",
    "       'claim_sum_200', 'paid_sum_200', 'claim_sum_infl_200',\n",
    "       'paid_sum_infl_200', 'count_pol_500', 'premium_500',\n",
    "       'count_pol_with_claim_500', 'claim_count_500', 'claim_sum_500',\n",
    "       'paid_sum_500', 'claim_sum_infl_500', 'paid_sum_infl_500',\n",
    "       'population_200', 'District_city', 'Area_city', 'District_city_dist',\n",
    "       'Area_city_dist', 'Population_density'], axis=1, inplace=True)"
   ]
  },
  {
   "cell_type": "code",
   "execution_count": 9,
   "metadata": {},
   "outputs": [],
   "source": [
    "data_points.reset_index(inplace=True)"
   ]
  },
  {
   "cell_type": "code",
   "execution_count": 10,
   "metadata": {},
   "outputs": [
    {
     "data": {
      "text/html": [
       "<div>\n",
       "<style scoped>\n",
       "    .dataframe tbody tr th:only-of-type {\n",
       "        vertical-align: middle;\n",
       "    }\n",
       "\n",
       "    .dataframe tbody tr th {\n",
       "        vertical-align: top;\n",
       "    }\n",
       "\n",
       "    .dataframe thead th {\n",
       "        text-align: right;\n",
       "    }\n",
       "</style>\n",
       "<table border=\"1\" class=\"dataframe\">\n",
       "  <thead>\n",
       "    <tr style=\"text-align: right;\">\n",
       "      <th></th>\n",
       "      <th>0</th>\n",
       "      <th>1</th>\n",
       "      <th>2</th>\n",
       "      <th>3</th>\n",
       "      <th>4</th>\n",
       "    </tr>\n",
       "  </thead>\n",
       "  <tbody>\n",
       "    <tr>\n",
       "      <th>index</th>\n",
       "      <td>0</td>\n",
       "      <td>1</td>\n",
       "      <td>2</td>\n",
       "      <td>3</td>\n",
       "      <td>4</td>\n",
       "    </tr>\n",
       "    <tr>\n",
       "      <th>date</th>\n",
       "      <td>2021-07-07 11:32:45</td>\n",
       "      <td>2021-07-07 11:32:45</td>\n",
       "      <td>2021-07-07 11:32:45</td>\n",
       "      <td>2021-07-07 11:32:45</td>\n",
       "      <td>2021-07-07 11:32:45</td>\n",
       "    </tr>\n",
       "    <tr>\n",
       "      <th>OwnerKLADRCode</th>\n",
       "      <td>0100200001300</td>\n",
       "      <td>0100500000900</td>\n",
       "      <td>0100500003200</td>\n",
       "      <td>0100600002500</td>\n",
       "      <td>0200000102700</td>\n",
       "    </tr>\n",
       "    <tr>\n",
       "      <th>count_pol</th>\n",
       "      <td>1</td>\n",
       "      <td>5</td>\n",
       "      <td>1</td>\n",
       "      <td>1</td>\n",
       "      <td>4</td>\n",
       "    </tr>\n",
       "    <tr>\n",
       "      <th>premium</th>\n",
       "      <td>2944.37</td>\n",
       "      <td>34148.81</td>\n",
       "      <td>7494.76</td>\n",
       "      <td>5353.4</td>\n",
       "      <td>39791.98</td>\n",
       "    </tr>\n",
       "    <tr>\n",
       "      <th>count_pol_with_claim</th>\n",
       "      <td>0</td>\n",
       "      <td>0</td>\n",
       "      <td>0</td>\n",
       "      <td>0</td>\n",
       "      <td>0</td>\n",
       "    </tr>\n",
       "    <tr>\n",
       "      <th>claim_count</th>\n",
       "      <td>0</td>\n",
       "      <td>0</td>\n",
       "      <td>0</td>\n",
       "      <td>0</td>\n",
       "      <td>0</td>\n",
       "    </tr>\n",
       "    <tr>\n",
       "      <th>claim_sum</th>\n",
       "      <td>0.0</td>\n",
       "      <td>0.0</td>\n",
       "      <td>0.0</td>\n",
       "      <td>0.0</td>\n",
       "      <td>0.0</td>\n",
       "    </tr>\n",
       "    <tr>\n",
       "      <th>paid_sum</th>\n",
       "      <td>0.0</td>\n",
       "      <td>0.0</td>\n",
       "      <td>0.0</td>\n",
       "      <td>0.0</td>\n",
       "      <td>0.0</td>\n",
       "    </tr>\n",
       "    <tr>\n",
       "      <th>claim_sum_infl</th>\n",
       "      <td>0.0</td>\n",
       "      <td>0.0</td>\n",
       "      <td>0.0</td>\n",
       "      <td>0.0</td>\n",
       "      <td>0.0</td>\n",
       "    </tr>\n",
       "    <tr>\n",
       "      <th>paid_sum_infl</th>\n",
       "      <td>0.0</td>\n",
       "      <td>0.0</td>\n",
       "      <td>0.0</td>\n",
       "      <td>0.0</td>\n",
       "      <td>0.0</td>\n",
       "    </tr>\n",
       "    <tr>\n",
       "      <th>address</th>\n",
       "      <td>NaN</td>\n",
       "      <td>NaN</td>\n",
       "      <td>NaN</td>\n",
       "      <td>NaN</td>\n",
       "      <td>NaN</td>\n",
       "    </tr>\n",
       "    <tr>\n",
       "      <th>FullAddress</th>\n",
       "      <td>Адыгея, Кошехабльский, Майский</td>\n",
       "      <td>Адыгея, Тахтамукайский, Новая Адыгея</td>\n",
       "      <td>Адыгея, Тахтамукайский, Лесник</td>\n",
       "      <td>Адыгея, Теучежский, Тлюстенхабль</td>\n",
       "      <td>Башкортостан, Уфа, Станции Уршак</td>\n",
       "    </tr>\n",
       "    <tr>\n",
       "      <th>Region</th>\n",
       "      <td>Адыгея</td>\n",
       "      <td>Адыгея</td>\n",
       "      <td>Адыгея</td>\n",
       "      <td>Адыгея</td>\n",
       "      <td>Башкортостан</td>\n",
       "    </tr>\n",
       "    <tr>\n",
       "      <th>Rayon</th>\n",
       "      <td>Кошехабльский</td>\n",
       "      <td>Тахтамукайский</td>\n",
       "      <td>Тахтамукайский</td>\n",
       "      <td>Теучежский</td>\n",
       "      <td>Уфа</td>\n",
       "    </tr>\n",
       "    <tr>\n",
       "      <th>City</th>\n",
       "      <td>Майский</td>\n",
       "      <td>Новая Адыгея</td>\n",
       "      <td>Лесник</td>\n",
       "      <td>Тлюстенхабль</td>\n",
       "      <td>Уфа</td>\n",
       "    </tr>\n",
       "    <tr>\n",
       "      <th>latitude</th>\n",
       "      <td>44.780445</td>\n",
       "      <td>45.024727</td>\n",
       "      <td>45.006897</td>\n",
       "      <td>44.98083</td>\n",
       "      <td>54.564808</td>\n",
       "    </tr>\n",
       "    <tr>\n",
       "      <th>longitude</th>\n",
       "      <td>40.54908</td>\n",
       "      <td>38.934097</td>\n",
       "      <td>38.979748</td>\n",
       "      <td>39.096226</td>\n",
       "      <td>55.924335</td>\n",
       "    </tr>\n",
       "  </tbody>\n",
       "</table>\n",
       "</div>"
      ],
      "text/plain": [
       "                                                   0  \\\n",
       "index                                              0   \n",
       "date                             2021-07-07 11:32:45   \n",
       "OwnerKLADRCode                         0100200001300   \n",
       "count_pol                                          1   \n",
       "premium                                      2944.37   \n",
       "count_pol_with_claim                               0   \n",
       "claim_count                                        0   \n",
       "claim_sum                                        0.0   \n",
       "paid_sum                                         0.0   \n",
       "claim_sum_infl                                   0.0   \n",
       "paid_sum_infl                                    0.0   \n",
       "address                                          NaN   \n",
       "FullAddress           Адыгея, Кошехабльский, Майский   \n",
       "Region                                        Адыгея   \n",
       "Rayon                                  Кошехабльский   \n",
       "City                                         Майский   \n",
       "latitude                                   44.780445   \n",
       "longitude                                   40.54908   \n",
       "\n",
       "                                                         1  \\\n",
       "index                                                    1   \n",
       "date                                   2021-07-07 11:32:45   \n",
       "OwnerKLADRCode                               0100500000900   \n",
       "count_pol                                                5   \n",
       "premium                                           34148.81   \n",
       "count_pol_with_claim                                     0   \n",
       "claim_count                                              0   \n",
       "claim_sum                                              0.0   \n",
       "paid_sum                                               0.0   \n",
       "claim_sum_infl                                         0.0   \n",
       "paid_sum_infl                                          0.0   \n",
       "address                                                NaN   \n",
       "FullAddress           Адыгея, Тахтамукайский, Новая Адыгея   \n",
       "Region                                              Адыгея   \n",
       "Rayon                                       Тахтамукайский   \n",
       "City                                          Новая Адыгея   \n",
       "latitude                                         45.024727   \n",
       "longitude                                        38.934097   \n",
       "\n",
       "                                                   2  \\\n",
       "index                                              2   \n",
       "date                             2021-07-07 11:32:45   \n",
       "OwnerKLADRCode                         0100500003200   \n",
       "count_pol                                          1   \n",
       "premium                                      7494.76   \n",
       "count_pol_with_claim                               0   \n",
       "claim_count                                        0   \n",
       "claim_sum                                        0.0   \n",
       "paid_sum                                         0.0   \n",
       "claim_sum_infl                                   0.0   \n",
       "paid_sum_infl                                    0.0   \n",
       "address                                          NaN   \n",
       "FullAddress           Адыгея, Тахтамукайский, Лесник   \n",
       "Region                                        Адыгея   \n",
       "Rayon                                 Тахтамукайский   \n",
       "City                                          Лесник   \n",
       "latitude                                   45.006897   \n",
       "longitude                                  38.979748   \n",
       "\n",
       "                                                     3  \\\n",
       "index                                                3   \n",
       "date                               2021-07-07 11:32:45   \n",
       "OwnerKLADRCode                           0100600002500   \n",
       "count_pol                                            1   \n",
       "premium                                         5353.4   \n",
       "count_pol_with_claim                                 0   \n",
       "claim_count                                          0   \n",
       "claim_sum                                          0.0   \n",
       "paid_sum                                           0.0   \n",
       "claim_sum_infl                                     0.0   \n",
       "paid_sum_infl                                      0.0   \n",
       "address                                            NaN   \n",
       "FullAddress           Адыгея, Теучежский, Тлюстенхабль   \n",
       "Region                                          Адыгея   \n",
       "Rayon                                       Теучежский   \n",
       "City                                      Тлюстенхабль   \n",
       "latitude                                      44.98083   \n",
       "longitude                                    39.096226   \n",
       "\n",
       "                                                     4  \n",
       "index                                                4  \n",
       "date                               2021-07-07 11:32:45  \n",
       "OwnerKLADRCode                           0200000102700  \n",
       "count_pol                                            4  \n",
       "premium                                       39791.98  \n",
       "count_pol_with_claim                                 0  \n",
       "claim_count                                          0  \n",
       "claim_sum                                          0.0  \n",
       "paid_sum                                           0.0  \n",
       "claim_sum_infl                                     0.0  \n",
       "paid_sum_infl                                      0.0  \n",
       "address                                            NaN  \n",
       "FullAddress           Башкортостан, Уфа, Станции Уршак  \n",
       "Region                                    Башкортостан  \n",
       "Rayon                                              Уфа  \n",
       "City                                               Уфа  \n",
       "latitude                                     54.564808  \n",
       "longitude                                    55.924335  "
      ]
     },
     "execution_count": 10,
     "metadata": {},
     "output_type": "execute_result"
    }
   ],
   "source": [
    "data_points.head().T"
   ]
  },
  {
   "cell_type": "raw",
   "metadata": {},
   "source": [
    "map_points = folium.Map(width=1200, height=700, location=[55.75, 37.60], zoom_start=5)\n",
    "\n",
    "for index, row in data_points.iterrows():\n",
    "    folium.CircleMarker(location=tuple(row[['latitude', 'longitude']]),\n",
    "                        radius=1,\n",
    "                        fill_color='red',\n",
    "                        color=None,\n",
    "                        fill_opacity=1,\n",
    "                        popup=row['address'],\n",
    "                       ).add_to(map_points)"
   ]
  },
  {
   "cell_type": "raw",
   "metadata": {},
   "source": [
    "map_points"
   ]
  },
  {
   "cell_type": "markdown",
   "metadata": {},
   "source": [
    "# Points To Points"
   ]
  },
  {
   "cell_type": "code",
   "execution_count": 19,
   "metadata": {},
   "outputs": [
    {
     "name": "stdout",
     "output_type": "stream",
     "text": [
      "CPU times: user 56.2 s, sys: 1min 5s, total: 2min 1s\n",
      "Wall time: 1min 59s\n"
     ]
    }
   ],
   "source": [
    "%%time\n",
    "data_points2points = pd.merge(data_points[['index','latitude','longitude']], data_points[['index','latitude','longitude']], how='cross')"
   ]
  },
  {
   "cell_type": "code",
   "execution_count": 20,
   "metadata": {},
   "outputs": [
    {
     "data": {
      "text/plain": [
       "(378964089, 6)"
      ]
     },
     "execution_count": 20,
     "metadata": {},
     "output_type": "execute_result"
    }
   ],
   "source": [
    "data_points2points.shape"
   ]
  },
  {
   "cell_type": "code",
   "execution_count": 21,
   "metadata": {},
   "outputs": [
    {
     "data": {
      "text/html": [
       "<div>\n",
       "<style scoped>\n",
       "    .dataframe tbody tr th:only-of-type {\n",
       "        vertical-align: middle;\n",
       "    }\n",
       "\n",
       "    .dataframe tbody tr th {\n",
       "        vertical-align: top;\n",
       "    }\n",
       "\n",
       "    .dataframe thead th {\n",
       "        text-align: right;\n",
       "    }\n",
       "</style>\n",
       "<table border=\"1\" class=\"dataframe\">\n",
       "  <thead>\n",
       "    <tr style=\"text-align: right;\">\n",
       "      <th></th>\n",
       "      <th>0</th>\n",
       "      <th>1</th>\n",
       "      <th>2</th>\n",
       "      <th>3</th>\n",
       "      <th>4</th>\n",
       "    </tr>\n",
       "  </thead>\n",
       "  <tbody>\n",
       "    <tr>\n",
       "      <th>index_x</th>\n",
       "      <td>0.000000</td>\n",
       "      <td>0.000000</td>\n",
       "      <td>0.000000</td>\n",
       "      <td>0.000000</td>\n",
       "      <td>0.000000</td>\n",
       "    </tr>\n",
       "    <tr>\n",
       "      <th>latitude_x</th>\n",
       "      <td>44.780445</td>\n",
       "      <td>44.780445</td>\n",
       "      <td>44.780445</td>\n",
       "      <td>44.780445</td>\n",
       "      <td>44.780445</td>\n",
       "    </tr>\n",
       "    <tr>\n",
       "      <th>longitude_x</th>\n",
       "      <td>40.549080</td>\n",
       "      <td>40.549080</td>\n",
       "      <td>40.549080</td>\n",
       "      <td>40.549080</td>\n",
       "      <td>40.549080</td>\n",
       "    </tr>\n",
       "    <tr>\n",
       "      <th>index_y</th>\n",
       "      <td>0.000000</td>\n",
       "      <td>1.000000</td>\n",
       "      <td>2.000000</td>\n",
       "      <td>3.000000</td>\n",
       "      <td>4.000000</td>\n",
       "    </tr>\n",
       "    <tr>\n",
       "      <th>latitude_y</th>\n",
       "      <td>44.780445</td>\n",
       "      <td>45.024727</td>\n",
       "      <td>45.006897</td>\n",
       "      <td>44.980830</td>\n",
       "      <td>54.564808</td>\n",
       "    </tr>\n",
       "    <tr>\n",
       "      <th>longitude_y</th>\n",
       "      <td>40.549080</td>\n",
       "      <td>38.934097</td>\n",
       "      <td>38.979748</td>\n",
       "      <td>39.096226</td>\n",
       "      <td>55.924335</td>\n",
       "    </tr>\n",
       "  </tbody>\n",
       "</table>\n",
       "</div>"
      ],
      "text/plain": [
       "                     0          1          2          3          4\n",
       "index_x       0.000000   0.000000   0.000000   0.000000   0.000000\n",
       "latitude_x   44.780445  44.780445  44.780445  44.780445  44.780445\n",
       "longitude_x  40.549080  40.549080  40.549080  40.549080  40.549080\n",
       "index_y       0.000000   1.000000   2.000000   3.000000   4.000000\n",
       "latitude_y   44.780445  45.024727  45.006897  44.980830  54.564808\n",
       "longitude_y  40.549080  38.934097  38.979748  39.096226  55.924335"
      ]
     },
     "execution_count": 21,
     "metadata": {},
     "output_type": "execute_result"
    }
   ],
   "source": [
    "data_points2points.head().T"
   ]
  },
  {
   "cell_type": "markdown",
   "metadata": {},
   "source": [
    "## P2P Dist"
   ]
  },
  {
   "cell_type": "code",
   "execution_count": 22,
   "metadata": {},
   "outputs": [],
   "source": [
    "def f_dist(df, col_lat_1, col_lon_1, col_lat_2, col_lon_2, col_dist):\n",
    "    \n",
    "    lat_1 = math.pi/180 * df[col_lat_1].to_numpy()\n",
    "    lon_1 = math.pi/180 * df[col_lon_1].to_numpy()\n",
    "    lat_2 = math.pi/180 * df[col_lat_2].to_numpy()\n",
    "    lon_2 = math.pi/180 * df[col_lon_2].to_numpy()\n",
    "    \n",
    "    dlon = lon_1 - lon_2\n",
    "    dlat = lat_1 - lat_2\n",
    "    a = np.sin(dlat/2)**2 + np.cos(lat_1) * np.cos(lat_2) * np.sin(dlon/2)**2\n",
    "    c = 2 * np.arcsin(np.sqrt(a))\n",
    "    dist = c * 6371.009\n",
    "    \n",
    "    df[col_dist] = dist\n",
    "    \n",
    "    return df"
   ]
  },
  {
   "cell_type": "code",
   "execution_count": 23,
   "metadata": {},
   "outputs": [
    {
     "name": "stdout",
     "output_type": "stream",
     "text": [
      "CPU times: user 53 s, sys: 22.8 s, total: 1min 15s\n",
      "Wall time: 1min 15s\n"
     ]
    }
   ],
   "source": [
    "%%time\n",
    "data_points2points = f_dist(data_points2points, 'latitude_x', 'longitude_x', 'latitude_y', 'longitude_y', 'dist')"
   ]
  },
  {
   "cell_type": "code",
   "execution_count": 24,
   "metadata": {},
   "outputs": [
    {
     "data": {
      "text/html": [
       "<div>\n",
       "<style scoped>\n",
       "    .dataframe tbody tr th:only-of-type {\n",
       "        vertical-align: middle;\n",
       "    }\n",
       "\n",
       "    .dataframe tbody tr th {\n",
       "        vertical-align: top;\n",
       "    }\n",
       "\n",
       "    .dataframe thead th {\n",
       "        text-align: right;\n",
       "    }\n",
       "</style>\n",
       "<table border=\"1\" class=\"dataframe\">\n",
       "  <thead>\n",
       "    <tr style=\"text-align: right;\">\n",
       "      <th></th>\n",
       "      <th>0</th>\n",
       "      <th>1</th>\n",
       "      <th>2</th>\n",
       "      <th>3</th>\n",
       "      <th>4</th>\n",
       "    </tr>\n",
       "  </thead>\n",
       "  <tbody>\n",
       "    <tr>\n",
       "      <th>index_x</th>\n",
       "      <td>0.000000</td>\n",
       "      <td>0.000000</td>\n",
       "      <td>0.000000</td>\n",
       "      <td>0.000000</td>\n",
       "      <td>0.000000</td>\n",
       "    </tr>\n",
       "    <tr>\n",
       "      <th>latitude_x</th>\n",
       "      <td>44.780445</td>\n",
       "      <td>44.780445</td>\n",
       "      <td>44.780445</td>\n",
       "      <td>44.780445</td>\n",
       "      <td>44.780445</td>\n",
       "    </tr>\n",
       "    <tr>\n",
       "      <th>longitude_x</th>\n",
       "      <td>40.549080</td>\n",
       "      <td>40.549080</td>\n",
       "      <td>40.549080</td>\n",
       "      <td>40.549080</td>\n",
       "      <td>40.549080</td>\n",
       "    </tr>\n",
       "    <tr>\n",
       "      <th>index_y</th>\n",
       "      <td>0.000000</td>\n",
       "      <td>1.000000</td>\n",
       "      <td>2.000000</td>\n",
       "      <td>3.000000</td>\n",
       "      <td>4.000000</td>\n",
       "    </tr>\n",
       "    <tr>\n",
       "      <th>latitude_y</th>\n",
       "      <td>44.780445</td>\n",
       "      <td>45.024727</td>\n",
       "      <td>45.006897</td>\n",
       "      <td>44.980830</td>\n",
       "      <td>54.564808</td>\n",
       "    </tr>\n",
       "    <tr>\n",
       "      <th>longitude_y</th>\n",
       "      <td>40.549080</td>\n",
       "      <td>38.934097</td>\n",
       "      <td>38.979748</td>\n",
       "      <td>39.096226</td>\n",
       "      <td>55.924335</td>\n",
       "    </tr>\n",
       "    <tr>\n",
       "      <th>dist</th>\n",
       "      <td>0.000000</td>\n",
       "      <td>130.062227</td>\n",
       "      <td>126.156569</td>\n",
       "      <td>116.617684</td>\n",
       "      <td>1545.373569</td>\n",
       "    </tr>\n",
       "  </tbody>\n",
       "</table>\n",
       "</div>"
      ],
      "text/plain": [
       "                     0           1           2           3            4\n",
       "index_x       0.000000    0.000000    0.000000    0.000000     0.000000\n",
       "latitude_x   44.780445   44.780445   44.780445   44.780445    44.780445\n",
       "longitude_x  40.549080   40.549080   40.549080   40.549080    40.549080\n",
       "index_y       0.000000    1.000000    2.000000    3.000000     4.000000\n",
       "latitude_y   44.780445   45.024727   45.006897   44.980830    54.564808\n",
       "longitude_y  40.549080   38.934097   38.979748   39.096226    55.924335\n",
       "dist          0.000000  130.062227  126.156569  116.617684  1545.373569"
      ]
     },
     "execution_count": 24,
     "metadata": {},
     "output_type": "execute_result"
    }
   ],
   "source": [
    "data_points2points.head().T"
   ]
  },
  {
   "cell_type": "code",
   "execution_count": 17,
   "metadata": {},
   "outputs": [
    {
     "name": "stdout",
     "output_type": "stream",
     "text": [
      "dist_min = 0.0 km\n",
      "dist_max = 8769.602693526094 km\n",
      "CPU times: user 2min 2s, sys: 3.06 s, total: 2min 6s\n",
      "Wall time: 2min 1s\n"
     ]
    }
   ],
   "source": [
    "%%time\n",
    "print(f\"dist_min = {min(data_points2points['dist'])} km\")\n",
    "print(f\"dist_max = {max(data_points2points['dist'])} km\")"
   ]
  },
  {
   "cell_type": "markdown",
   "metadata": {},
   "source": [
    "## Circle 200 km"
   ]
  },
  {
   "cell_type": "code",
   "execution_count": 25,
   "metadata": {},
   "outputs": [],
   "source": [
    "dist_max_200 = 200"
   ]
  },
  {
   "cell_type": "code",
   "execution_count": 28,
   "metadata": {},
   "outputs": [
    {
     "name": "stdout",
     "output_type": "stream",
     "text": [
      "CPU times: user 5.31 s, sys: 3.72 s, total: 9.03 s\n",
      "Wall time: 9.03 s\n"
     ]
    }
   ],
   "source": [
    "%%time\n",
    "data_points2points_200 = data_points2points.loc[data_points2points.dist < dist_max_200].merge(data_points[['index',\n",
    "                                                                                                           'count_pol',\n",
    "                                                                                                           'premium',\n",
    "                                                                                                           'count_pol_with_claim',\n",
    "                                                                                                           'claim_count',\n",
    "                                                                                                           'claim_sum',\n",
    "                                                                                                           'paid_sum',\n",
    "                                                                                                           'claim_sum_infl',\n",
    "                                                                                                           'paid_sum_infl',\n",
    "                                                                                                          ]], how='left', left_on='index_y', right_on='index')"
   ]
  },
  {
   "cell_type": "code",
   "execution_count": 29,
   "metadata": {},
   "outputs": [
    {
     "data": {
      "text/plain": [
       "(12973247, 16)"
      ]
     },
     "execution_count": 29,
     "metadata": {},
     "output_type": "execute_result"
    }
   ],
   "source": [
    "data_points2points_200.shape"
   ]
  },
  {
   "cell_type": "code",
   "execution_count": 30,
   "metadata": {},
   "outputs": [
    {
     "name": "stdout",
     "output_type": "stream",
     "text": [
      "CPU times: user 2.26 s, sys: 2.65 s, total: 4.91 s\n",
      "Wall time: 4.91 s\n"
     ]
    }
   ],
   "source": [
    "%%time\n",
    "data_points2points_200_gr = data_points2points_200[['index_x',\n",
    "                                                    'count_pol',\n",
    "                                                    'premium',\n",
    "                                                    'count_pol_with_claim',\n",
    "                                                    'claim_count',\n",
    "                                                    'claim_sum',\n",
    "                                                    'paid_sum',\n",
    "                                                    'claim_sum_infl',\n",
    "                                                    'paid_sum_infl',\n",
    "                                                   ]].groupby('index_x').sum().reset_index()"
   ]
  },
  {
   "cell_type": "code",
   "execution_count": 31,
   "metadata": {},
   "outputs": [
    {
     "data": {
      "text/plain": [
       "(19467, 9)"
      ]
     },
     "execution_count": 31,
     "metadata": {},
     "output_type": "execute_result"
    }
   ],
   "source": [
    "data_points2points_200_gr.shape"
   ]
  },
  {
   "cell_type": "code",
   "execution_count": 32,
   "metadata": {},
   "outputs": [],
   "source": [
    "data_points2points_200_gr.rename(columns={'count_pol':'count_pol_200',\n",
    "                                          'premium':'premium_200',\n",
    "                                          'count_pol_with_claim':'count_pol_with_claim_200',\n",
    "                                          'claim_count':'claim_count_200',\n",
    "                                          'claim_sum':'claim_sum_200',\n",
    "                                          'paid_sum':'paid_sum_200',\n",
    "                                          'claim_sum_infl':'claim_sum_infl_200',\n",
    "                                          'paid_sum_infl':'paid_sum_infl_200',\n",
    "                                         }, inplace=True)"
   ]
  },
  {
   "cell_type": "code",
   "execution_count": 33,
   "metadata": {},
   "outputs": [
    {
     "data": {
      "text/html": [
       "<div>\n",
       "<style scoped>\n",
       "    .dataframe tbody tr th:only-of-type {\n",
       "        vertical-align: middle;\n",
       "    }\n",
       "\n",
       "    .dataframe tbody tr th {\n",
       "        vertical-align: top;\n",
       "    }\n",
       "\n",
       "    .dataframe thead th {\n",
       "        text-align: right;\n",
       "    }\n",
       "</style>\n",
       "<table border=\"1\" class=\"dataframe\">\n",
       "  <thead>\n",
       "    <tr style=\"text-align: right;\">\n",
       "      <th></th>\n",
       "      <th>0</th>\n",
       "      <th>1</th>\n",
       "      <th>2</th>\n",
       "      <th>3</th>\n",
       "      <th>4</th>\n",
       "    </tr>\n",
       "  </thead>\n",
       "  <tbody>\n",
       "    <tr>\n",
       "      <th>index_x</th>\n",
       "      <td>0.000000e+00</td>\n",
       "      <td>1.000000e+00</td>\n",
       "      <td>2.000000e+00</td>\n",
       "      <td>3.000000e+00</td>\n",
       "      <td>4.000000e+00</td>\n",
       "    </tr>\n",
       "    <tr>\n",
       "      <th>count_pol_200</th>\n",
       "      <td>2.098720e+05</td>\n",
       "      <td>1.437450e+05</td>\n",
       "      <td>1.450760e+05</td>\n",
       "      <td>1.475900e+05</td>\n",
       "      <td>3.128000e+03</td>\n",
       "    </tr>\n",
       "    <tr>\n",
       "      <th>premium_200</th>\n",
       "      <td>6.934323e+08</td>\n",
       "      <td>5.465751e+08</td>\n",
       "      <td>5.498103e+08</td>\n",
       "      <td>5.546734e+08</td>\n",
       "      <td>2.110759e+07</td>\n",
       "    </tr>\n",
       "    <tr>\n",
       "      <th>count_pol_with_claim_200</th>\n",
       "      <td>3.657000e+03</td>\n",
       "      <td>2.729000e+03</td>\n",
       "      <td>2.753000e+03</td>\n",
       "      <td>2.784000e+03</td>\n",
       "      <td>1.780000e+02</td>\n",
       "    </tr>\n",
       "    <tr>\n",
       "      <th>claim_count_200</th>\n",
       "      <td>3.927000e+03</td>\n",
       "      <td>2.926000e+03</td>\n",
       "      <td>2.952000e+03</td>\n",
       "      <td>2.984000e+03</td>\n",
       "      <td>2.250000e+02</td>\n",
       "    </tr>\n",
       "    <tr>\n",
       "      <th>claim_sum_200</th>\n",
       "      <td>3.133301e+08</td>\n",
       "      <td>2.295201e+08</td>\n",
       "      <td>2.317245e+08</td>\n",
       "      <td>2.348220e+08</td>\n",
       "      <td>1.212111e+07</td>\n",
       "    </tr>\n",
       "    <tr>\n",
       "      <th>paid_sum_200</th>\n",
       "      <td>3.045876e+08</td>\n",
       "      <td>2.232827e+08</td>\n",
       "      <td>2.254246e+08</td>\n",
       "      <td>2.287442e+08</td>\n",
       "      <td>1.187949e+07</td>\n",
       "    </tr>\n",
       "    <tr>\n",
       "      <th>claim_sum_infl_200</th>\n",
       "      <td>3.393923e+08</td>\n",
       "      <td>2.483993e+08</td>\n",
       "      <td>2.507565e+08</td>\n",
       "      <td>2.541010e+08</td>\n",
       "      <td>1.337181e+07</td>\n",
       "    </tr>\n",
       "    <tr>\n",
       "      <th>paid_sum_infl_200</th>\n",
       "      <td>3.305398e+08</td>\n",
       "      <td>2.420974e+08</td>\n",
       "      <td>2.443914e+08</td>\n",
       "      <td>2.479612e+08</td>\n",
       "      <td>1.312699e+07</td>\n",
       "    </tr>\n",
       "  </tbody>\n",
       "</table>\n",
       "</div>"
      ],
      "text/plain": [
       "                                     0             1             2  \\\n",
       "index_x                   0.000000e+00  1.000000e+00  2.000000e+00   \n",
       "count_pol_200             2.098720e+05  1.437450e+05  1.450760e+05   \n",
       "premium_200               6.934323e+08  5.465751e+08  5.498103e+08   \n",
       "count_pol_with_claim_200  3.657000e+03  2.729000e+03  2.753000e+03   \n",
       "claim_count_200           3.927000e+03  2.926000e+03  2.952000e+03   \n",
       "claim_sum_200             3.133301e+08  2.295201e+08  2.317245e+08   \n",
       "paid_sum_200              3.045876e+08  2.232827e+08  2.254246e+08   \n",
       "claim_sum_infl_200        3.393923e+08  2.483993e+08  2.507565e+08   \n",
       "paid_sum_infl_200         3.305398e+08  2.420974e+08  2.443914e+08   \n",
       "\n",
       "                                     3             4  \n",
       "index_x                   3.000000e+00  4.000000e+00  \n",
       "count_pol_200             1.475900e+05  3.128000e+03  \n",
       "premium_200               5.546734e+08  2.110759e+07  \n",
       "count_pol_with_claim_200  2.784000e+03  1.780000e+02  \n",
       "claim_count_200           2.984000e+03  2.250000e+02  \n",
       "claim_sum_200             2.348220e+08  1.212111e+07  \n",
       "paid_sum_200              2.287442e+08  1.187949e+07  \n",
       "claim_sum_infl_200        2.541010e+08  1.337181e+07  \n",
       "paid_sum_infl_200         2.479612e+08  1.312699e+07  "
      ]
     },
     "execution_count": 33,
     "metadata": {},
     "output_type": "execute_result"
    }
   ],
   "source": [
    "data_points2points_200_gr.head().T"
   ]
  },
  {
   "cell_type": "markdown",
   "metadata": {},
   "source": [
    "## Circle 500 km"
   ]
  },
  {
   "cell_type": "code",
   "execution_count": 34,
   "metadata": {},
   "outputs": [],
   "source": [
    "dist_max_500 = 500"
   ]
  },
  {
   "cell_type": "code",
   "execution_count": 35,
   "metadata": {},
   "outputs": [
    {
     "name": "stdout",
     "output_type": "stream",
     "text": [
      "CPU times: user 15.8 s, sys: 11.3 s, total: 27.2 s\n",
      "Wall time: 27.1 s\n"
     ]
    }
   ],
   "source": [
    "%%time\n",
    "data_points2points_500 = data_points2points.loc[data_points2points.dist < dist_max_500].merge(data_points[['index',\n",
    "                                                                                                           'count_pol',\n",
    "                                                                                                           'premium',\n",
    "                                                                                                           'count_pol_with_claim',\n",
    "                                                                                                           'claim_count',\n",
    "                                                                                                           'claim_sum',\n",
    "                                                                                                           'paid_sum',\n",
    "                                                                                                           'claim_sum_infl',\n",
    "                                                                                                           'paid_sum_infl',\n",
    "                                                                                                          ]], how='left', left_on='index_y', right_on='index')"
   ]
  },
  {
   "cell_type": "code",
   "execution_count": 36,
   "metadata": {},
   "outputs": [
    {
     "data": {
      "text/plain": [
       "(40319661, 16)"
      ]
     },
     "execution_count": 36,
     "metadata": {},
     "output_type": "execute_result"
    }
   ],
   "source": [
    "data_points2points_500.shape"
   ]
  },
  {
   "cell_type": "code",
   "execution_count": 37,
   "metadata": {},
   "outputs": [
    {
     "name": "stdout",
     "output_type": "stream",
     "text": [
      "CPU times: user 6.88 s, sys: 8.15 s, total: 15 s\n",
      "Wall time: 15 s\n"
     ]
    }
   ],
   "source": [
    "%%time\n",
    "data_points2points_500_gr = data_points2points_500[['index_x',\n",
    "                                                    'count_pol',\n",
    "                                                    'premium',\n",
    "                                                    'count_pol_with_claim',\n",
    "                                                    'claim_count',\n",
    "                                                    'claim_sum',\n",
    "                                                    'paid_sum',\n",
    "                                                    'claim_sum_infl',\n",
    "                                                    'paid_sum_infl',\n",
    "                                                   ]].groupby('index_x').sum().reset_index()"
   ]
  },
  {
   "cell_type": "code",
   "execution_count": 38,
   "metadata": {},
   "outputs": [
    {
     "data": {
      "text/plain": [
       "(19467, 9)"
      ]
     },
     "execution_count": 38,
     "metadata": {},
     "output_type": "execute_result"
    }
   ],
   "source": [
    "data_points2points_500_gr.shape"
   ]
  },
  {
   "cell_type": "code",
   "execution_count": 39,
   "metadata": {},
   "outputs": [],
   "source": [
    "data_points2points_500_gr.rename(columns={'count_pol':'count_pol_500',\n",
    "                                          'premium':'premium_500',\n",
    "                                          'count_pol_with_claim':'count_pol_with_claim_500',\n",
    "                                          'claim_count':'claim_count_500',\n",
    "                                          'claim_sum':'claim_sum_500',\n",
    "                                          'paid_sum':'paid_sum_500',\n",
    "                                          'claim_sum_infl':'claim_sum_infl_500',\n",
    "                                          'paid_sum_infl':'paid_sum_infl_500',\n",
    "                                         }, inplace=True)"
   ]
  },
  {
   "cell_type": "code",
   "execution_count": 40,
   "metadata": {},
   "outputs": [
    {
     "data": {
      "text/html": [
       "<div>\n",
       "<style scoped>\n",
       "    .dataframe tbody tr th:only-of-type {\n",
       "        vertical-align: middle;\n",
       "    }\n",
       "\n",
       "    .dataframe tbody tr th {\n",
       "        vertical-align: top;\n",
       "    }\n",
       "\n",
       "    .dataframe thead th {\n",
       "        text-align: right;\n",
       "    }\n",
       "</style>\n",
       "<table border=\"1\" class=\"dataframe\">\n",
       "  <thead>\n",
       "    <tr style=\"text-align: right;\">\n",
       "      <th></th>\n",
       "      <th>0</th>\n",
       "      <th>1</th>\n",
       "      <th>2</th>\n",
       "      <th>3</th>\n",
       "      <th>4</th>\n",
       "    </tr>\n",
       "  </thead>\n",
       "  <tbody>\n",
       "    <tr>\n",
       "      <th>index_x</th>\n",
       "      <td>0.000000e+00</td>\n",
       "      <td>1.000000e+00</td>\n",
       "      <td>2.000000e+00</td>\n",
       "      <td>3.000000e+00</td>\n",
       "      <td>4.000000e+00</td>\n",
       "    </tr>\n",
       "    <tr>\n",
       "      <th>count_pol_500</th>\n",
       "      <td>4.646610e+05</td>\n",
       "      <td>4.657840e+05</td>\n",
       "      <td>4.657530e+05</td>\n",
       "      <td>4.662910e+05</td>\n",
       "      <td>7.798000e+03</td>\n",
       "    </tr>\n",
       "    <tr>\n",
       "      <th>premium_500</th>\n",
       "      <td>1.472574e+09</td>\n",
       "      <td>1.475477e+09</td>\n",
       "      <td>1.475352e+09</td>\n",
       "      <td>1.476951e+09</td>\n",
       "      <td>4.086080e+07</td>\n",
       "    </tr>\n",
       "    <tr>\n",
       "      <th>count_pol_with_claim_500</th>\n",
       "      <td>7.842000e+03</td>\n",
       "      <td>7.789000e+03</td>\n",
       "      <td>7.791000e+03</td>\n",
       "      <td>7.821000e+03</td>\n",
       "      <td>3.010000e+02</td>\n",
       "    </tr>\n",
       "    <tr>\n",
       "      <th>claim_count_500</th>\n",
       "      <td>8.400000e+03</td>\n",
       "      <td>8.328000e+03</td>\n",
       "      <td>8.331000e+03</td>\n",
       "      <td>8.376000e+03</td>\n",
       "      <td>3.800000e+02</td>\n",
       "    </tr>\n",
       "    <tr>\n",
       "      <th>claim_sum_500</th>\n",
       "      <td>6.665602e+08</td>\n",
       "      <td>6.586486e+08</td>\n",
       "      <td>6.590187e+08</td>\n",
       "      <td>6.650792e+08</td>\n",
       "      <td>3.752837e+07</td>\n",
       "    </tr>\n",
       "    <tr>\n",
       "      <th>paid_sum_500</th>\n",
       "      <td>6.464542e+08</td>\n",
       "      <td>6.386517e+08</td>\n",
       "      <td>6.390217e+08</td>\n",
       "      <td>6.450090e+08</td>\n",
       "      <td>3.712563e+07</td>\n",
       "    </tr>\n",
       "    <tr>\n",
       "      <th>claim_sum_infl_500</th>\n",
       "      <td>7.205370e+08</td>\n",
       "      <td>7.119812e+08</td>\n",
       "      <td>7.123802e+08</td>\n",
       "      <td>7.188378e+08</td>\n",
       "      <td>4.096100e+07</td>\n",
       "    </tr>\n",
       "    <tr>\n",
       "      <th>paid_sum_infl_500</th>\n",
       "      <td>7.001915e+08</td>\n",
       "      <td>6.917520e+08</td>\n",
       "      <td>6.921510e+08</td>\n",
       "      <td>6.985292e+08</td>\n",
       "      <td>4.055351e+07</td>\n",
       "    </tr>\n",
       "  </tbody>\n",
       "</table>\n",
       "</div>"
      ],
      "text/plain": [
       "                                     0             1             2  \\\n",
       "index_x                   0.000000e+00  1.000000e+00  2.000000e+00   \n",
       "count_pol_500             4.646610e+05  4.657840e+05  4.657530e+05   \n",
       "premium_500               1.472574e+09  1.475477e+09  1.475352e+09   \n",
       "count_pol_with_claim_500  7.842000e+03  7.789000e+03  7.791000e+03   \n",
       "claim_count_500           8.400000e+03  8.328000e+03  8.331000e+03   \n",
       "claim_sum_500             6.665602e+08  6.586486e+08  6.590187e+08   \n",
       "paid_sum_500              6.464542e+08  6.386517e+08  6.390217e+08   \n",
       "claim_sum_infl_500        7.205370e+08  7.119812e+08  7.123802e+08   \n",
       "paid_sum_infl_500         7.001915e+08  6.917520e+08  6.921510e+08   \n",
       "\n",
       "                                     3             4  \n",
       "index_x                   3.000000e+00  4.000000e+00  \n",
       "count_pol_500             4.662910e+05  7.798000e+03  \n",
       "premium_500               1.476951e+09  4.086080e+07  \n",
       "count_pol_with_claim_500  7.821000e+03  3.010000e+02  \n",
       "claim_count_500           8.376000e+03  3.800000e+02  \n",
       "claim_sum_500             6.650792e+08  3.752837e+07  \n",
       "paid_sum_500              6.450090e+08  3.712563e+07  \n",
       "claim_sum_infl_500        7.188378e+08  4.096100e+07  \n",
       "paid_sum_infl_500         6.985292e+08  4.055351e+07  "
      ]
     },
     "execution_count": 40,
     "metadata": {},
     "output_type": "execute_result"
    }
   ],
   "source": [
    "data_points2points_500_gr.head().T"
   ]
  },
  {
   "cell_type": "markdown",
   "metadata": {},
   "source": [
    "## Update"
   ]
  },
  {
   "cell_type": "code",
   "execution_count": 41,
   "metadata": {},
   "outputs": [
    {
     "data": {
      "text/plain": [
       "(19467, 18)"
      ]
     },
     "execution_count": 41,
     "metadata": {},
     "output_type": "execute_result"
    }
   ],
   "source": [
    "data_points.shape"
   ]
  },
  {
   "cell_type": "code",
   "execution_count": 42,
   "metadata": {},
   "outputs": [
    {
     "name": "stdout",
     "output_type": "stream",
     "text": [
      "CPU times: user 29.8 ms, sys: 4.78 ms, total: 34.5 ms\n",
      "Wall time: 32.6 ms\n"
     ]
    }
   ],
   "source": [
    "%%time\n",
    "data_points = data_points.merge(data_points2points_200_gr, how='left', left_on='index', right_on='index_x')"
   ]
  },
  {
   "cell_type": "code",
   "execution_count": 43,
   "metadata": {},
   "outputs": [],
   "source": [
    "data_points.drop('index_x', axis=1, inplace=True)"
   ]
  },
  {
   "cell_type": "code",
   "execution_count": 44,
   "metadata": {},
   "outputs": [
    {
     "data": {
      "text/plain": [
       "(19467, 26)"
      ]
     },
     "execution_count": 44,
     "metadata": {},
     "output_type": "execute_result"
    }
   ],
   "source": [
    "data_points.shape"
   ]
  },
  {
   "cell_type": "code",
   "execution_count": 45,
   "metadata": {},
   "outputs": [
    {
     "name": "stdout",
     "output_type": "stream",
     "text": [
      "CPU times: user 768 ms, sys: 58.4 ms, total: 826 ms\n",
      "Wall time: 757 ms\n"
     ]
    }
   ],
   "source": [
    "%%time\n",
    "data_points = data_points.merge(data_points2points_500_gr, how='left', left_on='index', right_on='index_x')"
   ]
  },
  {
   "cell_type": "code",
   "execution_count": 46,
   "metadata": {},
   "outputs": [],
   "source": [
    "data_points.drop('index_x', axis=1, inplace=True)"
   ]
  },
  {
   "cell_type": "code",
   "execution_count": 47,
   "metadata": {},
   "outputs": [
    {
     "data": {
      "text/plain": [
       "(19467, 34)"
      ]
     },
     "execution_count": 47,
     "metadata": {},
     "output_type": "execute_result"
    }
   ],
   "source": [
    "data_points.shape"
   ]
  },
  {
   "cell_type": "code",
   "execution_count": 48,
   "metadata": {},
   "outputs": [
    {
     "data": {
      "text/html": [
       "<div>\n",
       "<style scoped>\n",
       "    .dataframe tbody tr th:only-of-type {\n",
       "        vertical-align: middle;\n",
       "    }\n",
       "\n",
       "    .dataframe tbody tr th {\n",
       "        vertical-align: top;\n",
       "    }\n",
       "\n",
       "    .dataframe thead th {\n",
       "        text-align: right;\n",
       "    }\n",
       "</style>\n",
       "<table border=\"1\" class=\"dataframe\">\n",
       "  <thead>\n",
       "    <tr style=\"text-align: right;\">\n",
       "      <th></th>\n",
       "      <th>0</th>\n",
       "      <th>1</th>\n",
       "      <th>2</th>\n",
       "      <th>3</th>\n",
       "      <th>4</th>\n",
       "    </tr>\n",
       "  </thead>\n",
       "  <tbody>\n",
       "    <tr>\n",
       "      <th>index</th>\n",
       "      <td>0</td>\n",
       "      <td>1</td>\n",
       "      <td>2</td>\n",
       "      <td>3</td>\n",
       "      <td>4</td>\n",
       "    </tr>\n",
       "    <tr>\n",
       "      <th>date</th>\n",
       "      <td>2021-07-07 11:32:45</td>\n",
       "      <td>2021-07-07 11:32:45</td>\n",
       "      <td>2021-07-07 11:32:45</td>\n",
       "      <td>2021-07-07 11:32:45</td>\n",
       "      <td>2021-07-07 11:32:45</td>\n",
       "    </tr>\n",
       "    <tr>\n",
       "      <th>OwnerKLADRCode</th>\n",
       "      <td>0100200001300</td>\n",
       "      <td>0100500000900</td>\n",
       "      <td>0100500003200</td>\n",
       "      <td>0100600002500</td>\n",
       "      <td>0200000102700</td>\n",
       "    </tr>\n",
       "    <tr>\n",
       "      <th>count_pol</th>\n",
       "      <td>1</td>\n",
       "      <td>5</td>\n",
       "      <td>1</td>\n",
       "      <td>1</td>\n",
       "      <td>4</td>\n",
       "    </tr>\n",
       "    <tr>\n",
       "      <th>premium</th>\n",
       "      <td>2944.37</td>\n",
       "      <td>34148.81</td>\n",
       "      <td>7494.76</td>\n",
       "      <td>5353.4</td>\n",
       "      <td>39791.98</td>\n",
       "    </tr>\n",
       "    <tr>\n",
       "      <th>count_pol_with_claim</th>\n",
       "      <td>0</td>\n",
       "      <td>0</td>\n",
       "      <td>0</td>\n",
       "      <td>0</td>\n",
       "      <td>0</td>\n",
       "    </tr>\n",
       "    <tr>\n",
       "      <th>claim_count</th>\n",
       "      <td>0</td>\n",
       "      <td>0</td>\n",
       "      <td>0</td>\n",
       "      <td>0</td>\n",
       "      <td>0</td>\n",
       "    </tr>\n",
       "    <tr>\n",
       "      <th>claim_sum</th>\n",
       "      <td>0.0</td>\n",
       "      <td>0.0</td>\n",
       "      <td>0.0</td>\n",
       "      <td>0.0</td>\n",
       "      <td>0.0</td>\n",
       "    </tr>\n",
       "    <tr>\n",
       "      <th>paid_sum</th>\n",
       "      <td>0.0</td>\n",
       "      <td>0.0</td>\n",
       "      <td>0.0</td>\n",
       "      <td>0.0</td>\n",
       "      <td>0.0</td>\n",
       "    </tr>\n",
       "    <tr>\n",
       "      <th>claim_sum_infl</th>\n",
       "      <td>0.0</td>\n",
       "      <td>0.0</td>\n",
       "      <td>0.0</td>\n",
       "      <td>0.0</td>\n",
       "      <td>0.0</td>\n",
       "    </tr>\n",
       "    <tr>\n",
       "      <th>paid_sum_infl</th>\n",
       "      <td>0.0</td>\n",
       "      <td>0.0</td>\n",
       "      <td>0.0</td>\n",
       "      <td>0.0</td>\n",
       "      <td>0.0</td>\n",
       "    </tr>\n",
       "    <tr>\n",
       "      <th>address</th>\n",
       "      <td>NaN</td>\n",
       "      <td>NaN</td>\n",
       "      <td>NaN</td>\n",
       "      <td>NaN</td>\n",
       "      <td>NaN</td>\n",
       "    </tr>\n",
       "    <tr>\n",
       "      <th>FullAddress</th>\n",
       "      <td>Адыгея, Кошехабльский, Майский</td>\n",
       "      <td>Адыгея, Тахтамукайский, Новая Адыгея</td>\n",
       "      <td>Адыгея, Тахтамукайский, Лесник</td>\n",
       "      <td>Адыгея, Теучежский, Тлюстенхабль</td>\n",
       "      <td>Башкортостан, Уфа, Станции Уршак</td>\n",
       "    </tr>\n",
       "    <tr>\n",
       "      <th>Region</th>\n",
       "      <td>Адыгея</td>\n",
       "      <td>Адыгея</td>\n",
       "      <td>Адыгея</td>\n",
       "      <td>Адыгея</td>\n",
       "      <td>Башкортостан</td>\n",
       "    </tr>\n",
       "    <tr>\n",
       "      <th>Rayon</th>\n",
       "      <td>Кошехабльский</td>\n",
       "      <td>Тахтамукайский</td>\n",
       "      <td>Тахтамукайский</td>\n",
       "      <td>Теучежский</td>\n",
       "      <td>Уфа</td>\n",
       "    </tr>\n",
       "    <tr>\n",
       "      <th>City</th>\n",
       "      <td>Майский</td>\n",
       "      <td>Новая Адыгея</td>\n",
       "      <td>Лесник</td>\n",
       "      <td>Тлюстенхабль</td>\n",
       "      <td>Уфа</td>\n",
       "    </tr>\n",
       "    <tr>\n",
       "      <th>latitude</th>\n",
       "      <td>44.780445</td>\n",
       "      <td>45.024727</td>\n",
       "      <td>45.006897</td>\n",
       "      <td>44.98083</td>\n",
       "      <td>54.564808</td>\n",
       "    </tr>\n",
       "    <tr>\n",
       "      <th>longitude</th>\n",
       "      <td>40.54908</td>\n",
       "      <td>38.934097</td>\n",
       "      <td>38.979748</td>\n",
       "      <td>39.096226</td>\n",
       "      <td>55.924335</td>\n",
       "    </tr>\n",
       "    <tr>\n",
       "      <th>count_pol_200</th>\n",
       "      <td>209872</td>\n",
       "      <td>143745</td>\n",
       "      <td>145076</td>\n",
       "      <td>147590</td>\n",
       "      <td>3128</td>\n",
       "    </tr>\n",
       "    <tr>\n",
       "      <th>premium_200</th>\n",
       "      <td>693432344.260001</td>\n",
       "      <td>546575124.710001</td>\n",
       "      <td>549810266.170001</td>\n",
       "      <td>554673405.290001</td>\n",
       "      <td>21107593.39</td>\n",
       "    </tr>\n",
       "    <tr>\n",
       "      <th>count_pol_with_claim_200</th>\n",
       "      <td>3657</td>\n",
       "      <td>2729</td>\n",
       "      <td>2753</td>\n",
       "      <td>2784</td>\n",
       "      <td>178</td>\n",
       "    </tr>\n",
       "    <tr>\n",
       "      <th>claim_count_200</th>\n",
       "      <td>3927</td>\n",
       "      <td>2926</td>\n",
       "      <td>2952</td>\n",
       "      <td>2984</td>\n",
       "      <td>225</td>\n",
       "    </tr>\n",
       "    <tr>\n",
       "      <th>claim_sum_200</th>\n",
       "      <td>313330121.79</td>\n",
       "      <td>229520126.47</td>\n",
       "      <td>231724462.64</td>\n",
       "      <td>234821969.01</td>\n",
       "      <td>12121109.09</td>\n",
       "    </tr>\n",
       "    <tr>\n",
       "      <th>paid_sum_200</th>\n",
       "      <td>304587580.54</td>\n",
       "      <td>223282693.58</td>\n",
       "      <td>225424577.9</td>\n",
       "      <td>228744159.21</td>\n",
       "      <td>11879490.69</td>\n",
       "    </tr>\n",
       "    <tr>\n",
       "      <th>claim_sum_infl_200</th>\n",
       "      <td>339392310.037916</td>\n",
       "      <td>248399268.009542</td>\n",
       "      <td>250756519.940291</td>\n",
       "      <td>254100950.508123</td>\n",
       "      <td>13371811.305022</td>\n",
       "    </tr>\n",
       "    <tr>\n",
       "      <th>paid_sum_infl_200</th>\n",
       "      <td>330539846.54291</td>\n",
       "      <td>242097439.165317</td>\n",
       "      <td>244391361.870017</td>\n",
       "      <td>247961227.605578</td>\n",
       "      <td>13126991.054568</td>\n",
       "    </tr>\n",
       "    <tr>\n",
       "      <th>count_pol_500</th>\n",
       "      <td>464661</td>\n",
       "      <td>465784</td>\n",
       "      <td>465753</td>\n",
       "      <td>466291</td>\n",
       "      <td>7798</td>\n",
       "    </tr>\n",
       "    <tr>\n",
       "      <th>premium_500</th>\n",
       "      <td>1472574128.500002</td>\n",
       "      <td>1475477005.100002</td>\n",
       "      <td>1475352481.170002</td>\n",
       "      <td>1476951485.450002</td>\n",
       "      <td>40860804.24</td>\n",
       "    </tr>\n",
       "    <tr>\n",
       "      <th>count_pol_with_claim_500</th>\n",
       "      <td>7842</td>\n",
       "      <td>7789</td>\n",
       "      <td>7791</td>\n",
       "      <td>7821</td>\n",
       "      <td>301</td>\n",
       "    </tr>\n",
       "    <tr>\n",
       "      <th>claim_count_500</th>\n",
       "      <td>8400</td>\n",
       "      <td>8328</td>\n",
       "      <td>8331</td>\n",
       "      <td>8376</td>\n",
       "      <td>380</td>\n",
       "    </tr>\n",
       "    <tr>\n",
       "      <th>claim_sum_500</th>\n",
       "      <td>666560161.77</td>\n",
       "      <td>658648617.34</td>\n",
       "      <td>659018667.1</td>\n",
       "      <td>665079185.53</td>\n",
       "      <td>37528365.16</td>\n",
       "    </tr>\n",
       "    <tr>\n",
       "      <th>paid_sum_500</th>\n",
       "      <td>646454207.41</td>\n",
       "      <td>638651728.65</td>\n",
       "      <td>639021728.65</td>\n",
       "      <td>645008965.64</td>\n",
       "      <td>37125634.79</td>\n",
       "    </tr>\n",
       "    <tr>\n",
       "      <th>claim_sum_infl_500</th>\n",
       "      <td>720536973.537632</td>\n",
       "      <td>711981205.724749</td>\n",
       "      <td>712380231.898437</td>\n",
       "      <td>718837827.14284</td>\n",
       "      <td>40961004.908788</td>\n",
       "    </tr>\n",
       "    <tr>\n",
       "      <th>paid_sum_infl_500</th>\n",
       "      <td>700191539.647938</td>\n",
       "      <td>691752038.897219</td>\n",
       "      <td>692151011.1404</td>\n",
       "      <td>698529184.931241</td>\n",
       "      <td>40553514.429743</td>\n",
       "    </tr>\n",
       "  </tbody>\n",
       "</table>\n",
       "</div>"
      ],
      "text/plain": [
       "                                                       0  \\\n",
       "index                                                  0   \n",
       "date                                 2021-07-07 11:32:45   \n",
       "OwnerKLADRCode                             0100200001300   \n",
       "count_pol                                              1   \n",
       "premium                                          2944.37   \n",
       "count_pol_with_claim                                   0   \n",
       "claim_count                                            0   \n",
       "claim_sum                                            0.0   \n",
       "paid_sum                                             0.0   \n",
       "claim_sum_infl                                       0.0   \n",
       "paid_sum_infl                                        0.0   \n",
       "address                                              NaN   \n",
       "FullAddress               Адыгея, Кошехабльский, Майский   \n",
       "Region                                            Адыгея   \n",
       "Rayon                                      Кошехабльский   \n",
       "City                                             Майский   \n",
       "latitude                                       44.780445   \n",
       "longitude                                       40.54908   \n",
       "count_pol_200                                     209872   \n",
       "premium_200                             693432344.260001   \n",
       "count_pol_with_claim_200                            3657   \n",
       "claim_count_200                                     3927   \n",
       "claim_sum_200                               313330121.79   \n",
       "paid_sum_200                                304587580.54   \n",
       "claim_sum_infl_200                      339392310.037916   \n",
       "paid_sum_infl_200                        330539846.54291   \n",
       "count_pol_500                                     464661   \n",
       "premium_500                            1472574128.500002   \n",
       "count_pol_with_claim_500                            7842   \n",
       "claim_count_500                                     8400   \n",
       "claim_sum_500                               666560161.77   \n",
       "paid_sum_500                                646454207.41   \n",
       "claim_sum_infl_500                      720536973.537632   \n",
       "paid_sum_infl_500                       700191539.647938   \n",
       "\n",
       "                                                             1  \\\n",
       "index                                                        1   \n",
       "date                                       2021-07-07 11:32:45   \n",
       "OwnerKLADRCode                                   0100500000900   \n",
       "count_pol                                                    5   \n",
       "premium                                               34148.81   \n",
       "count_pol_with_claim                                         0   \n",
       "claim_count                                                  0   \n",
       "claim_sum                                                  0.0   \n",
       "paid_sum                                                   0.0   \n",
       "claim_sum_infl                                             0.0   \n",
       "paid_sum_infl                                              0.0   \n",
       "address                                                    NaN   \n",
       "FullAddress               Адыгея, Тахтамукайский, Новая Адыгея   \n",
       "Region                                                  Адыгея   \n",
       "Rayon                                           Тахтамукайский   \n",
       "City                                              Новая Адыгея   \n",
       "latitude                                             45.024727   \n",
       "longitude                                            38.934097   \n",
       "count_pol_200                                           143745   \n",
       "premium_200                                   546575124.710001   \n",
       "count_pol_with_claim_200                                  2729   \n",
       "claim_count_200                                           2926   \n",
       "claim_sum_200                                     229520126.47   \n",
       "paid_sum_200                                      223282693.58   \n",
       "claim_sum_infl_200                            248399268.009542   \n",
       "paid_sum_infl_200                             242097439.165317   \n",
       "count_pol_500                                           465784   \n",
       "premium_500                                  1475477005.100002   \n",
       "count_pol_with_claim_500                                  7789   \n",
       "claim_count_500                                           8328   \n",
       "claim_sum_500                                     658648617.34   \n",
       "paid_sum_500                                      638651728.65   \n",
       "claim_sum_infl_500                            711981205.724749   \n",
       "paid_sum_infl_500                             691752038.897219   \n",
       "\n",
       "                                                       2  \\\n",
       "index                                                  2   \n",
       "date                                 2021-07-07 11:32:45   \n",
       "OwnerKLADRCode                             0100500003200   \n",
       "count_pol                                              1   \n",
       "premium                                          7494.76   \n",
       "count_pol_with_claim                                   0   \n",
       "claim_count                                            0   \n",
       "claim_sum                                            0.0   \n",
       "paid_sum                                             0.0   \n",
       "claim_sum_infl                                       0.0   \n",
       "paid_sum_infl                                        0.0   \n",
       "address                                              NaN   \n",
       "FullAddress               Адыгея, Тахтамукайский, Лесник   \n",
       "Region                                            Адыгея   \n",
       "Rayon                                     Тахтамукайский   \n",
       "City                                              Лесник   \n",
       "latitude                                       45.006897   \n",
       "longitude                                      38.979748   \n",
       "count_pol_200                                     145076   \n",
       "premium_200                             549810266.170001   \n",
       "count_pol_with_claim_200                            2753   \n",
       "claim_count_200                                     2952   \n",
       "claim_sum_200                               231724462.64   \n",
       "paid_sum_200                                 225424577.9   \n",
       "claim_sum_infl_200                      250756519.940291   \n",
       "paid_sum_infl_200                       244391361.870017   \n",
       "count_pol_500                                     465753   \n",
       "premium_500                            1475352481.170002   \n",
       "count_pol_with_claim_500                            7791   \n",
       "claim_count_500                                     8331   \n",
       "claim_sum_500                                659018667.1   \n",
       "paid_sum_500                                639021728.65   \n",
       "claim_sum_infl_500                      712380231.898437   \n",
       "paid_sum_infl_500                         692151011.1404   \n",
       "\n",
       "                                                         3  \\\n",
       "index                                                    3   \n",
       "date                                   2021-07-07 11:32:45   \n",
       "OwnerKLADRCode                               0100600002500   \n",
       "count_pol                                                1   \n",
       "premium                                             5353.4   \n",
       "count_pol_with_claim                                     0   \n",
       "claim_count                                              0   \n",
       "claim_sum                                              0.0   \n",
       "paid_sum                                               0.0   \n",
       "claim_sum_infl                                         0.0   \n",
       "paid_sum_infl                                          0.0   \n",
       "address                                                NaN   \n",
       "FullAddress               Адыгея, Теучежский, Тлюстенхабль   \n",
       "Region                                              Адыгея   \n",
       "Rayon                                           Теучежский   \n",
       "City                                          Тлюстенхабль   \n",
       "latitude                                          44.98083   \n",
       "longitude                                        39.096226   \n",
       "count_pol_200                                       147590   \n",
       "premium_200                               554673405.290001   \n",
       "count_pol_with_claim_200                              2784   \n",
       "claim_count_200                                       2984   \n",
       "claim_sum_200                                 234821969.01   \n",
       "paid_sum_200                                  228744159.21   \n",
       "claim_sum_infl_200                        254100950.508123   \n",
       "paid_sum_infl_200                         247961227.605578   \n",
       "count_pol_500                                       466291   \n",
       "premium_500                              1476951485.450002   \n",
       "count_pol_with_claim_500                              7821   \n",
       "claim_count_500                                       8376   \n",
       "claim_sum_500                                 665079185.53   \n",
       "paid_sum_500                                  645008965.64   \n",
       "claim_sum_infl_500                         718837827.14284   \n",
       "paid_sum_infl_500                         698529184.931241   \n",
       "\n",
       "                                                         4  \n",
       "index                                                    4  \n",
       "date                                   2021-07-07 11:32:45  \n",
       "OwnerKLADRCode                               0200000102700  \n",
       "count_pol                                                4  \n",
       "premium                                           39791.98  \n",
       "count_pol_with_claim                                     0  \n",
       "claim_count                                              0  \n",
       "claim_sum                                              0.0  \n",
       "paid_sum                                               0.0  \n",
       "claim_sum_infl                                         0.0  \n",
       "paid_sum_infl                                          0.0  \n",
       "address                                                NaN  \n",
       "FullAddress               Башкортостан, Уфа, Станции Уршак  \n",
       "Region                                        Башкортостан  \n",
       "Rayon                                                  Уфа  \n",
       "City                                                   Уфа  \n",
       "latitude                                         54.564808  \n",
       "longitude                                        55.924335  \n",
       "count_pol_200                                         3128  \n",
       "premium_200                                    21107593.39  \n",
       "count_pol_with_claim_200                               178  \n",
       "claim_count_200                                        225  \n",
       "claim_sum_200                                  12121109.09  \n",
       "paid_sum_200                                   11879490.69  \n",
       "claim_sum_infl_200                         13371811.305022  \n",
       "paid_sum_infl_200                          13126991.054568  \n",
       "count_pol_500                                         7798  \n",
       "premium_500                                    40860804.24  \n",
       "count_pol_with_claim_500                               301  \n",
       "claim_count_500                                        380  \n",
       "claim_sum_500                                  37528365.16  \n",
       "paid_sum_500                                   37125634.79  \n",
       "claim_sum_infl_500                         40961004.908788  \n",
       "paid_sum_infl_500                          40553514.429743  "
      ]
     },
     "execution_count": 48,
     "metadata": {},
     "output_type": "execute_result"
    }
   ],
   "source": [
    "data_points.head().T"
   ]
  },
  {
   "cell_type": "code",
   "execution_count": 49,
   "metadata": {},
   "outputs": [],
   "source": [
    "data_points.to_csv('data_points.csv', sep=';', index=False)"
   ]
  },
  {
   "cell_type": "code",
   "execution_count": null,
   "metadata": {},
   "outputs": [],
   "source": [
    "data_points = pd.read_csv('data_points.csv', sep=';')"
   ]
  },
  {
   "cell_type": "code",
   "execution_count": 50,
   "metadata": {},
   "outputs": [],
   "source": [
    "with open('data_points.pickle', 'wb') as _f:\n",
    "    pickle.dump(data_points, _f, protocol=pickle.HIGHEST_PROTOCOL)"
   ]
  },
  {
   "cell_type": "code",
   "execution_count": null,
   "metadata": {},
   "outputs": [],
   "source": [
    "with open('data_points.pickle', 'rb') as _f:\n",
    "    data_points = pickle.load(_f)"
   ]
  },
  {
   "cell_type": "code",
   "execution_count": null,
   "metadata": {},
   "outputs": [],
   "source": []
  }
 ],
 "metadata": {
  "kernelspec": {
   "display_name": "env_geo",
   "language": "python",
   "name": "env_geo"
  },
  "language_info": {
   "codemirror_mode": {
    "name": "ipython",
    "version": 3
   },
   "file_extension": ".py",
   "mimetype": "text/x-python",
   "name": "python",
   "nbconvert_exporter": "python",
   "pygments_lexer": "ipython3",
   "version": "3.10.12"
  }
 },
 "nbformat": 4,
 "nbformat_minor": 4
}
